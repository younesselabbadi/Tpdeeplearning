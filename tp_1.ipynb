{
  "nbformat": 4,
  "nbformat_minor": 0,
  "metadata": {
    "colab": {
      "name": "tp1.ipynb",
      "provenance": [],
      "collapsed_sections": []
    },
    "kernelspec": {
      "name": "python3",
      "display_name": "Python 3"
    }
  },
  "cells": [
    {
      "cell_type": "code",
      "metadata": {
        "id": "m5NrOlYuuxd8"
      },
      "source": [
        "import numpy as np\n",
        "import os"
      ],
      "execution_count": 1,
      "outputs": []
    },
    {
      "cell_type": "code",
      "metadata": {
        "id": "jv_74vwvu_Dx"
      },
      "source": [
        "%matplotlib inline\n",
        "import matplotlib as mpl\n",
        "import matplotlib.pyplot as plt\n",
        "mpl.rc('axes', labelsize=14)\n",
        "mpl.rc('xtick', labelsize=12)\n",
        "mpl.rc('ytick', labelsize=12)"
      ],
      "execution_count": 2,
      "outputs": []
    },
    {
      "cell_type": "code",
      "metadata": {
        "id": "MlITImE0vDNV"
      },
      "source": [
        "import warnings\n",
        "warnings.filterwarnings(action=\"ignore\", message=\"^internal gelsd\")"
      ],
      "execution_count": 3,
      "outputs": []
    },
    {
      "cell_type": "code",
      "metadata": {
        "id": "sRXGagW6vDsC"
      },
      "source": [
        "import tensorflow as tf\n",
        "from tensorflow import keras"
      ],
      "execution_count": 4,
      "outputs": []
    },
    {
      "cell_type": "code",
      "metadata": {
        "colab": {
          "base_uri": "https://localhost:8080/",
          "height": 35
        },
        "id": "3Q6bo0revJwK",
        "outputId": "366f6c88-34d9-49ee-ca39-496004551aee"
      },
      "source": [
        "tf.__version__"
      ],
      "execution_count": 5,
      "outputs": [
        {
          "output_type": "execute_result",
          "data": {
            "application/vnd.google.colaboratory.intrinsic+json": {
              "type": "string"
            },
            "text/plain": [
              "'2.3.0'"
            ]
          },
          "metadata": {
            "tags": []
          },
          "execution_count": 5
        }
      ]
    },
    {
      "cell_type": "code",
      "metadata": {
        "colab": {
          "base_uri": "https://localhost:8080/"
        },
        "id": "TmaEyTqB-g4e",
        "outputId": "518d43b2-1312-4e70-8ad8-afce82a905a7"
      },
      "source": [
        "fashion_mnist = keras.datasets.fashion_mnist\n",
        "(X_train_full, y_train_full), (X_test, y_test) = fashion_mnist.load_data()"
      ],
      "execution_count": 6,
      "outputs": [
        {
          "output_type": "stream",
          "text": [
            "Downloading data from https://storage.googleapis.com/tensorflow/tf-keras-datasets/train-labels-idx1-ubyte.gz\n",
            "32768/29515 [=================================] - 0s 0us/step\n",
            "Downloading data from https://storage.googleapis.com/tensorflow/tf-keras-datasets/train-images-idx3-ubyte.gz\n",
            "26427392/26421880 [==============================] - 0s 0us/step\n",
            "Downloading data from https://storage.googleapis.com/tensorflow/tf-keras-datasets/t10k-labels-idx1-ubyte.gz\n",
            "8192/5148 [===============================================] - 0s 0us/step\n",
            "Downloading data from https://storage.googleapis.com/tensorflow/tf-keras-datasets/t10k-images-idx3-ubyte.gz\n",
            "4423680/4422102 [==============================] - 0s 0us/step\n"
          ],
          "name": "stdout"
        }
      ]
    },
    {
      "cell_type": "code",
      "metadata": {
        "colab": {
          "base_uri": "https://localhost:8080/"
        },
        "id": "K5Sd2WtT-hDx",
        "outputId": "577a4b08-5a12-4b91-ee44-d5f9863014c2"
      },
      "source": [
        "X_train_full.shape"
      ],
      "execution_count": 7,
      "outputs": [
        {
          "output_type": "execute_result",
          "data": {
            "text/plain": [
              "(60000, 28, 28)"
            ]
          },
          "metadata": {
            "tags": []
          },
          "execution_count": 7
        }
      ]
    },
    {
      "cell_type": "code",
      "metadata": {
        "colab": {
          "base_uri": "https://localhost:8080/"
        },
        "id": "3K9A_wT9-hGp",
        "outputId": "469cd011-793a-4a68-ba29-53dad28daf3e"
      },
      "source": [
        "y_train_full.shape"
      ],
      "execution_count": 8,
      "outputs": [
        {
          "output_type": "execute_result",
          "data": {
            "text/plain": [
              "(60000,)"
            ]
          },
          "metadata": {
            "tags": []
          },
          "execution_count": 8
        }
      ]
    },
    {
      "cell_type": "code",
      "metadata": {
        "colab": {
          "base_uri": "https://localhost:8080/"
        },
        "id": "DJdsGZt8-hQx",
        "outputId": "11ae46d6-528c-4d91-aada-3a79dd3ce159"
      },
      "source": [
        "X_train_full\n"
      ],
      "execution_count": 9,
      "outputs": [
        {
          "output_type": "execute_result",
          "data": {
            "text/plain": [
              "array([[[0, 0, 0, ..., 0, 0, 0],\n",
              "        [0, 0, 0, ..., 0, 0, 0],\n",
              "        [0, 0, 0, ..., 0, 0, 0],\n",
              "        ...,\n",
              "        [0, 0, 0, ..., 0, 0, 0],\n",
              "        [0, 0, 0, ..., 0, 0, 0],\n",
              "        [0, 0, 0, ..., 0, 0, 0]],\n",
              "\n",
              "       [[0, 0, 0, ..., 0, 0, 0],\n",
              "        [0, 0, 0, ..., 0, 0, 0],\n",
              "        [0, 0, 0, ..., 0, 0, 0],\n",
              "        ...,\n",
              "        [0, 0, 0, ..., 0, 0, 0],\n",
              "        [0, 0, 0, ..., 0, 0, 0],\n",
              "        [0, 0, 0, ..., 0, 0, 0]],\n",
              "\n",
              "       [[0, 0, 0, ..., 0, 0, 0],\n",
              "        [0, 0, 0, ..., 0, 0, 0],\n",
              "        [0, 0, 0, ..., 0, 0, 0],\n",
              "        ...,\n",
              "        [0, 0, 0, ..., 0, 0, 0],\n",
              "        [0, 0, 0, ..., 0, 0, 0],\n",
              "        [0, 0, 0, ..., 0, 0, 0]],\n",
              "\n",
              "       ...,\n",
              "\n",
              "       [[0, 0, 0, ..., 0, 0, 0],\n",
              "        [0, 0, 0, ..., 0, 0, 0],\n",
              "        [0, 0, 0, ..., 0, 0, 0],\n",
              "        ...,\n",
              "        [0, 0, 0, ..., 0, 0, 0],\n",
              "        [0, 0, 0, ..., 0, 0, 0],\n",
              "        [0, 0, 0, ..., 0, 0, 0]],\n",
              "\n",
              "       [[0, 0, 0, ..., 0, 0, 0],\n",
              "        [0, 0, 0, ..., 0, 0, 0],\n",
              "        [0, 0, 0, ..., 0, 0, 0],\n",
              "        ...,\n",
              "        [0, 0, 0, ..., 0, 0, 0],\n",
              "        [0, 0, 0, ..., 0, 0, 0],\n",
              "        [0, 0, 0, ..., 0, 0, 0]],\n",
              "\n",
              "       [[0, 0, 0, ..., 0, 0, 0],\n",
              "        [0, 0, 0, ..., 0, 0, 0],\n",
              "        [0, 0, 0, ..., 0, 0, 0],\n",
              "        ...,\n",
              "        [0, 0, 0, ..., 0, 0, 0],\n",
              "        [0, 0, 0, ..., 0, 0, 0],\n",
              "        [0, 0, 0, ..., 0, 0, 0]]], dtype=uint8)"
            ]
          },
          "metadata": {
            "tags": []
          },
          "execution_count": 9
        }
      ]
    },
    {
      "cell_type": "code",
      "metadata": {
        "colab": {
          "base_uri": "https://localhost:8080/"
        },
        "id": "FAoJ191L-hOt",
        "outputId": "b67aa7e2-b043-4b08-9967-57c1e575d124"
      },
      "source": [
        "y_train_full\n"
      ],
      "execution_count": 10,
      "outputs": [
        {
          "output_type": "execute_result",
          "data": {
            "text/plain": [
              "array([9, 0, 0, ..., 3, 0, 5], dtype=uint8)"
            ]
          },
          "metadata": {
            "tags": []
          },
          "execution_count": 10
        }
      ]
    },
    {
      "cell_type": "code",
      "metadata": {
        "id": "pE3TFQtN-hMg"
      },
      "source": [
        "X_valid, X_train = X_train_full[:5000] / 255., X_train_full[5000:] / 255.\n",
        "y_valid, y_train = y_train_full[:5000], y_train_full[5000:]\n",
        "X_test = X_test / 255."
      ],
      "execution_count": 11,
      "outputs": []
    },
    {
      "cell_type": "code",
      "metadata": {
        "colab": {
          "base_uri": "https://localhost:8080/"
        },
        "id": "4tNc9U2A-hKk",
        "outputId": "5a355d59-e2ad-4c3a-c22b-e74b079c0adc"
      },
      "source": [
        "X_valid.shape"
      ],
      "execution_count": 12,
      "outputs": [
        {
          "output_type": "execute_result",
          "data": {
            "text/plain": [
              "(5000, 28, 28)"
            ]
          },
          "metadata": {
            "tags": []
          },
          "execution_count": 12
        }
      ]
    },
    {
      "cell_type": "code",
      "metadata": {
        "colab": {
          "base_uri": "https://localhost:8080/"
        },
        "id": "mVwXUV5__6Wv",
        "outputId": "16d7d96a-f15b-4eb2-a976-299dc2977dfc"
      },
      "source": [
        "X_train.shape"
      ],
      "execution_count": 13,
      "outputs": [
        {
          "output_type": "execute_result",
          "data": {
            "text/plain": [
              "(55000, 28, 28)"
            ]
          },
          "metadata": {
            "tags": []
          },
          "execution_count": 13
        }
      ]
    },
    {
      "cell_type": "code",
      "metadata": {
        "colab": {
          "base_uri": "https://localhost:8080/"
        },
        "id": "KYxjMEJZ_6bt",
        "outputId": "9e8ddba2-a8b1-4dbb-f382-c0be61dafabf"
      },
      "source": [
        "X_test.shape"
      ],
      "execution_count": 14,
      "outputs": [
        {
          "output_type": "execute_result",
          "data": {
            "text/plain": [
              "(10000, 28, 28)"
            ]
          },
          "metadata": {
            "tags": []
          },
          "execution_count": 14
        }
      ]
    },
    {
      "cell_type": "code",
      "metadata": {
        "colab": {
          "base_uri": "https://localhost:8080/",
          "height": 248
        },
        "id": "pQNmQLYO_6gd",
        "outputId": "64eaf535-1d0c-4733-c772-0f7416a07960"
      },
      "source": [
        "plt.imshow(X_train[0], cmap=\"binary\")\n",
        "plt.axis('off')\n",
        "plt.show()"
      ],
      "execution_count": 15,
      "outputs": [
        {
          "output_type": "display_data",
          "data": {
            "image/png": "[encoded data removed]",
            "text/plain": [
              "<Figure size 432x288 with 1 Axes>"
            ]
          },
          "metadata": {
            "tags": [],
            "needs_background": "light"
          }
        }
      ]
    },
    {
      "cell_type": "code",
      "metadata": {
        "colab": {
          "base_uri": "https://localhost:8080/"
        },
        "id": "em4kvvMF_6qK",
        "outputId": "9418247f-2cbf-47d2-e1ca-977f85302190"
      },
      "source": [
        "y_train"
      ],
      "execution_count": 16,
      "outputs": [
        {
          "output_type": "execute_result",
          "data": {
            "text/plain": [
              "array([4, 0, 7, ..., 3, 0, 5], dtype=uint8)"
            ]
          },
          "metadata": {
            "tags": []
          },
          "execution_count": 16
        }
      ]
    },
    {
      "cell_type": "code",
      "metadata": {
        "id": "E2rIUkLy_6nt"
      },
      "source": [
        "class_names = [\"T-shirt/top\", \"Trouser\", \"Pullover\", \"Dress\", \"Coat\",\"Sandal\", \"Shirt\", \"Sneaker\", \"Bag\", \"Ankle boot\"]"
      ],
      "execution_count": 17,
      "outputs": []
    },
    {
      "cell_type": "code",
      "metadata": {
        "colab": {
          "base_uri": "https://localhost:8080/",
          "height": 35
        },
        "id": "StC74asq_6eo",
        "outputId": "96c44c36-e290-4a9d-a042-1023fcd1d150"
      },
      "source": [
        "class_names[y_train[0]]"
      ],
      "execution_count": 18,
      "outputs": [
        {
          "output_type": "execute_result",
          "data": {
            "application/vnd.google.colaboratory.intrinsic+json": {
              "type": "string"
            },
            "text/plain": [
              "'Coat'"
            ]
          },
          "metadata": {
            "tags": []
          },
          "execution_count": 18
        }
      ]
    },
    {
      "cell_type": "code",
      "metadata": {
        "colab": {
          "base_uri": "https://localhost:8080/",
          "height": 308
        },
        "id": "oYKABbs__6aN",
        "outputId": "7d04011d-6469-47c8-eb54-873075e372ca"
      },
      "source": [
        "n_rows = 4\n",
        "n_cols = 10\n",
        "plt.figure(figsize=(n_cols * 1.2, n_rows * 1.2))\n",
        "for row in range(n_rows):\n",
        "    for col in range(n_cols):\n",
        "        index = n_cols * row + col\n",
        "        plt.subplot(n_rows, n_cols, index + 1)\n",
        "        plt.imshow(X_train[index], cmap=\"binary\", interpolation=\"nearest\")\n",
        "        plt.axis('off')\n",
        "        plt.title(class_names[y_train[index]], fontsize=12)\n",
        "plt.subplots_adjust(wspace=0.1, hspace=0.5)\n",
        "plt.show()"
      ],
      "execution_count": 19,
      "outputs": [
        {
          "output_type": "display_data",
          "data": {
            "image/png": "[encoded data removed]",
            "text/plain": [
              "<Figure size 864x345.6 with 40 Axes>"
            ]
          },
          "metadata": {
            "tags": [],
            "needs_background": "light"
          }
        }
      ]
    },
    {
      "cell_type": "markdown",
      "metadata": {
        "id": "4yLY5k7IA1iy"
      },
      "source": [
        "**Construct a Model**"
      ]
    },
    {
      "cell_type": "code",
      "metadata": {
        "id": "Jo7gOQJeAvTJ"
      },
      "source": [
        "model = keras.models.Sequential()\n",
        "model.add(keras.layers.Flatten(input_shape=[28, 28]))\n",
        "model.add(keras.layers.Dense(300, activation=\"relu\"))\n",
        "model.add(keras.layers.Dense(100, activation=\"relu\"))\n",
        "model.add(keras.layers.Dense(10, activation=\"softmax\"))"
      ],
      "execution_count": 20,
      "outputs": []
    },
    {
      "cell_type": "code",
      "metadata": {
        "id": "21CYNxKPAvW5"
      },
      "source": [
        "keras.backend.clear_session()\n",
        "np.random.seed(42)"
      ],
      "execution_count": 21,
      "outputs": []
    },
    {
      "cell_type": "code",
      "metadata": {
        "colab": {
          "base_uri": "https://localhost:8080/"
        },
        "id": "ZXZII2yTAvj0",
        "outputId": "588cbf5d-1d5a-490d-bff3-cef93df1cf2c"
      },
      "source": [
        "model.layers"
      ],
      "execution_count": 22,
      "outputs": [
        {
          "output_type": "execute_result",
          "data": {
            "text/plain": [
              "[<tensorflow.python.keras.layers.core.Flatten at 0x7fbf5dce8dd8>,\n",
              " <tensorflow.python.keras.layers.core.Dense at 0x7fbf5dc9bdd8>,\n",
              " <tensorflow.python.keras.layers.core.Dense at 0x7fbf5c45b358>,\n",
              " <tensorflow.python.keras.layers.core.Dense at 0x7fbf5c45b6a0>]"
            ]
          },
          "metadata": {
            "tags": []
          },
          "execution_count": 22
        }
      ]
    },
    {
      "cell_type": "code",
      "metadata": {
        "colab": {
          "base_uri": "https://localhost:8080/"
        },
        "id": "SRR9PDR5AvmT",
        "outputId": "cfdf4f63-8a5c-404e-aa6c-a7f4b68dc113"
      },
      "source": [
        "model.summary()"
      ],
      "execution_count": 23,
      "outputs": [
        {
          "output_type": "stream",
          "text": [
            "Model: \"sequential\"\n",
            "_________________________________________________________________\n",
            "Layer (type)                 Output Shape              Param #   \n",
            "=================================================================\n",
            "flatten (Flatten)            (None, 784)               0         \n",
            "_________________________________________________________________\n",
            "dense (Dense)                (None, 300)               235500    \n",
            "_________________________________________________________________\n",
            "dense_1 (Dense)              (None, 100)               30100     \n",
            "_________________________________________________________________\n",
            "dense_2 (Dense)              (None, 10)                1010      \n",
            "=================================================================\n",
            "Total params: 266,610\n",
            "Trainable params: 266,610\n",
            "Non-trainable params: 0\n",
            "_________________________________________________________________\n"
          ],
          "name": "stdout"
        }
      ]
    },
    {
      "cell_type": "code",
      "metadata": {
        "colab": {
          "base_uri": "https://localhost:8080/",
          "height": 35
        },
        "id": "aflc9wBhAvvO",
        "outputId": "64dfc1dc-72c0-46ea-8df9-6c73f43b339d"
      },
      "source": [
        "hidden1 = model.layers[1]\n",
        "hidden1.name"
      ],
      "execution_count": 24,
      "outputs": [
        {
          "output_type": "execute_result",
          "data": {
            "application/vnd.google.colaboratory.intrinsic+json": {
              "type": "string"
            },
            "text/plain": [
              "'dense'"
            ]
          },
          "metadata": {
            "tags": []
          },
          "execution_count": 24
        }
      ]
    },
    {
      "cell_type": "code",
      "metadata": {
        "colab": {
          "base_uri": "https://localhost:8080/"
        },
        "id": "jZIz9oOQAv28",
        "outputId": "bfc61aae-7bb9-446b-b3ad-589cd5095f1b"
      },
      "source": [
        "model.get_layer(hidden1.name) is hidden1"
      ],
      "execution_count": 25,
      "outputs": [
        {
          "output_type": "execute_result",
          "data": {
            "text/plain": [
              "True"
            ]
          },
          "metadata": {
            "tags": []
          },
          "execution_count": 25
        }
      ]
    },
    {
      "cell_type": "code",
      "metadata": {
        "id": "e0AYk1LtAv9P"
      },
      "source": [
        "weights, biases = hidden1.get_weights()"
      ],
      "execution_count": 26,
      "outputs": []
    },
    {
      "cell_type": "code",
      "metadata": {
        "colab": {
          "base_uri": "https://localhost:8080/"
        },
        "id": "ObV8iOBKAwDF",
        "outputId": "3f21d096-9280-4ae0-864b-6b640ebc1542"
      },
      "source": [
        "weights"
      ],
      "execution_count": 27,
      "outputs": [
        {
          "output_type": "execute_result",
          "data": {
            "text/plain": [
              "array([[ 0.01426528, -0.05678183,  0.06901664, ...,  0.04622306,\n",
              "         0.02162708, -0.00727838],\n",
              "       [-0.03406014, -0.01633919,  0.03425559, ...,  0.07004879,\n",
              "         0.05700889,  0.02884415],\n",
              "       [ 0.04959118, -0.06911285,  0.05836965, ..., -0.02444835,\n",
              "         0.04492474, -0.04723002],\n",
              "       ...,\n",
              "       [ 0.05456525, -0.02955976, -0.00108967, ..., -0.04281127,\n",
              "        -0.01899314, -0.0082356 ],\n",
              "       [-0.05000725,  0.0707106 , -0.00546237, ...,  0.0601017 ,\n",
              "         0.07372776, -0.06445608],\n",
              "       [-0.02996872,  0.01      ,  0.01847268, ..., -0.04406995,\n",
              "         0.01598193,  0.06942643]], dtype=float32)"
            ]
          },
          "metadata": {
            "tags": []
          },
          "execution_count": 27
        }
      ]
    },
    {
      "cell_type": "code",
      "metadata": {
        "colab": {
          "base_uri": "https://localhost:8080/"
        },
        "id": "x2rkxA6QAwLC",
        "outputId": "b8ac97c1-a34f-4613-c9ac-e33af218c066"
      },
      "source": [
        "weights.shape"
      ],
      "execution_count": 28,
      "outputs": [
        {
          "output_type": "execute_result",
          "data": {
            "text/plain": [
              "(784, 300)"
            ]
          },
          "metadata": {
            "tags": []
          },
          "execution_count": 28
        }
      ]
    },
    {
      "cell_type": "code",
      "metadata": {
        "colab": {
          "base_uri": "https://localhost:8080/"
        },
        "id": "zQWvg1urAwS9",
        "outputId": "a2bca409-f061-413d-87c9-ff5779fa1c9d"
      },
      "source": [
        "biases"
      ],
      "execution_count": 29,
      "outputs": [
        {
          "output_type": "execute_result",
          "data": {
            "text/plain": [
              "array([0., 0., 0., 0., 0., 0., 0., 0., 0., 0., 0., 0., 0., 0., 0., 0., 0.,\n",
              "       0., 0., 0., 0., 0., 0., 0., 0., 0., 0., 0., 0., 0., 0., 0., 0., 0.,\n",
              "       0., 0., 0., 0., 0., 0., 0., 0., 0., 0., 0., 0., 0., 0., 0., 0., 0.,\n",
              "       0., 0., 0., 0., 0., 0., 0., 0., 0., 0., 0., 0., 0., 0., 0., 0., 0.,\n",
              "       0., 0., 0., 0., 0., 0., 0., 0., 0., 0., 0., 0., 0., 0., 0., 0., 0.,\n",
              "       0., 0., 0., 0., 0., 0., 0., 0., 0., 0., 0., 0., 0., 0., 0., 0., 0.,\n",
              "       0., 0., 0., 0., 0., 0., 0., 0., 0., 0., 0., 0., 0., 0., 0., 0., 0.,\n",
              "       0., 0., 0., 0., 0., 0., 0., 0., 0., 0., 0., 0., 0., 0., 0., 0., 0.,\n",
              "       0., 0., 0., 0., 0., 0., 0., 0., 0., 0., 0., 0., 0., 0., 0., 0., 0.,\n",
              "       0., 0., 0., 0., 0., 0., 0., 0., 0., 0., 0., 0., 0., 0., 0., 0., 0.,\n",
              "       0., 0., 0., 0., 0., 0., 0., 0., 0., 0., 0., 0., 0., 0., 0., 0., 0.,\n",
              "       0., 0., 0., 0., 0., 0., 0., 0., 0., 0., 0., 0., 0., 0., 0., 0., 0.,\n",
              "       0., 0., 0., 0., 0., 0., 0., 0., 0., 0., 0., 0., 0., 0., 0., 0., 0.,\n",
              "       0., 0., 0., 0., 0., 0., 0., 0., 0., 0., 0., 0., 0., 0., 0., 0., 0.,\n",
              "       0., 0., 0., 0., 0., 0., 0., 0., 0., 0., 0., 0., 0., 0., 0., 0., 0.,\n",
              "       0., 0., 0., 0., 0., 0., 0., 0., 0., 0., 0., 0., 0., 0., 0., 0., 0.,\n",
              "       0., 0., 0., 0., 0., 0., 0., 0., 0., 0., 0., 0., 0., 0., 0., 0., 0.,\n",
              "       0., 0., 0., 0., 0., 0., 0., 0., 0., 0., 0.], dtype=float32)"
            ]
          },
          "metadata": {
            "tags": []
          },
          "execution_count": 29
        }
      ]
    },
    {
      "cell_type": "code",
      "metadata": {
        "colab": {
          "base_uri": "https://localhost:8080/"
        },
        "id": "oF3nUX8lAwaG",
        "outputId": "e6c9cade-d6d7-495f-b213-3a31426c3ca1"
      },
      "source": [
        "biases.shape"
      ],
      "execution_count": 30,
      "outputs": [
        {
          "output_type": "execute_result",
          "data": {
            "text/plain": [
              "(300,)"
            ]
          },
          "metadata": {
            "tags": []
          },
          "execution_count": 30
        }
      ]
    },
    {
      "cell_type": "code",
      "metadata": {
        "id": "4GYUWFEbAwfb"
      },
      "source": [
        "model.compile(loss=\"sparse_categorical_crossentropy\",\n",
        "              optimizer=\"sgd\",\n",
        "              metrics=[\"accuracy\"])"
      ],
      "execution_count": 31,
      "outputs": []
    },
    {
      "cell_type": "code",
      "metadata": {
        "colab": {
          "base_uri": "https://localhost:8080/"
        },
        "id": "Jc3f0SeDCp-c",
        "outputId": "4fdb91c2-f1eb-4a43-8525-55b5324912ab"
      },
      "source": [
        "history = model.fit(X_train, y_train, batch_size=32, epochs=30,\n",
        "                    validation_data=(X_valid, y_valid))"
      ],
      "execution_count": 32,
      "outputs": [
        {
          "output_type": "stream",
          "text": [
            "Epoch 1/30\n",
            "1719/1719 [==============================] - 5s 3ms/step - loss: 0.7091 - accuracy: 0.7673 - val_loss: 0.5273 - val_accuracy: 0.8242\n",
            "Epoch 2/30\n",
            "1719/1719 [==============================] - 5s 3ms/step - loss: 0.4866 - accuracy: 0.8303 - val_loss: 0.4504 - val_accuracy: 0.8470\n",
            "Epoch 3/30\n",
            "1719/1719 [==============================] - 5s 3ms/step - loss: 0.4422 - accuracy: 0.8447 - val_loss: 0.4239 - val_accuracy: 0.8596\n",
            "Epoch 4/30\n",
            "1719/1719 [==============================] - 5s 3ms/step - loss: 0.4167 - accuracy: 0.8532 - val_loss: 0.3969 - val_accuracy: 0.8638\n",
            "Epoch 5/30\n",
            "1719/1719 [==============================] - 5s 3ms/step - loss: 0.3948 - accuracy: 0.8612 - val_loss: 0.3871 - val_accuracy: 0.8640\n",
            "Epoch 6/30\n",
            "1719/1719 [==============================] - 5s 3ms/step - loss: 0.3794 - accuracy: 0.8662 - val_loss: 0.3647 - val_accuracy: 0.8750\n",
            "Epoch 7/30\n",
            "1719/1719 [==============================] - 5s 3ms/step - loss: 0.3650 - accuracy: 0.8707 - val_loss: 0.3650 - val_accuracy: 0.8718\n",
            "Epoch 8/30\n",
            "1719/1719 [==============================] - 5s 3ms/step - loss: 0.3539 - accuracy: 0.8749 - val_loss: 0.3487 - val_accuracy: 0.8806\n",
            "Epoch 9/30\n",
            "1719/1719 [==============================] - 5s 3ms/step - loss: 0.3432 - accuracy: 0.8779 - val_loss: 0.3465 - val_accuracy: 0.8792\n",
            "Epoch 10/30\n",
            "1719/1719 [==============================] - 5s 3ms/step - loss: 0.3337 - accuracy: 0.8819 - val_loss: 0.3515 - val_accuracy: 0.8774\n",
            "Epoch 11/30\n",
            "1719/1719 [==============================] - 5s 3ms/step - loss: 0.3254 - accuracy: 0.8844 - val_loss: 0.3393 - val_accuracy: 0.8774\n",
            "Epoch 12/30\n",
            "1719/1719 [==============================] - 5s 3ms/step - loss: 0.3172 - accuracy: 0.8865 - val_loss: 0.3382 - val_accuracy: 0.8804\n",
            "Epoch 13/30\n",
            "1719/1719 [==============================] - 5s 3ms/step - loss: 0.3094 - accuracy: 0.8887 - val_loss: 0.3382 - val_accuracy: 0.8802\n",
            "Epoch 14/30\n",
            "1719/1719 [==============================] - 5s 3ms/step - loss: 0.3036 - accuracy: 0.8914 - val_loss: 0.3261 - val_accuracy: 0.8840\n",
            "Epoch 15/30\n",
            "1719/1719 [==============================] - 5s 3ms/step - loss: 0.2963 - accuracy: 0.8935 - val_loss: 0.3250 - val_accuracy: 0.8844\n",
            "Epoch 16/30\n",
            "1719/1719 [==============================] - 5s 3ms/step - loss: 0.2910 - accuracy: 0.8956 - val_loss: 0.3251 - val_accuracy: 0.8850\n",
            "Epoch 17/30\n",
            "1719/1719 [==============================] - 5s 3ms/step - loss: 0.2847 - accuracy: 0.8975 - val_loss: 0.3145 - val_accuracy: 0.8902\n",
            "Epoch 18/30\n",
            "1719/1719 [==============================] - 5s 3ms/step - loss: 0.2795 - accuracy: 0.8997 - val_loss: 0.3288 - val_accuracy: 0.8832\n",
            "Epoch 19/30\n",
            "1719/1719 [==============================] - 5s 3ms/step - loss: 0.2740 - accuracy: 0.9004 - val_loss: 0.3159 - val_accuracy: 0.8892\n",
            "Epoch 20/30\n",
            "1719/1719 [==============================] - 5s 3ms/step - loss: 0.2685 - accuracy: 0.9025 - val_loss: 0.3099 - val_accuracy: 0.8886\n",
            "Epoch 21/30\n",
            "1719/1719 [==============================] - 5s 3ms/step - loss: 0.2650 - accuracy: 0.9043 - val_loss: 0.3063 - val_accuracy: 0.8912\n",
            "Epoch 22/30\n",
            "1719/1719 [==============================] - 5s 3ms/step - loss: 0.2604 - accuracy: 0.9063 - val_loss: 0.3068 - val_accuracy: 0.8914\n",
            "Epoch 23/30\n",
            "1719/1719 [==============================] - 5s 3ms/step - loss: 0.2555 - accuracy: 0.9072 - val_loss: 0.2996 - val_accuracy: 0.8912\n",
            "Epoch 24/30\n",
            "1719/1719 [==============================] - 5s 3ms/step - loss: 0.2509 - accuracy: 0.9089 - val_loss: 0.3137 - val_accuracy: 0.8886\n",
            "Epoch 25/30\n",
            "1719/1719 [==============================] - 5s 3ms/step - loss: 0.2471 - accuracy: 0.9101 - val_loss: 0.3028 - val_accuracy: 0.8912\n",
            "Epoch 26/30\n",
            "1719/1719 [==============================] - 5s 3ms/step - loss: 0.2429 - accuracy: 0.9122 - val_loss: 0.2992 - val_accuracy: 0.8932\n",
            "Epoch 27/30\n",
            "1719/1719 [==============================] - 5s 3ms/step - loss: 0.2396 - accuracy: 0.9135 - val_loss: 0.3102 - val_accuracy: 0.8912\n",
            "Epoch 28/30\n",
            "1719/1719 [==============================] - 5s 3ms/step - loss: 0.2348 - accuracy: 0.9154 - val_loss: 0.2954 - val_accuracy: 0.8938\n",
            "Epoch 29/30\n",
            "1719/1719 [==============================] - 5s 3ms/step - loss: 0.2308 - accuracy: 0.9172 - val_loss: 0.3054 - val_accuracy: 0.8932\n",
            "Epoch 30/30\n",
            "1719/1719 [==============================] - 5s 3ms/step - loss: 0.2271 - accuracy: 0.9183 - val_loss: 0.3054 - val_accuracy: 0.8866\n"
          ],
          "name": "stdout"
        }
      ]
    },
    {
      "cell_type": "code",
      "metadata": {
        "colab": {
          "base_uri": "https://localhost:8080/"
        },
        "id": "hET61NogCqE4",
        "outputId": "3f3ab6d2-6555-4cab-cef0-d86685a315cd"
      },
      "source": [
        "history.params"
      ],
      "execution_count": 33,
      "outputs": [
        {
          "output_type": "execute_result",
          "data": {
            "text/plain": [
              "{'epochs': 30, 'steps': 1719, 'verbose': 1}"
            ]
          },
          "metadata": {
            "tags": []
          },
          "execution_count": 33
        }
      ]
    },
    {
      "cell_type": "code",
      "metadata": {
        "colab": {
          "base_uri": "https://localhost:8080/"
        },
        "id": "NWQ6Z-OzCqL5",
        "outputId": "fb3213a0-f0e8-4d5c-a74f-5bf11b81d216"
      },
      "source": [
        "print(history.epoch)"
      ],
      "execution_count": 34,
      "outputs": [
        {
          "output_type": "stream",
          "text": [
            "[0, 1, 2, 3, 4, 5, 6, 7, 8, 9, 10, 11, 12, 13, 14, 15, 16, 17, 18, 19, 20, 21, 22, 23, 24, 25, 26, 27, 28, 29]\n"
          ],
          "name": "stdout"
        }
      ]
    },
    {
      "cell_type": "code",
      "metadata": {
        "colab": {
          "base_uri": "https://localhost:8080/"
        },
        "id": "LPuCKclxCqSd",
        "outputId": "27b85b16-149a-4a2f-e2e5-f5f801952d12"
      },
      "source": [
        "history.history.keys()"
      ],
      "execution_count": 35,
      "outputs": [
        {
          "output_type": "execute_result",
          "data": {
            "text/plain": [
              "dict_keys(['loss', 'accuracy', 'val_loss', 'val_accuracy'])"
            ]
          },
          "metadata": {
            "tags": []
          },
          "execution_count": 35
        }
      ]
    },
    {
      "cell_type": "markdown",
      "metadata": {
        "id": "gmB6xPEwDksa"
      },
      "source": [
        "**Plot learning Curves**"
      ]
    },
    {
      "cell_type": "code",
      "metadata": {
        "colab": {
          "base_uri": "https://localhost:8080/",
          "height": 328
        },
        "id": "fTyU79P3CqYv",
        "outputId": "8d0a6901-424f-4baf-f651-7ec4f278e975"
      },
      "source": [
        "import pandas as pd\n",
        "\n",
        "pd.DataFrame(history.history).plot(figsize=(8, 5))\n",
        "plt.grid(True)\n",
        "plt.gca().set_ylim(0, 1)\n",
        "plt.show()"
      ],
      "execution_count": 36,
      "outputs": [
        {
          "output_type": "display_data",
          "data": {
            "image/png": "[encoded data removed]",
            "text/plain": [
              "<Figure size 576x360 with 1 Axes>"
            ]
          },
          "metadata": {
            "tags": [],
            "needs_background": "light"
          }
        }
      ]
    },
    {
      "cell_type": "code",
      "metadata": {
        "colab": {
          "base_uri": "https://localhost:8080/"
        },
        "id": "-OO4mAYYCqlr",
        "outputId": "55522385-6fad-43ae-841b-a2413f0d360c"
      },
      "source": [
        "model.evaluate(X_test, y_test)"
      ],
      "execution_count": 37,
      "outputs": [
        {
          "output_type": "stream",
          "text": [
            "313/313 [==============================] - 0s 1ms/step - loss: 0.3407 - accuracy: 0.8763\n"
          ],
          "name": "stdout"
        },
        {
          "output_type": "execute_result",
          "data": {
            "text/plain": [
              "[0.3407367765903473, 0.8762999773025513]"
            ]
          },
          "metadata": {
            "tags": []
          },
          "execution_count": 37
        }
      ]
    },
    {
      "cell_type": "code",
      "metadata": {
        "colab": {
          "base_uri": "https://localhost:8080/"
        },
        "id": "ACKpO8J4Cquw",
        "outputId": "b2e75b93-fb78-4392-e565-3a51ef9dc23b"
      },
      "source": [
        "X_new = X_test[:3]\n",
        "y_proba = model.predict(X_new)\n",
        "y_proba.round(6)"
      ],
      "execution_count": 38,
      "outputs": [
        {
          "output_type": "execute_result",
          "data": {
            "text/plain": [
              "array([[1.00000e-05, 0.00000e+00, 3.00000e-06, 2.00000e-06, 1.00000e-06,\n",
              "        1.10880e-02, 5.00000e-06, 8.87000e-03, 7.50000e-05, 9.79947e-01],\n",
              "       [1.90000e-05, 0.00000e+00, 9.94651e-01, 0.00000e+00, 2.80500e-03,\n",
              "        0.00000e+00, 2.52500e-03, 0.00000e+00, 0.00000e+00, 0.00000e+00],\n",
              "       [2.80000e-05, 9.99969e-01, 1.00000e-06, 1.00000e-06, 1.00000e-06,\n",
              "        0.00000e+00, 0.00000e+00, 0.00000e+00, 0.00000e+00, 0.00000e+00]],\n",
              "      dtype=float32)"
            ]
          },
          "metadata": {
            "tags": []
          },
          "execution_count": 38
        }
      ]
    },
    {
      "cell_type": "code",
      "metadata": {
        "colab": {
          "base_uri": "https://localhost:8080/"
        },
        "id": "ayzp_ewFCq_t",
        "outputId": "ddef1d26-f6d0-4696-8b96-ea9422493bd7"
      },
      "source": [
        "y_pred = model.predict_classes(X_new)\n",
        "y_pred"
      ],
      "execution_count": 39,
      "outputs": [
        {
          "output_type": "stream",
          "text": [
            "WARNING:tensorflow:From <ipython-input-39-81ace37e545f>:1: Sequential.predict_classes (from tensorflow.python.keras.engine.sequential) is deprecated and will be removed after 2021-01-01.\n",
            "Instructions for updating:\n",
            "Please use instead:* `np.argmax(model.predict(x), axis=-1)`,   if your model does multi-class classification   (e.g. if it uses a `softmax` last-layer activation).* `(model.predict(x) > 0.5).astype(\"int32\")`,   if your model does binary classification   (e.g. if it uses a `sigmoid` last-layer activation).\n"
          ],
          "name": "stdout"
        },
        {
          "output_type": "execute_result",
          "data": {
            "text/plain": [
              "array([9, 2, 1])"
            ]
          },
          "metadata": {
            "tags": []
          },
          "execution_count": 39
        }
      ]
    },
    {
      "cell_type": "code",
      "metadata": {
        "colab": {
          "base_uri": "https://localhost:8080/",
          "height": 165
        },
        "id": "H9Pt6zocCrFp",
        "outputId": "ade2d9aa-f7c2-46a6-f56d-c8d619f528a1"
      },
      "source": [
        "plt.figure(figsize=(7.2, 2.4))\n",
        "for index, image in enumerate(X_new):\n",
        "    plt.subplot(1, 3, index + 1)\n",
        "    plt.imshow(image, cmap=\"binary\", interpolation=\"nearest\")\n",
        "    plt.axis('off')\n",
        "    plt.title(class_names[y_test[index]], fontsize=12)\n",
        "plt.subplots_adjust(wspace=0.2, hspace=0.5)\n",
        "plt.show()"
      ],
      "execution_count": 40,
      "outputs": [
        {
          "output_type": "display_data",
          "data": {
            "image/png": "[encoded data removed]",
            "text/plain": [
              "<Figure size 518.4x172.8 with 3 Axes>"
            ]
          },
          "metadata": {
            "tags": [],
            "needs_background": "light"
          }
        }
      ]
    },
    {
      "cell_type": "markdown",
      "metadata": {
        "id": "gDaIRk4UEhvp"
      },
      "source": [
        "**EXERCICE**\n",
        "\n",
        "**1) Plot Learning curves when using different optimizers**\n",
        "\n",
        "\n"
      ]
    },
    {
      "cell_type": "markdown",
      "metadata": {
        "id": "mJPYqHftF6tF"
      },
      "source": [
        "optimizers: Adam"
      ]
    },
    {
      "cell_type": "code",
      "metadata": {
        "id": "8JHyk6HMCrKI"
      },
      "source": [
        "model.compile(loss=\"sparse_categorical_crossentropy\",\n",
        "              optimizer=\"Adam\",\n",
        "              metrics=[\"accuracy\"])"
      ],
      "execution_count": 41,
      "outputs": []
    },
    {
      "cell_type": "code",
      "metadata": {
        "colab": {
          "base_uri": "https://localhost:8080/"
        },
        "id": "HyJPxYI3CrTa",
        "outputId": "acfa6322-357f-405e-f18c-dbdba8534fbb"
      },
      "source": [
        "history1 = model.fit(X_train, y_train, batch_size=32, epochs=30,\n",
        "                    validation_data=(X_valid, y_valid))"
      ],
      "execution_count": 42,
      "outputs": [
        {
          "output_type": "stream",
          "text": [
            "Epoch 1/30\n",
            "1719/1719 [==============================] - 6s 3ms/step - loss: 0.3759 - accuracy: 0.8635 - val_loss: 0.3955 - val_accuracy: 0.8602\n",
            "Epoch 2/30\n",
            "1719/1719 [==============================] - 5s 3ms/step - loss: 0.3284 - accuracy: 0.8790 - val_loss: 0.3715 - val_accuracy: 0.8654\n",
            "Epoch 3/30\n",
            "1719/1719 [==============================] - 6s 3ms/step - loss: 0.3075 - accuracy: 0.8870 - val_loss: 0.3380 - val_accuracy: 0.8752\n",
            "Epoch 4/30\n",
            "1719/1719 [==============================] - 6s 3ms/step - loss: 0.2870 - accuracy: 0.8933 - val_loss: 0.3194 - val_accuracy: 0.8816\n",
            "Epoch 5/30\n",
            "1719/1719 [==============================] - 6s 3ms/step - loss: 0.2729 - accuracy: 0.8984 - val_loss: 0.3230 - val_accuracy: 0.8824\n",
            "Epoch 6/30\n",
            "1719/1719 [==============================] - 6s 3ms/step - loss: 0.2610 - accuracy: 0.9021 - val_loss: 0.3215 - val_accuracy: 0.8878\n",
            "Epoch 7/30\n",
            "1719/1719 [==============================] - 6s 3ms/step - loss: 0.2473 - accuracy: 0.9071 - val_loss: 0.3236 - val_accuracy: 0.8824\n",
            "Epoch 8/30\n",
            "1719/1719 [==============================] - 6s 3ms/step - loss: 0.2409 - accuracy: 0.9089 - val_loss: 0.3150 - val_accuracy: 0.8904\n",
            "Epoch 9/30\n",
            "1719/1719 [==============================] - 6s 4ms/step - loss: 0.2286 - accuracy: 0.9140 - val_loss: 0.3137 - val_accuracy: 0.8918\n",
            "Epoch 10/30\n",
            "1719/1719 [==============================] - 6s 3ms/step - loss: 0.2243 - accuracy: 0.9149 - val_loss: 0.3278 - val_accuracy: 0.8900\n",
            "Epoch 11/30\n",
            "1719/1719 [==============================] - 6s 3ms/step - loss: 0.2146 - accuracy: 0.9189 - val_loss: 0.3253 - val_accuracy: 0.8944\n",
            "Epoch 12/30\n",
            "1719/1719 [==============================] - 6s 3ms/step - loss: 0.2074 - accuracy: 0.9217 - val_loss: 0.3070 - val_accuracy: 0.8960\n",
            "Epoch 13/30\n",
            "1719/1719 [==============================] - 6s 3ms/step - loss: 0.2000 - accuracy: 0.9243 - val_loss: 0.3317 - val_accuracy: 0.8916\n",
            "Epoch 14/30\n",
            "1719/1719 [==============================] - 6s 3ms/step - loss: 0.1949 - accuracy: 0.9255 - val_loss: 0.3299 - val_accuracy: 0.8906\n",
            "Epoch 15/30\n",
            "1719/1719 [==============================] - 6s 3ms/step - loss: 0.1898 - accuracy: 0.9284 - val_loss: 0.3148 - val_accuracy: 0.8984\n",
            "Epoch 16/30\n",
            "1719/1719 [==============================] - 6s 3ms/step - loss: 0.1807 - accuracy: 0.9296 - val_loss: 0.3350 - val_accuracy: 0.8974\n",
            "Epoch 17/30\n",
            "1719/1719 [==============================] - 6s 3ms/step - loss: 0.1748 - accuracy: 0.9328 - val_loss: 0.3280 - val_accuracy: 0.8940\n",
            "Epoch 18/30\n",
            "1719/1719 [==============================] - 6s 3ms/step - loss: 0.1724 - accuracy: 0.9340 - val_loss: 0.3526 - val_accuracy: 0.8976\n",
            "Epoch 19/30\n",
            "1719/1719 [==============================] - 6s 3ms/step - loss: 0.1686 - accuracy: 0.9363 - val_loss: 0.3634 - val_accuracy: 0.8956\n",
            "Epoch 20/30\n",
            "1719/1719 [==============================] - 6s 3ms/step - loss: 0.1651 - accuracy: 0.9361 - val_loss: 0.3654 - val_accuracy: 0.8962\n",
            "Epoch 21/30\n",
            "1719/1719 [==============================] - 6s 3ms/step - loss: 0.1578 - accuracy: 0.9399 - val_loss: 0.3595 - val_accuracy: 0.8976\n",
            "Epoch 22/30\n",
            "1719/1719 [==============================] - 6s 3ms/step - loss: 0.1566 - accuracy: 0.9404 - val_loss: 0.3681 - val_accuracy: 0.8976\n",
            "Epoch 23/30\n",
            "1719/1719 [==============================] - 6s 3ms/step - loss: 0.1515 - accuracy: 0.9416 - val_loss: 0.3573 - val_accuracy: 0.8988\n",
            "Epoch 24/30\n",
            "1719/1719 [==============================] - 6s 3ms/step - loss: 0.1472 - accuracy: 0.9436 - val_loss: 0.3963 - val_accuracy: 0.8932\n",
            "Epoch 25/30\n",
            "1719/1719 [==============================] - 6s 3ms/step - loss: 0.1431 - accuracy: 0.9446 - val_loss: 0.3863 - val_accuracy: 0.8952\n",
            "Epoch 26/30\n",
            "1719/1719 [==============================] - 6s 3ms/step - loss: 0.1393 - accuracy: 0.9463 - val_loss: 0.4047 - val_accuracy: 0.8976\n",
            "Epoch 27/30\n",
            "1719/1719 [==============================] - 6s 3ms/step - loss: 0.1375 - accuracy: 0.9480 - val_loss: 0.4081 - val_accuracy: 0.8980\n",
            "Epoch 28/30\n",
            "1719/1719 [==============================] - 6s 3ms/step - loss: 0.1325 - accuracy: 0.9488 - val_loss: 0.4104 - val_accuracy: 0.8960\n",
            "Epoch 29/30\n",
            "1719/1719 [==============================] - 6s 3ms/step - loss: 0.1307 - accuracy: 0.9505 - val_loss: 0.4161 - val_accuracy: 0.8890\n",
            "Epoch 30/30\n",
            "1719/1719 [==============================] - 6s 3ms/step - loss: 0.1245 - accuracy: 0.9512 - val_loss: 0.4828 - val_accuracy: 0.8874\n"
          ],
          "name": "stdout"
        }
      ]
    },
    {
      "cell_type": "code",
      "metadata": {
        "colab": {
          "base_uri": "https://localhost:8080/",
          "height": 328
        },
        "id": "HhL_ehaICq6_",
        "outputId": "4267873f-5a0f-4f93-8074-08929cbaac1e"
      },
      "source": [
        "pd.DataFrame(history1.history).plot(figsize=(8, 5))\n",
        "plt.grid(True)\n",
        "plt.gca().set_ylim(0, 1)\n",
        "plt.show()"
      ],
      "execution_count": 43,
      "outputs": [
        {
          "output_type": "display_data",
          "data": {
            "image/png": "[encoded data removed]",
            "text/plain": [
              "<Figure size 576x360 with 1 Axes>"
            ]
          },
          "metadata": {
            "tags": [],
            "needs_background": "light"
          }
        }
      ]
    },
    {
      "cell_type": "code",
      "metadata": {
        "colab": {
          "base_uri": "https://localhost:8080/"
        },
        "id": "SKpzNvscCq9M",
        "outputId": "fc097099-4b7c-4caf-853e-0014c9ebf75c"
      },
      "source": [
        "model.evaluate(X_test, y_test)"
      ],
      "execution_count": 44,
      "outputs": [
        {
          "output_type": "stream",
          "text": [
            "313/313 [==============================] - 0s 1ms/step - loss: 0.5050 - accuracy: 0.8888\n"
          ],
          "name": "stdout"
        },
        {
          "output_type": "execute_result",
          "data": {
            "text/plain": [
              "[0.5050442218780518, 0.8888000249862671]"
            ]
          },
          "metadata": {
            "tags": []
          },
          "execution_count": 44
        }
      ]
    },
    {
      "cell_type": "markdown",
      "metadata": {
        "id": "IcCS2fAyGjfR"
      },
      "source": [
        "optimizers:RMSprop"
      ]
    },
    {
      "cell_type": "code",
      "metadata": {
        "id": "ovBQcNZHCq4t"
      },
      "source": [
        "model.compile(loss=\"sparse_categorical_crossentropy\",\n",
        "              optimizer=\"RMSprop\",\n",
        "              metrics=[\"accuracy\"])"
      ],
      "execution_count": 45,
      "outputs": []
    },
    {
      "cell_type": "code",
      "metadata": {
        "colab": {
          "base_uri": "https://localhost:8080/"
        },
        "id": "7WULGR7pCq1d",
        "outputId": "41a6cc30-86e3-4d15-be2c-f0e88e623c2a"
      },
      "source": [
        "history2 = model.fit(X_train, y_train, batch_size=32, epochs=30,\n",
        "                    validation_data=(X_valid, y_valid))"
      ],
      "execution_count": 46,
      "outputs": [
        {
          "output_type": "stream",
          "text": [
            "Epoch 1/30\n",
            "1719/1719 [==============================] - 8s 5ms/step - loss: 0.1265 - accuracy: 0.9517 - val_loss: 0.5449 - val_accuracy: 0.8954\n",
            "Epoch 2/30\n",
            "1719/1719 [==============================] - 8s 4ms/step - loss: 0.1325 - accuracy: 0.9521 - val_loss: 0.5993 - val_accuracy: 0.8972\n",
            "Epoch 3/30\n",
            "1719/1719 [==============================] - 8s 4ms/step - loss: 0.1413 - accuracy: 0.9500 - val_loss: 0.6804 - val_accuracy: 0.8908\n",
            "Epoch 4/30\n",
            "1719/1719 [==============================] - 7s 4ms/step - loss: 0.1477 - accuracy: 0.9485 - val_loss: 0.6524 - val_accuracy: 0.8868\n",
            "Epoch 5/30\n",
            "1719/1719 [==============================] - 8s 4ms/step - loss: 0.1566 - accuracy: 0.9463 - val_loss: 0.7592 - val_accuracy: 0.8986\n",
            "Epoch 6/30\n",
            "1719/1719 [==============================] - 7s 4ms/step - loss: 0.1604 - accuracy: 0.9460 - val_loss: 0.8181 - val_accuracy: 0.8870\n",
            "Epoch 7/30\n",
            "1719/1719 [==============================] - 8s 4ms/step - loss: 0.1636 - accuracy: 0.9436 - val_loss: 0.7394 - val_accuracy: 0.8910\n",
            "Epoch 8/30\n",
            "1719/1719 [==============================] - 7s 4ms/step - loss: 0.1664 - accuracy: 0.9446 - val_loss: 0.8163 - val_accuracy: 0.8932\n",
            "Epoch 9/30\n",
            "1719/1719 [==============================] - 8s 4ms/step - loss: 0.1708 - accuracy: 0.9438 - val_loss: 0.8425 - val_accuracy: 0.8902\n",
            "Epoch 10/30\n",
            "1719/1719 [==============================] - 7s 4ms/step - loss: 0.1741 - accuracy: 0.9433 - val_loss: 0.8208 - val_accuracy: 0.8926\n",
            "Epoch 11/30\n",
            "1719/1719 [==============================] - 8s 4ms/step - loss: 0.1748 - accuracy: 0.9430 - val_loss: 0.8342 - val_accuracy: 0.8872\n",
            "Epoch 12/30\n",
            "1719/1719 [==============================] - 8s 5ms/step - loss: 0.1748 - accuracy: 0.9437 - val_loss: 0.8408 - val_accuracy: 0.8864\n",
            "Epoch 13/30\n",
            "1719/1719 [==============================] - 8s 4ms/step - loss: 0.1828 - accuracy: 0.9427 - val_loss: 0.8471 - val_accuracy: 0.8884\n",
            "Epoch 14/30\n",
            "1719/1719 [==============================] - 8s 4ms/step - loss: 0.1787 - accuracy: 0.9445 - val_loss: 0.9655 - val_accuracy: 0.8934\n",
            "Epoch 15/30\n",
            "1719/1719 [==============================] - 8s 4ms/step - loss: 0.1832 - accuracy: 0.9434 - val_loss: 0.9751 - val_accuracy: 0.8866\n",
            "Epoch 16/30\n",
            "1719/1719 [==============================] - 7s 4ms/step - loss: 0.1812 - accuracy: 0.9427 - val_loss: 0.9474 - val_accuracy: 0.8930\n",
            "Epoch 17/30\n",
            "1719/1719 [==============================] - 8s 4ms/step - loss: 0.1833 - accuracy: 0.9416 - val_loss: 1.0204 - val_accuracy: 0.8856\n",
            "Epoch 18/30\n",
            "1719/1719 [==============================] - 8s 4ms/step - loss: 0.1827 - accuracy: 0.9431 - val_loss: 1.0198 - val_accuracy: 0.8832\n",
            "Epoch 19/30\n",
            "1719/1719 [==============================] - 8s 4ms/step - loss: 0.1813 - accuracy: 0.9426 - val_loss: 0.9966 - val_accuracy: 0.8840\n",
            "Epoch 20/30\n",
            "1719/1719 [==============================] - 7s 4ms/step - loss: 0.1801 - accuracy: 0.9426 - val_loss: 1.1770 - val_accuracy: 0.8806\n",
            "Epoch 21/30\n",
            "1719/1719 [==============================] - 8s 4ms/step - loss: 0.1833 - accuracy: 0.9436 - val_loss: 1.1064 - val_accuracy: 0.8898\n",
            "Epoch 22/30\n",
            "1719/1719 [==============================] - 8s 5ms/step - loss: 0.1905 - accuracy: 0.9435 - val_loss: 1.0498 - val_accuracy: 0.8910\n",
            "Epoch 23/30\n",
            "1719/1719 [==============================] - 8s 4ms/step - loss: 0.1821 - accuracy: 0.9447 - val_loss: 1.2161 - val_accuracy: 0.8890\n",
            "Epoch 24/30\n",
            "1719/1719 [==============================] - 8s 5ms/step - loss: 0.1862 - accuracy: 0.9447 - val_loss: 1.1321 - val_accuracy: 0.8848\n",
            "Epoch 25/30\n",
            "1719/1719 [==============================] - 12s 7ms/step - loss: 0.1870 - accuracy: 0.9436 - val_loss: 1.1127 - val_accuracy: 0.8854\n",
            "Epoch 26/30\n",
            "1719/1719 [==============================] - 9s 5ms/step - loss: 0.1836 - accuracy: 0.9446 - val_loss: 1.1316 - val_accuracy: 0.8880\n",
            "Epoch 27/30\n",
            "1719/1719 [==============================] - 8s 4ms/step - loss: 0.1935 - accuracy: 0.9441 - val_loss: 1.2728 - val_accuracy: 0.8748\n",
            "Epoch 28/30\n",
            "1719/1719 [==============================] - 8s 4ms/step - loss: 0.1844 - accuracy: 0.9440 - val_loss: 1.1765 - val_accuracy: 0.8870\n",
            "Epoch 29/30\n",
            "1719/1719 [==============================] - 8s 4ms/step - loss: 0.1832 - accuracy: 0.9455 - val_loss: 1.3479 - val_accuracy: 0.8782\n",
            "Epoch 30/30\n",
            "1719/1719 [==============================] - 8s 4ms/step - loss: 0.1855 - accuracy: 0.9447 - val_loss: 1.2398 - val_accuracy: 0.8858\n"
          ],
          "name": "stdout"
        }
      ]
    },
    {
      "cell_type": "code",
      "metadata": {
        "colab": {
          "base_uri": "https://localhost:8080/",
          "height": 328
        },
        "id": "KnMtS7l-Iky3",
        "outputId": "bbdaa947-71ae-47d1-ac3b-5db74c3090b0"
      },
      "source": [
        "pd.DataFrame(history2.history).plot(figsize=(8, 5))\n",
        "plt.grid(True)\n",
        "plt.gca().set_ylim(0, 1)\n",
        "plt.show()"
      ],
      "execution_count": 47,
      "outputs": [
        {
          "output_type": "display_data",
          "data": {
            "image/png": "[encoded data removed]",
            "text/plain": [
              "<Figure size 576x360 with 1 Axes>"
            ]
          },
          "metadata": {
            "tags": [],
            "needs_background": "light"
          }
        }
      ]
    },
    {
      "cell_type": "code",
      "metadata": {
        "colab": {
          "base_uri": "https://localhost:8080/"
        },
        "id": "K3YegchICqsG",
        "outputId": "f14934c1-1039-49cd-9c07-0e0bed0df2d3"
      },
      "source": [
        "model.evaluate(X_test, y_test)"
      ],
      "execution_count": 48,
      "outputs": [
        {
          "output_type": "stream",
          "text": [
            "313/313 [==============================] - 0s 1ms/step - loss: 1.2267 - accuracy: 0.8783\n"
          ],
          "name": "stdout"
        },
        {
          "output_type": "execute_result",
          "data": {
            "text/plain": [
              "[1.2266614437103271, 0.8783000111579895]"
            ]
          },
          "metadata": {
            "tags": []
          },
          "execution_count": 48
        }
      ]
    },
    {
      "cell_type": "markdown",
      "metadata": {
        "id": "EwYQ4z_QH7RF"
      },
      "source": [
        "optimizers:SGD"
      ]
    },
    {
      "cell_type": "code",
      "metadata": {
        "id": "F3dBbCnGCqin"
      },
      "source": [
        "model.compile(loss=\"sparse_categorical_crossentropy\",\n",
        "              optimizer=\"SGD\",\n",
        "              metrics=[\"accuracy\"])"
      ],
      "execution_count": 49,
      "outputs": []
    },
    {
      "cell_type": "code",
      "metadata": {
        "colab": {
          "base_uri": "https://localhost:8080/"
        },
        "id": "FQBftSzFCqgH",
        "outputId": "2da85495-b8f3-4d83-e16e-f54c1a05f510"
      },
      "source": [
        "history3 = model.fit(X_train, y_train, batch_size=32, epochs=30,\n",
        "                    validation_data=(X_valid, y_valid))"
      ],
      "execution_count": 50,
      "outputs": [
        {
          "output_type": "stream",
          "text": [
            "Epoch 1/30\n",
            "1719/1719 [==============================] - 5s 3ms/step - loss: 6.0150 - accuracy: 0.3755 - val_loss: 1.3736 - val_accuracy: 0.4444\n",
            "Epoch 2/30\n",
            "1719/1719 [==============================] - 5s 3ms/step - loss: 1.4157 - accuracy: 0.4477 - val_loss: 1.3098 - val_accuracy: 0.5252\n",
            "Epoch 3/30\n",
            "1719/1719 [==============================] - 4s 3ms/step - loss: 1.6394 - accuracy: 0.4104 - val_loss: 1.2986 - val_accuracy: 0.4912\n",
            "Epoch 4/30\n",
            "1719/1719 [==============================] - 5s 3ms/step - loss: 0.9617 - accuracy: 0.6123 - val_loss: 0.8797 - val_accuracy: 0.6446\n",
            "Epoch 5/30\n",
            "1719/1719 [==============================] - 5s 3ms/step - loss: 0.8797 - accuracy: 0.6597 - val_loss: 0.8633 - val_accuracy: 0.6844\n",
            "Epoch 6/30\n",
            "1719/1719 [==============================] - 5s 3ms/step - loss: 0.6862 - accuracy: 0.7532 - val_loss: 0.6418 - val_accuracy: 0.7788\n",
            "Epoch 7/30\n",
            "1719/1719 [==============================] - 5s 3ms/step - loss: 0.5996 - accuracy: 0.7848 - val_loss: 0.6040 - val_accuracy: 0.8150\n",
            "Epoch 8/30\n",
            "1719/1719 [==============================] - 5s 3ms/step - loss: 0.5177 - accuracy: 0.8209 - val_loss: 0.5259 - val_accuracy: 0.8374\n",
            "Epoch 9/30\n",
            "1719/1719 [==============================] - 5s 3ms/step - loss: 0.4819 - accuracy: 0.8345 - val_loss: 0.5347 - val_accuracy: 0.8290\n",
            "Epoch 10/30\n",
            "1719/1719 [==============================] - 5s 3ms/step - loss: 0.4590 - accuracy: 0.8418 - val_loss: 0.4997 - val_accuracy: 0.8464\n",
            "Epoch 11/30\n",
            "1719/1719 [==============================] - 5s 3ms/step - loss: 0.5377 - accuracy: 0.8166 - val_loss: 0.4815 - val_accuracy: 0.8490\n",
            "Epoch 12/30\n",
            "1719/1719 [==============================] - 5s 3ms/step - loss: 0.4830 - accuracy: 0.8335 - val_loss: 0.5520 - val_accuracy: 0.8132\n",
            "Epoch 13/30\n",
            "1719/1719 [==============================] - 5s 3ms/step - loss: 0.4386 - accuracy: 0.8495 - val_loss: 0.5328 - val_accuracy: 0.8254\n",
            "Epoch 14/30\n",
            "1719/1719 [==============================] - 5s 3ms/step - loss: 0.4116 - accuracy: 0.8564 - val_loss: 0.4511 - val_accuracy: 0.8536\n",
            "Epoch 15/30\n",
            "1719/1719 [==============================] - 5s 3ms/step - loss: 0.3932 - accuracy: 0.8620 - val_loss: 0.4671 - val_accuracy: 0.8582\n",
            "Epoch 16/30\n",
            "1719/1719 [==============================] - 5s 3ms/step - loss: 0.3805 - accuracy: 0.8671 - val_loss: 0.4911 - val_accuracy: 0.8564\n",
            "Epoch 17/30\n",
            "1719/1719 [==============================] - 5s 3ms/step - loss: 0.3653 - accuracy: 0.8719 - val_loss: 0.7187 - val_accuracy: 0.7970\n",
            "Epoch 18/30\n",
            "1719/1719 [==============================] - 5s 3ms/step - loss: 0.3562 - accuracy: 0.8752 - val_loss: 0.4170 - val_accuracy: 0.8756\n",
            "Epoch 19/30\n",
            "1719/1719 [==============================] - 5s 3ms/step - loss: 0.3400 - accuracy: 0.8808 - val_loss: 0.4396 - val_accuracy: 0.8584\n",
            "Epoch 20/30\n",
            "1719/1719 [==============================] - 5s 3ms/step - loss: 0.3392 - accuracy: 0.8797 - val_loss: 0.6461 - val_accuracy: 0.7984\n",
            "Epoch 21/30\n",
            "1719/1719 [==============================] - 5s 3ms/step - loss: 0.3307 - accuracy: 0.8844 - val_loss: 0.3967 - val_accuracy: 0.8738\n",
            "Epoch 22/30\n",
            "1719/1719 [==============================] - 5s 3ms/step - loss: 0.3257 - accuracy: 0.8856 - val_loss: 0.4111 - val_accuracy: 0.8718\n",
            "Epoch 23/30\n",
            "1719/1719 [==============================] - 5s 3ms/step - loss: 0.3232 - accuracy: 0.8876 - val_loss: 0.3884 - val_accuracy: 0.8792\n",
            "Epoch 24/30\n",
            "1719/1719 [==============================] - 5s 3ms/step - loss: 0.3119 - accuracy: 0.8912 - val_loss: 0.6299 - val_accuracy: 0.8186\n",
            "Epoch 25/30\n",
            "1719/1719 [==============================] - 5s 3ms/step - loss: 0.3093 - accuracy: 0.8919 - val_loss: 0.5297 - val_accuracy: 0.8504\n",
            "Epoch 26/30\n",
            "1719/1719 [==============================] - 4s 3ms/step - loss: 0.3115 - accuracy: 0.8925 - val_loss: 0.4876 - val_accuracy: 0.8444\n",
            "Epoch 27/30\n",
            "1719/1719 [==============================] - 5s 3ms/step - loss: 0.2984 - accuracy: 0.8949 - val_loss: 0.4579 - val_accuracy: 0.8614\n",
            "Epoch 28/30\n",
            "1719/1719 [==============================] - 5s 3ms/step - loss: 0.2960 - accuracy: 0.8968 - val_loss: 0.4731 - val_accuracy: 0.8660\n",
            "Epoch 29/30\n",
            "1719/1719 [==============================] - 5s 3ms/step - loss: 0.2880 - accuracy: 0.8981 - val_loss: 0.4165 - val_accuracy: 0.8714\n",
            "Epoch 30/30\n",
            "1719/1719 [==============================] - 5s 3ms/step - loss: 0.2857 - accuracy: 0.8985 - val_loss: 0.4298 - val_accuracy: 0.8804\n"
          ],
          "name": "stdout"
        }
      ]
    },
    {
      "cell_type": "code",
      "metadata": {
        "colab": {
          "base_uri": "https://localhost:8080/",
          "height": 328
        },
        "id": "Z39EydSqCqeL",
        "outputId": "6626ef41-569a-4570-f372-d0146aba220d"
      },
      "source": [
        "pd.DataFrame(history3.history).plot(figsize=(8, 5))\n",
        "plt.grid(True)\n",
        "plt.gca().set_ylim(0, 1)\n",
        "plt.show()"
      ],
      "execution_count": 51,
      "outputs": [
        {
          "output_type": "display_data",
          "data": {
            "image/png": "[encoded data removed]",
            "text/plain": [
              "<Figure size 576x360 with 1 Axes>"
            ]
          },
          "metadata": {
            "tags": [],
            "needs_background": "light"
          }
        }
      ]
    },
    {
      "cell_type": "code",
      "metadata": {
        "colab": {
          "base_uri": "https://localhost:8080/"
        },
        "id": "Siv36N1tCqWk",
        "outputId": "96b3afc4-739b-4276-e804-eea163acd111"
      },
      "source": [
        "model.evaluate(X_test, y_test)"
      ],
      "execution_count": 52,
      "outputs": [
        {
          "output_type": "stream",
          "text": [
            "313/313 [==============================] - 0s 2ms/step - loss: 0.4604 - accuracy: 0.8716\n"
          ],
          "name": "stdout"
        },
        {
          "output_type": "execute_result",
          "data": {
            "text/plain": [
              "[0.4604113698005676, 0.8715999722480774]"
            ]
          },
          "metadata": {
            "tags": []
          },
          "execution_count": 52
        }
      ]
    },
    {
      "cell_type": "markdown",
      "metadata": {
        "id": "puF97hvxLMNF"
      },
      "source": [
        "**2) Plot Learning curves when using different batch size**\n",
        "\n",
        "batch-size=10\n"
      ]
    },
    {
      "cell_type": "code",
      "metadata": {
        "id": "Wcub4X9yCqQq"
      },
      "source": [
        "model.compile(loss=\"sparse_categorical_crossentropy\",\n",
        "              optimizer=\"Adam\",\n",
        "              metrics=[\"accuracy\"])"
      ],
      "execution_count": 53,
      "outputs": []
    },
    {
      "cell_type": "code",
      "metadata": {
        "colab": {
          "base_uri": "https://localhost:8080/"
        },
        "id": "52UTwZp9CqJU",
        "outputId": "2758ab20-6e8a-4233-935f-56270043bce1"
      },
      "source": [
        "history4 = model.fit(X_train, y_train, batch_size=10, epochs=30,\n",
        "                    validation_data=(X_valid, y_valid))"
      ],
      "execution_count": 54,
      "outputs": [
        {
          "output_type": "stream",
          "text": [
            "Epoch 1/30\n",
            "5500/5500 [==============================] - 13s 2ms/step - loss: 0.2844 - accuracy: 0.9008 - val_loss: 0.3862 - val_accuracy: 0.8798\n",
            "Epoch 2/30\n",
            "5500/5500 [==============================] - 13s 2ms/step - loss: 0.2443 - accuracy: 0.9117 - val_loss: 0.3784 - val_accuracy: 0.8848\n",
            "Epoch 3/30\n",
            "5500/5500 [==============================] - 13s 2ms/step - loss: 0.2263 - accuracy: 0.9181 - val_loss: 0.3713 - val_accuracy: 0.8866\n",
            "Epoch 4/30\n",
            "5500/5500 [==============================] - 13s 2ms/step - loss: 0.2103 - accuracy: 0.9239 - val_loss: 0.3717 - val_accuracy: 0.8834\n",
            "Epoch 5/30\n",
            "5500/5500 [==============================] - 13s 2ms/step - loss: 0.2023 - accuracy: 0.9265 - val_loss: 0.4107 - val_accuracy: 0.8842\n",
            "Epoch 6/30\n",
            "5500/5500 [==============================] - 12s 2ms/step - loss: 0.1942 - accuracy: 0.9291 - val_loss: 0.4613 - val_accuracy: 0.8704\n",
            "Epoch 7/30\n",
            "5500/5500 [==============================] - 13s 2ms/step - loss: 0.1866 - accuracy: 0.9320 - val_loss: 0.4007 - val_accuracy: 0.8910\n",
            "Epoch 8/30\n",
            "5500/5500 [==============================] - 13s 2ms/step - loss: 0.1827 - accuracy: 0.9331 - val_loss: 0.4483 - val_accuracy: 0.8798\n",
            "Epoch 9/30\n",
            "5500/5500 [==============================] - 13s 2ms/step - loss: 0.1768 - accuracy: 0.9359 - val_loss: 0.4132 - val_accuracy: 0.8866\n",
            "Epoch 10/30\n",
            "5500/5500 [==============================] - 14s 3ms/step - loss: 0.1723 - accuracy: 0.9379 - val_loss: 0.4299 - val_accuracy: 0.8876\n",
            "Epoch 11/30\n",
            "5500/5500 [==============================] - 12s 2ms/step - loss: 0.1680 - accuracy: 0.9394 - val_loss: 0.4326 - val_accuracy: 0.8912\n",
            "Epoch 12/30\n",
            "5500/5500 [==============================] - 13s 2ms/step - loss: 0.1643 - accuracy: 0.9413 - val_loss: 0.4218 - val_accuracy: 0.8972\n",
            "Epoch 13/30\n",
            "5500/5500 [==============================] - 12s 2ms/step - loss: 0.1591 - accuracy: 0.9424 - val_loss: 0.4984 - val_accuracy: 0.8800\n",
            "Epoch 14/30\n",
            "5500/5500 [==============================] - 12s 2ms/step - loss: 0.1570 - accuracy: 0.9433 - val_loss: 0.4457 - val_accuracy: 0.8946\n",
            "Epoch 15/30\n",
            "5500/5500 [==============================] - 13s 2ms/step - loss: 0.1511 - accuracy: 0.9454 - val_loss: 0.4685 - val_accuracy: 0.8920\n",
            "Epoch 16/30\n",
            "5500/5500 [==============================] - 13s 2ms/step - loss: 0.1488 - accuracy: 0.9459 - val_loss: 0.4392 - val_accuracy: 0.8922\n",
            "Epoch 17/30\n",
            "5500/5500 [==============================] - 13s 2ms/step - loss: 0.1474 - accuracy: 0.9476 - val_loss: 0.5062 - val_accuracy: 0.8918\n",
            "Epoch 18/30\n",
            "5500/5500 [==============================] - 13s 2ms/step - loss: 0.1465 - accuracy: 0.9482 - val_loss: 0.4918 - val_accuracy: 0.8924\n",
            "Epoch 19/30\n",
            "5500/5500 [==============================] - 12s 2ms/step - loss: 0.1402 - accuracy: 0.9492 - val_loss: 0.4560 - val_accuracy: 0.8932\n",
            "Epoch 20/30\n",
            "5500/5500 [==============================] - 12s 2ms/step - loss: 0.1372 - accuracy: 0.9501 - val_loss: 0.4836 - val_accuracy: 0.8924\n",
            "Epoch 21/30\n",
            "5500/5500 [==============================] - 12s 2ms/step - loss: 0.1369 - accuracy: 0.9508 - val_loss: 0.4883 - val_accuracy: 0.8898\n",
            "Epoch 22/30\n",
            "5500/5500 [==============================] - 13s 2ms/step - loss: 0.1353 - accuracy: 0.9512 - val_loss: 0.5080 - val_accuracy: 0.8944\n",
            "Epoch 23/30\n",
            "5500/5500 [==============================] - 13s 2ms/step - loss: 0.1338 - accuracy: 0.9524 - val_loss: 0.5282 - val_accuracy: 0.8928\n",
            "Epoch 24/30\n",
            "5500/5500 [==============================] - 12s 2ms/step - loss: 0.1264 - accuracy: 0.9538 - val_loss: 0.5318 - val_accuracy: 0.8924\n",
            "Epoch 25/30\n",
            "5500/5500 [==============================] - 12s 2ms/step - loss: 0.1299 - accuracy: 0.9527 - val_loss: 0.5880 - val_accuracy: 0.8952\n",
            "Epoch 26/30\n",
            "5500/5500 [==============================] - 13s 2ms/step - loss: 0.1267 - accuracy: 0.9543 - val_loss: 0.5695 - val_accuracy: 0.8846\n",
            "Epoch 27/30\n",
            "5500/5500 [==============================] - 12s 2ms/step - loss: 0.1227 - accuracy: 0.9558 - val_loss: 0.5894 - val_accuracy: 0.8942\n",
            "Epoch 28/30\n",
            "5500/5500 [==============================] - 12s 2ms/step - loss: 0.1220 - accuracy: 0.9555 - val_loss: 0.6332 - val_accuracy: 0.8834\n",
            "Epoch 29/30\n",
            "5500/5500 [==============================] - 12s 2ms/step - loss: 0.1201 - accuracy: 0.9565 - val_loss: 0.5814 - val_accuracy: 0.8910\n",
            "Epoch 30/30\n",
            "5500/5500 [==============================] - 12s 2ms/step - loss: 0.1175 - accuracy: 0.9573 - val_loss: 0.6005 - val_accuracy: 0.8906\n"
          ],
          "name": "stdout"
        }
      ]
    },
    {
      "cell_type": "code",
      "metadata": {
        "colab": {
          "base_uri": "https://localhost:8080/"
        },
        "id": "UEj1BB_IODN5",
        "outputId": "12a63dee-7643-4ab1-cb9e-051de5968d3c"
      },
      "source": [
        "model.evaluate(X_test, y_test)"
      ],
      "execution_count": 55,
      "outputs": [
        {
          "output_type": "stream",
          "text": [
            "313/313 [==============================] - 1s 2ms/step - loss: 0.6048 - accuracy: 0.8866\n"
          ],
          "name": "stdout"
        },
        {
          "output_type": "execute_result",
          "data": {
            "text/plain": [
              "[0.6047820448875427, 0.8866000175476074]"
            ]
          },
          "metadata": {
            "tags": []
          },
          "execution_count": 55
        }
      ]
    },
    {
      "cell_type": "markdown",
      "metadata": {
        "id": "LhWYtozVOOBZ"
      },
      "source": [
        "batch-size=20"
      ]
    },
    {
      "cell_type": "code",
      "metadata": {
        "colab": {
          "base_uri": "https://localhost:8080/"
        },
        "id": "Sb62Y83xODgA",
        "outputId": "b67e1e03-ba14-4ce5-b4e4-5f5771748907"
      },
      "source": [
        "history5 = model.fit(X_train, y_train, batch_size=20, epochs=30,\n",
        "                    validation_data=(X_valid, y_valid))"
      ],
      "execution_count": 56,
      "outputs": [
        {
          "output_type": "stream",
          "text": [
            "Epoch 1/30\n",
            "2750/2750 [==============================] - 8s 3ms/step - loss: 0.0892 - accuracy: 0.9675 - val_loss: 0.6253 - val_accuracy: 0.8866\n",
            "Epoch 2/30\n",
            "2750/2750 [==============================] - 8s 3ms/step - loss: 0.0954 - accuracy: 0.9656 - val_loss: 0.6159 - val_accuracy: 0.8992\n",
            "Epoch 3/30\n",
            "2750/2750 [==============================] - 9s 3ms/step - loss: 0.0885 - accuracy: 0.9680 - val_loss: 0.6601 - val_accuracy: 0.8918\n",
            "Epoch 4/30\n",
            "2750/2750 [==============================] - 9s 3ms/step - loss: 0.0927 - accuracy: 0.9669 - val_loss: 0.6572 - val_accuracy: 0.8900\n",
            "Epoch 5/30\n",
            "2750/2750 [==============================] - 9s 3ms/step - loss: 0.0855 - accuracy: 0.9691 - val_loss: 0.6615 - val_accuracy: 0.8942\n",
            "Epoch 6/30\n",
            "2750/2750 [==============================] - 9s 3ms/step - loss: 0.0851 - accuracy: 0.9687 - val_loss: 0.7017 - val_accuracy: 0.8914\n",
            "Epoch 7/30\n",
            "2750/2750 [==============================] - 10s 4ms/step - loss: 0.0840 - accuracy: 0.9703 - val_loss: 0.6439 - val_accuracy: 0.8916\n",
            "Epoch 8/30\n",
            "2750/2750 [==============================] - 10s 3ms/step - loss: 0.0823 - accuracy: 0.9701 - val_loss: 0.6616 - val_accuracy: 0.8912\n",
            "Epoch 9/30\n",
            "2750/2750 [==============================] - 9s 3ms/step - loss: 0.0830 - accuracy: 0.9697 - val_loss: 0.7293 - val_accuracy: 0.8906\n",
            "Epoch 10/30\n",
            "2750/2750 [==============================] - 9s 3ms/step - loss: 0.0805 - accuracy: 0.9716 - val_loss: 0.7030 - val_accuracy: 0.8926\n",
            "Epoch 11/30\n",
            "2750/2750 [==============================] - 9s 3ms/step - loss: 0.0791 - accuracy: 0.9713 - val_loss: 0.7523 - val_accuracy: 0.8946\n",
            "Epoch 12/30\n",
            "2750/2750 [==============================] - 9s 3ms/step - loss: 0.0758 - accuracy: 0.9721 - val_loss: 0.7977 - val_accuracy: 0.8936\n",
            "Epoch 13/30\n",
            "2750/2750 [==============================] - 9s 3ms/step - loss: 0.0772 - accuracy: 0.9724 - val_loss: 0.8054 - val_accuracy: 0.8902\n",
            "Epoch 14/30\n",
            "2750/2750 [==============================] - 9s 3ms/step - loss: 0.0780 - accuracy: 0.9721 - val_loss: 0.7144 - val_accuracy: 0.8894\n",
            "Epoch 15/30\n",
            "2750/2750 [==============================] - 9s 3ms/step - loss: 0.0753 - accuracy: 0.9727 - val_loss: 0.7848 - val_accuracy: 0.8946\n",
            "Epoch 16/30\n",
            "2750/2750 [==============================] - 9s 3ms/step - loss: 0.0742 - accuracy: 0.9728 - val_loss: 0.7077 - val_accuracy: 0.8892\n",
            "Epoch 17/30\n",
            "2750/2750 [==============================] - 9s 3ms/step - loss: 0.0747 - accuracy: 0.9737 - val_loss: 0.7793 - val_accuracy: 0.8924\n",
            "Epoch 18/30\n",
            "2750/2750 [==============================] - 9s 3ms/step - loss: 0.0728 - accuracy: 0.9742 - val_loss: 0.7468 - val_accuracy: 0.8960\n",
            "Epoch 19/30\n",
            "2750/2750 [==============================] - 9s 3ms/step - loss: 0.0696 - accuracy: 0.9745 - val_loss: 0.8041 - val_accuracy: 0.8928\n",
            "Epoch 20/30\n",
            "2750/2750 [==============================] - 9s 3ms/step - loss: 0.0711 - accuracy: 0.9738 - val_loss: 0.8006 - val_accuracy: 0.8906\n",
            "Epoch 21/30\n",
            "2750/2750 [==============================] - 9s 3ms/step - loss: 0.0691 - accuracy: 0.9747 - val_loss: 0.7832 - val_accuracy: 0.8944\n",
            "Epoch 22/30\n",
            "2750/2750 [==============================] - 9s 3ms/step - loss: 0.0735 - accuracy: 0.9753 - val_loss: 0.7921 - val_accuracy: 0.8866\n",
            "Epoch 23/30\n",
            "2750/2750 [==============================] - 9s 3ms/step - loss: 0.0666 - accuracy: 0.9751 - val_loss: 0.8319 - val_accuracy: 0.8898\n",
            "Epoch 24/30\n",
            "2750/2750 [==============================] - 9s 3ms/step - loss: 0.0663 - accuracy: 0.9757 - val_loss: 0.8078 - val_accuracy: 0.8898\n",
            "Epoch 25/30\n",
            "2750/2750 [==============================] - 9s 3ms/step - loss: 0.0672 - accuracy: 0.9758 - val_loss: 0.8225 - val_accuracy: 0.8940\n",
            "Epoch 26/30\n",
            "2750/2750 [==============================] - 9s 3ms/step - loss: 0.0649 - accuracy: 0.9777 - val_loss: 0.8772 - val_accuracy: 0.8862\n",
            "Epoch 27/30\n",
            "2750/2750 [==============================] - 9s 3ms/step - loss: 0.0660 - accuracy: 0.9766 - val_loss: 0.8220 - val_accuracy: 0.8944\n",
            "Epoch 28/30\n",
            "2750/2750 [==============================] - 10s 3ms/step - loss: 0.0640 - accuracy: 0.9770 - val_loss: 0.8115 - val_accuracy: 0.8948\n",
            "Epoch 29/30\n",
            "2750/2750 [==============================] - 9s 3ms/step - loss: 0.0639 - accuracy: 0.9777 - val_loss: 0.8817 - val_accuracy: 0.8910\n",
            "Epoch 30/30\n",
            "2750/2750 [==============================] - 9s 3ms/step - loss: 0.0640 - accuracy: 0.9778 - val_loss: 0.8750 - val_accuracy: 0.8926\n"
          ],
          "name": "stdout"
        }
      ]
    },
    {
      "cell_type": "code",
      "metadata": {
        "colab": {
          "base_uri": "https://localhost:8080/"
        },
        "id": "TXWhgZjQODMH",
        "outputId": "12aafafa-6caa-420a-87db-07952d0d76c8"
      },
      "source": [
        "model.evaluate(X_test, y_test)"
      ],
      "execution_count": 57,
      "outputs": [
        {
          "output_type": "stream",
          "text": [
            "313/313 [==============================] - 1s 2ms/step - loss: 0.8669 - accuracy: 0.8882\n"
          ],
          "name": "stdout"
        },
        {
          "output_type": "execute_result",
          "data": {
            "text/plain": [
              "[0.8668552041053772, 0.8881999850273132]"
            ]
          },
          "metadata": {
            "tags": []
          },
          "execution_count": 57
        }
      ]
    },
    {
      "cell_type": "code",
      "metadata": {
        "colab": {
          "base_uri": "https://localhost:8080/"
        },
        "id": "aio0N0YnODKd",
        "outputId": "b394abd7-1449-498f-a6ff-27b758d4aee5"
      },
      "source": [
        "history6 = model.fit(X_train, y_train, batch_size=30, epochs=30,\n",
        "                    validation_data=(X_valid, y_valid))"
      ],
      "execution_count": 58,
      "outputs": [
        {
          "output_type": "stream",
          "text": [
            "Epoch 1/30\n",
            "1834/1834 [==============================] - 7s 4ms/step - loss: 0.0477 - accuracy: 0.9837 - val_loss: 0.9225 - val_accuracy: 0.8958\n",
            "Epoch 2/30\n",
            "1834/1834 [==============================] - 7s 4ms/step - loss: 0.0501 - accuracy: 0.9823 - val_loss: 0.9565 - val_accuracy: 0.8860\n",
            "Epoch 3/30\n",
            "1834/1834 [==============================] - 7s 4ms/step - loss: 0.0510 - accuracy: 0.9817 - val_loss: 0.9616 - val_accuracy: 0.8918\n",
            "Epoch 4/30\n",
            "1834/1834 [==============================] - 7s 4ms/step - loss: 0.0500 - accuracy: 0.9817 - val_loss: 1.0359 - val_accuracy: 0.8906\n",
            "Epoch 5/30\n",
            "1834/1834 [==============================] - 7s 4ms/step - loss: 0.0505 - accuracy: 0.9819 - val_loss: 0.9849 - val_accuracy: 0.8898\n",
            "Epoch 6/30\n",
            "1834/1834 [==============================] - 7s 4ms/step - loss: 0.0469 - accuracy: 0.9827 - val_loss: 0.9822 - val_accuracy: 0.8896\n",
            "Epoch 7/30\n",
            "1834/1834 [==============================] - 7s 4ms/step - loss: 0.0510 - accuracy: 0.9822 - val_loss: 0.9950 - val_accuracy: 0.8924\n",
            "Epoch 8/30\n",
            "1834/1834 [==============================] - 7s 4ms/step - loss: 0.0459 - accuracy: 0.9835 - val_loss: 0.9795 - val_accuracy: 0.8886\n",
            "Epoch 9/30\n",
            "1834/1834 [==============================] - 7s 4ms/step - loss: 0.0479 - accuracy: 0.9826 - val_loss: 1.0104 - val_accuracy: 0.8912\n",
            "Epoch 10/30\n",
            "1834/1834 [==============================] - 7s 4ms/step - loss: 0.0450 - accuracy: 0.9840 - val_loss: 0.9205 - val_accuracy: 0.8948\n",
            "Epoch 11/30\n",
            "1834/1834 [==============================] - 7s 4ms/step - loss: 0.0458 - accuracy: 0.9839 - val_loss: 1.0255 - val_accuracy: 0.8894\n",
            "Epoch 12/30\n",
            "1834/1834 [==============================] - 7s 4ms/step - loss: 0.0472 - accuracy: 0.9831 - val_loss: 1.0489 - val_accuracy: 0.8934\n",
            "Epoch 13/30\n",
            "1834/1834 [==============================] - 7s 4ms/step - loss: 0.0437 - accuracy: 0.9844 - val_loss: 0.9272 - val_accuracy: 0.8930\n",
            "Epoch 14/30\n",
            "1834/1834 [==============================] - 7s 4ms/step - loss: 0.0479 - accuracy: 0.9828 - val_loss: 1.0117 - val_accuracy: 0.8936\n",
            "Epoch 15/30\n",
            "1834/1834 [==============================] - 7s 4ms/step - loss: 0.0425 - accuracy: 0.9847 - val_loss: 1.0383 - val_accuracy: 0.8914\n",
            "Epoch 16/30\n",
            "1834/1834 [==============================] - 8s 4ms/step - loss: 0.0434 - accuracy: 0.9849 - val_loss: 0.9753 - val_accuracy: 0.8932\n",
            "Epoch 17/30\n",
            "1834/1834 [==============================] - 7s 4ms/step - loss: 0.0452 - accuracy: 0.9838 - val_loss: 0.9883 - val_accuracy: 0.8930\n",
            "Epoch 18/30\n",
            "1834/1834 [==============================] - 7s 4ms/step - loss: 0.0444 - accuracy: 0.9844 - val_loss: 0.9918 - val_accuracy: 0.8930\n",
            "Epoch 19/30\n",
            "1834/1834 [==============================] - 7s 4ms/step - loss: 0.0414 - accuracy: 0.9846 - val_loss: 1.0533 - val_accuracy: 0.8932\n",
            "Epoch 20/30\n",
            "1834/1834 [==============================] - 7s 4ms/step - loss: 0.0409 - accuracy: 0.9856 - val_loss: 1.0553 - val_accuracy: 0.8902\n",
            "Epoch 21/30\n",
            "1834/1834 [==============================] - 7s 4ms/step - loss: 0.0423 - accuracy: 0.9856 - val_loss: 1.0697 - val_accuracy: 0.8934\n",
            "Epoch 22/30\n",
            "1834/1834 [==============================] - 7s 4ms/step - loss: 0.0420 - accuracy: 0.9859 - val_loss: 1.0642 - val_accuracy: 0.8920\n",
            "Epoch 23/30\n",
            "1834/1834 [==============================] - 7s 4ms/step - loss: 0.0382 - accuracy: 0.9865 - val_loss: 1.1077 - val_accuracy: 0.8948\n",
            "Epoch 24/30\n",
            "1834/1834 [==============================] - 7s 4ms/step - loss: 0.0471 - accuracy: 0.9839 - val_loss: 1.1450 - val_accuracy: 0.8910\n",
            "Epoch 25/30\n",
            "1834/1834 [==============================] - 7s 4ms/step - loss: 0.0383 - accuracy: 0.9864 - val_loss: 1.1144 - val_accuracy: 0.8946\n",
            "Epoch 26/30\n",
            "1834/1834 [==============================] - 7s 4ms/step - loss: 0.0402 - accuracy: 0.9854 - val_loss: 1.1604 - val_accuracy: 0.8950\n",
            "Epoch 27/30\n",
            "1834/1834 [==============================] - 7s 4ms/step - loss: 0.0378 - accuracy: 0.9866 - val_loss: 1.2207 - val_accuracy: 0.8946\n",
            "Epoch 28/30\n",
            "1834/1834 [==============================] - 7s 4ms/step - loss: 0.0395 - accuracy: 0.9863 - val_loss: 1.0997 - val_accuracy: 0.8942\n",
            "Epoch 29/30\n",
            "1834/1834 [==============================] - 7s 4ms/step - loss: 0.0389 - accuracy: 0.9858 - val_loss: 1.1920 - val_accuracy: 0.8942\n",
            "Epoch 30/30\n",
            "1834/1834 [==============================] - 7s 4ms/step - loss: 0.0398 - accuracy: 0.9857 - val_loss: 1.1700 - val_accuracy: 0.8964\n"
          ],
          "name": "stdout"
        }
      ]
    },
    {
      "cell_type": "code",
      "metadata": {
        "colab": {
          "base_uri": "https://localhost:8080/"
        },
        "id": "RugjMQcEODIL",
        "outputId": "0a1d2a2e-a987-4adf-e2a8-8d8c844d8211"
      },
      "source": [
        "model.evaluate(X_test, y_test)"
      ],
      "execution_count": 59,
      "outputs": [
        {
          "output_type": "stream",
          "text": [
            "313/313 [==============================] - 1s 2ms/step - loss: 1.1506 - accuracy: 0.8892\n"
          ],
          "name": "stdout"
        },
        {
          "output_type": "execute_result",
          "data": {
            "text/plain": [
              "[1.15059232711792, 0.88919997215271]"
            ]
          },
          "metadata": {
            "tags": []
          },
          "execution_count": 59
        }
      ]
    },
    {
      "cell_type": "code",
      "metadata": {
        "colab": {
          "base_uri": "https://localhost:8080/",
          "height": 940
        },
        "id": "--gir5UjODFe",
        "outputId": "a9fe4fa4-f46a-488b-fea5-f8bf4de0d8f8"
      },
      "source": [
        "pd.DataFrame(history4.history).plot(figsize=(8, 5))\n",
        "pd.DataFrame(history5.history).plot(figsize=(8, 5))\n",
        "pd.DataFrame(history6.history).plot(figsize=(8, 5))\n",
        "plt.grid(True)\n",
        "plt.gca().set_ylim(0, 1)\n",
        "plt.show()"
      ],
      "execution_count": 60,
      "outputs": [
        {
          "output_type": "display_data",
          "data": {
            "image/png": "[encoded data removed]",
            "text/plain": [
              "<Figure size 576x360 with 1 Axes>"
            ]
          },
          "metadata": {
            "tags": [],
            "needs_background": "light"
          }
        },
        {
          "output_type": "display_data",
          "data": {
            "image/png": "[encoded data removed]",
            "text/plain": [
              "<Figure size 576x360 with 1 Axes>"
            ]
          },
          "metadata": {
            "tags": [],
            "needs_background": "light"
          }
        },
        {
          "output_type": "display_data",
          "data": {
            "image/png": "[encoded data removed]",
            "text/plain": [
              "<Figure size 576x360 with 1 Axes>"
            ]
          },
          "metadata": {
            "tags": [],
            "needs_background": "light"
          }
        }
      ]
    },
    {
      "cell_type": "markdown",
      "metadata": {
        "id": "r7bl4BpvRC-6"
      },
      "source": [
        "\n",
        "**3) Plot Learning curves when using different number of epochs**\n",
        "\n",
        "epochs=10\n"
      ]
    },
    {
      "cell_type": "code",
      "metadata": {
        "colab": {
          "base_uri": "https://localhost:8080/"
        },
        "id": "MiQ-J977ODDl",
        "outputId": "a24d5277-b6ae-4ef8-92d6-7c12dcb6d605"
      },
      "source": [
        "history7 = model.fit(X_train, y_train, batch_size=32, epochs=10,\n",
        "                    validation_data=(X_valid, y_valid))"
      ],
      "execution_count": 61,
      "outputs": [
        {
          "output_type": "stream",
          "text": [
            "Epoch 1/10\n",
            "1719/1719 [==============================] - 7s 4ms/step - loss: 0.0394 - accuracy: 0.9865 - val_loss: 1.0828 - val_accuracy: 0.8946\n",
            "Epoch 2/10\n",
            "1719/1719 [==============================] - 7s 4ms/step - loss: 0.0333 - accuracy: 0.9884 - val_loss: 1.2016 - val_accuracy: 0.8930\n",
            "Epoch 3/10\n",
            "1719/1719 [==============================] - 7s 4ms/step - loss: 0.0353 - accuracy: 0.9874 - val_loss: 1.1482 - val_accuracy: 0.8922\n",
            "Epoch 4/10\n",
            "1719/1719 [==============================] - 6s 4ms/step - loss: 0.0387 - accuracy: 0.9866 - val_loss: 1.1641 - val_accuracy: 0.8944\n",
            "Epoch 5/10\n",
            "1719/1719 [==============================] - 6s 4ms/step - loss: 0.0387 - accuracy: 0.9866 - val_loss: 1.1347 - val_accuracy: 0.8956\n",
            "Epoch 6/10\n",
            "1719/1719 [==============================] - 6s 4ms/step - loss: 0.0323 - accuracy: 0.9885 - val_loss: 1.2108 - val_accuracy: 0.8904\n",
            "Epoch 7/10\n",
            "1719/1719 [==============================] - 6s 4ms/step - loss: 0.0385 - accuracy: 0.9872 - val_loss: 1.1618 - val_accuracy: 0.8930\n",
            "Epoch 8/10\n",
            "1719/1719 [==============================] - 6s 4ms/step - loss: 0.0334 - accuracy: 0.9881 - val_loss: 1.2422 - val_accuracy: 0.8898\n",
            "Epoch 9/10\n",
            "1719/1719 [==============================] - 6s 4ms/step - loss: 0.0370 - accuracy: 0.9870 - val_loss: 1.2042 - val_accuracy: 0.8944\n",
            "Epoch 10/10\n",
            "1719/1719 [==============================] - 6s 4ms/step - loss: 0.0331 - accuracy: 0.9881 - val_loss: 1.2199 - val_accuracy: 0.8922\n"
          ],
          "name": "stdout"
        }
      ]
    },
    {
      "cell_type": "code",
      "metadata": {
        "colab": {
          "base_uri": "https://localhost:8080/"
        },
        "id": "0ELf6HpCODAq",
        "outputId": "d04d77b2-2ed1-44ee-cace-2529a3ee0a8f"
      },
      "source": [
        "model.evaluate(X_test, y_test)"
      ],
      "execution_count": 62,
      "outputs": [
        {
          "output_type": "stream",
          "text": [
            "313/313 [==============================] - 1s 2ms/step - loss: 1.2063 - accuracy: 0.8879\n"
          ],
          "name": "stdout"
        },
        {
          "output_type": "execute_result",
          "data": {
            "text/plain": [
              "[1.2062832117080688, 0.8878999948501587]"
            ]
          },
          "metadata": {
            "tags": []
          },
          "execution_count": 62
        }
      ]
    },
    {
      "cell_type": "code",
      "metadata": {
        "colab": {
          "base_uri": "https://localhost:8080/"
        },
        "id": "YhHvj6HDOC9u",
        "outputId": "2481d468-c712-46aa-bf62-a1c85bfeab6c"
      },
      "source": [
        "history8 = model.fit(X_train, y_train, batch_size=32, epochs=40,\n",
        "                    validation_data=(X_valid, y_valid))"
      ],
      "execution_count": 63,
      "outputs": [
        {
          "output_type": "stream",
          "text": [
            "Epoch 1/40\n",
            "1719/1719 [==============================] - 6s 4ms/step - loss: 0.0354 - accuracy: 0.9875 - val_loss: 1.2435 - val_accuracy: 0.8900\n",
            "Epoch 2/40\n",
            "1719/1719 [==============================] - 6s 4ms/step - loss: 0.0349 - accuracy: 0.9876 - val_loss: 1.2257 - val_accuracy: 0.8880\n",
            "Epoch 3/40\n",
            "1719/1719 [==============================] - 7s 4ms/step - loss: 0.0331 - accuracy: 0.9882 - val_loss: 1.2492 - val_accuracy: 0.8954\n",
            "Epoch 4/40\n",
            "1719/1719 [==============================] - 6s 4ms/step - loss: 0.0328 - accuracy: 0.9887 - val_loss: 1.3487 - val_accuracy: 0.8912\n",
            "Epoch 5/40\n",
            "1719/1719 [==============================] - 6s 4ms/step - loss: 0.0365 - accuracy: 0.9877 - val_loss: 1.2154 - val_accuracy: 0.8926\n",
            "Epoch 6/40\n",
            "1719/1719 [==============================] - 6s 4ms/step - loss: 0.0301 - accuracy: 0.9894 - val_loss: 1.2574 - val_accuracy: 0.8910\n",
            "Epoch 7/40\n",
            "1719/1719 [==============================] - 6s 4ms/step - loss: 0.0317 - accuracy: 0.9885 - val_loss: 1.2464 - val_accuracy: 0.8924\n",
            "Epoch 8/40\n",
            "1719/1719 [==============================] - 6s 4ms/step - loss: 0.0358 - accuracy: 0.9875 - val_loss: 1.2680 - val_accuracy: 0.8928\n",
            "Epoch 9/40\n",
            "1719/1719 [==============================] - 6s 4ms/step - loss: 0.0312 - accuracy: 0.9886 - val_loss: 1.2580 - val_accuracy: 0.8900\n",
            "Epoch 10/40\n",
            "1719/1719 [==============================] - 6s 4ms/step - loss: 0.0324 - accuracy: 0.9885 - val_loss: 1.2211 - val_accuracy: 0.8966\n",
            "Epoch 11/40\n",
            "1719/1719 [==============================] - 6s 4ms/step - loss: 0.0340 - accuracy: 0.9881 - val_loss: 1.2999 - val_accuracy: 0.8904\n",
            "Epoch 12/40\n",
            "1719/1719 [==============================] - 6s 4ms/step - loss: 0.0287 - accuracy: 0.9896 - val_loss: 1.3283 - val_accuracy: 0.8952\n",
            "Epoch 13/40\n",
            "1719/1719 [==============================] - 6s 4ms/step - loss: 0.0340 - accuracy: 0.9889 - val_loss: 1.3027 - val_accuracy: 0.8944\n",
            "Epoch 14/40\n",
            "1719/1719 [==============================] - 7s 4ms/step - loss: 0.0268 - accuracy: 0.9904 - val_loss: 1.2401 - val_accuracy: 0.8936\n",
            "Epoch 15/40\n",
            "1719/1719 [==============================] - 6s 4ms/step - loss: 0.0338 - accuracy: 0.9881 - val_loss: 1.2771 - val_accuracy: 0.8904\n",
            "Epoch 16/40\n",
            "1719/1719 [==============================] - 6s 4ms/step - loss: 0.0285 - accuracy: 0.9901 - val_loss: 1.3951 - val_accuracy: 0.8876\n",
            "Epoch 17/40\n",
            "1719/1719 [==============================] - 6s 4ms/step - loss: 0.0305 - accuracy: 0.9889 - val_loss: 1.3682 - val_accuracy: 0.8880\n",
            "Epoch 18/40\n",
            "1719/1719 [==============================] - 6s 4ms/step - loss: 0.0270 - accuracy: 0.9902 - val_loss: 1.3785 - val_accuracy: 0.8914\n",
            "Epoch 19/40\n",
            "1719/1719 [==============================] - 6s 4ms/step - loss: 0.0309 - accuracy: 0.9888 - val_loss: 1.2921 - val_accuracy: 0.8894\n",
            "Epoch 20/40\n",
            "1719/1719 [==============================] - 6s 4ms/step - loss: 0.0280 - accuracy: 0.9899 - val_loss: 1.4077 - val_accuracy: 0.8912\n",
            "Epoch 21/40\n",
            "1719/1719 [==============================] - 6s 4ms/step - loss: 0.0311 - accuracy: 0.9892 - val_loss: 1.3611 - val_accuracy: 0.8912\n",
            "Epoch 22/40\n",
            "1719/1719 [==============================] - 6s 4ms/step - loss: 0.0294 - accuracy: 0.9896 - val_loss: 1.4163 - val_accuracy: 0.8898\n",
            "Epoch 23/40\n",
            "1719/1719 [==============================] - 7s 4ms/step - loss: 0.0303 - accuracy: 0.9894 - val_loss: 1.4556 - val_accuracy: 0.8878\n",
            "Epoch 24/40\n",
            "1719/1719 [==============================] - 7s 4ms/step - loss: 0.0305 - accuracy: 0.9897 - val_loss: 1.3426 - val_accuracy: 0.8942\n",
            "Epoch 25/40\n",
            "1719/1719 [==============================] - 6s 4ms/step - loss: 0.0303 - accuracy: 0.9895 - val_loss: 1.3319 - val_accuracy: 0.8914\n",
            "Epoch 26/40\n",
            "1719/1719 [==============================] - 6s 4ms/step - loss: 0.0293 - accuracy: 0.9898 - val_loss: 1.4291 - val_accuracy: 0.8896\n",
            "Epoch 27/40\n",
            "1719/1719 [==============================] - 6s 4ms/step - loss: 0.0265 - accuracy: 0.9912 - val_loss: 1.4369 - val_accuracy: 0.8888\n",
            "Epoch 28/40\n",
            "1719/1719 [==============================] - 7s 4ms/step - loss: 0.0290 - accuracy: 0.9903 - val_loss: 1.3435 - val_accuracy: 0.8928\n",
            "Epoch 29/40\n",
            "1719/1719 [==============================] - 6s 4ms/step - loss: 0.0261 - accuracy: 0.9907 - val_loss: 1.4673 - val_accuracy: 0.8916\n",
            "Epoch 30/40\n",
            "1719/1719 [==============================] - 7s 4ms/step - loss: 0.0325 - accuracy: 0.9891 - val_loss: 1.3082 - val_accuracy: 0.8908\n",
            "Epoch 31/40\n",
            "1719/1719 [==============================] - 6s 4ms/step - loss: 0.0249 - accuracy: 0.9911 - val_loss: 1.3939 - val_accuracy: 0.8896\n",
            "Epoch 32/40\n",
            "1719/1719 [==============================] - 6s 4ms/step - loss: 0.0294 - accuracy: 0.9892 - val_loss: 1.4560 - val_accuracy: 0.8924\n",
            "Epoch 33/40\n",
            "1719/1719 [==============================] - 7s 4ms/step - loss: 0.0266 - accuracy: 0.9903 - val_loss: 1.3757 - val_accuracy: 0.8906\n",
            "Epoch 34/40\n",
            "1719/1719 [==============================] - 6s 4ms/step - loss: 0.0284 - accuracy: 0.9900 - val_loss: 1.4056 - val_accuracy: 0.8876\n",
            "Epoch 35/40\n",
            "1719/1719 [==============================] - 7s 4ms/step - loss: 0.0252 - accuracy: 0.9906 - val_loss: 1.4310 - val_accuracy: 0.8894\n",
            "Epoch 36/40\n",
            "1719/1719 [==============================] - 6s 4ms/step - loss: 0.0256 - accuracy: 0.9908 - val_loss: 1.4753 - val_accuracy: 0.8916\n",
            "Epoch 37/40\n",
            "1719/1719 [==============================] - 6s 4ms/step - loss: 0.0324 - accuracy: 0.9890 - val_loss: 1.4314 - val_accuracy: 0.8934\n",
            "Epoch 38/40\n",
            "1719/1719 [==============================] - 7s 4ms/step - loss: 0.0257 - accuracy: 0.9909 - val_loss: 1.3632 - val_accuracy: 0.8898\n",
            "Epoch 39/40\n",
            "1719/1719 [==============================] - 6s 4ms/step - loss: 0.0245 - accuracy: 0.9912 - val_loss: 1.4832 - val_accuracy: 0.8904\n",
            "Epoch 40/40\n",
            "1719/1719 [==============================] - 6s 4ms/step - loss: 0.0268 - accuracy: 0.9909 - val_loss: 1.4291 - val_accuracy: 0.8950\n"
          ],
          "name": "stdout"
        }
      ]
    },
    {
      "cell_type": "code",
      "metadata": {
        "colab": {
          "base_uri": "https://localhost:8080/"
        },
        "id": "6AUDEfoHTVp2",
        "outputId": "8f27a435-055a-4930-c5ee-ae47d8c8bf45"
      },
      "source": [
        "model.evaluate(X_test, y_test)"
      ],
      "execution_count": 64,
      "outputs": [
        {
          "output_type": "stream",
          "text": [
            "313/313 [==============================] - 1s 2ms/step - loss: 1.3967 - accuracy: 0.8890\n"
          ],
          "name": "stdout"
        },
        {
          "output_type": "execute_result",
          "data": {
            "text/plain": [
              "[1.3967475891113281, 0.8889999985694885]"
            ]
          },
          "metadata": {
            "tags": []
          },
          "execution_count": 64
        }
      ]
    },
    {
      "cell_type": "code",
      "metadata": {
        "colab": {
          "base_uri": "https://localhost:8080/",
          "height": 634
        },
        "id": "ADIlPlShTVz5",
        "outputId": "25499997-9653-41d5-df2c-46836909a800"
      },
      "source": [
        "pd.DataFrame(history7.history).plot(figsize=(8, 5))\n",
        "pd.DataFrame(history8.history).plot(figsize=(8, 5))\n",
        "plt.grid(True)\n",
        "plt.gca().set_ylim(0, 1)\n",
        "plt.show()"
      ],
      "execution_count": 65,
      "outputs": [
        {
          "output_type": "display_data",
          "data": {
            "image/png": "[encoded data removed]",
            "text/plain": [
              "<Figure size 576x360 with 1 Axes>"
            ]
          },
          "metadata": {
            "tags": [],
            "needs_background": "light"
          }
        },
        {
          "output_type": "display_data",
          "data": {
            "image/png": "[encoded data removed]",
            "text/plain": [
              "<Figure size 576x360 with 1 Axes>"
            ]
          },
          "metadata": {
            "tags": [],
            "needs_background": "light"
          }
        }
      ]
    },
    {
      "cell_type": "markdown",
      "metadata": {
        "id": "zWr4mtkwUaZg"
      },
      "source": [
        "**4) repeat with more layers**"
      ]
    },
    {
      "cell_type": "code",
      "metadata": {
        "id": "y-0v3v1gTV_G"
      },
      "source": [
        "model = keras.models.Sequential()\n",
        "model.add(keras.layers.Flatten(input_shape=[28, 28]))\n",
        "model.add(keras.layers.Dense(200, activation=\"relu\"))\n",
        "model.add((keras.layers.Dropout(0.5)))\n",
        "model.add(keras.layers.Dense(150, activation=\"relu\"))\n",
        "model.add((keras.layers.Dropout(0.5)))\n",
        "model.add(keras.layers.Dense(80, activation=\"relu\"))\n",
        "model.add(keras.layers.Dense(50, activation=\"relu\"))\n",
        "model.add(keras.layers.BatchNormalization())\n",
        "model.add(keras.layers.Dense(10, activation=\"softmax\"))"
      ],
      "execution_count": 66,
      "outputs": []
    },
    {
      "cell_type": "code",
      "metadata": {
        "colab": {
          "base_uri": "https://localhost:8080/"
        },
        "id": "zl7U7NwrTWRK",
        "outputId": "f4c4bf89-1c54-49e3-d822-a442667972ce"
      },
      "source": [
        "model.layers"
      ],
      "execution_count": 67,
      "outputs": [
        {
          "output_type": "execute_result",
          "data": {
            "text/plain": [
              "[<tensorflow.python.keras.layers.core.Flatten at 0x7fbf5e2126d8>,\n",
              " <tensorflow.python.keras.layers.core.Dense at 0x7fbf5dcd1c88>,\n",
              " <tensorflow.python.keras.layers.core.Dropout at 0x7fbf5e62e2b0>,\n",
              " <tensorflow.python.keras.layers.core.Dense at 0x7fbf5e62ec88>,\n",
              " <tensorflow.python.keras.layers.core.Dropout at 0x7fbf5e09d780>,\n",
              " <tensorflow.python.keras.layers.core.Dense at 0x7fbf5dcb6278>,\n",
              " <tensorflow.python.keras.layers.core.Dense at 0x7fbf5e5cc908>,\n",
              " <tensorflow.python.keras.layers.normalization_v2.BatchNormalization at 0x7fbf5e6113c8>,\n",
              " <tensorflow.python.keras.layers.core.Dense at 0x7fbf5ea84be0>]"
            ]
          },
          "metadata": {
            "tags": []
          },
          "execution_count": 67
        }
      ]
    },
    {
      "cell_type": "code",
      "metadata": {
        "id": "Gwmz-k9gTWeh"
      },
      "source": [
        "model.compile(loss=\"sparse_categorical_crossentropy\",\n",
        "              optimizer=\"sgd\",\n",
        "              metrics=[\"accuracy\"])"
      ],
      "execution_count": 68,
      "outputs": []
    },
    {
      "cell_type": "code",
      "metadata": {
        "colab": {
          "base_uri": "https://localhost:8080/"
        },
        "id": "RL2G4Ll3TWOm",
        "outputId": "be70c6f8-3c5e-48b5-89d3-fd31fe6e2f95"
      },
      "source": [
        "history9 = model.fit(X_train, y_train, batch_size=32, epochs=30,\n",
        "                    validation_data=(X_valid, y_valid))"
      ],
      "execution_count": 69,
      "outputs": [
        {
          "output_type": "stream",
          "text": [
            "Epoch 1/30\n",
            "1719/1719 [==============================] - 5s 3ms/step - loss: 1.0679 - accuracy: 0.6136 - val_loss: 0.5860 - val_accuracy: 0.7858\n",
            "Epoch 2/30\n",
            "1719/1719 [==============================] - 5s 3ms/step - loss: 0.7133 - accuracy: 0.7434 - val_loss: 0.4914 - val_accuracy: 0.8242\n",
            "Epoch 3/30\n",
            "1719/1719 [==============================] - 5s 3ms/step - loss: 0.6231 - accuracy: 0.7795 - val_loss: 0.4438 - val_accuracy: 0.8434\n",
            "Epoch 4/30\n",
            "1719/1719 [==============================] - 5s 3ms/step - loss: 0.5778 - accuracy: 0.7935 - val_loss: 0.4175 - val_accuracy: 0.8496\n",
            "Epoch 5/30\n",
            "1719/1719 [==============================] - 5s 3ms/step - loss: 0.5443 - accuracy: 0.8070 - val_loss: 0.3993 - val_accuracy: 0.8570\n",
            "Epoch 6/30\n",
            "1719/1719 [==============================] - 5s 3ms/step - loss: 0.5176 - accuracy: 0.8168 - val_loss: 0.3895 - val_accuracy: 0.8598\n",
            "Epoch 7/30\n",
            "1719/1719 [==============================] - 5s 3ms/step - loss: 0.4968 - accuracy: 0.8237 - val_loss: 0.3842 - val_accuracy: 0.8566\n",
            "Epoch 8/30\n",
            "1719/1719 [==============================] - 5s 3ms/step - loss: 0.4887 - accuracy: 0.8298 - val_loss: 0.3743 - val_accuracy: 0.8636\n",
            "Epoch 9/30\n",
            "1719/1719 [==============================] - 5s 3ms/step - loss: 0.4745 - accuracy: 0.8324 - val_loss: 0.3674 - val_accuracy: 0.8650\n",
            "Epoch 10/30\n",
            "1719/1719 [==============================] - 5s 3ms/step - loss: 0.4606 - accuracy: 0.8379 - val_loss: 0.3603 - val_accuracy: 0.8704\n",
            "Epoch 11/30\n",
            "1719/1719 [==============================] - 5s 3ms/step - loss: 0.4525 - accuracy: 0.8397 - val_loss: 0.3614 - val_accuracy: 0.8698\n",
            "Epoch 12/30\n",
            "1719/1719 [==============================] - 5s 3ms/step - loss: 0.4436 - accuracy: 0.8425 - val_loss: 0.3497 - val_accuracy: 0.8742\n",
            "Epoch 13/30\n",
            "1719/1719 [==============================] - 6s 3ms/step - loss: 0.4381 - accuracy: 0.8465 - val_loss: 0.3425 - val_accuracy: 0.8770\n",
            "Epoch 14/30\n",
            "1719/1719 [==============================] - 5s 3ms/step - loss: 0.4232 - accuracy: 0.8501 - val_loss: 0.3430 - val_accuracy: 0.8748\n",
            "Epoch 15/30\n",
            "1719/1719 [==============================] - 5s 3ms/step - loss: 0.4201 - accuracy: 0.8520 - val_loss: 0.3453 - val_accuracy: 0.8716\n",
            "Epoch 16/30\n",
            "1719/1719 [==============================] - 5s 3ms/step - loss: 0.4151 - accuracy: 0.8516 - val_loss: 0.3315 - val_accuracy: 0.8794\n",
            "Epoch 17/30\n",
            "1719/1719 [==============================] - 5s 3ms/step - loss: 0.4091 - accuracy: 0.8550 - val_loss: 0.3359 - val_accuracy: 0.8802\n",
            "Epoch 18/30\n",
            "1719/1719 [==============================] - 5s 3ms/step - loss: 0.4050 - accuracy: 0.8570 - val_loss: 0.3319 - val_accuracy: 0.8794\n",
            "Epoch 19/30\n",
            "1719/1719 [==============================] - 5s 3ms/step - loss: 0.4011 - accuracy: 0.8579 - val_loss: 0.3263 - val_accuracy: 0.8832\n",
            "Epoch 20/30\n",
            "1719/1719 [==============================] - 5s 3ms/step - loss: 0.4006 - accuracy: 0.8577 - val_loss: 0.3286 - val_accuracy: 0.8792\n",
            "Epoch 21/30\n",
            "1719/1719 [==============================] - 5s 3ms/step - loss: 0.3926 - accuracy: 0.8600 - val_loss: 0.3244 - val_accuracy: 0.8812\n",
            "Epoch 22/30\n",
            "1719/1719 [==============================] - 5s 3ms/step - loss: 0.3866 - accuracy: 0.8607 - val_loss: 0.3245 - val_accuracy: 0.8832\n",
            "Epoch 23/30\n",
            "1719/1719 [==============================] - 5s 3ms/step - loss: 0.3903 - accuracy: 0.8602 - val_loss: 0.3206 - val_accuracy: 0.8822\n",
            "Epoch 24/30\n",
            "1719/1719 [==============================] - 5s 3ms/step - loss: 0.3843 - accuracy: 0.8629 - val_loss: 0.3239 - val_accuracy: 0.8820\n",
            "Epoch 25/30\n",
            "1719/1719 [==============================] - 5s 3ms/step - loss: 0.3819 - accuracy: 0.8642 - val_loss: 0.3239 - val_accuracy: 0.8824\n",
            "Epoch 26/30\n",
            "1719/1719 [==============================] - 5s 3ms/step - loss: 0.3780 - accuracy: 0.8647 - val_loss: 0.3234 - val_accuracy: 0.8832\n",
            "Epoch 27/30\n",
            "1719/1719 [==============================] - 5s 3ms/step - loss: 0.3759 - accuracy: 0.8650 - val_loss: 0.3184 - val_accuracy: 0.8848\n",
            "Epoch 28/30\n",
            "1719/1719 [==============================] - 5s 3ms/step - loss: 0.3697 - accuracy: 0.8679 - val_loss: 0.3165 - val_accuracy: 0.8858\n",
            "Epoch 29/30\n",
            "1719/1719 [==============================] - 5s 3ms/step - loss: 0.3669 - accuracy: 0.8680 - val_loss: 0.3225 - val_accuracy: 0.8840\n",
            "Epoch 30/30\n",
            "1719/1719 [==============================] - 5s 3ms/step - loss: 0.3654 - accuracy: 0.8693 - val_loss: 0.3201 - val_accuracy: 0.8836\n"
          ],
          "name": "stdout"
        }
      ]
    },
    {
      "cell_type": "code",
      "metadata": {
        "colab": {
          "base_uri": "https://localhost:8080/"
        },
        "id": "NpCjzrcrTWMZ",
        "outputId": "83960ad4-3542-48ff-cdcb-a6af0b79bb91"
      },
      "source": [
        "model.evaluate(X_test, y_test)"
      ],
      "execution_count": 70,
      "outputs": [
        {
          "output_type": "stream",
          "text": [
            "313/313 [==============================] - 0s 1ms/step - loss: 0.3590 - accuracy: 0.8710\n"
          ],
          "name": "stdout"
        },
        {
          "output_type": "execute_result",
          "data": {
            "text/plain": [
              "[0.3590085506439209, 0.8709999918937683]"
            ]
          },
          "metadata": {
            "tags": []
          },
          "execution_count": 70
        }
      ]
    },
    {
      "cell_type": "code",
      "metadata": {
        "colab": {
          "base_uri": "https://localhost:8080/",
          "height": 328
        },
        "id": "nkFFiGKDTWI_",
        "outputId": "a8adf774-3b69-4e28-fe3e-5ad1bb9ded79"
      },
      "source": [
        "pd.DataFrame(history9.history).plot(figsize=(8, 5))\n",
        "plt.grid(True)\n",
        "plt.gca().set_ylim(0, 1)\n",
        "plt.show()"
      ],
      "execution_count": 71,
      "outputs": [
        {
          "output_type": "display_data",
          "data": {
            "image/png": "[encoded data removed]",
            "text/plain": [
              "<Figure size 576x360 with 1 Axes>"
            ]
          },
          "metadata": {
            "tags": [],
            "needs_background": "light"
          }
        }
      ]
    },
    {
      "cell_type": "markdown",
      "metadata": {
        "id": "BdnAEZWAYlC-"
      },
      "source": [
        "**5) apply on different datasets**"
      ]
    },
    {
      "cell_type": "code",
      "metadata": {
        "id": "R6MlAFmuTWG-",
        "colab": {
          "base_uri": "https://localhost:8080/"
        },
        "outputId": "d82f693c-674b-41cd-fb0a-18d7d56d7ba4"
      },
      "source": [
        "data = keras.datasets.mnist\n",
        "(X_train_full, y_train_full), (X_test, y_test) = data.load_data()"
      ],
      "execution_count": 72,
      "outputs": [
        {
          "output_type": "stream",
          "text": [
            "Downloading data from https://storage.googleapis.com/tensorflow/tf-keras-datasets/mnist.npz\n",
            "11493376/11490434 [==============================] - 0s 0us/step\n"
          ],
          "name": "stdout"
        }
      ]
    },
    {
      "cell_type": "code",
      "metadata": {
        "colab": {
          "base_uri": "https://localhost:8080/"
        },
        "id": "3mMMDEBFdwfu",
        "outputId": "85aaddb1-d0e7-4e82-e240-f6847adc8db5"
      },
      "source": [
        "X_train_full.shape"
      ],
      "execution_count": 73,
      "outputs": [
        {
          "output_type": "execute_result",
          "data": {
            "text/plain": [
              "(60000, 28, 28)"
            ]
          },
          "metadata": {
            "tags": []
          },
          "execution_count": 73
        }
      ]
    },
    {
      "cell_type": "code",
      "metadata": {
        "id": "I5NF8QHqdwcj",
        "colab": {
          "base_uri": "https://localhost:8080/"
        },
        "outputId": "d317ddbf-01ff-46a9-ee00-f15ac2d21182"
      },
      "source": [
        "y_train_full"
      ],
      "execution_count": 74,
      "outputs": [
        {
          "output_type": "execute_result",
          "data": {
            "text/plain": [
              "array([5, 0, 4, ..., 5, 6, 8], dtype=uint8)"
            ]
          },
          "metadata": {
            "tags": []
          },
          "execution_count": 74
        }
      ]
    },
    {
      "cell_type": "code",
      "metadata": {
        "id": "46r8vpBGdwZx"
      },
      "source": [
        "X_valid, X_train = X_train_full[:10000] / 255., X_train_full[10000:] / 255.\n",
        "y_valid, y_train = y_train_full[:10000], y_train_full[10000:]\n",
        "X_test = X_test / 255."
      ],
      "execution_count": 75,
      "outputs": []
    },
    {
      "cell_type": "code",
      "metadata": {
        "id": "GONxQyBpdwW7"
      },
      "source": [
        "class_names = [\"0\", \"1\", \"2\", \"3\", \"4\",\"5\", \"6\", \"7\", \"8\", \"9\"]"
      ],
      "execution_count": 76,
      "outputs": []
    },
    {
      "cell_type": "code",
      "metadata": {
        "colab": {
          "base_uri": "https://localhost:8080/",
          "height": 35
        },
        "id": "fRuyFeQgYKuL",
        "outputId": "8008d7f5-0871-4dd4-e3a7-0e2c9bbaff1a"
      },
      "source": [
        "class_names[y_train[0]]"
      ],
      "execution_count": 77,
      "outputs": [
        {
          "output_type": "execute_result",
          "data": {
            "application/vnd.google.colaboratory.intrinsic+json": {
              "type": "string"
            },
            "text/plain": [
              "'3'"
            ]
          },
          "metadata": {
            "tags": []
          },
          "execution_count": 77
        }
      ]
    },
    {
      "cell_type": "code",
      "metadata": {
        "colab": {
          "base_uri": "https://localhost:8080/",
          "height": 308
        },
        "id": "Yf6yEZ9jYLAt",
        "outputId": "384c42dd-7ef6-4b97-c404-b4cab6091fa0"
      },
      "source": [
        "n_rows = 4\n",
        "n_cols = 10\n",
        "plt.figure(figsize=(n_cols * 1.2, n_rows * 1.2))\n",
        "for row in range(n_rows):\n",
        "    for col in range(n_cols):\n",
        "        index = n_cols * row + col\n",
        "        plt.subplot(n_rows, n_cols, index + 1)\n",
        "        plt.imshow(X_train[index], cmap=\"binary\", interpolation=\"nearest\")\n",
        "        plt.axis('off')\n",
        "        plt.title(class_names[y_train[index]], fontsize=12)\n",
        "plt.subplots_adjust(wspace=0.1, hspace=0.5)\n",
        "plt.show()"
      ],
      "execution_count": 78,
      "outputs": [
        {
          "output_type": "display_data",
          "data": {
            "image/png": "[encoded data removed]",
            "text/plain": [
              "<Figure size 864x345.6 with 40 Axes>"
            ]
          },
          "metadata": {
            "tags": [],
            "needs_background": "light"
          }
        }
      ]
    },
    {
      "cell_type": "code",
      "metadata": {
        "id": "cI-CIq6kYK-6"
      },
      "source": [
        "model = keras.models.Sequential()\n",
        "model.add(keras.layers.Flatten(input_shape=[28, 28]))\n",
        "model.add(keras.layers.Dense(300, activation=\"relu\"))\n",
        "model.add((keras.layers.Dropout(0.5)))\n",
        "model.add(keras.layers.Dense(200, activation=\"relu\"))\n",
        "model.add(keras.layers.Dense(10, activation=\"softmax\"))\n",
        "model.add(keras.layers.BatchNormalization())\n",
        "model.add(keras.layers.Dense(10, activation=\"softmax\"))"
      ],
      "execution_count": 94,
      "outputs": []
    },
    {
      "cell_type": "code",
      "metadata": {
        "id": "I7LVYK5TYK9P"
      },
      "source": [
        "keras.backend.clear_session()\n",
        "np.random.seed(42)"
      ],
      "execution_count": 95,
      "outputs": []
    },
    {
      "cell_type": "code",
      "metadata": {
        "colab": {
          "base_uri": "https://localhost:8080/"
        },
        "id": "vOycRkK4YKrc",
        "outputId": "9bfdfc0a-cd65-43cc-e3df-9eadd2efcea5"
      },
      "source": [
        "model.layers"
      ],
      "execution_count": 96,
      "outputs": [
        {
          "output_type": "execute_result",
          "data": {
            "text/plain": [
              "[<tensorflow.python.keras.layers.core.Flatten at 0x7fbf496917f0>,\n",
              " <tensorflow.python.keras.layers.core.Dense at 0x7fbf4965c400>,\n",
              " <tensorflow.python.keras.layers.core.Dropout at 0x7fbf4965c4a8>,\n",
              " <tensorflow.python.keras.layers.core.Dense at 0x7fbf4965c630>,\n",
              " <tensorflow.python.keras.layers.core.Dense at 0x7fbf495ee710>,\n",
              " <tensorflow.python.keras.layers.normalization_v2.BatchNormalization at 0x7fbf4965c208>,\n",
              " <tensorflow.python.keras.layers.core.Dense at 0x7fbf495eebe0>]"
            ]
          },
          "metadata": {
            "tags": []
          },
          "execution_count": 96
        }
      ]
    },
    {
      "cell_type": "code",
      "metadata": {
        "colab": {
          "base_uri": "https://localhost:8080/"
        },
        "id": "w2rr4t4eYKpw",
        "outputId": "c8edd9bc-075c-40fe-a773-a75f7a6c66d5"
      },
      "source": [
        "model.summary()"
      ],
      "execution_count": 97,
      "outputs": [
        {
          "output_type": "stream",
          "text": [
            "Model: \"sequential_1\"\n",
            "_________________________________________________________________\n",
            "Layer (type)                 Output Shape              Param #   \n",
            "=================================================================\n",
            "flatten_1 (Flatten)          (None, 784)               0         \n",
            "_________________________________________________________________\n",
            "dense_4 (Dense)              (None, 300)               235500    \n",
            "_________________________________________________________________\n",
            "dropout_1 (Dropout)          (None, 300)               0         \n",
            "_________________________________________________________________\n",
            "dense_5 (Dense)              (None, 200)               60200     \n",
            "_________________________________________________________________\n",
            "dense_6 (Dense)              (None, 10)                2010      \n",
            "_________________________________________________________________\n",
            "batch_normalization_1 (Batch (None, 10)                40        \n",
            "_________________________________________________________________\n",
            "dense_7 (Dense)              (None, 10)                110       \n",
            "=================================================================\n",
            "Total params: 297,860\n",
            "Trainable params: 297,840\n",
            "Non-trainable params: 20\n",
            "_________________________________________________________________\n"
          ],
          "name": "stdout"
        }
      ]
    },
    {
      "cell_type": "code",
      "metadata": {
        "colab": {
          "base_uri": "https://localhost:8080/",
          "height": 35
        },
        "id": "5JzC6DwoYKoA",
        "outputId": "ed675ea2-2d96-418f-e2da-5c59fe93a877"
      },
      "source": [
        "hidden1 = model.layers[3]\n",
        "hidden1.name"
      ],
      "execution_count": 98,
      "outputs": [
        {
          "output_type": "execute_result",
          "data": {
            "application/vnd.google.colaboratory.intrinsic+json": {
              "type": "string"
            },
            "text/plain": [
              "'dense_5'"
            ]
          },
          "metadata": {
            "tags": []
          },
          "execution_count": 98
        }
      ]
    },
    {
      "cell_type": "code",
      "metadata": {
        "colab": {
          "base_uri": "https://localhost:8080/"
        },
        "id": "ZADyjQjUYKla",
        "outputId": "760fa34c-4f1f-4213-cae5-35510cf3d381"
      },
      "source": [
        "model.get_layer(hidden1.name) is hidden1"
      ],
      "execution_count": 99,
      "outputs": [
        {
          "output_type": "execute_result",
          "data": {
            "text/plain": [
              "True"
            ]
          },
          "metadata": {
            "tags": []
          },
          "execution_count": 99
        }
      ]
    },
    {
      "cell_type": "code",
      "metadata": {
        "id": "KhjtY2HVYKdw"
      },
      "source": [
        "weights, biases = hidden1.get_weights()"
      ],
      "execution_count": 100,
      "outputs": []
    },
    {
      "cell_type": "code",
      "metadata": {
        "colab": {
          "base_uri": "https://localhost:8080/"
        },
        "id": "KnXafubhZch4",
        "outputId": "e14eecc3-30b7-4f59-a4f7-26b904bc0e4e"
      },
      "source": [
        "weights"
      ],
      "execution_count": 101,
      "outputs": [
        {
          "output_type": "execute_result",
          "data": {
            "text/plain": [
              "array([[ 0.10231089,  0.06139796, -0.10185234, ...,  0.07739944,\n",
              "         0.05233685, -0.05785236],\n",
              "       [ 0.09991994,  0.10378391, -0.06464954, ..., -0.05912201,\n",
              "         0.00328071, -0.0132878 ],\n",
              "       [ 0.10696165, -0.0737284 ,  0.01685985, ..., -0.09499359,\n",
              "         0.00573474,  0.03978144],\n",
              "       ...,\n",
              "       [ 0.0392028 , -0.10593101,  0.06924338, ...,  0.09852812,\n",
              "        -0.02715532, -0.06814128],\n",
              "       [ 0.08737681,  0.09712801, -0.06666531, ..., -0.03122719,\n",
              "         0.06602997, -0.02251112],\n",
              "       [-0.05502006,  0.10878598,  0.0310818 , ...,  0.06439029,\n",
              "        -0.10800013,  0.0887647 ]], dtype=float32)"
            ]
          },
          "metadata": {
            "tags": []
          },
          "execution_count": 101
        }
      ]
    },
    {
      "cell_type": "code",
      "metadata": {
        "colab": {
          "base_uri": "https://localhost:8080/"
        },
        "id": "OA1rV5_8Zcoa",
        "outputId": "42a28932-a65e-4252-eab2-8f02b826b292"
      },
      "source": [
        "weights.shape"
      ],
      "execution_count": 102,
      "outputs": [
        {
          "output_type": "execute_result",
          "data": {
            "text/plain": [
              "(300, 200)"
            ]
          },
          "metadata": {
            "tags": []
          },
          "execution_count": 102
        }
      ]
    },
    {
      "cell_type": "code",
      "metadata": {
        "colab": {
          "base_uri": "https://localhost:8080/"
        },
        "id": "fwGj8IlHZcfk",
        "outputId": "d2ff60f0-866a-4147-98fa-ec6aaaeade94"
      },
      "source": [
        "biases"
      ],
      "execution_count": 103,
      "outputs": [
        {
          "output_type": "execute_result",
          "data": {
            "text/plain": [
              "array([0., 0., 0., 0., 0., 0., 0., 0., 0., 0., 0., 0., 0., 0., 0., 0., 0.,\n",
              "       0., 0., 0., 0., 0., 0., 0., 0., 0., 0., 0., 0., 0., 0., 0., 0., 0.,\n",
              "       0., 0., 0., 0., 0., 0., 0., 0., 0., 0., 0., 0., 0., 0., 0., 0., 0.,\n",
              "       0., 0., 0., 0., 0., 0., 0., 0., 0., 0., 0., 0., 0., 0., 0., 0., 0.,\n",
              "       0., 0., 0., 0., 0., 0., 0., 0., 0., 0., 0., 0., 0., 0., 0., 0., 0.,\n",
              "       0., 0., 0., 0., 0., 0., 0., 0., 0., 0., 0., 0., 0., 0., 0., 0., 0.,\n",
              "       0., 0., 0., 0., 0., 0., 0., 0., 0., 0., 0., 0., 0., 0., 0., 0., 0.,\n",
              "       0., 0., 0., 0., 0., 0., 0., 0., 0., 0., 0., 0., 0., 0., 0., 0., 0.,\n",
              "       0., 0., 0., 0., 0., 0., 0., 0., 0., 0., 0., 0., 0., 0., 0., 0., 0.,\n",
              "       0., 0., 0., 0., 0., 0., 0., 0., 0., 0., 0., 0., 0., 0., 0., 0., 0.,\n",
              "       0., 0., 0., 0., 0., 0., 0., 0., 0., 0., 0., 0., 0., 0., 0., 0., 0.,\n",
              "       0., 0., 0., 0., 0., 0., 0., 0., 0., 0., 0., 0., 0.], dtype=float32)"
            ]
          },
          "metadata": {
            "tags": []
          },
          "execution_count": 103
        }
      ]
    },
    {
      "cell_type": "code",
      "metadata": {
        "colab": {
          "base_uri": "https://localhost:8080/"
        },
        "id": "_PJ5f3Y_Zcc7",
        "outputId": "68583111-b653-466f-934d-81a773aa906c"
      },
      "source": [
        "biases.shape"
      ],
      "execution_count": 104,
      "outputs": [
        {
          "output_type": "execute_result",
          "data": {
            "text/plain": [
              "(200,)"
            ]
          },
          "metadata": {
            "tags": []
          },
          "execution_count": 104
        }
      ]
    },
    {
      "cell_type": "code",
      "metadata": {
        "id": "0hwF7nX4Zkbu"
      },
      "source": [
        "model.compile(loss=\"sparse_categorical_crossentropy\",\n",
        "              optimizer=\"RMSprop\",\n",
        "              metrics=[\"accuracy\"])"
      ],
      "execution_count": 105,
      "outputs": []
    },
    {
      "cell_type": "code",
      "metadata": {
        "colab": {
          "base_uri": "https://localhost:8080/"
        },
        "id": "m1RkAwN4ZkaB",
        "outputId": "fc5875e6-f636-45a6-d75d-8a158cf1a358"
      },
      "source": [
        "history10 = model.fit(X_train, y_train, batch_size=32, epochs=30,\n",
        "                    validation_data=(X_valid, y_valid))"
      ],
      "execution_count": 106,
      "outputs": [
        {
          "output_type": "stream",
          "text": [
            "Epoch 1/30\n",
            "1563/1563 [==============================] - 9s 5ms/step - loss: 0.4260 - accuracy: 0.8899 - val_loss: 0.1582 - val_accuracy: 0.9580\n",
            "Epoch 2/30\n",
            "1563/1563 [==============================] - 8s 5ms/step - loss: 0.2162 - accuracy: 0.9407 - val_loss: 0.1310 - val_accuracy: 0.9645\n",
            "Epoch 3/30\n",
            "1563/1563 [==============================] - 9s 5ms/step - loss: 0.1811 - accuracy: 0.9509 - val_loss: 0.1293 - val_accuracy: 0.9655\n",
            "Epoch 4/30\n",
            "1563/1563 [==============================] - 9s 6ms/step - loss: 0.1637 - accuracy: 0.9564 - val_loss: 0.1097 - val_accuracy: 0.9704\n",
            "Epoch 5/30\n",
            "1563/1563 [==============================] - 8s 5ms/step - loss: 0.1487 - accuracy: 0.9596 - val_loss: 0.1032 - val_accuracy: 0.9724\n",
            "Epoch 6/30\n",
            "1563/1563 [==============================] - 8s 5ms/step - loss: 0.1420 - accuracy: 0.9613 - val_loss: 0.0981 - val_accuracy: 0.9745\n",
            "Epoch 7/30\n",
            "1563/1563 [==============================] - 9s 6ms/step - loss: 0.1320 - accuracy: 0.9649 - val_loss: 0.1049 - val_accuracy: 0.9731\n",
            "Epoch 8/30\n",
            "1563/1563 [==============================] - 9s 5ms/step - loss: 0.1288 - accuracy: 0.9655 - val_loss: 0.0998 - val_accuracy: 0.9752\n",
            "Epoch 9/30\n",
            "1563/1563 [==============================] - 8s 5ms/step - loss: 0.1223 - accuracy: 0.9679 - val_loss: 0.0991 - val_accuracy: 0.9741\n",
            "Epoch 10/30\n",
            "1563/1563 [==============================] - 8s 5ms/step - loss: 0.1173 - accuracy: 0.9686 - val_loss: 0.0937 - val_accuracy: 0.9753\n",
            "Epoch 11/30\n",
            "1563/1563 [==============================] - 8s 5ms/step - loss: 0.1111 - accuracy: 0.9704 - val_loss: 0.0968 - val_accuracy: 0.9766\n",
            "Epoch 12/30\n",
            "1563/1563 [==============================] - 8s 5ms/step - loss: 0.1169 - accuracy: 0.9693 - val_loss: 0.0852 - val_accuracy: 0.9787\n",
            "Epoch 13/30\n",
            "1563/1563 [==============================] - 8s 5ms/step - loss: 0.1121 - accuracy: 0.9707 - val_loss: 0.0945 - val_accuracy: 0.9781\n",
            "Epoch 14/30\n",
            "1563/1563 [==============================] - 9s 5ms/step - loss: 0.1091 - accuracy: 0.9708 - val_loss: 0.0943 - val_accuracy: 0.9770\n",
            "Epoch 15/30\n",
            "1563/1563 [==============================] - 9s 6ms/step - loss: 0.1065 - accuracy: 0.9722 - val_loss: 0.0926 - val_accuracy: 0.9776\n",
            "Epoch 16/30\n",
            "1563/1563 [==============================] - 8s 5ms/step - loss: 0.1073 - accuracy: 0.9720 - val_loss: 0.0967 - val_accuracy: 0.9767\n",
            "Epoch 17/30\n",
            "1563/1563 [==============================] - 9s 5ms/step - loss: 0.1073 - accuracy: 0.9722 - val_loss: 0.0890 - val_accuracy: 0.9782\n",
            "Epoch 18/30\n",
            "1563/1563 [==============================] - 8s 5ms/step - loss: 0.1026 - accuracy: 0.9730 - val_loss: 0.0914 - val_accuracy: 0.9781\n",
            "Epoch 19/30\n",
            "1563/1563 [==============================] - 9s 6ms/step - loss: 0.1001 - accuracy: 0.9744 - val_loss: 0.0926 - val_accuracy: 0.9770\n",
            "Epoch 20/30\n",
            "1563/1563 [==============================] - 9s 6ms/step - loss: 0.1005 - accuracy: 0.9737 - val_loss: 0.0908 - val_accuracy: 0.9781\n",
            "Epoch 21/30\n",
            "1563/1563 [==============================] - 10s 6ms/step - loss: 0.1010 - accuracy: 0.9731 - val_loss: 0.0916 - val_accuracy: 0.9784\n",
            "Epoch 22/30\n",
            "1563/1563 [==============================] - 9s 6ms/step - loss: 0.1004 - accuracy: 0.9740 - val_loss: 0.0895 - val_accuracy: 0.9786\n",
            "Epoch 23/30\n",
            "1563/1563 [==============================] - 8s 5ms/step - loss: 0.0958 - accuracy: 0.9751 - val_loss: 0.0934 - val_accuracy: 0.9773\n",
            "Epoch 24/30\n",
            "1563/1563 [==============================] - 8s 5ms/step - loss: 0.0985 - accuracy: 0.9753 - val_loss: 0.0898 - val_accuracy: 0.9794\n",
            "Epoch 25/30\n",
            "1563/1563 [==============================] - 8s 5ms/step - loss: 0.0959 - accuracy: 0.9749 - val_loss: 0.0897 - val_accuracy: 0.9788\n",
            "Epoch 26/30\n",
            "1563/1563 [==============================] - 8s 5ms/step - loss: 0.0961 - accuracy: 0.9756 - val_loss: 0.0905 - val_accuracy: 0.9780\n",
            "Epoch 27/30\n",
            "1563/1563 [==============================] - 8s 5ms/step - loss: 0.0967 - accuracy: 0.9753 - val_loss: 0.0855 - val_accuracy: 0.9785\n",
            "Epoch 28/30\n",
            "1563/1563 [==============================] - 9s 5ms/step - loss: 0.0950 - accuracy: 0.9753 - val_loss: 0.0836 - val_accuracy: 0.9791\n",
            "Epoch 29/30\n",
            "1563/1563 [==============================] - 9s 5ms/step - loss: 0.0971 - accuracy: 0.9749 - val_loss: 0.0859 - val_accuracy: 0.9799\n",
            "Epoch 30/30\n",
            "1563/1563 [==============================] - 8s 5ms/step - loss: 0.0939 - accuracy: 0.9761 - val_loss: 0.0908 - val_accuracy: 0.9785\n"
          ],
          "name": "stdout"
        }
      ]
    },
    {
      "cell_type": "code",
      "metadata": {
        "colab": {
          "base_uri": "https://localhost:8080/"
        },
        "id": "yad9q5_4ZkYk",
        "outputId": "b0feddbf-9ba8-4cb5-e929-909714bac13d"
      },
      "source": [
        "model.evaluate(X_test, y_test)"
      ],
      "execution_count": 107,
      "outputs": [
        {
          "output_type": "stream",
          "text": [
            "313/313 [==============================] - 1s 2ms/step - loss: 0.0795 - accuracy: 0.9804\n"
          ],
          "name": "stdout"
        },
        {
          "output_type": "execute_result",
          "data": {
            "text/plain": [
              "[0.07946762442588806, 0.980400025844574]"
            ]
          },
          "metadata": {
            "tags": []
          },
          "execution_count": 107
        }
      ]
    },
    {
      "cell_type": "code",
      "metadata": {
        "colab": {
          "base_uri": "https://localhost:8080/",
          "height": 328
        },
        "id": "on8Jnj-gZkOj",
        "outputId": "ca8210a4-affe-4643-9035-e58c307b00aa"
      },
      "source": [
        "pd.DataFrame(history10.history).plot(figsize=(8, 5))\n",
        "plt.grid(True)\n",
        "plt.gca().set_ylim(0, 1)\n",
        "plt.show()\n"
      ],
      "execution_count": 108,
      "outputs": [
        {
          "output_type": "display_data",
          "data": {
            "image/png": "[encoded data removed]",
            "text/plain": [
              "<Figure size 576x360 with 1 Axes>"
            ]
          },
          "metadata": {
            "tags": [],
            "needs_background": "light"
          }
        }
      ]
    }
  ]
}