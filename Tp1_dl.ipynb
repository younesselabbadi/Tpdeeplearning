{
  "nbformat": 4,
  "nbformat_minor": 0,
  "metadata": {
    "colab": {
      "name": "tp1.ipynb",
      "provenance": [],
      "collapsed_sections": []
    },
    "kernelspec": {
      "name": "python3",
      "display_name": "Python 3"
    },
    "accelerator": "GPU"
  },
  "cells": [
    {
      "cell_type": "code",
      "metadata": {
        "id": "m5NrOlYuuxd8"
      },
      "source": [
        "import numpy as np\n",
        "import os"
      ],
      "execution_count": 1,
      "outputs": []
    },
    {
      "cell_type": "code",
      "metadata": {
        "id": "jv_74vwvu_Dx"
      },
      "source": [
        "%matplotlib inline\n",
        "import matplotlib as mpl\n",
        "import matplotlib.pyplot as plt\n",
        "mpl.rc('axes', labelsize=14)\n",
        "mpl.rc('xtick', labelsize=12)\n",
        "mpl.rc('ytick', labelsize=12)"
      ],
      "execution_count": 2,
      "outputs": []
    },
    {
      "cell_type": "code",
      "metadata": {
        "id": "MlITImE0vDNV"
      },
      "source": [
        "import warnings\n",
        "warnings.filterwarnings(action=\"ignore\", message=\"^internal gelsd\")"
      ],
      "execution_count": 3,
      "outputs": []
    },
    {
      "cell_type": "code",
      "metadata": {
        "id": "sRXGagW6vDsC"
      },
      "source": [
        "import tensorflow as tf\n",
        "from tensorflow import keras"
      ],
      "execution_count": 4,
      "outputs": []
    },
    {
      "cell_type": "code",
      "metadata": {
        "colab": {
          "base_uri": "https://localhost:8080/",
          "height": 35
        },
        "id": "3Q6bo0revJwK",
        "outputId": "e9fc42d8-d8c5-4ec2-864b-38f2570f3bf0"
      },
      "source": [
        "tf.__version__"
      ],
      "execution_count": 5,
      "outputs": [
        {
          "output_type": "execute_result",
          "data": {
            "application/vnd.google.colaboratory.intrinsic+json": {
              "type": "string"
            },
            "text/plain": [
              "'2.3.0'"
            ]
          },
          "metadata": {
            "tags": []
          },
          "execution_count": 5
        }
      ]
    },
    {
      "cell_type": "code",
      "metadata": {
        "colab": {
          "base_uri": "https://localhost:8080/"
        },
        "id": "TmaEyTqB-g4e",
        "outputId": "26f38f95-9e3c-45fe-9faa-0a91b3dc84cf"
      },
      "source": [
        "fashion_mnist = keras.datasets.fashion_mnist\n",
        "(X_train_full, y_train_full), (X_test, y_test) = fashion_mnist.load_data()"
      ],
      "execution_count": 6,
      "outputs": [
        {
          "output_type": "stream",
          "text": [
            "Downloading data from https://storage.googleapis.com/tensorflow/tf-keras-datasets/train-labels-idx1-ubyte.gz\n",
            "32768/29515 [=================================] - 0s 0us/step\n",
            "Downloading data from https://storage.googleapis.com/tensorflow/tf-keras-datasets/train-images-idx3-ubyte.gz\n",
            "26427392/26421880 [==============================] - 0s 0us/step\n",
            "Downloading data from https://storage.googleapis.com/tensorflow/tf-keras-datasets/t10k-labels-idx1-ubyte.gz\n",
            "8192/5148 [===============================================] - 0s 0us/step\n",
            "Downloading data from https://storage.googleapis.com/tensorflow/tf-keras-datasets/t10k-images-idx3-ubyte.gz\n",
            "4423680/4422102 [==============================] - 0s 0us/step\n"
          ],
          "name": "stdout"
        }
      ]
    },
    {
      "cell_type": "code",
      "metadata": {
        "colab": {
          "base_uri": "https://localhost:8080/"
        },
        "id": "K5Sd2WtT-hDx",
        "outputId": "be1a3ac0-b738-4b80-94b7-aaadac7075fd"
      },
      "source": [
        "X_train_full.shape"
      ],
      "execution_count": 7,
      "outputs": [
        {
          "output_type": "execute_result",
          "data": {
            "text/plain": [
              "(60000, 28, 28)"
            ]
          },
          "metadata": {
            "tags": []
          },
          "execution_count": 7
        }
      ]
    },
    {
      "cell_type": "code",
      "metadata": {
        "colab": {
          "base_uri": "https://localhost:8080/"
        },
        "id": "3K9A_wT9-hGp",
        "outputId": "65755943-e2cc-4057-cf79-3e6d01d2c7a5"
      },
      "source": [
        "y_train_full.shape"
      ],
      "execution_count": 8,
      "outputs": [
        {
          "output_type": "execute_result",
          "data": {
            "text/plain": [
              "(60000,)"
            ]
          },
          "metadata": {
            "tags": []
          },
          "execution_count": 8
        }
      ]
    },
    {
      "cell_type": "code",
      "metadata": {
        "colab": {
          "base_uri": "https://localhost:8080/"
        },
        "id": "DJdsGZt8-hQx",
        "outputId": "93161791-e9b0-4221-b58e-4b4599604ed3"
      },
      "source": [
        "X_train_full\n"
      ],
      "execution_count": 9,
      "outputs": [
        {
          "output_type": "execute_result",
          "data": {
            "text/plain": [
              "array([[[0, 0, 0, ..., 0, 0, 0],\n",
              "        [0, 0, 0, ..., 0, 0, 0],\n",
              "        [0, 0, 0, ..., 0, 0, 0],\n",
              "        ...,\n",
              "        [0, 0, 0, ..., 0, 0, 0],\n",
              "        [0, 0, 0, ..., 0, 0, 0],\n",
              "        [0, 0, 0, ..., 0, 0, 0]],\n",
              "\n",
              "       [[0, 0, 0, ..., 0, 0, 0],\n",
              "        [0, 0, 0, ..., 0, 0, 0],\n",
              "        [0, 0, 0, ..., 0, 0, 0],\n",
              "        ...,\n",
              "        [0, 0, 0, ..., 0, 0, 0],\n",
              "        [0, 0, 0, ..., 0, 0, 0],\n",
              "        [0, 0, 0, ..., 0, 0, 0]],\n",
              "\n",
              "       [[0, 0, 0, ..., 0, 0, 0],\n",
              "        [0, 0, 0, ..., 0, 0, 0],\n",
              "        [0, 0, 0, ..., 0, 0, 0],\n",
              "        ...,\n",
              "        [0, 0, 0, ..., 0, 0, 0],\n",
              "        [0, 0, 0, ..., 0, 0, 0],\n",
              "        [0, 0, 0, ..., 0, 0, 0]],\n",
              "\n",
              "       ...,\n",
              "\n",
              "       [[0, 0, 0, ..., 0, 0, 0],\n",
              "        [0, 0, 0, ..., 0, 0, 0],\n",
              "        [0, 0, 0, ..., 0, 0, 0],\n",
              "        ...,\n",
              "        [0, 0, 0, ..., 0, 0, 0],\n",
              "        [0, 0, 0, ..., 0, 0, 0],\n",
              "        [0, 0, 0, ..., 0, 0, 0]],\n",
              "\n",
              "       [[0, 0, 0, ..., 0, 0, 0],\n",
              "        [0, 0, 0, ..., 0, 0, 0],\n",
              "        [0, 0, 0, ..., 0, 0, 0],\n",
              "        ...,\n",
              "        [0, 0, 0, ..., 0, 0, 0],\n",
              "        [0, 0, 0, ..., 0, 0, 0],\n",
              "        [0, 0, 0, ..., 0, 0, 0]],\n",
              "\n",
              "       [[0, 0, 0, ..., 0, 0, 0],\n",
              "        [0, 0, 0, ..., 0, 0, 0],\n",
              "        [0, 0, 0, ..., 0, 0, 0],\n",
              "        ...,\n",
              "        [0, 0, 0, ..., 0, 0, 0],\n",
              "        [0, 0, 0, ..., 0, 0, 0],\n",
              "        [0, 0, 0, ..., 0, 0, 0]]], dtype=uint8)"
            ]
          },
          "metadata": {
            "tags": []
          },
          "execution_count": 9
        }
      ]
    },
    {
      "cell_type": "code",
      "metadata": {
        "colab": {
          "base_uri": "https://localhost:8080/"
        },
        "id": "FAoJ191L-hOt",
        "outputId": "32eed179-acaf-4b6e-a754-7cba692cb340"
      },
      "source": [
        "y_train_full\n"
      ],
      "execution_count": 10,
      "outputs": [
        {
          "output_type": "execute_result",
          "data": {
            "text/plain": [
              "array([9, 0, 0, ..., 3, 0, 5], dtype=uint8)"
            ]
          },
          "metadata": {
            "tags": []
          },
          "execution_count": 10
        }
      ]
    },
    {
      "cell_type": "code",
      "metadata": {
        "id": "pE3TFQtN-hMg"
      },
      "source": [
        "X_valid, X_train = X_train_full[:5000] / 255., X_train_full[5000:] / 255.\n",
        "y_valid, y_train = y_train_full[:5000], y_train_full[5000:]\n",
        "X_test = X_test / 255."
      ],
      "execution_count": 11,
      "outputs": []
    },
    {
      "cell_type": "code",
      "metadata": {
        "colab": {
          "base_uri": "https://localhost:8080/"
        },
        "id": "4tNc9U2A-hKk",
        "outputId": "82b72733-254d-4de0-dd63-8c5258712032"
      },
      "source": [
        "X_valid.shape"
      ],
      "execution_count": 12,
      "outputs": [
        {
          "output_type": "execute_result",
          "data": {
            "text/plain": [
              "(5000, 28, 28)"
            ]
          },
          "metadata": {
            "tags": []
          },
          "execution_count": 12
        }
      ]
    },
    {
      "cell_type": "code",
      "metadata": {
        "colab": {
          "base_uri": "https://localhost:8080/"
        },
        "id": "mVwXUV5__6Wv",
        "outputId": "6b5a4e7c-3f1f-4dfe-c8be-8b93e23108f7"
      },
      "source": [
        "X_train.shape"
      ],
      "execution_count": 13,
      "outputs": [
        {
          "output_type": "execute_result",
          "data": {
            "text/plain": [
              "(55000, 28, 28)"
            ]
          },
          "metadata": {
            "tags": []
          },
          "execution_count": 13
        }
      ]
    },
    {
      "cell_type": "code",
      "metadata": {
        "colab": {
          "base_uri": "https://localhost:8080/"
        },
        "id": "KYxjMEJZ_6bt",
        "outputId": "a1e0bdb3-1eab-4d15-eb77-014ef027eb7e"
      },
      "source": [
        "X_test.shape"
      ],
      "execution_count": 14,
      "outputs": [
        {
          "output_type": "execute_result",
          "data": {
            "text/plain": [
              "(10000, 28, 28)"
            ]
          },
          "metadata": {
            "tags": []
          },
          "execution_count": 14
        }
      ]
    },
    {
      "cell_type": "code",
      "metadata": {
        "colab": {
          "base_uri": "https://localhost:8080/",
          "height": 248
        },
        "id": "pQNmQLYO_6gd",
        "outputId": "c26c4ed0-e7f1-4f96-fd26-b750b87f5cd5"
      },
      "source": [
        "plt.imshow(X_train[0], cmap=\"binary\")\n",
        "plt.axis('off')\n",
        "plt.show()"
      ],
      "execution_count": 15,
      "outputs": [
        {
          "output_type": "display_data",
          "data": {
            "image/png": "[encoded data removed]",
            "text/plain": [
              "<Figure size 432x288 with 1 Axes>"
            ]
          },
          "metadata": {
            "tags": [],
            "needs_background": "light"
          }
        }
      ]
    },
    {
      "cell_type": "code",
      "metadata": {
        "colab": {
          "base_uri": "https://localhost:8080/"
        },
        "id": "em4kvvMF_6qK",
        "outputId": "79e21b8e-6bb3-454b-f719-d4b187ec426e"
      },
      "source": [
        "y_train"
      ],
      "execution_count": 16,
      "outputs": [
        {
          "output_type": "execute_result",
          "data": {
            "text/plain": [
              "array([4, 0, 7, ..., 3, 0, 5], dtype=uint8)"
            ]
          },
          "metadata": {
            "tags": []
          },
          "execution_count": 16
        }
      ]
    },
    {
      "cell_type": "code",
      "metadata": {
        "id": "E2rIUkLy_6nt"
      },
      "source": [
        "class_names = [\"T-shirt/top\", \"Trouser\", \"Pullover\", \"Dress\", \"Coat\",\"Sandal\", \"Shirt\", \"Sneaker\", \"Bag\", \"Ankle boot\"]"
      ],
      "execution_count": 17,
      "outputs": []
    },
    {
      "cell_type": "code",
      "metadata": {
        "colab": {
          "base_uri": "https://localhost:8080/",
          "height": 35
        },
        "id": "StC74asq_6eo",
        "outputId": "a4df2d84-5c2b-496f-ca3a-7dfe65dec2ef"
      },
      "source": [
        "class_names[y_train[0]]"
      ],
      "execution_count": 18,
      "outputs": [
        {
          "output_type": "execute_result",
          "data": {
            "application/vnd.google.colaboratory.intrinsic+json": {
              "type": "string"
            },
            "text/plain": [
              "'Coat'"
            ]
          },
          "metadata": {
            "tags": []
          },
          "execution_count": 18
        }
      ]
    },
    {
      "cell_type": "code",
      "metadata": {
        "colab": {
          "base_uri": "https://localhost:8080/",
          "height": 308
        },
        "id": "oYKABbs__6aN",
        "outputId": "7a8b7014-400e-498e-a314-deb7902354fd"
      },
      "source": [
        "n_rows = 4\n",
        "n_cols = 10\n",
        "plt.figure(figsize=(n_cols * 1.2, n_rows * 1.2))\n",
        "for row in range(n_rows):\n",
        "    for col in range(n_cols):\n",
        "        index = n_cols * row + col\n",
        "        plt.subplot(n_rows, n_cols, index + 1)\n",
        "        plt.imshow(X_train[index], cmap=\"binary\", interpolation=\"nearest\")\n",
        "        plt.axis('off')\n",
        "        plt.title(class_names[y_train[index]], fontsize=12)\n",
        "plt.subplots_adjust(wspace=0.1, hspace=0.5)\n",
        "plt.show()"
      ],
      "execution_count": 19,
      "outputs": [
        {
          "output_type": "display_data",
          "data": {
            "image/png": "[encoded data removed]",
            "text/plain": [
              "<Figure size 864x345.6 with 40 Axes>"
            ]
          },
          "metadata": {
            "tags": [],
            "needs_background": "light"
          }
        }
      ]
    },
    {
      "cell_type": "markdown",
      "metadata": {
        "id": "4yLY5k7IA1iy"
      },
      "source": [
        "**Construct a Model**"
      ]
    },
    {
      "cell_type": "code",
      "metadata": {
        "id": "Jo7gOQJeAvTJ"
      },
      "source": [
        "model = keras.models.Sequential()\n",
        "model.add(keras.layers.Flatten(input_shape=[28, 28]))\n",
        "model.add(keras.layers.Dense(300, activation=\"relu\"))\n",
        "model.add(keras.layers.Dense(100, activation=\"relu\"))\n",
        "model.add(keras.layers.Dense(10, activation=\"softmax\"))"
      ],
      "execution_count": 20,
      "outputs": []
    },
    {
      "cell_type": "code",
      "metadata": {
        "id": "21CYNxKPAvW5"
      },
      "source": [
        "keras.backend.clear_session()\n",
        "np.random.seed(42)"
      ],
      "execution_count": 21,
      "outputs": []
    },
    {
      "cell_type": "code",
      "metadata": {
        "colab": {
          "base_uri": "https://localhost:8080/"
        },
        "id": "ZXZII2yTAvj0",
        "outputId": "d9e86559-07b7-41ad-dd8a-b83819a2f5a0"
      },
      "source": [
        "model.layers"
      ],
      "execution_count": 22,
      "outputs": [
        {
          "output_type": "execute_result",
          "data": {
            "text/plain": [
              "[<tensorflow.python.keras.layers.core.Flatten at 0x7f56e7fc1cf8>,\n",
              " <tensorflow.python.keras.layers.core.Dense at 0x7f56e7f79fd0>,\n",
              " <tensorflow.python.keras.layers.core.Dense at 0x7f56e673b588>,\n",
              " <tensorflow.python.keras.layers.core.Dense at 0x7f56e673b978>]"
            ]
          },
          "metadata": {
            "tags": []
          },
          "execution_count": 22
        }
      ]
    },
    {
      "cell_type": "code",
      "metadata": {
        "colab": {
          "base_uri": "https://localhost:8080/"
        },
        "id": "SRR9PDR5AvmT",
        "outputId": "e4ea4db6-df3c-4805-e190-f4653aea6a56"
      },
      "source": [
        "model.summary()"
      ],
      "execution_count": 23,
      "outputs": [
        {
          "output_type": "stream",
          "text": [
            "Model: \"sequential\"\n",
            "_________________________________________________________________\n",
            "Layer (type)                 Output Shape              Param #   \n",
            "=================================================================\n",
            "flatten (Flatten)            (None, 784)               0         \n",
            "_________________________________________________________________\n",
            "dense (Dense)                (None, 300)               235500    \n",
            "_________________________________________________________________\n",
            "dense_1 (Dense)              (None, 100)               30100     \n",
            "_________________________________________________________________\n",
            "dense_2 (Dense)              (None, 10)                1010      \n",
            "=================================================================\n",
            "Total params: 266,610\n",
            "Trainable params: 266,610\n",
            "Non-trainable params: 0\n",
            "_________________________________________________________________\n"
          ],
          "name": "stdout"
        }
      ]
    },
    {
      "cell_type": "code",
      "metadata": {
        "colab": {
          "base_uri": "https://localhost:8080/",
          "height": 35
        },
        "id": "aflc9wBhAvvO",
        "outputId": "cc3f4253-21e9-498f-9b79-5ce1ecf1c1cb"
      },
      "source": [
        "hidden1 = model.layers[1]\n",
        "hidden1.name"
      ],
      "execution_count": 24,
      "outputs": [
        {
          "output_type": "execute_result",
          "data": {
            "application/vnd.google.colaboratory.intrinsic+json": {
              "type": "string"
            },
            "text/plain": [
              "'dense'"
            ]
          },
          "metadata": {
            "tags": []
          },
          "execution_count": 24
        }
      ]
    },
    {
      "cell_type": "code",
      "metadata": {
        "colab": {
          "base_uri": "https://localhost:8080/"
        },
        "id": "jZIz9oOQAv28",
        "outputId": "3b5f0a69-965e-4067-ba3f-5cf5631e5107"
      },
      "source": [
        "model.get_layer(hidden1.name) is hidden1"
      ],
      "execution_count": 25,
      "outputs": [
        {
          "output_type": "execute_result",
          "data": {
            "text/plain": [
              "True"
            ]
          },
          "metadata": {
            "tags": []
          },
          "execution_count": 25
        }
      ]
    },
    {
      "cell_type": "code",
      "metadata": {
        "id": "e0AYk1LtAv9P"
      },
      "source": [
        "weights, biases = hidden1.get_weights()"
      ],
      "execution_count": 26,
      "outputs": []
    },
    {
      "cell_type": "code",
      "metadata": {
        "colab": {
          "base_uri": "https://localhost:8080/"
        },
        "id": "ObV8iOBKAwDF",
        "outputId": "c6d47b91-7c33-430f-b484-94dea5339a05"
      },
      "source": [
        "weights"
      ],
      "execution_count": 27,
      "outputs": [
        {
          "output_type": "execute_result",
          "data": {
            "text/plain": [
              "array([[-0.03989151, -0.07034602, -0.0624738 , ...,  0.00277865,\n",
              "        -0.02349601,  0.06317879],\n",
              "       [ 0.03864438,  0.05295096, -0.01386973, ..., -0.02017294,\n",
              "        -0.0554928 , -0.00779463],\n",
              "       [-0.05510885,  0.03859418, -0.06919317, ..., -0.05187059,\n",
              "        -0.03857433, -0.00657899],\n",
              "       ...,\n",
              "       [-0.06647836, -0.05877954, -0.03447378, ...,  0.05585462,\n",
              "         0.0271737 ,  0.0451759 ],\n",
              "       [-0.00793882, -0.07400177,  0.0645742 , ..., -0.07403336,\n",
              "        -0.02797004,  0.02422538],\n",
              "       [-0.06831285,  0.0541684 ,  0.04041316, ...,  0.04781067,\n",
              "         0.07433563, -0.00849374]], dtype=float32)"
            ]
          },
          "metadata": {
            "tags": []
          },
          "execution_count": 27
        }
      ]
    },
    {
      "cell_type": "code",
      "metadata": {
        "colab": {
          "base_uri": "https://localhost:8080/"
        },
        "id": "x2rkxA6QAwLC",
        "outputId": "22fca927-8675-4304-bc9b-fe0b65413507"
      },
      "source": [
        "weights.shape"
      ],
      "execution_count": 28,
      "outputs": [
        {
          "output_type": "execute_result",
          "data": {
            "text/plain": [
              "(784, 300)"
            ]
          },
          "metadata": {
            "tags": []
          },
          "execution_count": 28
        }
      ]
    },
    {
      "cell_type": "code",
      "metadata": {
        "colab": {
          "base_uri": "https://localhost:8080/"
        },
        "id": "zQWvg1urAwS9",
        "outputId": "0239548a-de01-486e-8af3-ea3a9b93fb1a"
      },
      "source": [
        "biases"
      ],
      "execution_count": 29,
      "outputs": [
        {
          "output_type": "execute_result",
          "data": {
            "text/plain": [
              "array([0., 0., 0., 0., 0., 0., 0., 0., 0., 0., 0., 0., 0., 0., 0., 0., 0.,\n",
              "       0., 0., 0., 0., 0., 0., 0., 0., 0., 0., 0., 0., 0., 0., 0., 0., 0.,\n",
              "       0., 0., 0., 0., 0., 0., 0., 0., 0., 0., 0., 0., 0., 0., 0., 0., 0.,\n",
              "       0., 0., 0., 0., 0., 0., 0., 0., 0., 0., 0., 0., 0., 0., 0., 0., 0.,\n",
              "       0., 0., 0., 0., 0., 0., 0., 0., 0., 0., 0., 0., 0., 0., 0., 0., 0.,\n",
              "       0., 0., 0., 0., 0., 0., 0., 0., 0., 0., 0., 0., 0., 0., 0., 0., 0.,\n",
              "       0., 0., 0., 0., 0., 0., 0., 0., 0., 0., 0., 0., 0., 0., 0., 0., 0.,\n",
              "       0., 0., 0., 0., 0., 0., 0., 0., 0., 0., 0., 0., 0., 0., 0., 0., 0.,\n",
              "       0., 0., 0., 0., 0., 0., 0., 0., 0., 0., 0., 0., 0., 0., 0., 0., 0.,\n",
              "       0., 0., 0., 0., 0., 0., 0., 0., 0., 0., 0., 0., 0., 0., 0., 0., 0.,\n",
              "       0., 0., 0., 0., 0., 0., 0., 0., 0., 0., 0., 0., 0., 0., 0., 0., 0.,\n",
              "       0., 0., 0., 0., 0., 0., 0., 0., 0., 0., 0., 0., 0., 0., 0., 0., 0.,\n",
              "       0., 0., 0., 0., 0., 0., 0., 0., 0., 0., 0., 0., 0., 0., 0., 0., 0.,\n",
              "       0., 0., 0., 0., 0., 0., 0., 0., 0., 0., 0., 0., 0., 0., 0., 0., 0.,\n",
              "       0., 0., 0., 0., 0., 0., 0., 0., 0., 0., 0., 0., 0., 0., 0., 0., 0.,\n",
              "       0., 0., 0., 0., 0., 0., 0., 0., 0., 0., 0., 0., 0., 0., 0., 0., 0.,\n",
              "       0., 0., 0., 0., 0., 0., 0., 0., 0., 0., 0., 0., 0., 0., 0., 0., 0.,\n",
              "       0., 0., 0., 0., 0., 0., 0., 0., 0., 0., 0.], dtype=float32)"
            ]
          },
          "metadata": {
            "tags": []
          },
          "execution_count": 29
        }
      ]
    },
    {
      "cell_type": "code",
      "metadata": {
        "colab": {
          "base_uri": "https://localhost:8080/"
        },
        "id": "oF3nUX8lAwaG",
        "outputId": "c7264f33-3cd3-44e9-db35-a38f21ceded4"
      },
      "source": [
        "biases.shape"
      ],
      "execution_count": 30,
      "outputs": [
        {
          "output_type": "execute_result",
          "data": {
            "text/plain": [
              "(300,)"
            ]
          },
          "metadata": {
            "tags": []
          },
          "execution_count": 30
        }
      ]
    },
    {
      "cell_type": "code",
      "metadata": {
        "id": "4GYUWFEbAwfb"
      },
      "source": [
        "model.compile(loss=\"sparse_categorical_crossentropy\",\n",
        "              optimizer=\"sgd\",\n",
        "              metrics=[\"accuracy\"])"
      ],
      "execution_count": 31,
      "outputs": []
    },
    {
      "cell_type": "code",
      "metadata": {
        "colab": {
          "base_uri": "https://localhost:8080/"
        },
        "id": "Jc3f0SeDCp-c",
        "outputId": "c32a26f5-909a-4275-977f-87fe49446621"
      },
      "source": [
        "history = model.fit(X_train, y_train, batch_size=32, epochs=30,\n",
        "                    validation_data=(X_valid, y_valid))"
      ],
      "execution_count": 32,
      "outputs": [
        {
          "output_type": "stream",
          "text": [
            "Epoch 1/30\n",
            "1719/1719 [==============================] - 4s 2ms/step - loss: 0.7155 - accuracy: 0.7625 - val_loss: 0.5075 - val_accuracy: 0.8314\n",
            "Epoch 2/30\n",
            "1719/1719 [==============================] - 4s 2ms/step - loss: 0.4856 - accuracy: 0.8310 - val_loss: 0.4492 - val_accuracy: 0.8482\n",
            "Epoch 3/30\n",
            "1719/1719 [==============================] - 4s 2ms/step - loss: 0.4408 - accuracy: 0.8455 - val_loss: 0.4356 - val_accuracy: 0.8514\n",
            "Epoch 4/30\n",
            "1719/1719 [==============================] - 4s 2ms/step - loss: 0.4138 - accuracy: 0.8535 - val_loss: 0.3984 - val_accuracy: 0.8654\n",
            "Epoch 5/30\n",
            "1719/1719 [==============================] - 4s 2ms/step - loss: 0.3931 - accuracy: 0.8616 - val_loss: 0.3849 - val_accuracy: 0.8636\n",
            "Epoch 6/30\n",
            "1719/1719 [==============================] - 4s 2ms/step - loss: 0.3764 - accuracy: 0.8673 - val_loss: 0.3722 - val_accuracy: 0.8708\n",
            "Epoch 7/30\n",
            "1719/1719 [==============================] - 4s 2ms/step - loss: 0.3642 - accuracy: 0.8703 - val_loss: 0.3733 - val_accuracy: 0.8720\n",
            "Epoch 8/30\n",
            "1719/1719 [==============================] - 4s 2ms/step - loss: 0.3518 - accuracy: 0.8754 - val_loss: 0.3689 - val_accuracy: 0.8726\n",
            "Epoch 9/30\n",
            "1719/1719 [==============================] - 4s 2ms/step - loss: 0.3411 - accuracy: 0.8782 - val_loss: 0.3504 - val_accuracy: 0.8748\n",
            "Epoch 10/30\n",
            "1719/1719 [==============================] - 4s 2ms/step - loss: 0.3317 - accuracy: 0.8816 - val_loss: 0.3439 - val_accuracy: 0.8780\n",
            "Epoch 11/30\n",
            "1719/1719 [==============================] - 4s 2ms/step - loss: 0.3231 - accuracy: 0.8842 - val_loss: 0.3405 - val_accuracy: 0.8802\n",
            "Epoch 12/30\n",
            "1719/1719 [==============================] - 4s 2ms/step - loss: 0.3153 - accuracy: 0.8865 - val_loss: 0.3434 - val_accuracy: 0.8732\n",
            "Epoch 13/30\n",
            "1719/1719 [==============================] - 4s 2ms/step - loss: 0.3087 - accuracy: 0.8889 - val_loss: 0.3327 - val_accuracy: 0.8814\n",
            "Epoch 14/30\n",
            "1719/1719 [==============================] - 4s 2ms/step - loss: 0.3020 - accuracy: 0.8911 - val_loss: 0.3337 - val_accuracy: 0.8802\n",
            "Epoch 15/30\n",
            "1719/1719 [==============================] - 4s 2ms/step - loss: 0.2949 - accuracy: 0.8947 - val_loss: 0.3293 - val_accuracy: 0.8864\n",
            "Epoch 16/30\n",
            "1719/1719 [==============================] - 4s 2ms/step - loss: 0.2891 - accuracy: 0.8950 - val_loss: 0.3164 - val_accuracy: 0.8870\n",
            "Epoch 17/30\n",
            "1719/1719 [==============================] - 4s 2ms/step - loss: 0.2839 - accuracy: 0.8980 - val_loss: 0.3099 - val_accuracy: 0.8912\n",
            "Epoch 18/30\n",
            "1719/1719 [==============================] - 4s 2ms/step - loss: 0.2784 - accuracy: 0.8986 - val_loss: 0.3098 - val_accuracy: 0.8874\n",
            "Epoch 19/30\n",
            "1719/1719 [==============================] - 4s 2ms/step - loss: 0.2735 - accuracy: 0.9016 - val_loss: 0.3119 - val_accuracy: 0.8892\n",
            "Epoch 20/30\n",
            "1719/1719 [==============================] - 4s 2ms/step - loss: 0.2686 - accuracy: 0.9016 - val_loss: 0.3128 - val_accuracy: 0.8872\n",
            "Epoch 21/30\n",
            "1719/1719 [==============================] - 4s 2ms/step - loss: 0.2633 - accuracy: 0.9054 - val_loss: 0.3307 - val_accuracy: 0.8802\n",
            "Epoch 22/30\n",
            "1719/1719 [==============================] - 4s 2ms/step - loss: 0.2598 - accuracy: 0.9071 - val_loss: 0.3152 - val_accuracy: 0.8868\n",
            "Epoch 23/30\n",
            "1719/1719 [==============================] - 4s 2ms/step - loss: 0.2550 - accuracy: 0.9079 - val_loss: 0.2985 - val_accuracy: 0.8956\n",
            "Epoch 24/30\n",
            "1719/1719 [==============================] - 4s 2ms/step - loss: 0.2510 - accuracy: 0.9090 - val_loss: 0.3010 - val_accuracy: 0.8938\n",
            "Epoch 25/30\n",
            "1719/1719 [==============================] - 4s 2ms/step - loss: 0.2458 - accuracy: 0.9114 - val_loss: 0.3013 - val_accuracy: 0.8906\n",
            "Epoch 26/30\n",
            "1719/1719 [==============================] - 4s 2ms/step - loss: 0.2422 - accuracy: 0.9131 - val_loss: 0.3103 - val_accuracy: 0.8910\n",
            "Epoch 27/30\n",
            "1719/1719 [==============================] - 4s 2ms/step - loss: 0.2389 - accuracy: 0.9146 - val_loss: 0.2950 - val_accuracy: 0.8940\n",
            "Epoch 28/30\n",
            "1719/1719 [==============================] - 4s 2ms/step - loss: 0.2354 - accuracy: 0.9152 - val_loss: 0.3002 - val_accuracy: 0.8926\n",
            "Epoch 29/30\n",
            "1719/1719 [==============================] - 4s 2ms/step - loss: 0.2310 - accuracy: 0.9170 - val_loss: 0.2939 - val_accuracy: 0.8902\n",
            "Epoch 30/30\n",
            "1719/1719 [==============================] - 4s 2ms/step - loss: 0.2280 - accuracy: 0.9162 - val_loss: 0.3140 - val_accuracy: 0.8870\n"
          ],
          "name": "stdout"
        }
      ]
    },
    {
      "cell_type": "code",
      "metadata": {
        "colab": {
          "base_uri": "https://localhost:8080/"
        },
        "id": "hET61NogCqE4",
        "outputId": "84f59334-b11e-497b-e512-a8a99736a66c"
      },
      "source": [
        "history.params"
      ],
      "execution_count": 33,
      "outputs": [
        {
          "output_type": "execute_result",
          "data": {
            "text/plain": [
              "{'epochs': 30, 'steps': 1719, 'verbose': 1}"
            ]
          },
          "metadata": {
            "tags": []
          },
          "execution_count": 33
        }
      ]
    },
    {
      "cell_type": "code",
      "metadata": {
        "colab": {
          "base_uri": "https://localhost:8080/"
        },
        "id": "NWQ6Z-OzCqL5",
        "outputId": "6acdb540-bdd2-4bf3-ae1d-34e90544b8e3"
      },
      "source": [
        "print(history.epoch)"
      ],
      "execution_count": 34,
      "outputs": [
        {
          "output_type": "stream",
          "text": [
            "[0, 1, 2, 3, 4, 5, 6, 7, 8, 9, 10, 11, 12, 13, 14, 15, 16, 17, 18, 19, 20, 21, 22, 23, 24, 25, 26, 27, 28, 29]\n"
          ],
          "name": "stdout"
        }
      ]
    },
    {
      "cell_type": "code",
      "metadata": {
        "colab": {
          "base_uri": "https://localhost:8080/"
        },
        "id": "LPuCKclxCqSd",
        "outputId": "5053e0e7-7e89-4d61-eec7-8a395d0bcebe"
      },
      "source": [
        "history.history.keys()"
      ],
      "execution_count": 35,
      "outputs": [
        {
          "output_type": "execute_result",
          "data": {
            "text/plain": [
              "dict_keys(['loss', 'accuracy', 'val_loss', 'val_accuracy'])"
            ]
          },
          "metadata": {
            "tags": []
          },
          "execution_count": 35
        }
      ]
    },
    {
      "cell_type": "markdown",
      "metadata": {
        "id": "gmB6xPEwDksa"
      },
      "source": [
        "**Plot learning Curves**"
      ]
    },
    {
      "cell_type": "code",
      "metadata": {
        "colab": {
          "base_uri": "https://localhost:8080/",
          "height": 328
        },
        "id": "fTyU79P3CqYv",
        "outputId": "8a96feda-0940-4f13-dc91-9cc1c7b59966"
      },
      "source": [
        "import pandas as pd\n",
        "\n",
        "pd.DataFrame(history.history).plot(figsize=(8, 5))\n",
        "plt.grid(True)\n",
        "plt.gca().set_ylim(0, 1)\n",
        "plt.show()"
      ],
      "execution_count": 36,
      "outputs": [
        {
          "output_type": "display_data",
          "data": {
            "image/png": "[encoded data removed]",
            "text/plain": [
              "<Figure size 576x360 with 1 Axes>"
            ]
          },
          "metadata": {
            "tags": [],
            "needs_background": "light"
          }
        }
      ]
    },
    {
      "cell_type": "code",
      "metadata": {
        "colab": {
          "base_uri": "https://localhost:8080/"
        },
        "id": "-OO4mAYYCqlr",
        "outputId": "641f72fb-39ac-4bdf-9dee-2cbb6f202696"
      },
      "source": [
        "model.evaluate(X_test, y_test)"
      ],
      "execution_count": 37,
      "outputs": [
        {
          "output_type": "stream",
          "text": [
            "313/313 [==============================] - 1s 2ms/step - loss: 0.3412 - accuracy: 0.8804\n"
          ],
          "name": "stdout"
        },
        {
          "output_type": "execute_result",
          "data": {
            "text/plain": [
              "[0.34115204215049744, 0.8804000020027161]"
            ]
          },
          "metadata": {
            "tags": []
          },
          "execution_count": 37
        }
      ]
    },
    {
      "cell_type": "code",
      "metadata": {
        "colab": {
          "base_uri": "https://localhost:8080/"
        },
        "id": "ACKpO8J4Cquw",
        "outputId": "8b2a1a75-e1ca-4694-8841-9c923e74425f"
      },
      "source": [
        "X_new = X_test[:3]\n",
        "y_proba = model.predict(X_new)\n",
        "y_proba.round(6)"
      ],
      "execution_count": 38,
      "outputs": [
        {
          "output_type": "execute_result",
          "data": {
            "text/plain": [
              "array([[2.00000e-06, 0.00000e+00, 8.00000e-06, 0.00000e+00, 1.00000e-06,\n",
              "        3.82800e-03, 2.00000e-06, 8.38800e-03, 1.86000e-04, 9.87584e-01],\n",
              "       [4.80000e-05, 0.00000e+00, 9.96436e-01, 0.00000e+00, 3.48600e-03,\n",
              "        0.00000e+00, 3.00000e-05, 0.00000e+00, 0.00000e+00, 0.00000e+00],\n",
              "       [2.00000e-06, 9.99997e-01, 0.00000e+00, 1.00000e-06, 0.00000e+00,\n",
              "        0.00000e+00, 0.00000e+00, 0.00000e+00, 0.00000e+00, 0.00000e+00]],\n",
              "      dtype=float32)"
            ]
          },
          "metadata": {
            "tags": []
          },
          "execution_count": 38
        }
      ]
    },
    {
      "cell_type": "code",
      "metadata": {
        "colab": {
          "base_uri": "https://localhost:8080/"
        },
        "id": "ayzp_ewFCq_t",
        "outputId": "98b2210c-8571-4dc9-c1eb-d744babd3da0"
      },
      "source": [
        "y_pred = model.predict_classes(X_new)\n",
        "y_pred"
      ],
      "execution_count": 39,
      "outputs": [
        {
          "output_type": "stream",
          "text": [
            "WARNING:tensorflow:From <ipython-input-39-81ace37e545f>:1: Sequential.predict_classes (from tensorflow.python.keras.engine.sequential) is deprecated and will be removed after 2021-01-01.\n",
            "Instructions for updating:\n",
            "Please use instead:* `np.argmax(model.predict(x), axis=-1)`,   if your model does multi-class classification   (e.g. if it uses a `softmax` last-layer activation).* `(model.predict(x) > 0.5).astype(\"int32\")`,   if your model does binary classification   (e.g. if it uses a `sigmoid` last-layer activation).\n"
          ],
          "name": "stdout"
        },
        {
          "output_type": "execute_result",
          "data": {
            "text/plain": [
              "array([9, 2, 1])"
            ]
          },
          "metadata": {
            "tags": []
          },
          "execution_count": 39
        }
      ]
    },
    {
      "cell_type": "code",
      "metadata": {
        "colab": {
          "base_uri": "https://localhost:8080/",
          "height": 165
        },
        "id": "H9Pt6zocCrFp",
        "outputId": "9c1aeec4-7e1c-4e3f-8a80-a8da39623278"
      },
      "source": [
        "plt.figure(figsize=(7.2, 2.4))\n",
        "for index, image in enumerate(X_new):\n",
        "    plt.subplot(1, 3, index + 1)\n",
        "    plt.imshow(image, cmap=\"binary\", interpolation=\"nearest\")\n",
        "    plt.axis('off')\n",
        "    plt.title(class_names[y_test[index]], fontsize=12)\n",
        "plt.subplots_adjust(wspace=0.2, hspace=0.5)\n",
        "plt.show()"
      ],
      "execution_count": 40,
      "outputs": [
        {
          "output_type": "display_data",
          "data": {
            "image/png": "[encoded data removed]",
            "text/plain": [
              "<Figure size 518.4x172.8 with 3 Axes>"
            ]
          },
          "metadata": {
            "tags": [],
            "needs_background": "light"
          }
        }
      ]
    },
    {
      "cell_type": "markdown",
      "metadata": {
        "id": "gDaIRk4UEhvp"
      },
      "source": [
        "**EXERCICE**\n",
        "\n",
        "**1) Plot Learning curves when using different optimizers**\n",
        "\n",
        "\n"
      ]
    },
    {
      "cell_type": "markdown",
      "metadata": {
        "id": "mJPYqHftF6tF"
      },
      "source": [
        "optimizers: Adam"
      ]
    },
    {
      "cell_type": "code",
      "metadata": {
        "id": "8JHyk6HMCrKI"
      },
      "source": [
        "model.compile(loss=\"sparse_categorical_crossentropy\",\n",
        "              optimizer=\"Adam\",\n",
        "              metrics=[\"accuracy\"])"
      ],
      "execution_count": 41,
      "outputs": []
    },
    {
      "cell_type": "code",
      "metadata": {
        "colab": {
          "base_uri": "https://localhost:8080/"
        },
        "id": "HyJPxYI3CrTa",
        "outputId": "70fd76ee-6353-4327-edc3-1ee9a3d5684a"
      },
      "source": [
        "history1 = model.fit(X_train, y_train, batch_size=32, epochs=30,\n",
        "                    validation_data=(X_valid, y_valid))"
      ],
      "execution_count": 42,
      "outputs": [
        {
          "output_type": "stream",
          "text": [
            "Epoch 1/30\n",
            "1719/1719 [==============================] - 4s 2ms/step - loss: 0.3705 - accuracy: 0.8637 - val_loss: 0.3655 - val_accuracy: 0.8632\n",
            "Epoch 2/30\n",
            "1719/1719 [==============================] - 4s 2ms/step - loss: 0.3302 - accuracy: 0.8779 - val_loss: 0.3669 - val_accuracy: 0.8672\n",
            "Epoch 3/30\n",
            "1719/1719 [==============================] - 4s 2ms/step - loss: 0.3023 - accuracy: 0.8872 - val_loss: 0.3185 - val_accuracy: 0.8836\n",
            "Epoch 4/30\n",
            "1719/1719 [==============================] - 4s 2ms/step - loss: 0.2875 - accuracy: 0.8947 - val_loss: 0.3111 - val_accuracy: 0.8870\n",
            "Epoch 5/30\n",
            "1719/1719 [==============================] - 4s 2ms/step - loss: 0.2716 - accuracy: 0.8986 - val_loss: 0.3129 - val_accuracy: 0.8860\n",
            "Epoch 6/30\n",
            "1719/1719 [==============================] - 4s 2ms/step - loss: 0.2602 - accuracy: 0.9019 - val_loss: 0.3200 - val_accuracy: 0.8860\n",
            "Epoch 7/30\n",
            "1719/1719 [==============================] - 4s 2ms/step - loss: 0.2501 - accuracy: 0.9057 - val_loss: 0.3104 - val_accuracy: 0.8938\n",
            "Epoch 8/30\n",
            "1719/1719 [==============================] - 4s 2ms/step - loss: 0.2404 - accuracy: 0.9095 - val_loss: 0.3236 - val_accuracy: 0.8914\n",
            "Epoch 9/30\n",
            "1719/1719 [==============================] - 4s 2ms/step - loss: 0.2295 - accuracy: 0.9123 - val_loss: 0.3090 - val_accuracy: 0.8926\n",
            "Epoch 10/30\n",
            "1719/1719 [==============================] - 4s 2ms/step - loss: 0.2216 - accuracy: 0.9163 - val_loss: 0.3024 - val_accuracy: 0.8990\n",
            "Epoch 11/30\n",
            "1719/1719 [==============================] - 4s 2ms/step - loss: 0.2130 - accuracy: 0.9189 - val_loss: 0.3008 - val_accuracy: 0.8986\n",
            "Epoch 12/30\n",
            "1719/1719 [==============================] - 4s 2ms/step - loss: 0.2060 - accuracy: 0.9220 - val_loss: 0.3194 - val_accuracy: 0.8960\n",
            "Epoch 13/30\n",
            "1719/1719 [==============================] - 4s 2ms/step - loss: 0.1974 - accuracy: 0.9242 - val_loss: 0.3126 - val_accuracy: 0.8998\n",
            "Epoch 14/30\n",
            "1719/1719 [==============================] - 4s 2ms/step - loss: 0.1938 - accuracy: 0.9259 - val_loss: 0.3113 - val_accuracy: 0.9008\n",
            "Epoch 15/30\n",
            "1719/1719 [==============================] - 4s 2ms/step - loss: 0.1865 - accuracy: 0.9284 - val_loss: 0.3364 - val_accuracy: 0.8930\n",
            "Epoch 16/30\n",
            "1719/1719 [==============================] - 4s 2ms/step - loss: 0.1803 - accuracy: 0.9312 - val_loss: 0.3677 - val_accuracy: 0.8886\n",
            "Epoch 17/30\n",
            "1719/1719 [==============================] - 4s 2ms/step - loss: 0.1789 - accuracy: 0.9324 - val_loss: 0.3894 - val_accuracy: 0.8896\n",
            "Epoch 18/30\n",
            "1719/1719 [==============================] - 4s 2ms/step - loss: 0.1683 - accuracy: 0.9357 - val_loss: 0.3647 - val_accuracy: 0.8924\n",
            "Epoch 19/30\n",
            "1719/1719 [==============================] - 4s 2ms/step - loss: 0.1689 - accuracy: 0.9349 - val_loss: 0.3315 - val_accuracy: 0.8990\n",
            "Epoch 20/30\n",
            "1719/1719 [==============================] - 4s 2ms/step - loss: 0.1610 - accuracy: 0.9377 - val_loss: 0.3873 - val_accuracy: 0.8962\n",
            "Epoch 21/30\n",
            "1719/1719 [==============================] - 4s 2ms/step - loss: 0.1568 - accuracy: 0.9395 - val_loss: 0.3714 - val_accuracy: 0.8992\n",
            "Epoch 22/30\n",
            "1719/1719 [==============================] - 4s 2ms/step - loss: 0.1545 - accuracy: 0.9399 - val_loss: 0.3619 - val_accuracy: 0.8964\n",
            "Epoch 23/30\n",
            "1719/1719 [==============================] - 4s 2ms/step - loss: 0.1514 - accuracy: 0.9417 - val_loss: 0.3724 - val_accuracy: 0.8944\n",
            "Epoch 24/30\n",
            "1719/1719 [==============================] - 4s 2ms/step - loss: 0.1500 - accuracy: 0.9429 - val_loss: 0.4013 - val_accuracy: 0.9002\n",
            "Epoch 25/30\n",
            "1719/1719 [==============================] - 4s 2ms/step - loss: 0.1409 - accuracy: 0.9447 - val_loss: 0.4052 - val_accuracy: 0.8984\n",
            "Epoch 26/30\n",
            "1719/1719 [==============================] - 4s 2ms/step - loss: 0.1402 - accuracy: 0.9465 - val_loss: 0.4034 - val_accuracy: 0.8960\n",
            "Epoch 27/30\n",
            "1719/1719 [==============================] - 4s 2ms/step - loss: 0.1372 - accuracy: 0.9471 - val_loss: 0.4208 - val_accuracy: 0.8966\n",
            "Epoch 28/30\n",
            "1719/1719 [==============================] - 4s 2ms/step - loss: 0.1352 - accuracy: 0.9480 - val_loss: 0.4184 - val_accuracy: 0.8940\n",
            "Epoch 29/30\n",
            "1719/1719 [==============================] - 4s 2ms/step - loss: 0.1319 - accuracy: 0.9500 - val_loss: 0.4225 - val_accuracy: 0.8984\n",
            "Epoch 30/30\n",
            "1719/1719 [==============================] - 4s 2ms/step - loss: 0.1285 - accuracy: 0.9511 - val_loss: 0.4258 - val_accuracy: 0.8982\n"
          ],
          "name": "stdout"
        }
      ]
    },
    {
      "cell_type": "code",
      "metadata": {
        "colab": {
          "base_uri": "https://localhost:8080/",
          "height": 328
        },
        "id": "HhL_ehaICq6_",
        "outputId": "dd80b904-f433-481a-eece-ce6c7c2d6e76"
      },
      "source": [
        "pd.DataFrame(history1.history).plot(figsize=(8, 5))\n",
        "plt.grid(True)\n",
        "plt.gca().set_ylim(0, 1)\n",
        "plt.show()"
      ],
      "execution_count": 43,
      "outputs": [
        {
          "output_type": "display_data",
          "data": {
            "image/png": "[encoded data removed]",
            "text/plain": [
              "<Figure size 576x360 with 1 Axes>"
            ]
          },
          "metadata": {
            "tags": [],
            "needs_background": "light"
          }
        }
      ]
    },
    {
      "cell_type": "code",
      "metadata": {
        "colab": {
          "base_uri": "https://localhost:8080/"
        },
        "id": "SKpzNvscCq9M",
        "outputId": "1e1437c5-8df5-4ac0-ac3b-135559f521ca"
      },
      "source": [
        "model.evaluate(X_test, y_test)"
      ],
      "execution_count": 44,
      "outputs": [
        {
          "output_type": "stream",
          "text": [
            "313/313 [==============================] - 1s 2ms/step - loss: 0.4367 - accuracy: 0.8896\n"
          ],
          "name": "stdout"
        },
        {
          "output_type": "execute_result",
          "data": {
            "text/plain": [
              "[0.43665093183517456, 0.8895999789237976]"
            ]
          },
          "metadata": {
            "tags": []
          },
          "execution_count": 44
        }
      ]
    },
    {
      "cell_type": "markdown",
      "metadata": {
        "id": "IcCS2fAyGjfR"
      },
      "source": [
        "optimizers:RMSprop"
      ]
    },
    {
      "cell_type": "code",
      "metadata": {
        "id": "ovBQcNZHCq4t"
      },
      "source": [
        "model.compile(loss=\"sparse_categorical_crossentropy\",\n",
        "              optimizer=\"RMSprop\",\n",
        "              metrics=[\"accuracy\"])"
      ],
      "execution_count": 45,
      "outputs": []
    },
    {
      "cell_type": "code",
      "metadata": {
        "colab": {
          "base_uri": "https://localhost:8080/"
        },
        "id": "7WULGR7pCq1d",
        "outputId": "345c884e-e636-4261-8ce3-914a0f4e3d9d"
      },
      "source": [
        "history2 = model.fit(X_train, y_train, batch_size=32, epochs=30,\n",
        "                    validation_data=(X_valid, y_valid))"
      ],
      "execution_count": 46,
      "outputs": [
        {
          "output_type": "stream",
          "text": [
            "Epoch 1/30\n",
            "1719/1719 [==============================] - 4s 3ms/step - loss: 0.1296 - accuracy: 0.9512 - val_loss: 0.5876 - val_accuracy: 0.8988\n",
            "Epoch 2/30\n",
            "1719/1719 [==============================] - 4s 2ms/step - loss: 0.1366 - accuracy: 0.9509 - val_loss: 0.6242 - val_accuracy: 0.8940\n",
            "Epoch 3/30\n",
            "1719/1719 [==============================] - 4s 2ms/step - loss: 0.1432 - accuracy: 0.9494 - val_loss: 0.6643 - val_accuracy: 0.8952\n",
            "Epoch 4/30\n",
            "1719/1719 [==============================] - 4s 2ms/step - loss: 0.1528 - accuracy: 0.9478 - val_loss: 0.6721 - val_accuracy: 0.8952\n",
            "Epoch 5/30\n",
            "1719/1719 [==============================] - 4s 2ms/step - loss: 0.1541 - accuracy: 0.9457 - val_loss: 0.7815 - val_accuracy: 0.8990\n",
            "Epoch 6/30\n",
            "1719/1719 [==============================] - 4s 2ms/step - loss: 0.1595 - accuracy: 0.9471 - val_loss: 0.7264 - val_accuracy: 0.8950\n",
            "Epoch 7/30\n",
            "1719/1719 [==============================] - 4s 2ms/step - loss: 0.1666 - accuracy: 0.9444 - val_loss: 0.9025 - val_accuracy: 0.8936\n",
            "Epoch 8/30\n",
            "1719/1719 [==============================] - 5s 3ms/step - loss: 0.1701 - accuracy: 0.9446 - val_loss: 0.8184 - val_accuracy: 0.8982\n",
            "Epoch 9/30\n",
            "1719/1719 [==============================] - 5s 3ms/step - loss: 0.1753 - accuracy: 0.9434 - val_loss: 0.9011 - val_accuracy: 0.8910\n",
            "Epoch 10/30\n",
            "1719/1719 [==============================] - 4s 2ms/step - loss: 0.1777 - accuracy: 0.9417 - val_loss: 0.9849 - val_accuracy: 0.8890\n",
            "Epoch 11/30\n",
            "1719/1719 [==============================] - 4s 2ms/step - loss: 0.1784 - accuracy: 0.9430 - val_loss: 0.8891 - val_accuracy: 0.8962\n",
            "Epoch 12/30\n",
            "1719/1719 [==============================] - 4s 2ms/step - loss: 0.1811 - accuracy: 0.9413 - val_loss: 0.9816 - val_accuracy: 0.8910\n",
            "Epoch 13/30\n",
            "1719/1719 [==============================] - 4s 2ms/step - loss: 0.1809 - accuracy: 0.9428 - val_loss: 0.9917 - val_accuracy: 0.8836\n",
            "Epoch 14/30\n",
            "1719/1719 [==============================] - 4s 2ms/step - loss: 0.1782 - accuracy: 0.9436 - val_loss: 1.0364 - val_accuracy: 0.8846\n",
            "Epoch 15/30\n",
            "1719/1719 [==============================] - 4s 2ms/step - loss: 0.1850 - accuracy: 0.9422 - val_loss: 0.9887 - val_accuracy: 0.8950\n",
            "Epoch 16/30\n",
            "1719/1719 [==============================] - 4s 2ms/step - loss: 0.1821 - accuracy: 0.9418 - val_loss: 1.0698 - val_accuracy: 0.8856\n",
            "Epoch 17/30\n",
            "1719/1719 [==============================] - 4s 2ms/step - loss: 0.1873 - accuracy: 0.9426 - val_loss: 1.1334 - val_accuracy: 0.8884\n",
            "Epoch 18/30\n",
            "1719/1719 [==============================] - 4s 2ms/step - loss: 0.1895 - accuracy: 0.9421 - val_loss: 1.1050 - val_accuracy: 0.8894\n",
            "Epoch 19/30\n",
            "1719/1719 [==============================] - 4s 2ms/step - loss: 0.1884 - accuracy: 0.9428 - val_loss: 1.0202 - val_accuracy: 0.8880\n",
            "Epoch 20/30\n",
            "1719/1719 [==============================] - 4s 2ms/step - loss: 0.1872 - accuracy: 0.9430 - val_loss: 1.0739 - val_accuracy: 0.8978\n",
            "Epoch 21/30\n",
            "1719/1719 [==============================] - 4s 2ms/step - loss: 0.1890 - accuracy: 0.9427 - val_loss: 1.1912 - val_accuracy: 0.8866\n",
            "Epoch 22/30\n",
            "1719/1719 [==============================] - 4s 2ms/step - loss: 0.1914 - accuracy: 0.9428 - val_loss: 1.1881 - val_accuracy: 0.8934\n",
            "Epoch 23/30\n",
            "1719/1719 [==============================] - 4s 2ms/step - loss: 0.1914 - accuracy: 0.9420 - val_loss: 1.2143 - val_accuracy: 0.8854\n",
            "Epoch 24/30\n",
            "1719/1719 [==============================] - 4s 2ms/step - loss: 0.1883 - accuracy: 0.9431 - val_loss: 1.1109 - val_accuracy: 0.8892\n",
            "Epoch 25/30\n",
            "1719/1719 [==============================] - 4s 2ms/step - loss: 0.1965 - accuracy: 0.9429 - val_loss: 1.2942 - val_accuracy: 0.8788\n",
            "Epoch 26/30\n",
            "1719/1719 [==============================] - 4s 2ms/step - loss: 0.1948 - accuracy: 0.9419 - val_loss: 1.1962 - val_accuracy: 0.8916\n",
            "Epoch 27/30\n",
            "1719/1719 [==============================] - 4s 2ms/step - loss: 0.1933 - accuracy: 0.9429 - val_loss: 1.2783 - val_accuracy: 0.8812\n",
            "Epoch 28/30\n",
            "1719/1719 [==============================] - 4s 2ms/step - loss: 0.1799 - accuracy: 0.9439 - val_loss: 1.3036 - val_accuracy: 0.8904\n",
            "Epoch 29/30\n",
            "1719/1719 [==============================] - 4s 2ms/step - loss: 0.1933 - accuracy: 0.9437 - val_loss: 1.2843 - val_accuracy: 0.8864\n",
            "Epoch 30/30\n",
            "1719/1719 [==============================] - 4s 2ms/step - loss: 0.1964 - accuracy: 0.9437 - val_loss: 1.3302 - val_accuracy: 0.8758\n"
          ],
          "name": "stdout"
        }
      ]
    },
    {
      "cell_type": "code",
      "metadata": {
        "colab": {
          "base_uri": "https://localhost:8080/",
          "height": 328
        },
        "id": "KnMtS7l-Iky3",
        "outputId": "628ca8f6-21df-439e-a7ac-822a3f4e54ba"
      },
      "source": [
        "pd.DataFrame(history2.history).plot(figsize=(8, 5))\n",
        "plt.grid(True)\n",
        "plt.gca().set_ylim(0, 1)\n",
        "plt.show()"
      ],
      "execution_count": 47,
      "outputs": [
        {
          "output_type": "display_data",
          "data": {
            "image/png": "[encoded data removed]",
            "text/plain": [
              "<Figure size 576x360 with 1 Axes>"
            ]
          },
          "metadata": {
            "tags": [],
            "needs_background": "light"
          }
        }
      ]
    },
    {
      "cell_type": "code",
      "metadata": {
        "colab": {
          "base_uri": "https://localhost:8080/"
        },
        "id": "K3YegchICqsG",
        "outputId": "fc4b1fa1-fc71-4bc4-efcb-e7e5e943a8c5"
      },
      "source": [
        "model.evaluate(X_test, y_test)"
      ],
      "execution_count": 48,
      "outputs": [
        {
          "output_type": "stream",
          "text": [
            "313/313 [==============================] - 1s 2ms/step - loss: 1.1478 - accuracy: 0.8731\n"
          ],
          "name": "stdout"
        },
        {
          "output_type": "execute_result",
          "data": {
            "text/plain": [
              "[1.147841453552246, 0.8730999827384949]"
            ]
          },
          "metadata": {
            "tags": []
          },
          "execution_count": 48
        }
      ]
    },
    {
      "cell_type": "markdown",
      "metadata": {
        "id": "EwYQ4z_QH7RF"
      },
      "source": [
        "optimizers:SGD"
      ]
    },
    {
      "cell_type": "code",
      "metadata": {
        "id": "F3dBbCnGCqin"
      },
      "source": [
        "model.compile(loss=\"sparse_categorical_crossentropy\",\n",
        "              optimizer=\"SGD\",\n",
        "              metrics=[\"accuracy\"])"
      ],
      "execution_count": 49,
      "outputs": []
    },
    {
      "cell_type": "code",
      "metadata": {
        "colab": {
          "base_uri": "https://localhost:8080/"
        },
        "id": "FQBftSzFCqgH",
        "outputId": "940637af-d874-44f6-c30c-7e3186ad0e44"
      },
      "source": [
        "history3 = model.fit(X_train, y_train, batch_size=32, epochs=30,\n",
        "                    validation_data=(X_valid, y_valid))"
      ],
      "execution_count": 50,
      "outputs": [
        {
          "output_type": "stream",
          "text": [
            "Epoch 1/30\n",
            "1719/1719 [==============================] - 4s 2ms/step - loss: 4.8773 - accuracy: 0.4114 - val_loss: 1.2849 - val_accuracy: 0.5512\n",
            "Epoch 2/30\n",
            "1719/1719 [==============================] - 3s 2ms/step - loss: 1.0698 - accuracy: 0.5916 - val_loss: 2.1400 - val_accuracy: 0.4826\n",
            "Epoch 3/30\n",
            "1719/1719 [==============================] - 3s 2ms/step - loss: 0.8363 - accuracy: 0.6820 - val_loss: 0.7837 - val_accuracy: 0.7672\n",
            "Epoch 4/30\n",
            "1719/1719 [==============================] - 4s 2ms/step - loss: 0.6952 - accuracy: 0.7501 - val_loss: 0.7521 - val_accuracy: 0.7408\n",
            "Epoch 5/30\n",
            "1719/1719 [==============================] - 3s 2ms/step - loss: 0.5822 - accuracy: 0.7868 - val_loss: 0.6878 - val_accuracy: 0.7872\n",
            "Epoch 6/30\n",
            "1719/1719 [==============================] - 3s 2ms/step - loss: 0.5134 - accuracy: 0.8147 - val_loss: 0.5145 - val_accuracy: 0.8266\n",
            "Epoch 7/30\n",
            "1719/1719 [==============================] - 3s 2ms/step - loss: 0.4636 - accuracy: 0.8319 - val_loss: 0.5125 - val_accuracy: 0.8330\n",
            "Epoch 8/30\n",
            "1719/1719 [==============================] - 3s 2ms/step - loss: 0.4429 - accuracy: 0.8433 - val_loss: 0.6147 - val_accuracy: 0.8112\n",
            "Epoch 9/30\n",
            "1719/1719 [==============================] - 3s 2ms/step - loss: 0.4186 - accuracy: 0.8487 - val_loss: 0.5490 - val_accuracy: 0.8380\n",
            "Epoch 10/30\n",
            "1719/1719 [==============================] - 3s 2ms/step - loss: 0.4003 - accuracy: 0.8575 - val_loss: 0.4713 - val_accuracy: 0.8572\n",
            "Epoch 11/30\n",
            "1719/1719 [==============================] - 3s 2ms/step - loss: 0.3794 - accuracy: 0.8641 - val_loss: 0.5354 - val_accuracy: 0.8274\n",
            "Epoch 12/30\n",
            "1719/1719 [==============================] - 3s 2ms/step - loss: 0.3729 - accuracy: 0.8666 - val_loss: 0.6371 - val_accuracy: 0.7946\n",
            "Epoch 13/30\n",
            "1719/1719 [==============================] - 3s 2ms/step - loss: 0.3624 - accuracy: 0.8703 - val_loss: 0.4391 - val_accuracy: 0.8680\n",
            "Epoch 14/30\n",
            "1719/1719 [==============================] - 3s 2ms/step - loss: 0.3536 - accuracy: 0.8733 - val_loss: 0.4467 - val_accuracy: 0.8612\n",
            "Epoch 15/30\n",
            "1719/1719 [==============================] - 3s 2ms/step - loss: 0.3451 - accuracy: 0.8769 - val_loss: 0.4446 - val_accuracy: 0.8702\n",
            "Epoch 16/30\n",
            "1719/1719 [==============================] - 4s 2ms/step - loss: 0.3359 - accuracy: 0.8780 - val_loss: 0.5097 - val_accuracy: 0.8562\n",
            "Epoch 17/30\n",
            "1719/1719 [==============================] - 3s 2ms/step - loss: 0.3318 - accuracy: 0.8809 - val_loss: 0.4817 - val_accuracy: 0.8352\n",
            "Epoch 18/30\n",
            "1719/1719 [==============================] - 4s 2ms/step - loss: 0.3195 - accuracy: 0.8875 - val_loss: 0.5244 - val_accuracy: 0.8544\n",
            "Epoch 19/30\n",
            "1719/1719 [==============================] - 4s 2ms/step - loss: 0.3162 - accuracy: 0.8878 - val_loss: 0.4819 - val_accuracy: 0.8516\n",
            "Epoch 20/30\n",
            "1719/1719 [==============================] - 4s 2ms/step - loss: 0.3076 - accuracy: 0.8887 - val_loss: 1.0238 - val_accuracy: 0.7062\n",
            "Epoch 21/30\n",
            "1719/1719 [==============================] - 4s 2ms/step - loss: 0.3074 - accuracy: 0.8901 - val_loss: 0.4244 - val_accuracy: 0.8734\n",
            "Epoch 22/30\n",
            "1719/1719 [==============================] - 4s 2ms/step - loss: 0.3016 - accuracy: 0.8923 - val_loss: 0.4510 - val_accuracy: 0.8700\n",
            "Epoch 23/30\n",
            "1719/1719 [==============================] - 4s 2ms/step - loss: 0.2975 - accuracy: 0.8927 - val_loss: 0.4649 - val_accuracy: 0.8668\n",
            "Epoch 24/30\n",
            "1719/1719 [==============================] - 3s 2ms/step - loss: 0.2901 - accuracy: 0.8962 - val_loss: 0.3869 - val_accuracy: 0.8842\n",
            "Epoch 25/30\n",
            "1719/1719 [==============================] - 4s 2ms/step - loss: 0.2897 - accuracy: 0.8951 - val_loss: 0.4318 - val_accuracy: 0.8694\n",
            "Epoch 26/30\n",
            "1719/1719 [==============================] - 3s 2ms/step - loss: 0.2828 - accuracy: 0.8974 - val_loss: 0.6576 - val_accuracy: 0.8154\n",
            "Epoch 27/30\n",
            "1719/1719 [==============================] - 4s 2ms/step - loss: 0.2849 - accuracy: 0.8981 - val_loss: 0.4293 - val_accuracy: 0.8812\n",
            "Epoch 28/30\n",
            "1719/1719 [==============================] - 4s 2ms/step - loss: 0.2751 - accuracy: 0.9011 - val_loss: 0.6150 - val_accuracy: 0.8232\n",
            "Epoch 29/30\n",
            "1719/1719 [==============================] - 4s 2ms/step - loss: 0.2730 - accuracy: 0.9021 - val_loss: 0.3863 - val_accuracy: 0.8856\n",
            "Epoch 30/30\n",
            "1719/1719 [==============================] - 4s 2ms/step - loss: 0.2673 - accuracy: 0.9023 - val_loss: 0.6008 - val_accuracy: 0.8312\n"
          ],
          "name": "stdout"
        }
      ]
    },
    {
      "cell_type": "code",
      "metadata": {
        "colab": {
          "base_uri": "https://localhost:8080/",
          "height": 328
        },
        "id": "Z39EydSqCqeL",
        "outputId": "adb7985c-679c-4aee-a5f6-987e6e8681ec"
      },
      "source": [
        "pd.DataFrame(history3.history).plot(figsize=(8, 5))\n",
        "plt.grid(True)\n",
        "plt.gca().set_ylim(0, 1)\n",
        "plt.show()"
      ],
      "execution_count": 51,
      "outputs": [
        {
          "output_type": "display_data",
          "data": {
            "image/png": "[encoded data removed]",
            "text/plain": [
              "<Figure size 576x360 with 1 Axes>"
            ]
          },
          "metadata": {
            "tags": [],
            "needs_background": "light"
          }
        }
      ]
    },
    {
      "cell_type": "code",
      "metadata": {
        "colab": {
          "base_uri": "https://localhost:8080/"
        },
        "id": "Siv36N1tCqWk",
        "outputId": "7ea48398-e9ae-4bea-80e5-e80d9098f456"
      },
      "source": [
        "model.evaluate(X_test, y_test)"
      ],
      "execution_count": 52,
      "outputs": [
        {
          "output_type": "stream",
          "text": [
            "313/313 [==============================] - 1s 2ms/step - loss: 0.6171 - accuracy: 0.8191\n"
          ],
          "name": "stdout"
        },
        {
          "output_type": "execute_result",
          "data": {
            "text/plain": [
              "[0.6170614361763, 0.819100022315979]"
            ]
          },
          "metadata": {
            "tags": []
          },
          "execution_count": 52
        }
      ]
    },
    {
      "cell_type": "markdown",
      "metadata": {
        "id": "puF97hvxLMNF"
      },
      "source": [
        "**2) Plot Learning curves when using different batch size**\n",
        "\n",
        "batch-size=32\n"
      ]
    },
    {
      "cell_type": "code",
      "metadata": {
        "id": "Wcub4X9yCqQq"
      },
      "source": [
        "model.compile(loss=\"sparse_categorical_crossentropy\",\n",
        "              optimizer=\"Adam\",\n",
        "              metrics=[\"accuracy\"])"
      ],
      "execution_count": 53,
      "outputs": []
    },
    {
      "cell_type": "code",
      "metadata": {
        "colab": {
          "base_uri": "https://localhost:8080/"
        },
        "id": "52UTwZp9CqJU",
        "outputId": "284654ca-6a6b-430a-dd13-4c093a835d05"
      },
      "source": [
        "history4 = model.fit(X_train, y_train, batch_size=32, epochs=30,\n",
        "                    validation_data=(X_valid, y_valid))"
      ],
      "execution_count": 54,
      "outputs": [
        {
          "output_type": "stream",
          "text": [
            "Epoch 1/30\n",
            "1719/1719 [==============================] - 4s 2ms/step - loss: 0.2355 - accuracy: 0.9149 - val_loss: 0.4199 - val_accuracy: 0.8864\n",
            "Epoch 2/30\n",
            "1719/1719 [==============================] - 4s 2ms/step - loss: 0.2045 - accuracy: 0.9247 - val_loss: 0.3693 - val_accuracy: 0.8912\n",
            "Epoch 3/30\n",
            "1719/1719 [==============================] - 4s 2ms/step - loss: 0.1870 - accuracy: 0.9315 - val_loss: 0.3864 - val_accuracy: 0.8844\n",
            "Epoch 4/30\n",
            "1719/1719 [==============================] - 4s 2ms/step - loss: 0.1762 - accuracy: 0.9350 - val_loss: 0.3984 - val_accuracy: 0.8980\n",
            "Epoch 5/30\n",
            "1719/1719 [==============================] - 4s 2ms/step - loss: 0.1664 - accuracy: 0.9388 - val_loss: 0.3941 - val_accuracy: 0.8958\n",
            "Epoch 6/30\n",
            "1719/1719 [==============================] - 4s 2ms/step - loss: 0.1616 - accuracy: 0.9404 - val_loss: 0.4082 - val_accuracy: 0.8890\n",
            "Epoch 7/30\n",
            "1719/1719 [==============================] - 4s 2ms/step - loss: 0.1524 - accuracy: 0.9433 - val_loss: 0.4051 - val_accuracy: 0.8966\n",
            "Epoch 8/30\n",
            "1719/1719 [==============================] - 4s 2ms/step - loss: 0.1518 - accuracy: 0.9436 - val_loss: 0.4130 - val_accuracy: 0.8928\n",
            "Epoch 9/30\n",
            "1719/1719 [==============================] - 4s 2ms/step - loss: 0.1438 - accuracy: 0.9476 - val_loss: 0.3990 - val_accuracy: 0.8948\n",
            "Epoch 10/30\n",
            "1719/1719 [==============================] - 4s 2ms/step - loss: 0.1391 - accuracy: 0.9487 - val_loss: 0.4119 - val_accuracy: 0.8936\n",
            "Epoch 11/30\n",
            "1719/1719 [==============================] - 4s 2ms/step - loss: 0.1368 - accuracy: 0.9488 - val_loss: 0.4096 - val_accuracy: 0.8936\n",
            "Epoch 12/30\n",
            "1719/1719 [==============================] - 4s 2ms/step - loss: 0.1321 - accuracy: 0.9507 - val_loss: 0.4657 - val_accuracy: 0.8878\n",
            "Epoch 13/30\n",
            "1719/1719 [==============================] - 4s 2ms/step - loss: 0.1295 - accuracy: 0.9519 - val_loss: 0.4409 - val_accuracy: 0.8914\n",
            "Epoch 14/30\n",
            "1719/1719 [==============================] - 4s 2ms/step - loss: 0.1235 - accuracy: 0.9548 - val_loss: 0.4692 - val_accuracy: 0.8936\n",
            "Epoch 15/30\n",
            "1719/1719 [==============================] - 4s 2ms/step - loss: 0.1232 - accuracy: 0.9537 - val_loss: 0.4861 - val_accuracy: 0.8928\n",
            "Epoch 16/30\n",
            "1719/1719 [==============================] - 4s 2ms/step - loss: 0.1199 - accuracy: 0.9559 - val_loss: 0.4483 - val_accuracy: 0.8968\n",
            "Epoch 17/30\n",
            "1719/1719 [==============================] - 4s 2ms/step - loss: 0.1146 - accuracy: 0.9567 - val_loss: 0.4798 - val_accuracy: 0.8914\n",
            "Epoch 18/30\n",
            "1719/1719 [==============================] - 4s 2ms/step - loss: 0.1170 - accuracy: 0.9567 - val_loss: 0.5651 - val_accuracy: 0.8808\n",
            "Epoch 19/30\n",
            "1719/1719 [==============================] - 4s 2ms/step - loss: 0.1091 - accuracy: 0.9590 - val_loss: 0.5205 - val_accuracy: 0.8898\n",
            "Epoch 20/30\n",
            "1719/1719 [==============================] - 4s 2ms/step - loss: 0.1094 - accuracy: 0.9594 - val_loss: 0.5300 - val_accuracy: 0.8936\n",
            "Epoch 21/30\n",
            "1719/1719 [==============================] - 4s 2ms/step - loss: 0.1073 - accuracy: 0.9598 - val_loss: 0.5209 - val_accuracy: 0.8942\n",
            "Epoch 22/30\n",
            "1719/1719 [==============================] - 4s 2ms/step - loss: 0.1036 - accuracy: 0.9607 - val_loss: 0.5669 - val_accuracy: 0.8772\n",
            "Epoch 23/30\n",
            "1719/1719 [==============================] - 4s 2ms/step - loss: 0.1057 - accuracy: 0.9602 - val_loss: 0.5316 - val_accuracy: 0.8910\n",
            "Epoch 24/30\n",
            "1719/1719 [==============================] - 4s 2ms/step - loss: 0.1006 - accuracy: 0.9622 - val_loss: 0.5426 - val_accuracy: 0.8952\n",
            "Epoch 25/30\n",
            "1719/1719 [==============================] - 4s 2ms/step - loss: 0.0986 - accuracy: 0.9627 - val_loss: 0.5333 - val_accuracy: 0.8956\n",
            "Epoch 26/30\n",
            "1719/1719 [==============================] - 4s 2ms/step - loss: 0.0975 - accuracy: 0.9643 - val_loss: 0.6053 - val_accuracy: 0.8914\n",
            "Epoch 27/30\n",
            "1719/1719 [==============================] - 4s 2ms/step - loss: 0.0948 - accuracy: 0.9650 - val_loss: 0.6182 - val_accuracy: 0.8866\n",
            "Epoch 28/30\n",
            "1719/1719 [==============================] - 4s 2ms/step - loss: 0.0939 - accuracy: 0.9654 - val_loss: 0.5891 - val_accuracy: 0.8934\n",
            "Epoch 29/30\n",
            "1719/1719 [==============================] - 4s 2ms/step - loss: 0.0934 - accuracy: 0.9652 - val_loss: 0.5784 - val_accuracy: 0.8942\n",
            "Epoch 30/30\n",
            "1719/1719 [==============================] - 4s 2ms/step - loss: 0.0904 - accuracy: 0.9665 - val_loss: 0.6734 - val_accuracy: 0.8916\n"
          ],
          "name": "stdout"
        }
      ]
    },
    {
      "cell_type": "code",
      "metadata": {
        "colab": {
          "base_uri": "https://localhost:8080/"
        },
        "id": "UEj1BB_IODN5",
        "outputId": "ed60e33a-f8aa-4de7-ebe4-77724e81e97f"
      },
      "source": [
        "model.evaluate(X_test, y_test)"
      ],
      "execution_count": 55,
      "outputs": [
        {
          "output_type": "stream",
          "text": [
            "313/313 [==============================] - 1s 2ms/step - loss: 0.6578 - accuracy: 0.8849\n"
          ],
          "name": "stdout"
        },
        {
          "output_type": "execute_result",
          "data": {
            "text/plain": [
              "[0.6578059792518616, 0.8848999738693237]"
            ]
          },
          "metadata": {
            "tags": []
          },
          "execution_count": 55
        }
      ]
    },
    {
      "cell_type": "markdown",
      "metadata": {
        "id": "LhWYtozVOOBZ"
      },
      "source": [
        "batch-size=64"
      ]
    },
    {
      "cell_type": "code",
      "metadata": {
        "colab": {
          "base_uri": "https://localhost:8080/"
        },
        "id": "Sb62Y83xODgA",
        "outputId": "6c36b8e4-6388-4f01-f623-3d7504433fee"
      },
      "source": [
        "history5 = model.fit(X_train, y_train, batch_size=64, epochs=30,\n",
        "                    validation_data=(X_valid, y_valid))"
      ],
      "execution_count": 56,
      "outputs": [
        {
          "output_type": "stream",
          "text": [
            "Epoch 1/30\n",
            "860/860 [==============================] - 2s 3ms/step - loss: 0.0660 - accuracy: 0.9757 - val_loss: 0.6248 - val_accuracy: 0.8936\n",
            "Epoch 2/30\n",
            "860/860 [==============================] - 2s 2ms/step - loss: 0.0647 - accuracy: 0.9758 - val_loss: 0.6654 - val_accuracy: 0.8980\n",
            "Epoch 3/30\n",
            "860/860 [==============================] - 2s 2ms/step - loss: 0.0645 - accuracy: 0.9760 - val_loss: 0.6947 - val_accuracy: 0.8946\n",
            "Epoch 4/30\n",
            "860/860 [==============================] - 2s 2ms/step - loss: 0.0671 - accuracy: 0.9755 - val_loss: 0.6948 - val_accuracy: 0.8984\n",
            "Epoch 5/30\n",
            "860/860 [==============================] - 2s 2ms/step - loss: 0.0672 - accuracy: 0.9749 - val_loss: 0.6793 - val_accuracy: 0.8936\n",
            "Epoch 6/30\n",
            "860/860 [==============================] - 2s 2ms/step - loss: 0.0674 - accuracy: 0.9751 - val_loss: 0.7000 - val_accuracy: 0.8962\n",
            "Epoch 7/30\n",
            "860/860 [==============================] - 2s 2ms/step - loss: 0.0637 - accuracy: 0.9763 - val_loss: 0.6634 - val_accuracy: 0.8884\n",
            "Epoch 8/30\n",
            "860/860 [==============================] - 2s 2ms/step - loss: 0.0639 - accuracy: 0.9763 - val_loss: 0.7038 - val_accuracy: 0.8956\n",
            "Epoch 9/30\n",
            "860/860 [==============================] - 2s 2ms/step - loss: 0.0617 - accuracy: 0.9767 - val_loss: 0.7015 - val_accuracy: 0.8960\n",
            "Epoch 10/30\n",
            "860/860 [==============================] - 2s 2ms/step - loss: 0.0601 - accuracy: 0.9773 - val_loss: 0.7069 - val_accuracy: 0.8998\n",
            "Epoch 11/30\n",
            "860/860 [==============================] - 2s 2ms/step - loss: 0.0615 - accuracy: 0.9773 - val_loss: 0.7216 - val_accuracy: 0.8936\n",
            "Epoch 12/30\n",
            "860/860 [==============================] - 2s 2ms/step - loss: 0.0581 - accuracy: 0.9787 - val_loss: 0.7058 - val_accuracy: 0.8930\n",
            "Epoch 13/30\n",
            "860/860 [==============================] - 2s 2ms/step - loss: 0.0565 - accuracy: 0.9793 - val_loss: 0.7196 - val_accuracy: 0.8956\n",
            "Epoch 14/30\n",
            "860/860 [==============================] - 2s 2ms/step - loss: 0.0588 - accuracy: 0.9778 - val_loss: 0.7358 - val_accuracy: 0.8968\n",
            "Epoch 15/30\n",
            "860/860 [==============================] - 2s 2ms/step - loss: 0.0558 - accuracy: 0.9794 - val_loss: 0.7353 - val_accuracy: 0.8948\n",
            "Epoch 16/30\n",
            "860/860 [==============================] - 2s 2ms/step - loss: 0.0532 - accuracy: 0.9803 - val_loss: 0.7182 - val_accuracy: 0.8986\n",
            "Epoch 17/30\n",
            "860/860 [==============================] - 2s 2ms/step - loss: 0.0534 - accuracy: 0.9798 - val_loss: 0.7678 - val_accuracy: 0.8960\n",
            "Epoch 18/30\n",
            "860/860 [==============================] - 2s 2ms/step - loss: 0.0559 - accuracy: 0.9787 - val_loss: 0.7234 - val_accuracy: 0.8952\n",
            "Epoch 19/30\n",
            "860/860 [==============================] - 2s 2ms/step - loss: 0.0541 - accuracy: 0.9797 - val_loss: 0.7475 - val_accuracy: 0.8928\n",
            "Epoch 20/30\n",
            "860/860 [==============================] - 2s 2ms/step - loss: 0.0511 - accuracy: 0.9806 - val_loss: 0.7749 - val_accuracy: 0.8952\n",
            "Epoch 21/30\n",
            "860/860 [==============================] - 2s 2ms/step - loss: 0.0513 - accuracy: 0.9810 - val_loss: 0.8073 - val_accuracy: 0.8984\n",
            "Epoch 22/30\n",
            "860/860 [==============================] - 2s 2ms/step - loss: 0.0500 - accuracy: 0.9815 - val_loss: 0.8178 - val_accuracy: 0.8864\n",
            "Epoch 23/30\n",
            "860/860 [==============================] - 2s 2ms/step - loss: 0.0518 - accuracy: 0.9808 - val_loss: 0.8237 - val_accuracy: 0.8960\n",
            "Epoch 24/30\n",
            "860/860 [==============================] - 2s 2ms/step - loss: 0.0491 - accuracy: 0.9816 - val_loss: 0.8140 - val_accuracy: 0.8918\n",
            "Epoch 25/30\n",
            "860/860 [==============================] - 2s 2ms/step - loss: 0.0460 - accuracy: 0.9830 - val_loss: 0.8379 - val_accuracy: 0.8962\n",
            "Epoch 26/30\n",
            "860/860 [==============================] - 2s 2ms/step - loss: 0.0483 - accuracy: 0.9821 - val_loss: 0.8055 - val_accuracy: 0.8950\n",
            "Epoch 27/30\n",
            "860/860 [==============================] - 2s 2ms/step - loss: 0.0472 - accuracy: 0.9828 - val_loss: 0.8890 - val_accuracy: 0.8954\n",
            "Epoch 28/30\n",
            "860/860 [==============================] - 2s 2ms/step - loss: 0.0498 - accuracy: 0.9819 - val_loss: 0.8760 - val_accuracy: 0.8910\n",
            "Epoch 29/30\n",
            "860/860 [==============================] - 2s 2ms/step - loss: 0.0467 - accuracy: 0.9834 - val_loss: 0.8247 - val_accuracy: 0.8976\n",
            "Epoch 30/30\n",
            "860/860 [==============================] - 2s 2ms/step - loss: 0.0459 - accuracy: 0.9825 - val_loss: 0.9383 - val_accuracy: 0.8916\n"
          ],
          "name": "stdout"
        }
      ]
    },
    {
      "cell_type": "code",
      "metadata": {
        "colab": {
          "base_uri": "https://localhost:8080/"
        },
        "id": "TXWhgZjQODMH",
        "outputId": "1af5d450-ca57-4ad3-9896-1aefe969945a"
      },
      "source": [
        "model.evaluate(X_test, y_test)"
      ],
      "execution_count": 57,
      "outputs": [
        {
          "output_type": "stream",
          "text": [
            "313/313 [==============================] - 1s 2ms/step - loss: 0.9183 - accuracy: 0.8882\n"
          ],
          "name": "stdout"
        },
        {
          "output_type": "execute_result",
          "data": {
            "text/plain": [
              "[0.9183245897293091, 0.8881999850273132]"
            ]
          },
          "metadata": {
            "tags": []
          },
          "execution_count": 57
        }
      ]
    },
    {
      "cell_type": "code",
      "metadata": {
        "colab": {
          "base_uri": "https://localhost:8080/"
        },
        "id": "aio0N0YnODKd",
        "outputId": "c5ffeac9-bf3c-448d-f9f3-de594264c8a7"
      },
      "source": [
        "history6 = model.fit(X_train, y_train, batch_size=128, epochs=30,\n",
        "                    validation_data=(X_valid, y_valid))"
      ],
      "execution_count": 58,
      "outputs": [
        {
          "output_type": "stream",
          "text": [
            "Epoch 1/30\n",
            "430/430 [==============================] - 1s 2ms/step - loss: 0.0303 - accuracy: 0.9893 - val_loss: 0.8664 - val_accuracy: 0.8988\n",
            "Epoch 2/30\n",
            "430/430 [==============================] - 1s 2ms/step - loss: 0.0249 - accuracy: 0.9915 - val_loss: 0.8893 - val_accuracy: 0.9000\n",
            "Epoch 3/30\n",
            "430/430 [==============================] - 1s 2ms/step - loss: 0.0252 - accuracy: 0.9907 - val_loss: 0.9010 - val_accuracy: 0.8980\n",
            "Epoch 4/30\n",
            "430/430 [==============================] - 1s 2ms/step - loss: 0.0281 - accuracy: 0.9898 - val_loss: 0.8972 - val_accuracy: 0.8970\n",
            "Epoch 5/30\n",
            "430/430 [==============================] - 1s 2ms/step - loss: 0.0300 - accuracy: 0.9895 - val_loss: 0.9117 - val_accuracy: 0.9012\n",
            "Epoch 6/30\n",
            "430/430 [==============================] - 1s 2ms/step - loss: 0.0333 - accuracy: 0.9882 - val_loss: 0.9282 - val_accuracy: 0.8996\n",
            "Epoch 7/30\n",
            "430/430 [==============================] - 1s 2ms/step - loss: 0.0274 - accuracy: 0.9902 - val_loss: 0.9709 - val_accuracy: 0.8988\n",
            "Epoch 8/30\n",
            "430/430 [==============================] - 1s 2ms/step - loss: 0.0301 - accuracy: 0.9894 - val_loss: 0.9543 - val_accuracy: 0.8924\n",
            "Epoch 9/30\n",
            "430/430 [==============================] - 1s 2ms/step - loss: 0.0270 - accuracy: 0.9898 - val_loss: 1.0149 - val_accuracy: 0.8960\n",
            "Epoch 10/30\n",
            "430/430 [==============================] - 1s 2ms/step - loss: 0.0297 - accuracy: 0.9889 - val_loss: 0.9755 - val_accuracy: 0.8960\n",
            "Epoch 11/30\n",
            "430/430 [==============================] - 1s 2ms/step - loss: 0.0278 - accuracy: 0.9902 - val_loss: 1.0133 - val_accuracy: 0.8968\n",
            "Epoch 12/30\n",
            "430/430 [==============================] - 1s 2ms/step - loss: 0.0277 - accuracy: 0.9899 - val_loss: 0.9699 - val_accuracy: 0.8924\n",
            "Epoch 13/30\n",
            "430/430 [==============================] - 1s 2ms/step - loss: 0.0305 - accuracy: 0.9889 - val_loss: 0.9950 - val_accuracy: 0.8992\n",
            "Epoch 14/30\n",
            "430/430 [==============================] - 1s 2ms/step - loss: 0.0261 - accuracy: 0.9905 - val_loss: 1.0341 - val_accuracy: 0.8960\n",
            "Epoch 15/30\n",
            "430/430 [==============================] - 1s 2ms/step - loss: 0.0248 - accuracy: 0.9908 - val_loss: 1.0469 - val_accuracy: 0.8960\n",
            "Epoch 16/30\n",
            "430/430 [==============================] - 1s 2ms/step - loss: 0.0331 - accuracy: 0.9885 - val_loss: 1.0540 - val_accuracy: 0.8948\n",
            "Epoch 17/30\n",
            "430/430 [==============================] - 1s 2ms/step - loss: 0.0229 - accuracy: 0.9918 - val_loss: 1.0912 - val_accuracy: 0.8966\n",
            "Epoch 18/30\n",
            "430/430 [==============================] - 1s 2ms/step - loss: 0.0238 - accuracy: 0.9914 - val_loss: 1.1397 - val_accuracy: 0.8926\n",
            "Epoch 19/30\n",
            "430/430 [==============================] - 1s 2ms/step - loss: 0.0298 - accuracy: 0.9897 - val_loss: 1.1044 - val_accuracy: 0.8930\n",
            "Epoch 20/30\n",
            "430/430 [==============================] - 1s 2ms/step - loss: 0.0265 - accuracy: 0.9900 - val_loss: 1.0989 - val_accuracy: 0.8968\n",
            "Epoch 21/30\n",
            "430/430 [==============================] - 1s 2ms/step - loss: 0.0235 - accuracy: 0.9916 - val_loss: 1.0881 - val_accuracy: 0.8958\n",
            "Epoch 22/30\n",
            "430/430 [==============================] - 1s 2ms/step - loss: 0.0236 - accuracy: 0.9915 - val_loss: 1.0994 - val_accuracy: 0.8932\n",
            "Epoch 23/30\n",
            "430/430 [==============================] - 1s 2ms/step - loss: 0.0236 - accuracy: 0.9914 - val_loss: 1.1315 - val_accuracy: 0.8974\n",
            "Epoch 24/30\n",
            "430/430 [==============================] - 1s 2ms/step - loss: 0.0253 - accuracy: 0.9909 - val_loss: 1.1280 - val_accuracy: 0.8962\n",
            "Epoch 25/30\n",
            "430/430 [==============================] - 1s 2ms/step - loss: 0.0257 - accuracy: 0.9910 - val_loss: 1.1047 - val_accuracy: 0.8944\n",
            "Epoch 26/30\n",
            "430/430 [==============================] - 1s 2ms/step - loss: 0.0218 - accuracy: 0.9923 - val_loss: 1.1726 - val_accuracy: 0.8942\n",
            "Epoch 27/30\n",
            "430/430 [==============================] - 1s 2ms/step - loss: 0.0215 - accuracy: 0.9922 - val_loss: 1.1261 - val_accuracy: 0.8952\n",
            "Epoch 28/30\n",
            "430/430 [==============================] - 1s 2ms/step - loss: 0.0275 - accuracy: 0.9898 - val_loss: 1.1176 - val_accuracy: 0.8950\n",
            "Epoch 29/30\n",
            "430/430 [==============================] - 1s 2ms/step - loss: 0.0187 - accuracy: 0.9935 - val_loss: 1.1582 - val_accuracy: 0.8976\n",
            "Epoch 30/30\n",
            "430/430 [==============================] - 1s 2ms/step - loss: 0.0235 - accuracy: 0.9916 - val_loss: 1.1836 - val_accuracy: 0.8924\n"
          ],
          "name": "stdout"
        }
      ]
    },
    {
      "cell_type": "code",
      "metadata": {
        "colab": {
          "base_uri": "https://localhost:8080/"
        },
        "id": "RugjMQcEODIL",
        "outputId": "24ea3666-f584-4725-d798-607ce338bddf"
      },
      "source": [
        "model.evaluate(X_test, y_test)"
      ],
      "execution_count": 59,
      "outputs": [
        {
          "output_type": "stream",
          "text": [
            "313/313 [==============================] - 1s 2ms/step - loss: 1.1939 - accuracy: 0.8897\n"
          ],
          "name": "stdout"
        },
        {
          "output_type": "execute_result",
          "data": {
            "text/plain": [
              "[1.193876028060913, 0.8896999955177307]"
            ]
          },
          "metadata": {
            "tags": []
          },
          "execution_count": 59
        }
      ]
    },
    {
      "cell_type": "code",
      "metadata": {
        "colab": {
          "base_uri": "https://localhost:8080/",
          "height": 942
        },
        "id": "--gir5UjODFe",
        "outputId": "21f25b78-1271-4950-d50d-5394b7e17bae"
      },
      "source": [
        "pd.DataFrame(history4.history).plot(figsize=(8, 5))\n",
        "pd.DataFrame(history5.history).plot(figsize=(8, 5))\n",
        "pd.DataFrame(history6.history).plot(figsize=(8, 5))\n",
        "plt.grid(True)\n",
        "plt.gca().set_ylim(0, 1)\n",
        "plt.show()"
      ],
      "execution_count": 60,
      "outputs": [
        {
          "output_type": "display_data",
          "data": {
            "image/png": "[encoded data removed]",
            "text/plain": [
              "<Figure size 576x360 with 1 Axes>"
            ]
          },
          "metadata": {
            "tags": [],
            "needs_background": "light"
          }
        },
        {
          "output_type": "display_data",
          "data": {
            "image/png": "[encoded data removed]",
            "text/plain": [
              "<Figure size 576x360 with 1 Axes>"
            ]
          },
          "metadata": {
            "tags": [],
            "needs_background": "light"
          }
        },
        {
          "output_type": "display_data",
          "data": {
            "image/png": "[encoded data removed]",
            "text/plain": [
              "<Figure size 576x360 with 1 Axes>"
            ]
          },
          "metadata": {
            "tags": [],
            "needs_background": "light"
          }
        }
      ]
    },
    {
      "cell_type": "markdown",
      "metadata": {
        "id": "r7bl4BpvRC-6"
      },
      "source": [
        "\n",
        "**3) Plot Learning curves when using different number of epochs**\n",
        "\n",
        "epochs=10\n"
      ]
    },
    {
      "cell_type": "code",
      "metadata": {
        "colab": {
          "base_uri": "https://localhost:8080/"
        },
        "id": "MiQ-J977ODDl",
        "outputId": "a7943e50-166a-4581-c588-fbd7c2d1a6d5"
      },
      "source": [
        "history7 = model.fit(X_train, y_train, batch_size=32, epochs=10,\n",
        "                    validation_data=(X_valid, y_valid))"
      ],
      "execution_count": 61,
      "outputs": [
        {
          "output_type": "stream",
          "text": [
            "Epoch 1/10\n",
            "1719/1719 [==============================] - 4s 2ms/step - loss: 0.1017 - accuracy: 0.9693 - val_loss: 1.0481 - val_accuracy: 0.8908\n",
            "Epoch 2/10\n",
            "1719/1719 [==============================] - 4s 2ms/step - loss: 0.0500 - accuracy: 0.9826 - val_loss: 1.0409 - val_accuracy: 0.8950\n",
            "Epoch 3/10\n",
            "1719/1719 [==============================] - 4s 2ms/step - loss: 0.0569 - accuracy: 0.9793 - val_loss: 0.9929 - val_accuracy: 0.8938\n",
            "Epoch 4/10\n",
            "1719/1719 [==============================] - 4s 2ms/step - loss: 0.0536 - accuracy: 0.9809 - val_loss: 0.9715 - val_accuracy: 0.8920\n",
            "Epoch 5/10\n",
            "1719/1719 [==============================] - 4s 2ms/step - loss: 0.0522 - accuracy: 0.9809 - val_loss: 0.9775 - val_accuracy: 0.8908\n",
            "Epoch 6/10\n",
            "1719/1719 [==============================] - 4s 2ms/step - loss: 0.0513 - accuracy: 0.9814 - val_loss: 0.9268 - val_accuracy: 0.8940\n",
            "Epoch 7/10\n",
            "1719/1719 [==============================] - 4s 2ms/step - loss: 0.0496 - accuracy: 0.9813 - val_loss: 0.9512 - val_accuracy: 0.8908\n",
            "Epoch 8/10\n",
            "1719/1719 [==============================] - 4s 2ms/step - loss: 0.0502 - accuracy: 0.9823 - val_loss: 0.9642 - val_accuracy: 0.8922\n",
            "Epoch 9/10\n",
            "1719/1719 [==============================] - 4s 2ms/step - loss: 0.0500 - accuracy: 0.9822 - val_loss: 0.9585 - val_accuracy: 0.8928\n",
            "Epoch 10/10\n",
            "1719/1719 [==============================] - 4s 2ms/step - loss: 0.0535 - accuracy: 0.9805 - val_loss: 0.9449 - val_accuracy: 0.8906\n"
          ],
          "name": "stdout"
        }
      ]
    },
    {
      "cell_type": "code",
      "metadata": {
        "colab": {
          "base_uri": "https://localhost:8080/"
        },
        "id": "0ELf6HpCODAq",
        "outputId": "2277d094-149d-461f-93ea-208d9b9def8e"
      },
      "source": [
        "model.evaluate(X_test, y_test)"
      ],
      "execution_count": 62,
      "outputs": [
        {
          "output_type": "stream",
          "text": [
            "313/313 [==============================] - 1s 2ms/step - loss: 0.9755 - accuracy: 0.8834\n"
          ],
          "name": "stdout"
        },
        {
          "output_type": "execute_result",
          "data": {
            "text/plain": [
              "[0.9755067229270935, 0.883400022983551]"
            ]
          },
          "metadata": {
            "tags": []
          },
          "execution_count": 62
        }
      ]
    },
    {
      "cell_type": "code",
      "metadata": {
        "colab": {
          "base_uri": "https://localhost:8080/"
        },
        "id": "YhHvj6HDOC9u",
        "outputId": "b45070b7-3297-40aa-d7a8-17938b4e88eb"
      },
      "source": [
        "history8 = model.fit(X_train, y_train, batch_size=32, epochs=40,\n",
        "                    validation_data=(X_valid, y_valid))"
      ],
      "execution_count": 63,
      "outputs": [
        {
          "output_type": "stream",
          "text": [
            "Epoch 1/40\n",
            "1719/1719 [==============================] - 4s 2ms/step - loss: 0.0495 - accuracy: 0.9826 - val_loss: 0.9345 - val_accuracy: 0.8830\n",
            "Epoch 2/40\n",
            "1719/1719 [==============================] - 4s 2ms/step - loss: 0.0527 - accuracy: 0.9811 - val_loss: 0.9328 - val_accuracy: 0.8938\n",
            "Epoch 3/40\n",
            "1719/1719 [==============================] - 4s 2ms/step - loss: 0.0504 - accuracy: 0.9815 - val_loss: 0.9966 - val_accuracy: 0.8922\n",
            "Epoch 4/40\n",
            "1719/1719 [==============================] - 4s 2ms/step - loss: 0.0433 - accuracy: 0.9847 - val_loss: 0.9176 - val_accuracy: 0.8906\n",
            "Epoch 5/40\n",
            "1719/1719 [==============================] - 4s 2ms/step - loss: 0.0468 - accuracy: 0.9833 - val_loss: 1.0060 - val_accuracy: 0.8940\n",
            "Epoch 6/40\n",
            "1719/1719 [==============================] - 4s 2ms/step - loss: 0.0528 - accuracy: 0.9809 - val_loss: 0.9217 - val_accuracy: 0.8886\n",
            "Epoch 7/40\n",
            "1719/1719 [==============================] - 4s 2ms/step - loss: 0.0444 - accuracy: 0.9843 - val_loss: 1.0276 - val_accuracy: 0.8936\n",
            "Epoch 8/40\n",
            "1719/1719 [==============================] - 4s 2ms/step - loss: 0.0450 - accuracy: 0.9841 - val_loss: 0.9559 - val_accuracy: 0.8908\n",
            "Epoch 9/40\n",
            "1719/1719 [==============================] - 4s 2ms/step - loss: 0.0487 - accuracy: 0.9831 - val_loss: 0.9835 - val_accuracy: 0.8968\n",
            "Epoch 10/40\n",
            "1719/1719 [==============================] - 4s 2ms/step - loss: 0.0512 - accuracy: 0.9816 - val_loss: 0.9368 - val_accuracy: 0.8940\n",
            "Epoch 11/40\n",
            "1719/1719 [==============================] - 4s 2ms/step - loss: 0.0418 - accuracy: 0.9848 - val_loss: 1.0432 - val_accuracy: 0.8926\n",
            "Epoch 12/40\n",
            "1719/1719 [==============================] - 4s 2ms/step - loss: 0.0455 - accuracy: 0.9839 - val_loss: 1.1016 - val_accuracy: 0.8882\n",
            "Epoch 13/40\n",
            "1719/1719 [==============================] - 4s 2ms/step - loss: 0.0498 - accuracy: 0.9821 - val_loss: 0.9432 - val_accuracy: 0.8958\n",
            "Epoch 14/40\n",
            "1719/1719 [==============================] - 4s 2ms/step - loss: 0.0401 - accuracy: 0.9845 - val_loss: 1.0221 - val_accuracy: 0.8928\n",
            "Epoch 15/40\n",
            "1719/1719 [==============================] - 4s 2ms/step - loss: 0.0501 - accuracy: 0.9821 - val_loss: 1.0277 - val_accuracy: 0.8858\n",
            "Epoch 16/40\n",
            "1719/1719 [==============================] - 4s 2ms/step - loss: 0.0435 - accuracy: 0.9841 - val_loss: 1.0712 - val_accuracy: 0.8878\n",
            "Epoch 17/40\n",
            "1719/1719 [==============================] - 4s 2ms/step - loss: 0.0421 - accuracy: 0.9847 - val_loss: 1.0478 - val_accuracy: 0.8864\n",
            "Epoch 18/40\n",
            "1719/1719 [==============================] - 4s 2ms/step - loss: 0.0409 - accuracy: 0.9857 - val_loss: 1.0490 - val_accuracy: 0.8928\n",
            "Epoch 19/40\n",
            "1719/1719 [==============================] - 4s 2ms/step - loss: 0.0440 - accuracy: 0.9841 - val_loss: 1.0783 - val_accuracy: 0.8896\n",
            "Epoch 20/40\n",
            "1719/1719 [==============================] - 4s 2ms/step - loss: 0.0440 - accuracy: 0.9848 - val_loss: 1.0023 - val_accuracy: 0.8956\n",
            "Epoch 21/40\n",
            "1719/1719 [==============================] - 4s 2ms/step - loss: 0.0417 - accuracy: 0.9857 - val_loss: 1.1205 - val_accuracy: 0.8884\n",
            "Epoch 22/40\n",
            "1719/1719 [==============================] - 4s 2ms/step - loss: 0.0404 - accuracy: 0.9859 - val_loss: 1.1044 - val_accuracy: 0.8902\n",
            "Epoch 23/40\n",
            "1719/1719 [==============================] - 4s 2ms/step - loss: 0.0404 - accuracy: 0.9851 - val_loss: 1.0549 - val_accuracy: 0.8940\n",
            "Epoch 24/40\n",
            "1719/1719 [==============================] - 4s 2ms/step - loss: 0.0394 - accuracy: 0.9847 - val_loss: 1.0536 - val_accuracy: 0.8848\n",
            "Epoch 25/40\n",
            "1719/1719 [==============================] - 4s 2ms/step - loss: 0.0447 - accuracy: 0.9846 - val_loss: 1.0745 - val_accuracy: 0.8936\n",
            "Epoch 26/40\n",
            "1719/1719 [==============================] - 4s 2ms/step - loss: 0.0382 - accuracy: 0.9864 - val_loss: 0.9832 - val_accuracy: 0.8936\n",
            "Epoch 27/40\n",
            "1719/1719 [==============================] - 4s 2ms/step - loss: 0.0416 - accuracy: 0.9855 - val_loss: 0.9961 - val_accuracy: 0.8874\n",
            "Epoch 28/40\n",
            "1719/1719 [==============================] - 4s 2ms/step - loss: 0.0375 - accuracy: 0.9857 - val_loss: 1.1029 - val_accuracy: 0.8944\n",
            "Epoch 29/40\n",
            "1719/1719 [==============================] - 4s 2ms/step - loss: 0.0427 - accuracy: 0.9853 - val_loss: 1.1175 - val_accuracy: 0.8908\n",
            "Epoch 30/40\n",
            "1719/1719 [==============================] - 4s 2ms/step - loss: 0.0367 - accuracy: 0.9870 - val_loss: 1.0878 - val_accuracy: 0.8892\n",
            "Epoch 31/40\n",
            "1719/1719 [==============================] - 4s 2ms/step - loss: 0.0394 - accuracy: 0.9858 - val_loss: 1.0355 - val_accuracy: 0.8900\n",
            "Epoch 32/40\n",
            "1719/1719 [==============================] - 4s 2ms/step - loss: 0.0385 - accuracy: 0.9865 - val_loss: 1.1484 - val_accuracy: 0.8900\n",
            "Epoch 33/40\n",
            "1719/1719 [==============================] - 4s 2ms/step - loss: 0.0416 - accuracy: 0.9849 - val_loss: 1.0702 - val_accuracy: 0.8920\n",
            "Epoch 34/40\n",
            "1719/1719 [==============================] - 4s 2ms/step - loss: 0.0358 - accuracy: 0.9873 - val_loss: 1.0823 - val_accuracy: 0.8950\n",
            "Epoch 35/40\n",
            "1719/1719 [==============================] - 4s 2ms/step - loss: 0.0376 - accuracy: 0.9865 - val_loss: 1.0862 - val_accuracy: 0.8950\n",
            "Epoch 36/40\n",
            "1719/1719 [==============================] - 4s 2ms/step - loss: 0.0420 - accuracy: 0.9859 - val_loss: 1.0829 - val_accuracy: 0.8896\n",
            "Epoch 37/40\n",
            "1719/1719 [==============================] - 4s 2ms/step - loss: 0.0351 - accuracy: 0.9877 - val_loss: 1.1268 - val_accuracy: 0.8956\n",
            "Epoch 38/40\n",
            "1719/1719 [==============================] - 4s 2ms/step - loss: 0.0388 - accuracy: 0.9869 - val_loss: 1.2030 - val_accuracy: 0.8866\n",
            "Epoch 39/40\n",
            "1719/1719 [==============================] - 4s 2ms/step - loss: 0.0379 - accuracy: 0.9872 - val_loss: 1.1406 - val_accuracy: 0.8904\n",
            "Epoch 40/40\n",
            "1719/1719 [==============================] - 4s 2ms/step - loss: 0.0315 - accuracy: 0.9886 - val_loss: 1.1025 - val_accuracy: 0.8930\n"
          ],
          "name": "stdout"
        }
      ]
    },
    {
      "cell_type": "code",
      "metadata": {
        "colab": {
          "base_uri": "https://localhost:8080/"
        },
        "id": "6AUDEfoHTVp2",
        "outputId": "9b9aca53-0a9d-45df-be47-a6784fea2f70"
      },
      "source": [
        "model.evaluate(X_test, y_test)"
      ],
      "execution_count": 64,
      "outputs": [
        {
          "output_type": "stream",
          "text": [
            "313/313 [==============================] - 1s 2ms/step - loss: 1.1435 - accuracy: 0.8854\n"
          ],
          "name": "stdout"
        },
        {
          "output_type": "execute_result",
          "data": {
            "text/plain": [
              "[1.1435441970825195, 0.8853999972343445]"
            ]
          },
          "metadata": {
            "tags": []
          },
          "execution_count": 64
        }
      ]
    },
    {
      "cell_type": "code",
      "metadata": {
        "colab": {
          "base_uri": "https://localhost:8080/",
          "height": 634
        },
        "id": "ADIlPlShTVz5",
        "outputId": "faecd80a-d004-4fd7-f1f3-f5afe94e414c"
      },
      "source": [
        "pd.DataFrame(history7.history).plot(figsize=(8, 5))\n",
        "pd.DataFrame(history8.history).plot(figsize=(8, 5))\n",
        "plt.grid(True)\n",
        "plt.gca().set_ylim(0, 1)\n",
        "plt.show()"
      ],
      "execution_count": 65,
      "outputs": [
        {
          "output_type": "display_data",
          "data": {
            "image/png": "[encoded data removed]",
            "text/plain": [
              "<Figure size 576x360 with 1 Axes>"
            ]
          },
          "metadata": {
            "tags": [],
            "needs_background": "light"
          }
        },
        {
          "output_type": "display_data",
          "data": {
            "image/png": "[encoded data removed]",
            "text/plain": [
              "<Figure size 576x360 with 1 Axes>"
            ]
          },
          "metadata": {
            "tags": [],
            "needs_background": "light"
          }
        }
      ]
    },
    {
      "cell_type": "markdown",
      "metadata": {
        "id": "zWr4mtkwUaZg"
      },
      "source": [
        "**4) repeat with more layers**"
      ]
    },
    {
      "cell_type": "code",
      "metadata": {
        "id": "y-0v3v1gTV_G"
      },
      "source": [
        "model = keras.models.Sequential()\n",
        "model.add(keras.layers.Flatten(input_shape=[28, 28]))\n",
        "model.add(keras.layers.Dense(200, activation=\"relu\"))\n",
        "model.add((keras.layers.Dropout(0.5)))\n",
        "model.add(keras.layers.Dense(150, activation=\"relu\"))\n",
        "model.add((keras.layers.Dropout(0.5)))\n",
        "model.add(keras.layers.Dense(80, activation=\"relu\"))\n",
        "model.add(keras.layers.Dense(50, activation=\"relu\"))\n",
        "model.add(keras.layers.BatchNormalization())\n",
        "model.add(keras.layers.Dense(10, activation=\"softmax\"))"
      ],
      "execution_count": 66,
      "outputs": []
    },
    {
      "cell_type": "code",
      "metadata": {
        "colab": {
          "base_uri": "https://localhost:8080/"
        },
        "id": "zl7U7NwrTWRK",
        "outputId": "5ffb6366-9a0f-47cc-e7d9-d2f439cb5978"
      },
      "source": [
        "model.layers"
      ],
      "execution_count": 67,
      "outputs": [
        {
          "output_type": "execute_result",
          "data": {
            "text/plain": [
              "[<tensorflow.python.keras.layers.core.Flatten at 0x7f56e7ff3240>,\n",
              " <tensorflow.python.keras.layers.core.Dense at 0x7f56e83cfc88>,\n",
              " <tensorflow.python.keras.layers.core.Dropout at 0x7f56e875dcf8>,\n",
              " <tensorflow.python.keras.layers.core.Dense at 0x7f56e80c0278>,\n",
              " <tensorflow.python.keras.layers.core.Dropout at 0x7f56e84a6b00>,\n",
              " <tensorflow.python.keras.layers.core.Dense at 0x7f568a2584e0>,\n",
              " <tensorflow.python.keras.layers.core.Dense at 0x7f56e88fc198>,\n",
              " <tensorflow.python.keras.layers.normalization_v2.BatchNormalization at 0x7f56e88fc2e8>,\n",
              " <tensorflow.python.keras.layers.core.Dense at 0x7f56e88fcc18>]"
            ]
          },
          "metadata": {
            "tags": []
          },
          "execution_count": 67
        }
      ]
    },
    {
      "cell_type": "code",
      "metadata": {
        "id": "Gwmz-k9gTWeh"
      },
      "source": [
        "model.compile(loss=\"sparse_categorical_crossentropy\",\n",
        "              optimizer=\"sgd\",\n",
        "              metrics=[\"accuracy\"])"
      ],
      "execution_count": 68,
      "outputs": []
    },
    {
      "cell_type": "code",
      "metadata": {
        "colab": {
          "base_uri": "https://localhost:8080/"
        },
        "id": "RL2G4Ll3TWOm",
        "outputId": "2bdf5081-d426-4066-a87b-514c0a04d981"
      },
      "source": [
        "history9 = model.fit(X_train, y_train, batch_size=32, epochs=30,\n",
        "                    validation_data=(X_valid, y_valid))"
      ],
      "execution_count": 69,
      "outputs": [
        {
          "output_type": "stream",
          "text": [
            "Epoch 1/30\n",
            "1719/1719 [==============================] - 5s 3ms/step - loss: 1.0525 - accuracy: 0.6123 - val_loss: 0.5779 - val_accuracy: 0.7980\n",
            "Epoch 2/30\n",
            "1719/1719 [==============================] - 5s 3ms/step - loss: 0.7047 - accuracy: 0.7429 - val_loss: 0.4867 - val_accuracy: 0.8264\n",
            "Epoch 3/30\n",
            "1719/1719 [==============================] - 5s 3ms/step - loss: 0.6182 - accuracy: 0.7784 - val_loss: 0.4409 - val_accuracy: 0.8450\n",
            "Epoch 4/30\n",
            "1719/1719 [==============================] - 5s 3ms/step - loss: 0.5729 - accuracy: 0.7980 - val_loss: 0.4168 - val_accuracy: 0.8536\n",
            "Epoch 5/30\n",
            "1719/1719 [==============================] - 5s 3ms/step - loss: 0.5455 - accuracy: 0.8086 - val_loss: 0.3986 - val_accuracy: 0.8612\n",
            "Epoch 6/30\n",
            "1719/1719 [==============================] - 5s 3ms/step - loss: 0.5197 - accuracy: 0.8170 - val_loss: 0.3865 - val_accuracy: 0.8654\n",
            "Epoch 7/30\n",
            "1719/1719 [==============================] - 5s 3ms/step - loss: 0.4998 - accuracy: 0.8253 - val_loss: 0.3773 - val_accuracy: 0.8686\n",
            "Epoch 8/30\n",
            "1719/1719 [==============================] - 5s 3ms/step - loss: 0.4868 - accuracy: 0.8287 - val_loss: 0.3775 - val_accuracy: 0.8688\n",
            "Epoch 9/30\n",
            "1719/1719 [==============================] - 5s 3ms/step - loss: 0.4710 - accuracy: 0.8343 - val_loss: 0.3633 - val_accuracy: 0.8698\n",
            "Epoch 10/30\n",
            "1719/1719 [==============================] - 5s 3ms/step - loss: 0.4645 - accuracy: 0.8368 - val_loss: 0.3700 - val_accuracy: 0.8672\n",
            "Epoch 11/30\n",
            "1719/1719 [==============================] - 5s 3ms/step - loss: 0.4540 - accuracy: 0.8403 - val_loss: 0.3722 - val_accuracy: 0.8696\n",
            "Epoch 12/30\n",
            "1719/1719 [==============================] - 5s 3ms/step - loss: 0.4446 - accuracy: 0.8447 - val_loss: 0.3455 - val_accuracy: 0.8770\n",
            "Epoch 13/30\n",
            "1719/1719 [==============================] - 5s 3ms/step - loss: 0.4364 - accuracy: 0.8465 - val_loss: 0.3514 - val_accuracy: 0.8756\n",
            "Epoch 14/30\n",
            "1719/1719 [==============================] - 5s 3ms/step - loss: 0.4283 - accuracy: 0.8484 - val_loss: 0.3520 - val_accuracy: 0.8760\n",
            "Epoch 15/30\n",
            "1719/1719 [==============================] - 5s 3ms/step - loss: 0.4204 - accuracy: 0.8533 - val_loss: 0.3385 - val_accuracy: 0.8808\n",
            "Epoch 16/30\n",
            "1719/1719 [==============================] - 5s 3ms/step - loss: 0.4208 - accuracy: 0.8527 - val_loss: 0.3441 - val_accuracy: 0.8806\n",
            "Epoch 17/30\n",
            "1719/1719 [==============================] - 5s 3ms/step - loss: 0.4152 - accuracy: 0.8532 - val_loss: 0.3390 - val_accuracy: 0.8820\n",
            "Epoch 18/30\n",
            "1719/1719 [==============================] - 5s 3ms/step - loss: 0.4113 - accuracy: 0.8542 - val_loss: 0.3286 - val_accuracy: 0.8820\n",
            "Epoch 19/30\n",
            "1719/1719 [==============================] - 5s 3ms/step - loss: 0.4027 - accuracy: 0.8580 - val_loss: 0.3297 - val_accuracy: 0.8836\n",
            "Epoch 20/30\n",
            "1719/1719 [==============================] - 5s 3ms/step - loss: 0.4007 - accuracy: 0.8585 - val_loss: 0.3294 - val_accuracy: 0.8838\n",
            "Epoch 21/30\n",
            "1719/1719 [==============================] - 5s 3ms/step - loss: 0.3945 - accuracy: 0.8609 - val_loss: 0.3297 - val_accuracy: 0.8802\n",
            "Epoch 22/30\n",
            "1719/1719 [==============================] - 5s 3ms/step - loss: 0.3899 - accuracy: 0.8616 - val_loss: 0.3376 - val_accuracy: 0.8830\n",
            "Epoch 23/30\n",
            "1719/1719 [==============================] - 5s 3ms/step - loss: 0.3865 - accuracy: 0.8628 - val_loss: 0.3335 - val_accuracy: 0.8814\n",
            "Epoch 24/30\n",
            "1719/1719 [==============================] - 5s 3ms/step - loss: 0.3830 - accuracy: 0.8653 - val_loss: 0.3248 - val_accuracy: 0.8842\n",
            "Epoch 25/30\n",
            "1719/1719 [==============================] - 5s 3ms/step - loss: 0.3814 - accuracy: 0.8651 - val_loss: 0.3234 - val_accuracy: 0.8850\n",
            "Epoch 26/30\n",
            "1719/1719 [==============================] - 5s 3ms/step - loss: 0.3789 - accuracy: 0.8671 - val_loss: 0.3244 - val_accuracy: 0.8824\n",
            "Epoch 27/30\n",
            "1719/1719 [==============================] - 5s 3ms/step - loss: 0.3757 - accuracy: 0.8658 - val_loss: 0.3216 - val_accuracy: 0.8842\n",
            "Epoch 28/30\n",
            "1719/1719 [==============================] - 5s 3ms/step - loss: 0.3736 - accuracy: 0.8683 - val_loss: 0.3233 - val_accuracy: 0.8840\n",
            "Epoch 29/30\n",
            "1719/1719 [==============================] - 5s 3ms/step - loss: 0.3668 - accuracy: 0.8705 - val_loss: 0.3302 - val_accuracy: 0.8808\n",
            "Epoch 30/30\n",
            "1719/1719 [==============================] - 5s 3ms/step - loss: 0.3689 - accuracy: 0.8698 - val_loss: 0.3221 - val_accuracy: 0.8844\n"
          ],
          "name": "stdout"
        }
      ]
    },
    {
      "cell_type": "code",
      "metadata": {
        "colab": {
          "base_uri": "https://localhost:8080/"
        },
        "id": "NpCjzrcrTWMZ",
        "outputId": "63ec7ad3-df7d-4846-feb1-67b2b9166734"
      },
      "source": [
        "model.evaluate(X_test, y_test)"
      ],
      "execution_count": 70,
      "outputs": [
        {
          "output_type": "stream",
          "text": [
            "313/313 [==============================] - 1s 2ms/step - loss: 0.3626 - accuracy: 0.8734\n"
          ],
          "name": "stdout"
        },
        {
          "output_type": "execute_result",
          "data": {
            "text/plain": [
              "[0.36259594559669495, 0.8733999729156494]"
            ]
          },
          "metadata": {
            "tags": []
          },
          "execution_count": 70
        }
      ]
    },
    {
      "cell_type": "code",
      "metadata": {
        "colab": {
          "base_uri": "https://localhost:8080/",
          "height": 328
        },
        "id": "nkFFiGKDTWI_",
        "outputId": "8d647c53-d25b-4042-9bbc-3ff5692c7463"
      },
      "source": [
        "pd.DataFrame(history9.history).plot(figsize=(8, 5))\n",
        "plt.grid(True)\n",
        "plt.gca().set_ylim(0, 1)\n",
        "plt.show()"
      ],
      "execution_count": 71,
      "outputs": [
        {
          "output_type": "display_data",
          "data": {
            "image/png": "[encoded data removed]",
            "text/plain": [
              "<Figure size 576x360 with 1 Axes>"
            ]
          },
          "metadata": {
            "tags": [],
            "needs_background": "light"
          }
        }
      ]
    },
    {
      "cell_type": "markdown",
      "metadata": {
        "id": "BdnAEZWAYlC-"
      },
      "source": [
        "**5) apply on different datasets**"
      ]
    },
    {
      "cell_type": "code",
      "metadata": {
        "id": "R6MlAFmuTWG-",
        "colab": {
          "base_uri": "https://localhost:8080/"
        },
        "outputId": "e0982da0-4cbc-40c9-f5df-b1714da8418d"
      },
      "source": [
        "data = keras.datasets.mnist\n",
        "(X_train_full, y_train_full), (X_test, y_test) = data.load_data()"
      ],
      "execution_count": 72,
      "outputs": [
        {
          "output_type": "stream",
          "text": [
            "Downloading data from https://storage.googleapis.com/tensorflow/tf-keras-datasets/mnist.npz\n",
            "11493376/11490434 [==============================] - 0s 0us/step\n"
          ],
          "name": "stdout"
        }
      ]
    },
    {
      "cell_type": "code",
      "metadata": {
        "colab": {
          "base_uri": "https://localhost:8080/"
        },
        "id": "3mMMDEBFdwfu",
        "outputId": "ca2d2c01-bc00-432e-f9c4-1292a3c72e7c"
      },
      "source": [
        "X_train_full.shape"
      ],
      "execution_count": 73,
      "outputs": [
        {
          "output_type": "execute_result",
          "data": {
            "text/plain": [
              "(60000, 28, 28)"
            ]
          },
          "metadata": {
            "tags": []
          },
          "execution_count": 73
        }
      ]
    },
    {
      "cell_type": "code",
      "metadata": {
        "id": "I5NF8QHqdwcj",
        "colab": {
          "base_uri": "https://localhost:8080/"
        },
        "outputId": "05d958a0-61e7-4099-cc74-d7bd0cafe3c1"
      },
      "source": [
        "y_train_full"
      ],
      "execution_count": 74,
      "outputs": [
        {
          "output_type": "execute_result",
          "data": {
            "text/plain": [
              "array([5, 0, 4, ..., 5, 6, 8], dtype=uint8)"
            ]
          },
          "metadata": {
            "tags": []
          },
          "execution_count": 74
        }
      ]
    },
    {
      "cell_type": "code",
      "metadata": {
        "id": "46r8vpBGdwZx"
      },
      "source": [
        "X_valid, X_train = X_train_full[:10000] / 255., X_train_full[10000:] / 255.\n",
        "y_valid, y_train = y_train_full[:10000], y_train_full[10000:]\n",
        "X_test = X_test / 255."
      ],
      "execution_count": 75,
      "outputs": []
    },
    {
      "cell_type": "code",
      "metadata": {
        "id": "GONxQyBpdwW7"
      },
      "source": [
        "class_names = [\"0\", \"1\", \"2\", \"3\", \"4\",\"5\", \"6\", \"7\", \"8\", \"9\"]"
      ],
      "execution_count": 76,
      "outputs": []
    },
    {
      "cell_type": "code",
      "metadata": {
        "colab": {
          "base_uri": "https://localhost:8080/",
          "height": 35
        },
        "id": "fRuyFeQgYKuL",
        "outputId": "5ce93219-7c7d-487d-8273-e36ed45afdc1"
      },
      "source": [
        "class_names[y_train[0]]"
      ],
      "execution_count": 77,
      "outputs": [
        {
          "output_type": "execute_result",
          "data": {
            "application/vnd.google.colaboratory.intrinsic+json": {
              "type": "string"
            },
            "text/plain": [
              "'3'"
            ]
          },
          "metadata": {
            "tags": []
          },
          "execution_count": 77
        }
      ]
    },
    {
      "cell_type": "code",
      "metadata": {
        "colab": {
          "base_uri": "https://localhost:8080/",
          "height": 308
        },
        "id": "Yf6yEZ9jYLAt",
        "outputId": "027cda58-7252-42e8-caa1-207990341383"
      },
      "source": [
        "n_rows = 4\n",
        "n_cols = 10\n",
        "plt.figure(figsize=(n_cols * 1.2, n_rows * 1.2))\n",
        "for row in range(n_rows):\n",
        "    for col in range(n_cols):\n",
        "        index = n_cols * row + col\n",
        "        plt.subplot(n_rows, n_cols, index + 1)\n",
        "        plt.imshow(X_train[index], cmap=\"binary\", interpolation=\"nearest\")\n",
        "        plt.axis('off')\n",
        "        plt.title(class_names[y_train[index]], fontsize=12)\n",
        "plt.subplots_adjust(wspace=0.1, hspace=0.5)\n",
        "plt.show()"
      ],
      "execution_count": 78,
      "outputs": [
        {
          "output_type": "display_data",
          "data": {
            "image/png": "[encoded data removed]",
            "text/plain": [
              "<Figure size 864x345.6 with 40 Axes>"
            ]
          },
          "metadata": {
            "tags": [],
            "needs_background": "light"
          }
        }
      ]
    },
    {
      "cell_type": "code",
      "metadata": {
        "id": "cI-CIq6kYK-6"
      },
      "source": [
        "model = keras.models.Sequential()\n",
        "model.add(keras.layers.Flatten(input_shape=[28, 28]))\n",
        "model.add(keras.layers.Dense(300, activation=\"relu\"))\n",
        "model.add((keras.layers.Dropout(0.5)))\n",
        "model.add(keras.layers.Dense(200, activation=\"relu\"))\n",
        "model.add(keras.layers.Dense(10, activation=\"softmax\"))\n",
        "model.add(keras.layers.BatchNormalization())\n",
        "model.add(keras.layers.Dense(10, activation=\"softmax\"))"
      ],
      "execution_count": 79,
      "outputs": []
    },
    {
      "cell_type": "code",
      "metadata": {
        "id": "I7LVYK5TYK9P"
      },
      "source": [
        "keras.backend.clear_session()\n",
        "np.random.seed(42)"
      ],
      "execution_count": 80,
      "outputs": []
    },
    {
      "cell_type": "code",
      "metadata": {
        "colab": {
          "base_uri": "https://localhost:8080/"
        },
        "id": "vOycRkK4YKrc",
        "outputId": "8ab658ee-32c9-489f-dca8-82a9529d80bc"
      },
      "source": [
        "model.layers"
      ],
      "execution_count": 81,
      "outputs": [
        {
          "output_type": "execute_result",
          "data": {
            "text/plain": [
              "[<tensorflow.python.keras.layers.core.Flatten at 0x7f5678498dd8>,\n",
              " <tensorflow.python.keras.layers.core.Dense at 0x7f567844d9e8>,\n",
              " <tensorflow.python.keras.layers.core.Dropout at 0x7f56784a8320>,\n",
              " <tensorflow.python.keras.layers.core.Dense at 0x7f56784a8ac8>,\n",
              " <tensorflow.python.keras.layers.core.Dense at 0x7f567840cd68>,\n",
              " <tensorflow.python.keras.layers.normalization_v2.BatchNormalization at 0x7f56784102b0>,\n",
              " <tensorflow.python.keras.layers.core.Dense at 0x7f56784105f8>]"
            ]
          },
          "metadata": {
            "tags": []
          },
          "execution_count": 81
        }
      ]
    },
    {
      "cell_type": "code",
      "metadata": {
        "colab": {
          "base_uri": "https://localhost:8080/"
        },
        "id": "w2rr4t4eYKpw",
        "outputId": "c9d9a174-c64e-484c-ce91-8f12246368db"
      },
      "source": [
        "model.summary()"
      ],
      "execution_count": 82,
      "outputs": [
        {
          "output_type": "stream",
          "text": [
            "Model: \"sequential_1\"\n",
            "_________________________________________________________________\n",
            "Layer (type)                 Output Shape              Param #   \n",
            "=================================================================\n",
            "flatten_1 (Flatten)          (None, 784)               0         \n",
            "_________________________________________________________________\n",
            "dense_5 (Dense)              (None, 300)               235500    \n",
            "_________________________________________________________________\n",
            "dropout_2 (Dropout)          (None, 300)               0         \n",
            "_________________________________________________________________\n",
            "dense_6 (Dense)              (None, 200)               60200     \n",
            "_________________________________________________________________\n",
            "dense_7 (Dense)              (None, 10)                2010      \n",
            "_________________________________________________________________\n",
            "batch_normalization_1 (Batch (None, 10)                40        \n",
            "_________________________________________________________________\n",
            "dense_8 (Dense)              (None, 10)                110       \n",
            "=================================================================\n",
            "Total params: 297,860\n",
            "Trainable params: 297,840\n",
            "Non-trainable params: 20\n",
            "_________________________________________________________________\n"
          ],
          "name": "stdout"
        }
      ]
    },
    {
      "cell_type": "code",
      "metadata": {
        "colab": {
          "base_uri": "https://localhost:8080/",
          "height": 35
        },
        "id": "5JzC6DwoYKoA",
        "outputId": "3b5efd86-91b7-44ad-9497-67fe56346790"
      },
      "source": [
        "hidden1 = model.layers[3]\n",
        "hidden1.name"
      ],
      "execution_count": 83,
      "outputs": [
        {
          "output_type": "execute_result",
          "data": {
            "application/vnd.google.colaboratory.intrinsic+json": {
              "type": "string"
            },
            "text/plain": [
              "'dense_6'"
            ]
          },
          "metadata": {
            "tags": []
          },
          "execution_count": 83
        }
      ]
    },
    {
      "cell_type": "code",
      "metadata": {
        "colab": {
          "base_uri": "https://localhost:8080/"
        },
        "id": "ZADyjQjUYKla",
        "outputId": "1d806727-e8ff-43a8-b6cf-e6229e6fe58d"
      },
      "source": [
        "model.get_layer(hidden1.name) is hidden1"
      ],
      "execution_count": 84,
      "outputs": [
        {
          "output_type": "execute_result",
          "data": {
            "text/plain": [
              "True"
            ]
          },
          "metadata": {
            "tags": []
          },
          "execution_count": 84
        }
      ]
    },
    {
      "cell_type": "code",
      "metadata": {
        "id": "KhjtY2HVYKdw"
      },
      "source": [
        "weights, biases = hidden1.get_weights()"
      ],
      "execution_count": 85,
      "outputs": []
    },
    {
      "cell_type": "code",
      "metadata": {
        "colab": {
          "base_uri": "https://localhost:8080/"
        },
        "id": "KnXafubhZch4",
        "outputId": "bd149313-41a6-4bc0-8bf1-6a75d03bab60"
      },
      "source": [
        "weights"
      ],
      "execution_count": 86,
      "outputs": [
        {
          "output_type": "execute_result",
          "data": {
            "text/plain": [
              "array([[-0.00245392, -0.00602096,  0.04814493, ...,  0.06357379,\n",
              "        -0.0136617 , -0.07653733],\n",
              "       [ 0.07972515, -0.01286506,  0.0020035 , ...,  0.06107304,\n",
              "        -0.0775451 ,  0.01149727],\n",
              "       [-0.06089473, -0.01919118,  0.00145897, ...,  0.03122292,\n",
              "        -0.08925256, -0.00695635],\n",
              "       ...,\n",
              "       [ 0.03486373,  0.06412899, -0.0653969 , ..., -0.06485048,\n",
              "        -0.0226825 ,  0.04644137],\n",
              "       [ 0.03850014, -0.08919113,  0.09642955, ...,  0.02609348,\n",
              "         0.05432379, -0.05019447],\n",
              "       [ 0.10646185, -0.0143425 , -0.03862379, ...,  0.07761914,\n",
              "         0.06997741,  0.05786615]], dtype=float32)"
            ]
          },
          "metadata": {
            "tags": []
          },
          "execution_count": 86
        }
      ]
    },
    {
      "cell_type": "code",
      "metadata": {
        "colab": {
          "base_uri": "https://localhost:8080/"
        },
        "id": "OA1rV5_8Zcoa",
        "outputId": "3c248133-7b82-44e7-fdcb-7ef07af7487e"
      },
      "source": [
        "weights.shape"
      ],
      "execution_count": 87,
      "outputs": [
        {
          "output_type": "execute_result",
          "data": {
            "text/plain": [
              "(300, 200)"
            ]
          },
          "metadata": {
            "tags": []
          },
          "execution_count": 87
        }
      ]
    },
    {
      "cell_type": "code",
      "metadata": {
        "colab": {
          "base_uri": "https://localhost:8080/"
        },
        "id": "fwGj8IlHZcfk",
        "outputId": "05117141-2210-4f72-d78e-0223fc99e16f"
      },
      "source": [
        "biases"
      ],
      "execution_count": 88,
      "outputs": [
        {
          "output_type": "execute_result",
          "data": {
            "text/plain": [
              "array([0., 0., 0., 0., 0., 0., 0., 0., 0., 0., 0., 0., 0., 0., 0., 0., 0.,\n",
              "       0., 0., 0., 0., 0., 0., 0., 0., 0., 0., 0., 0., 0., 0., 0., 0., 0.,\n",
              "       0., 0., 0., 0., 0., 0., 0., 0., 0., 0., 0., 0., 0., 0., 0., 0., 0.,\n",
              "       0., 0., 0., 0., 0., 0., 0., 0., 0., 0., 0., 0., 0., 0., 0., 0., 0.,\n",
              "       0., 0., 0., 0., 0., 0., 0., 0., 0., 0., 0., 0., 0., 0., 0., 0., 0.,\n",
              "       0., 0., 0., 0., 0., 0., 0., 0., 0., 0., 0., 0., 0., 0., 0., 0., 0.,\n",
              "       0., 0., 0., 0., 0., 0., 0., 0., 0., 0., 0., 0., 0., 0., 0., 0., 0.,\n",
              "       0., 0., 0., 0., 0., 0., 0., 0., 0., 0., 0., 0., 0., 0., 0., 0., 0.,\n",
              "       0., 0., 0., 0., 0., 0., 0., 0., 0., 0., 0., 0., 0., 0., 0., 0., 0.,\n",
              "       0., 0., 0., 0., 0., 0., 0., 0., 0., 0., 0., 0., 0., 0., 0., 0., 0.,\n",
              "       0., 0., 0., 0., 0., 0., 0., 0., 0., 0., 0., 0., 0., 0., 0., 0., 0.,\n",
              "       0., 0., 0., 0., 0., 0., 0., 0., 0., 0., 0., 0., 0.], dtype=float32)"
            ]
          },
          "metadata": {
            "tags": []
          },
          "execution_count": 88
        }
      ]
    },
    {
      "cell_type": "code",
      "metadata": {
        "colab": {
          "base_uri": "https://localhost:8080/"
        },
        "id": "_PJ5f3Y_Zcc7",
        "outputId": "7e276959-1c48-4dab-b00f-083b9a825e9b"
      },
      "source": [
        "biases.shape"
      ],
      "execution_count": 89,
      "outputs": [
        {
          "output_type": "execute_result",
          "data": {
            "text/plain": [
              "(200,)"
            ]
          },
          "metadata": {
            "tags": []
          },
          "execution_count": 89
        }
      ]
    },
    {
      "cell_type": "code",
      "metadata": {
        "id": "0hwF7nX4Zkbu"
      },
      "source": [
        "model.compile(loss=\"sparse_categorical_crossentropy\",\n",
        "              optimizer=\"RMSprop\",\n",
        "              metrics=[\"accuracy\"])"
      ],
      "execution_count": 90,
      "outputs": []
    },
    {
      "cell_type": "code",
      "metadata": {
        "colab": {
          "base_uri": "https://localhost:8080/"
        },
        "id": "m1RkAwN4ZkaB",
        "outputId": "b0a890a9-c5c0-4027-d561-1631c61fd728"
      },
      "source": [
        "history10 = model.fit(X_train, y_train, batch_size=32, epochs=30,\n",
        "                    validation_data=(X_valid, y_valid))"
      ],
      "execution_count": 91,
      "outputs": [
        {
          "output_type": "stream",
          "text": [
            "Epoch 1/30\n",
            "1563/1563 [==============================] - 6s 4ms/step - loss: 0.4108 - accuracy: 0.8943 - val_loss: 0.1662 - val_accuracy: 0.9541\n",
            "Epoch 2/30\n",
            "1563/1563 [==============================] - 5s 3ms/step - loss: 0.2102 - accuracy: 0.9417 - val_loss: 0.1345 - val_accuracy: 0.9638\n",
            "Epoch 3/30\n",
            "1563/1563 [==============================] - 5s 3ms/step - loss: 0.1795 - accuracy: 0.9513 - val_loss: 0.1164 - val_accuracy: 0.9664\n",
            "Epoch 4/30\n",
            "1563/1563 [==============================] - 5s 3ms/step - loss: 0.1593 - accuracy: 0.9566 - val_loss: 0.1076 - val_accuracy: 0.9701\n",
            "Epoch 5/30\n",
            "1563/1563 [==============================] - 5s 3ms/step - loss: 0.1531 - accuracy: 0.9588 - val_loss: 0.1026 - val_accuracy: 0.9721\n",
            "Epoch 6/30\n",
            "1563/1563 [==============================] - 5s 3ms/step - loss: 0.1410 - accuracy: 0.9618 - val_loss: 0.1019 - val_accuracy: 0.9718\n",
            "Epoch 7/30\n",
            "1563/1563 [==============================] - 5s 3ms/step - loss: 0.1313 - accuracy: 0.9650 - val_loss: 0.1067 - val_accuracy: 0.9716\n",
            "Epoch 8/30\n",
            "1563/1563 [==============================] - 5s 3ms/step - loss: 0.1268 - accuracy: 0.9655 - val_loss: 0.1012 - val_accuracy: 0.9742\n",
            "Epoch 9/30\n",
            "1563/1563 [==============================] - 5s 3ms/step - loss: 0.1217 - accuracy: 0.9658 - val_loss: 0.0868 - val_accuracy: 0.9765\n",
            "Epoch 10/30\n",
            "1563/1563 [==============================] - 5s 3ms/step - loss: 0.1249 - accuracy: 0.9666 - val_loss: 0.0885 - val_accuracy: 0.9766\n",
            "Epoch 11/30\n",
            "1563/1563 [==============================] - 5s 3ms/step - loss: 0.1215 - accuracy: 0.9679 - val_loss: 0.0859 - val_accuracy: 0.9775\n",
            "Epoch 12/30\n",
            "1563/1563 [==============================] - 5s 3ms/step - loss: 0.1134 - accuracy: 0.9702 - val_loss: 0.0897 - val_accuracy: 0.9769\n",
            "Epoch 13/30\n",
            "1563/1563 [==============================] - 5s 3ms/step - loss: 0.1110 - accuracy: 0.9705 - val_loss: 0.0830 - val_accuracy: 0.9788\n",
            "Epoch 14/30\n",
            "1563/1563 [==============================] - 5s 3ms/step - loss: 0.1141 - accuracy: 0.9701 - val_loss: 0.0931 - val_accuracy: 0.9767\n",
            "Epoch 15/30\n",
            "1563/1563 [==============================] - 5s 3ms/step - loss: 0.1122 - accuracy: 0.9706 - val_loss: 0.0914 - val_accuracy: 0.9767\n",
            "Epoch 16/30\n",
            "1563/1563 [==============================] - 5s 3ms/step - loss: 0.1096 - accuracy: 0.9710 - val_loss: 0.0818 - val_accuracy: 0.9780\n",
            "Epoch 17/30\n",
            "1563/1563 [==============================] - 5s 3ms/step - loss: 0.1057 - accuracy: 0.9722 - val_loss: 0.0879 - val_accuracy: 0.9767\n",
            "Epoch 18/30\n",
            "1563/1563 [==============================] - 5s 3ms/step - loss: 0.1084 - accuracy: 0.9720 - val_loss: 0.0938 - val_accuracy: 0.9768\n",
            "Epoch 19/30\n",
            "1563/1563 [==============================] - 5s 3ms/step - loss: 0.1061 - accuracy: 0.9726 - val_loss: 0.0897 - val_accuracy: 0.9779\n",
            "Epoch 20/30\n",
            "1563/1563 [==============================] - 5s 4ms/step - loss: 0.1049 - accuracy: 0.9732 - val_loss: 0.0933 - val_accuracy: 0.9754\n",
            "Epoch 21/30\n",
            "1563/1563 [==============================] - 5s 4ms/step - loss: 0.1042 - accuracy: 0.9727 - val_loss: 0.0934 - val_accuracy: 0.9771\n",
            "Epoch 22/30\n",
            "1563/1563 [==============================] - 5s 3ms/step - loss: 0.1016 - accuracy: 0.9741 - val_loss: 0.0983 - val_accuracy: 0.9751\n",
            "Epoch 23/30\n",
            "1563/1563 [==============================] - 5s 4ms/step - loss: 0.1059 - accuracy: 0.9728 - val_loss: 0.0904 - val_accuracy: 0.9769\n",
            "Epoch 24/30\n",
            "1563/1563 [==============================] - 5s 3ms/step - loss: 0.1011 - accuracy: 0.9748 - val_loss: 0.0917 - val_accuracy: 0.9782\n",
            "Epoch 25/30\n",
            "1563/1563 [==============================] - 5s 3ms/step - loss: 0.1024 - accuracy: 0.9740 - val_loss: 0.0860 - val_accuracy: 0.9781\n",
            "Epoch 26/30\n",
            "1563/1563 [==============================] - 5s 4ms/step - loss: 0.0999 - accuracy: 0.9740 - val_loss: 0.0871 - val_accuracy: 0.9788\n",
            "Epoch 27/30\n",
            "1563/1563 [==============================] - 5s 3ms/step - loss: 0.0971 - accuracy: 0.9754 - val_loss: 0.0943 - val_accuracy: 0.9777\n",
            "Epoch 28/30\n",
            "1563/1563 [==============================] - 5s 3ms/step - loss: 0.1010 - accuracy: 0.9747 - val_loss: 0.0921 - val_accuracy: 0.9791\n",
            "Epoch 29/30\n",
            "1563/1563 [==============================] - 5s 3ms/step - loss: 0.1000 - accuracy: 0.9747 - val_loss: 0.0901 - val_accuracy: 0.9794\n",
            "Epoch 30/30\n",
            "1563/1563 [==============================] - 5s 3ms/step - loss: 0.1010 - accuracy: 0.9748 - val_loss: 0.0898 - val_accuracy: 0.9778\n"
          ],
          "name": "stdout"
        }
      ]
    },
    {
      "cell_type": "code",
      "metadata": {
        "colab": {
          "base_uri": "https://localhost:8080/"
        },
        "id": "yad9q5_4ZkYk",
        "outputId": "5be16e2b-1132-4d2d-bbde-4bdbd8084491"
      },
      "source": [
        "model.evaluate(X_test, y_test)"
      ],
      "execution_count": 92,
      "outputs": [
        {
          "output_type": "stream",
          "text": [
            "313/313 [==============================] - 1s 2ms/step - loss: 0.0912 - accuracy: 0.9783\n"
          ],
          "name": "stdout"
        },
        {
          "output_type": "execute_result",
          "data": {
            "text/plain": [
              "[0.09122087061405182, 0.9782999753952026]"
            ]
          },
          "metadata": {
            "tags": []
          },
          "execution_count": 92
        }
      ]
    },
    {
      "cell_type": "code",
      "metadata": {
        "colab": {
          "base_uri": "https://localhost:8080/",
          "height": 328
        },
        "id": "on8Jnj-gZkOj",
        "outputId": "af631553-0e56-494d-c803-a59383500392"
      },
      "source": [
        "pd.DataFrame(history10.history).plot(figsize=(8, 5))\n",
        "plt.grid(True)\n",
        "plt.gca().set_ylim(0, 1)\n",
        "plt.show()\n"
      ],
      "execution_count": 93,
      "outputs": [
        {
          "output_type": "display_data",
          "data": {
            "image/png": "[encoded data removed]",
            "text/plain": [
              "<Figure size 576x360 with 1 Axes>"
            ]
          },
          "metadata": {
            "tags": [],
            "needs_background": "light"
          }
        }
      ]
    }
  ]
}