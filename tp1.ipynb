{
  "nbformat": 4,
  "nbformat_minor": 0,
  "metadata": {
    "colab": {
      "name": "tp1.ipynb",
      "provenance": [],
      "collapsed_sections": []
    },
    "kernelspec": {
      "name": "python3",
      "display_name": "Python 3"
    }
  },
  "cells": [
    {
      "cell_type": "code",
      "metadata": {
        "id": "m5NrOlYuuxd8"
      },
      "source": [
        "import numpy as np\n",
        "import os"
      ],
      "execution_count": 6,
      "outputs": []
    },
    {
      "cell_type": "code",
      "metadata": {
        "id": "jv_74vwvu_Dx"
      },
      "source": [
        "%matplotlib inline\n",
        "import matplotlib as mpl\n",
        "import matplotlib.pyplot as plt\n",
        "mpl.rc('axes', labelsize=14)\n",
        "mpl.rc('xtick', labelsize=12)\n",
        "mpl.rc('ytick', labelsize=12)"
      ],
      "execution_count": 7,
      "outputs": []
    },
    {
      "cell_type": "code",
      "metadata": {
        "id": "MlITImE0vDNV"
      },
      "source": [
        "import warnings\n",
        "warnings.filterwarnings(action=\"ignore\", message=\"^internal gelsd\")"
      ],
      "execution_count": 8,
      "outputs": []
    },
    {
      "cell_type": "code",
      "metadata": {
        "id": "sRXGagW6vDsC"
      },
      "source": [
        "import tensorflow as tf\n",
        "from tensorflow import keras"
      ],
      "execution_count": 9,
      "outputs": []
    },
    {
      "cell_type": "code",
      "metadata": {
        "colab": {
          "base_uri": "https://localhost:8080/",
          "height": 35
        },
        "id": "3Q6bo0revJwK",
        "outputId": "1cd29752-bc8a-4d4d-8be5-49e27128b026"
      },
      "source": [
        "tf.__version__"
      ],
      "execution_count": 10,
      "outputs": [
        {
          "output_type": "execute_result",
          "data": {
            "application/vnd.google.colaboratory.intrinsic+json": {
              "type": "string"
            },
            "text/plain": [
              "'2.3.0'"
            ]
          },
          "metadata": {
            "tags": []
          },
          "execution_count": 10
        }
      ]
    },
    {
      "cell_type": "code",
      "metadata": {
        "colab": {
          "base_uri": "https://localhost:8080/"
        },
        "id": "TmaEyTqB-g4e",
        "outputId": "4646bae4-0514-4b21-c9b2-5789daac3cd5"
      },
      "source": [
        "fashion_mnist = keras.datasets.fashion_mnist\n",
        "(X_train_full, y_train_full), (X_test, y_test) = fashion_mnist.load_data()"
      ],
      "execution_count": 11,
      "outputs": [
        {
          "output_type": "stream",
          "text": [
            "Downloading data from https://storage.googleapis.com/tensorflow/tf-keras-datasets/train-labels-idx1-ubyte.gz\n",
            "32768/29515 [=================================] - 0s 0us/step\n",
            "Downloading data from https://storage.googleapis.com/tensorflow/tf-keras-datasets/train-images-idx3-ubyte.gz\n",
            "26427392/26421880 [==============================] - 2s 0us/step\n",
            "Downloading data from https://storage.googleapis.com/tensorflow/tf-keras-datasets/t10k-labels-idx1-ubyte.gz\n",
            "8192/5148 [===============================================] - 0s 0us/step\n",
            "Downloading data from https://storage.googleapis.com/tensorflow/tf-keras-datasets/t10k-images-idx3-ubyte.gz\n",
            "4423680/4422102 [==============================] - 0s 0us/step\n"
          ],
          "name": "stdout"
        }
      ]
    },
    {
      "cell_type": "code",
      "metadata": {
        "colab": {
          "base_uri": "https://localhost:8080/"
        },
        "id": "K5Sd2WtT-hDx",
        "outputId": "dcca4f7c-36c6-4ff0-f8e8-f993b806ba24"
      },
      "source": [
        "X_train_full.shape"
      ],
      "execution_count": 12,
      "outputs": [
        {
          "output_type": "execute_result",
          "data": {
            "text/plain": [
              "(60000, 28, 28)"
            ]
          },
          "metadata": {
            "tags": []
          },
          "execution_count": 12
        }
      ]
    },
    {
      "cell_type": "code",
      "metadata": {
        "colab": {
          "base_uri": "https://localhost:8080/"
        },
        "id": "3K9A_wT9-hGp",
        "outputId": "dfb360c0-4cc3-45fd-c8d9-bf5988648eeb"
      },
      "source": [
        "y_train_full.shape"
      ],
      "execution_count": 13,
      "outputs": [
        {
          "output_type": "execute_result",
          "data": {
            "text/plain": [
              "(60000,)"
            ]
          },
          "metadata": {
            "tags": []
          },
          "execution_count": 13
        }
      ]
    },
    {
      "cell_type": "code",
      "metadata": {
        "colab": {
          "base_uri": "https://localhost:8080/"
        },
        "id": "DJdsGZt8-hQx",
        "outputId": "b94d65e2-a39d-4e2d-f264-6cd01e8ede95"
      },
      "source": [
        "X_train_full\n"
      ],
      "execution_count": 14,
      "outputs": [
        {
          "output_type": "execute_result",
          "data": {
            "text/plain": [
              "array([[[0, 0, 0, ..., 0, 0, 0],\n",
              "        [0, 0, 0, ..., 0, 0, 0],\n",
              "        [0, 0, 0, ..., 0, 0, 0],\n",
              "        ...,\n",
              "        [0, 0, 0, ..., 0, 0, 0],\n",
              "        [0, 0, 0, ..., 0, 0, 0],\n",
              "        [0, 0, 0, ..., 0, 0, 0]],\n",
              "\n",
              "       [[0, 0, 0, ..., 0, 0, 0],\n",
              "        [0, 0, 0, ..., 0, 0, 0],\n",
              "        [0, 0, 0, ..., 0, 0, 0],\n",
              "        ...,\n",
              "        [0, 0, 0, ..., 0, 0, 0],\n",
              "        [0, 0, 0, ..., 0, 0, 0],\n",
              "        [0, 0, 0, ..., 0, 0, 0]],\n",
              "\n",
              "       [[0, 0, 0, ..., 0, 0, 0],\n",
              "        [0, 0, 0, ..., 0, 0, 0],\n",
              "        [0, 0, 0, ..., 0, 0, 0],\n",
              "        ...,\n",
              "        [0, 0, 0, ..., 0, 0, 0],\n",
              "        [0, 0, 0, ..., 0, 0, 0],\n",
              "        [0, 0, 0, ..., 0, 0, 0]],\n",
              "\n",
              "       ...,\n",
              "\n",
              "       [[0, 0, 0, ..., 0, 0, 0],\n",
              "        [0, 0, 0, ..., 0, 0, 0],\n",
              "        [0, 0, 0, ..., 0, 0, 0],\n",
              "        ...,\n",
              "        [0, 0, 0, ..., 0, 0, 0],\n",
              "        [0, 0, 0, ..., 0, 0, 0],\n",
              "        [0, 0, 0, ..., 0, 0, 0]],\n",
              "\n",
              "       [[0, 0, 0, ..., 0, 0, 0],\n",
              "        [0, 0, 0, ..., 0, 0, 0],\n",
              "        [0, 0, 0, ..., 0, 0, 0],\n",
              "        ...,\n",
              "        [0, 0, 0, ..., 0, 0, 0],\n",
              "        [0, 0, 0, ..., 0, 0, 0],\n",
              "        [0, 0, 0, ..., 0, 0, 0]],\n",
              "\n",
              "       [[0, 0, 0, ..., 0, 0, 0],\n",
              "        [0, 0, 0, ..., 0, 0, 0],\n",
              "        [0, 0, 0, ..., 0, 0, 0],\n",
              "        ...,\n",
              "        [0, 0, 0, ..., 0, 0, 0],\n",
              "        [0, 0, 0, ..., 0, 0, 0],\n",
              "        [0, 0, 0, ..., 0, 0, 0]]], dtype=uint8)"
            ]
          },
          "metadata": {
            "tags": []
          },
          "execution_count": 14
        }
      ]
    },
    {
      "cell_type": "code",
      "metadata": {
        "colab": {
          "base_uri": "https://localhost:8080/"
        },
        "id": "FAoJ191L-hOt",
        "outputId": "9377cf21-3bcc-48ea-d476-2ef00f97f883"
      },
      "source": [
        "y_train_full\n"
      ],
      "execution_count": 15,
      "outputs": [
        {
          "output_type": "execute_result",
          "data": {
            "text/plain": [
              "array([9, 0, 0, ..., 3, 0, 5], dtype=uint8)"
            ]
          },
          "metadata": {
            "tags": []
          },
          "execution_count": 15
        }
      ]
    },
    {
      "cell_type": "code",
      "metadata": {
        "id": "pE3TFQtN-hMg"
      },
      "source": [
        "X_valid, X_train = X_train_full[:5000] / 255., X_train_full[5000:] / 255.\n",
        "y_valid, y_train = y_train_full[:5000], y_train_full[5000:]\n",
        "X_test = X_test / 255."
      ],
      "execution_count": 16,
      "outputs": []
    },
    {
      "cell_type": "code",
      "metadata": {
        "colab": {
          "base_uri": "https://localhost:8080/"
        },
        "id": "4tNc9U2A-hKk",
        "outputId": "af2ae3bd-7493-47d9-a6cd-76c9a5630f7f"
      },
      "source": [
        "X_valid.shape"
      ],
      "execution_count": 17,
      "outputs": [
        {
          "output_type": "execute_result",
          "data": {
            "text/plain": [
              "(5000, 28, 28)"
            ]
          },
          "metadata": {
            "tags": []
          },
          "execution_count": 17
        }
      ]
    },
    {
      "cell_type": "code",
      "metadata": {
        "colab": {
          "base_uri": "https://localhost:8080/"
        },
        "id": "mVwXUV5__6Wv",
        "outputId": "c9803b2e-aea2-4509-aaae-292fdbf7ca2b"
      },
      "source": [
        "X_train.shape"
      ],
      "execution_count": 18,
      "outputs": [
        {
          "output_type": "execute_result",
          "data": {
            "text/plain": [
              "(55000, 28, 28)"
            ]
          },
          "metadata": {
            "tags": []
          },
          "execution_count": 18
        }
      ]
    },
    {
      "cell_type": "code",
      "metadata": {
        "colab": {
          "base_uri": "https://localhost:8080/"
        },
        "id": "KYxjMEJZ_6bt",
        "outputId": "51b25e31-42da-4fa9-9f05-5694b8d8aeec"
      },
      "source": [
        "X_test.shape"
      ],
      "execution_count": 19,
      "outputs": [
        {
          "output_type": "execute_result",
          "data": {
            "text/plain": [
              "(10000, 28, 28)"
            ]
          },
          "metadata": {
            "tags": []
          },
          "execution_count": 19
        }
      ]
    },
    {
      "cell_type": "code",
      "metadata": {
        "colab": {
          "base_uri": "https://localhost:8080/",
          "height": 248
        },
        "id": "pQNmQLYO_6gd",
        "outputId": "624996c9-4b1c-4d5b-f569-6d2d106aeed2"
      },
      "source": [
        "plt.imshow(X_train[0], cmap=\"binary\")\n",
        "plt.axis('off')\n",
        "plt.show()"
      ],
      "execution_count": 20,
      "outputs": [
        {
          "output_type": "display_data",
          "data": {
            "image/png": "[encoded data removed]",
            "text/plain": [
              "<Figure size 432x288 with 1 Axes>"
            ]
          },
          "metadata": {
            "tags": [],
            "needs_background": "light"
          }
        }
      ]
    },
    {
      "cell_type": "code",
      "metadata": {
        "colab": {
          "base_uri": "https://localhost:8080/"
        },
        "id": "em4kvvMF_6qK",
        "outputId": "d8d283c6-7a86-4841-9ad1-b58b4d3bb47b"
      },
      "source": [
        "y_train"
      ],
      "execution_count": 21,
      "outputs": [
        {
          "output_type": "execute_result",
          "data": {
            "text/plain": [
              "array([4, 0, 7, ..., 3, 0, 5], dtype=uint8)"
            ]
          },
          "metadata": {
            "tags": []
          },
          "execution_count": 21
        }
      ]
    },
    {
      "cell_type": "code",
      "metadata": {
        "id": "E2rIUkLy_6nt"
      },
      "source": [
        "class_names = [\"T-shirt/top\", \"Trouser\", \"Pullover\", \"Dress\", \"Coat\",\"Sandal\", \"Shirt\", \"Sneaker\", \"Bag\", \"Ankle boot\"]"
      ],
      "execution_count": 22,
      "outputs": []
    },
    {
      "cell_type": "code",
      "metadata": {
        "colab": {
          "base_uri": "https://localhost:8080/",
          "height": 35
        },
        "id": "StC74asq_6eo",
        "outputId": "cbac51cd-7d5d-458f-fdc8-ee702c1d61ce"
      },
      "source": [
        "class_names[y_train[0]]"
      ],
      "execution_count": 23,
      "outputs": [
        {
          "output_type": "execute_result",
          "data": {
            "application/vnd.google.colaboratory.intrinsic+json": {
              "type": "string"
            },
            "text/plain": [
              "'Coat'"
            ]
          },
          "metadata": {
            "tags": []
          },
          "execution_count": 23
        }
      ]
    },
    {
      "cell_type": "code",
      "metadata": {
        "colab": {
          "base_uri": "https://localhost:8080/",
          "height": 308
        },
        "id": "oYKABbs__6aN",
        "outputId": "e074f2b3-1efd-4b8e-fa73-cb968ef83340"
      },
      "source": [
        "n_rows = 4\n",
        "n_cols = 10\n",
        "plt.figure(figsize=(n_cols * 1.2, n_rows * 1.2))\n",
        "for row in range(n_rows):\n",
        "    for col in range(n_cols):\n",
        "        index = n_cols * row + col\n",
        "        plt.subplot(n_rows, n_cols, index + 1)\n",
        "        plt.imshow(X_train[index], cmap=\"binary\", interpolation=\"nearest\")\n",
        "        plt.axis('off')\n",
        "        plt.title(class_names[y_train[index]], fontsize=12)\n",
        "plt.subplots_adjust(wspace=0.1, hspace=0.5)\n",
        "plt.show()"
      ],
      "execution_count": 24,
      "outputs": [
        {
          "output_type": "display_data",
          "data": {
            "image/png": "[encoded data removed]",
            "text/plain": [
              "<Figure size 864x345.6 with 40 Axes>"
            ]
          },
          "metadata": {
            "tags": [],
            "needs_background": "light"
          }
        }
      ]
    },
    {
      "cell_type": "markdown",
      "metadata": {
        "id": "4yLY5k7IA1iy"
      },
      "source": [
        "**Construct a Model**"
      ]
    },
    {
      "cell_type": "code",
      "metadata": {
        "id": "Jo7gOQJeAvTJ"
      },
      "source": [
        "model = keras.models.Sequential()\n",
        "model.add(keras.layers.Flatten(input_shape=[28, 28]))\n",
        "model.add(keras.layers.Dense(300, activation=\"relu\"))\n",
        "model.add(keras.layers.Dense(100, activation=\"relu\"))\n",
        "model.add(keras.layers.Dense(10, activation=\"softmax\"))"
      ],
      "execution_count": 25,
      "outputs": []
    },
    {
      "cell_type": "code",
      "metadata": {
        "id": "21CYNxKPAvW5"
      },
      "source": [
        "keras.backend.clear_session()\n",
        "np.random.seed(42)"
      ],
      "execution_count": 26,
      "outputs": []
    },
    {
      "cell_type": "code",
      "metadata": {
        "colab": {
          "base_uri": "https://localhost:8080/"
        },
        "id": "ZXZII2yTAvj0",
        "outputId": "b850c976-e2fa-4b81-dc6e-b1692b0a66c1"
      },
      "source": [
        "model.layers"
      ],
      "execution_count": 27,
      "outputs": [
        {
          "output_type": "execute_result",
          "data": {
            "text/plain": [
              "[<tensorflow.python.keras.layers.core.Flatten at 0x7fe78738ff60>,\n",
              " <tensorflow.python.keras.layers.core.Dense at 0x7fe785b09198>,\n",
              " <tensorflow.python.keras.layers.core.Dense at 0x7fe78813cef0>,\n",
              " <tensorflow.python.keras.layers.core.Dense at 0x7fe785b09ac8>]"
            ]
          },
          "metadata": {
            "tags": []
          },
          "execution_count": 27
        }
      ]
    },
    {
      "cell_type": "code",
      "metadata": {
        "colab": {
          "base_uri": "https://localhost:8080/"
        },
        "id": "SRR9PDR5AvmT",
        "outputId": "bca7209e-a22f-4f70-fb43-a29bff578a98"
      },
      "source": [
        "model.summary()"
      ],
      "execution_count": 28,
      "outputs": [
        {
          "output_type": "stream",
          "text": [
            "Model: \"sequential\"\n",
            "_________________________________________________________________\n",
            "Layer (type)                 Output Shape              Param #   \n",
            "=================================================================\n",
            "flatten (Flatten)            (None, 784)               0         \n",
            "_________________________________________________________________\n",
            "dense (Dense)                (None, 300)               235500    \n",
            "_________________________________________________________________\n",
            "dense_1 (Dense)              (None, 100)               30100     \n",
            "_________________________________________________________________\n",
            "dense_2 (Dense)              (None, 10)                1010      \n",
            "=================================================================\n",
            "Total params: 266,610\n",
            "Trainable params: 266,610\n",
            "Non-trainable params: 0\n",
            "_________________________________________________________________\n"
          ],
          "name": "stdout"
        }
      ]
    },
    {
      "cell_type": "code",
      "metadata": {
        "colab": {
          "base_uri": "https://localhost:8080/",
          "height": 35
        },
        "id": "aflc9wBhAvvO",
        "outputId": "1e6c9a36-e762-402d-d5a9-5e738b815081"
      },
      "source": [
        "hidden1 = model.layers[1]\n",
        "hidden1.name"
      ],
      "execution_count": 29,
      "outputs": [
        {
          "output_type": "execute_result",
          "data": {
            "application/vnd.google.colaboratory.intrinsic+json": {
              "type": "string"
            },
            "text/plain": [
              "'dense'"
            ]
          },
          "metadata": {
            "tags": []
          },
          "execution_count": 29
        }
      ]
    },
    {
      "cell_type": "code",
      "metadata": {
        "colab": {
          "base_uri": "https://localhost:8080/"
        },
        "id": "jZIz9oOQAv28",
        "outputId": "af7be3a1-a191-43f9-e7d9-a6caf47f2b30"
      },
      "source": [
        "model.get_layer(hidden1.name) is hidden1"
      ],
      "execution_count": 30,
      "outputs": [
        {
          "output_type": "execute_result",
          "data": {
            "text/plain": [
              "True"
            ]
          },
          "metadata": {
            "tags": []
          },
          "execution_count": 30
        }
      ]
    },
    {
      "cell_type": "code",
      "metadata": {
        "id": "e0AYk1LtAv9P"
      },
      "source": [
        "weights, biases = hidden1.get_weights()"
      ],
      "execution_count": 31,
      "outputs": []
    },
    {
      "cell_type": "code",
      "metadata": {
        "colab": {
          "base_uri": "https://localhost:8080/"
        },
        "id": "ObV8iOBKAwDF",
        "outputId": "db9dcab6-0cd1-47ca-bbfc-46098559726b"
      },
      "source": [
        "weights"
      ],
      "execution_count": 32,
      "outputs": [
        {
          "output_type": "execute_result",
          "data": {
            "text/plain": [
              "array([[ 0.0364569 ,  0.03627741,  0.03187288, ...,  0.01602468,\n",
              "         0.01306392, -0.00744849],\n",
              "       [-0.00277438,  0.05538841, -0.00758689, ..., -0.05766007,\n",
              "         0.04335733, -0.00995416],\n",
              "       [ 0.03535362,  0.0211264 ,  0.00886439, ...,  0.03941532,\n",
              "         0.06462306, -0.00460675],\n",
              "       ...,\n",
              "       [ 0.00715332, -0.05246249,  0.04861414, ..., -0.04576035,\n",
              "         0.01757804, -0.03229747],\n",
              "       [-0.0325769 ,  0.0325518 , -0.00647339, ..., -0.05179187,\n",
              "         0.07408252,  0.01200326],\n",
              "       [ 0.07056767,  0.02900093, -0.07394991, ...,  0.02985183,\n",
              "        -0.0283138 , -0.05452618]], dtype=float32)"
            ]
          },
          "metadata": {
            "tags": []
          },
          "execution_count": 32
        }
      ]
    },
    {
      "cell_type": "code",
      "metadata": {
        "colab": {
          "base_uri": "https://localhost:8080/"
        },
        "id": "x2rkxA6QAwLC",
        "outputId": "b177e73a-6067-471d-d9f8-f0ac274c1068"
      },
      "source": [
        "weights.shape"
      ],
      "execution_count": 33,
      "outputs": [
        {
          "output_type": "execute_result",
          "data": {
            "text/plain": [
              "(784, 300)"
            ]
          },
          "metadata": {
            "tags": []
          },
          "execution_count": 33
        }
      ]
    },
    {
      "cell_type": "code",
      "metadata": {
        "colab": {
          "base_uri": "https://localhost:8080/"
        },
        "id": "zQWvg1urAwS9",
        "outputId": "953da047-d361-49ff-fee7-50a40624f454"
      },
      "source": [
        "biases"
      ],
      "execution_count": 34,
      "outputs": [
        {
          "output_type": "execute_result",
          "data": {
            "text/plain": [
              "array([0., 0., 0., 0., 0., 0., 0., 0., 0., 0., 0., 0., 0., 0., 0., 0., 0.,\n",
              "       0., 0., 0., 0., 0., 0., 0., 0., 0., 0., 0., 0., 0., 0., 0., 0., 0.,\n",
              "       0., 0., 0., 0., 0., 0., 0., 0., 0., 0., 0., 0., 0., 0., 0., 0., 0.,\n",
              "       0., 0., 0., 0., 0., 0., 0., 0., 0., 0., 0., 0., 0., 0., 0., 0., 0.,\n",
              "       0., 0., 0., 0., 0., 0., 0., 0., 0., 0., 0., 0., 0., 0., 0., 0., 0.,\n",
              "       0., 0., 0., 0., 0., 0., 0., 0., 0., 0., 0., 0., 0., 0., 0., 0., 0.,\n",
              "       0., 0., 0., 0., 0., 0., 0., 0., 0., 0., 0., 0., 0., 0., 0., 0., 0.,\n",
              "       0., 0., 0., 0., 0., 0., 0., 0., 0., 0., 0., 0., 0., 0., 0., 0., 0.,\n",
              "       0., 0., 0., 0., 0., 0., 0., 0., 0., 0., 0., 0., 0., 0., 0., 0., 0.,\n",
              "       0., 0., 0., 0., 0., 0., 0., 0., 0., 0., 0., 0., 0., 0., 0., 0., 0.,\n",
              "       0., 0., 0., 0., 0., 0., 0., 0., 0., 0., 0., 0., 0., 0., 0., 0., 0.,\n",
              "       0., 0., 0., 0., 0., 0., 0., 0., 0., 0., 0., 0., 0., 0., 0., 0., 0.,\n",
              "       0., 0., 0., 0., 0., 0., 0., 0., 0., 0., 0., 0., 0., 0., 0., 0., 0.,\n",
              "       0., 0., 0., 0., 0., 0., 0., 0., 0., 0., 0., 0., 0., 0., 0., 0., 0.,\n",
              "       0., 0., 0., 0., 0., 0., 0., 0., 0., 0., 0., 0., 0., 0., 0., 0., 0.,\n",
              "       0., 0., 0., 0., 0., 0., 0., 0., 0., 0., 0., 0., 0., 0., 0., 0., 0.,\n",
              "       0., 0., 0., 0., 0., 0., 0., 0., 0., 0., 0., 0., 0., 0., 0., 0., 0.,\n",
              "       0., 0., 0., 0., 0., 0., 0., 0., 0., 0., 0.], dtype=float32)"
            ]
          },
          "metadata": {
            "tags": []
          },
          "execution_count": 34
        }
      ]
    },
    {
      "cell_type": "code",
      "metadata": {
        "colab": {
          "base_uri": "https://localhost:8080/"
        },
        "id": "oF3nUX8lAwaG",
        "outputId": "61ca8129-2d60-45f8-f918-aa7c3b0470fa"
      },
      "source": [
        "biases.shape"
      ],
      "execution_count": 35,
      "outputs": [
        {
          "output_type": "execute_result",
          "data": {
            "text/plain": [
              "(300,)"
            ]
          },
          "metadata": {
            "tags": []
          },
          "execution_count": 35
        }
      ]
    },
    {
      "cell_type": "code",
      "metadata": {
        "id": "4GYUWFEbAwfb"
      },
      "source": [
        "model.compile(loss=\"sparse_categorical_crossentropy\",\n",
        "              optimizer=\"sgd\",\n",
        "              metrics=[\"accuracy\"])"
      ],
      "execution_count": 36,
      "outputs": []
    },
    {
      "cell_type": "code",
      "metadata": {
        "colab": {
          "base_uri": "https://localhost:8080/"
        },
        "id": "Jc3f0SeDCp-c",
        "outputId": "5d6fb0df-f956-473d-e818-33318d839a8d"
      },
      "source": [
        "history = model.fit(X_train, y_train, batch_size=32, epochs=30,\n",
        "                    validation_data=(X_valid, y_valid))"
      ],
      "execution_count": 37,
      "outputs": [
        {
          "output_type": "stream",
          "text": [
            "Epoch 1/30\n",
            "1719/1719 [==============================] - 6s 3ms/step - loss: 0.7105 - accuracy: 0.7693 - val_loss: 0.4915 - val_accuracy: 0.8332\n",
            "Epoch 2/30\n",
            "1719/1719 [==============================] - 5s 3ms/step - loss: 0.4859 - accuracy: 0.8305 - val_loss: 0.4413 - val_accuracy: 0.8546\n",
            "Epoch 3/30\n",
            "1719/1719 [==============================] - 5s 3ms/step - loss: 0.4410 - accuracy: 0.8454 - val_loss: 0.4126 - val_accuracy: 0.8612\n",
            "Epoch 4/30\n",
            "1719/1719 [==============================] - 5s 3ms/step - loss: 0.4149 - accuracy: 0.8550 - val_loss: 0.4142 - val_accuracy: 0.8582\n",
            "Epoch 5/30\n",
            "1719/1719 [==============================] - 5s 3ms/step - loss: 0.3954 - accuracy: 0.8603 - val_loss: 0.3810 - val_accuracy: 0.8684\n",
            "Epoch 6/30\n",
            "1719/1719 [==============================] - 5s 3ms/step - loss: 0.3794 - accuracy: 0.8666 - val_loss: 0.3810 - val_accuracy: 0.8668\n",
            "Epoch 7/30\n",
            "1719/1719 [==============================] - 5s 3ms/step - loss: 0.3664 - accuracy: 0.8709 - val_loss: 0.3622 - val_accuracy: 0.8740\n",
            "Epoch 8/30\n",
            "1719/1719 [==============================] - 5s 3ms/step - loss: 0.3539 - accuracy: 0.8746 - val_loss: 0.3558 - val_accuracy: 0.8730\n",
            "Epoch 9/30\n",
            "1719/1719 [==============================] - 5s 3ms/step - loss: 0.3432 - accuracy: 0.8789 - val_loss: 0.3605 - val_accuracy: 0.8726\n",
            "Epoch 10/30\n",
            "1719/1719 [==============================] - 5s 3ms/step - loss: 0.3342 - accuracy: 0.8804 - val_loss: 0.3562 - val_accuracy: 0.8706\n",
            "Epoch 11/30\n",
            "1719/1719 [==============================] - 5s 3ms/step - loss: 0.3259 - accuracy: 0.8839 - val_loss: 0.3476 - val_accuracy: 0.8766\n",
            "Epoch 12/30\n",
            "1719/1719 [==============================] - 5s 3ms/step - loss: 0.3176 - accuracy: 0.8868 - val_loss: 0.3411 - val_accuracy: 0.8778\n",
            "Epoch 13/30\n",
            "1719/1719 [==============================] - 5s 3ms/step - loss: 0.3097 - accuracy: 0.8887 - val_loss: 0.3345 - val_accuracy: 0.8792\n",
            "Epoch 14/30\n",
            "1719/1719 [==============================] - 5s 3ms/step - loss: 0.3033 - accuracy: 0.8905 - val_loss: 0.3225 - val_accuracy: 0.8842\n",
            "Epoch 15/30\n",
            "1719/1719 [==============================] - 5s 3ms/step - loss: 0.2958 - accuracy: 0.8932 - val_loss: 0.3227 - val_accuracy: 0.8846\n",
            "Epoch 16/30\n",
            "1719/1719 [==============================] - 5s 3ms/step - loss: 0.2905 - accuracy: 0.8951 - val_loss: 0.3126 - val_accuracy: 0.8838\n",
            "Epoch 17/30\n",
            "1719/1719 [==============================] - 5s 3ms/step - loss: 0.2841 - accuracy: 0.8971 - val_loss: 0.3443 - val_accuracy: 0.8760\n",
            "Epoch 18/30\n",
            "1719/1719 [==============================] - 5s 3ms/step - loss: 0.2793 - accuracy: 0.8985 - val_loss: 0.3145 - val_accuracy: 0.8860\n",
            "Epoch 19/30\n",
            "1719/1719 [==============================] - 5s 3ms/step - loss: 0.2734 - accuracy: 0.9017 - val_loss: 0.3138 - val_accuracy: 0.8828\n",
            "Epoch 20/30\n",
            "1719/1719 [==============================] - 5s 3ms/step - loss: 0.2683 - accuracy: 0.9023 - val_loss: 0.3110 - val_accuracy: 0.8882\n",
            "Epoch 21/30\n",
            "1719/1719 [==============================] - 5s 3ms/step - loss: 0.2631 - accuracy: 0.9052 - val_loss: 0.2996 - val_accuracy: 0.8906\n",
            "Epoch 22/30\n",
            "1719/1719 [==============================] - 5s 3ms/step - loss: 0.2597 - accuracy: 0.9064 - val_loss: 0.3016 - val_accuracy: 0.8930\n",
            "Epoch 23/30\n",
            "1719/1719 [==============================] - 5s 3ms/step - loss: 0.2553 - accuracy: 0.9073 - val_loss: 0.2981 - val_accuracy: 0.8954\n",
            "Epoch 24/30\n",
            "1719/1719 [==============================] - 5s 3ms/step - loss: 0.2500 - accuracy: 0.9098 - val_loss: 0.3202 - val_accuracy: 0.8826\n",
            "Epoch 25/30\n",
            "1719/1719 [==============================] - 5s 3ms/step - loss: 0.2454 - accuracy: 0.9111 - val_loss: 0.2965 - val_accuracy: 0.8920\n",
            "Epoch 26/30\n",
            "1719/1719 [==============================] - 5s 3ms/step - loss: 0.2418 - accuracy: 0.9126 - val_loss: 0.3046 - val_accuracy: 0.8888\n",
            "Epoch 27/30\n",
            "1719/1719 [==============================] - 5s 3ms/step - loss: 0.2374 - accuracy: 0.9135 - val_loss: 0.3195 - val_accuracy: 0.8880\n",
            "Epoch 28/30\n",
            "1719/1719 [==============================] - 5s 3ms/step - loss: 0.2345 - accuracy: 0.9145 - val_loss: 0.2915 - val_accuracy: 0.8930\n",
            "Epoch 29/30\n",
            "1719/1719 [==============================] - 5s 3ms/step - loss: 0.2302 - accuracy: 0.9169 - val_loss: 0.3164 - val_accuracy: 0.8846\n",
            "Epoch 30/30\n",
            "1719/1719 [==============================] - 5s 3ms/step - loss: 0.2259 - accuracy: 0.9196 - val_loss: 0.2849 - val_accuracy: 0.8930\n"
          ],
          "name": "stdout"
        }
      ]
    },
    {
      "cell_type": "code",
      "metadata": {
        "colab": {
          "base_uri": "https://localhost:8080/"
        },
        "id": "hET61NogCqE4",
        "outputId": "b90b80af-3bcc-40b0-fab9-31aed2be71e1"
      },
      "source": [
        "history.params"
      ],
      "execution_count": 38,
      "outputs": [
        {
          "output_type": "execute_result",
          "data": {
            "text/plain": [
              "{'epochs': 30, 'steps': 1719, 'verbose': 1}"
            ]
          },
          "metadata": {
            "tags": []
          },
          "execution_count": 38
        }
      ]
    },
    {
      "cell_type": "code",
      "metadata": {
        "colab": {
          "base_uri": "https://localhost:8080/"
        },
        "id": "NWQ6Z-OzCqL5",
        "outputId": "9a556089-7fd6-4f19-ffae-c97f907e2ef4"
      },
      "source": [
        "print(history.epoch)"
      ],
      "execution_count": 39,
      "outputs": [
        {
          "output_type": "stream",
          "text": [
            "[0, 1, 2, 3, 4, 5, 6, 7, 8, 9, 10, 11, 12, 13, 14, 15, 16, 17, 18, 19, 20, 21, 22, 23, 24, 25, 26, 27, 28, 29]\n"
          ],
          "name": "stdout"
        }
      ]
    },
    {
      "cell_type": "code",
      "metadata": {
        "colab": {
          "base_uri": "https://localhost:8080/"
        },
        "id": "LPuCKclxCqSd",
        "outputId": "7b0f0fbd-d259-49a7-bbc3-7ff87541ba83"
      },
      "source": [
        "history.history.keys()"
      ],
      "execution_count": 40,
      "outputs": [
        {
          "output_type": "execute_result",
          "data": {
            "text/plain": [
              "dict_keys(['loss', 'accuracy', 'val_loss', 'val_accuracy'])"
            ]
          },
          "metadata": {
            "tags": []
          },
          "execution_count": 40
        }
      ]
    },
    {
      "cell_type": "markdown",
      "metadata": {
        "id": "gmB6xPEwDksa"
      },
      "source": [
        "**Plot learning Curves**"
      ]
    },
    {
      "cell_type": "code",
      "metadata": {
        "colab": {
          "base_uri": "https://localhost:8080/",
          "height": 328
        },
        "id": "fTyU79P3CqYv",
        "outputId": "345ec488-a9ee-4fcb-dd73-1578a2e851e1"
      },
      "source": [
        "import pandas as pd\n",
        "\n",
        "pd.DataFrame(history.history).plot(figsize=(8, 5))\n",
        "plt.grid(True)\n",
        "plt.gca().set_ylim(0, 1)\n",
        "plt.show()"
      ],
      "execution_count": 41,
      "outputs": [
        {
          "output_type": "display_data",
          "data": {
            "image/png": "[encoded data removed]",
            "text/plain": [
              "<Figure size 576x360 with 1 Axes>"
            ]
          },
          "metadata": {
            "tags": [],
            "needs_background": "light"
          }
        }
      ]
    },
    {
      "cell_type": "code",
      "metadata": {
        "colab": {
          "base_uri": "https://localhost:8080/"
        },
        "id": "-OO4mAYYCqlr",
        "outputId": "35081ed5-a1bb-42ea-fefe-4ac3ca822bd6"
      },
      "source": [
        "model.evaluate(X_test, y_test)"
      ],
      "execution_count": 42,
      "outputs": [
        {
          "output_type": "stream",
          "text": [
            "313/313 [==============================] - 0s 1ms/step - loss: 0.3240 - accuracy: 0.8831\n"
          ],
          "name": "stdout"
        },
        {
          "output_type": "execute_result",
          "data": {
            "text/plain": [
              "[0.32396915555000305, 0.8830999732017517]"
            ]
          },
          "metadata": {
            "tags": []
          },
          "execution_count": 42
        }
      ]
    },
    {
      "cell_type": "code",
      "metadata": {
        "colab": {
          "base_uri": "https://localhost:8080/"
        },
        "id": "ACKpO8J4Cquw",
        "outputId": "68f4c45b-d8be-42c5-ab54-48ab7794d788"
      },
      "source": [
        "X_new = X_test[:3]\n",
        "y_proba = model.predict(X_new)\n",
        "y_proba.round(6)"
      ],
      "execution_count": 43,
      "outputs": [
        {
          "output_type": "execute_result",
          "data": {
            "text/plain": [
              "array([[1.00000e-06, 0.00000e+00, 3.80000e-05, 1.00000e-06, 1.00000e-06,\n",
              "        6.01400e-03, 1.00000e-05, 1.36840e-02, 3.62000e-04, 9.79889e-01],\n",
              "       [1.30000e-05, 0.00000e+00, 9.99545e-01, 0.00000e+00, 3.41000e-04,\n",
              "        0.00000e+00, 1.01000e-04, 0.00000e+00, 0.00000e+00, 0.00000e+00],\n",
              "       [5.00000e-06, 9.99995e-01, 0.00000e+00, 0.00000e+00, 0.00000e+00,\n",
              "        0.00000e+00, 0.00000e+00, 0.00000e+00, 0.00000e+00, 0.00000e+00]],\n",
              "      dtype=float32)"
            ]
          },
          "metadata": {
            "tags": []
          },
          "execution_count": 43
        }
      ]
    },
    {
      "cell_type": "code",
      "metadata": {
        "colab": {
          "base_uri": "https://localhost:8080/"
        },
        "id": "ayzp_ewFCq_t",
        "outputId": "bbe970e1-b806-4b50-bd59-3682f14b2ca1"
      },
      "source": [
        "y_pred = model.predict_classes(X_new)\n",
        "y_pred"
      ],
      "execution_count": 44,
      "outputs": [
        {
          "output_type": "stream",
          "text": [
            "WARNING:tensorflow:From <ipython-input-44-81ace37e545f>:1: Sequential.predict_classes (from tensorflow.python.keras.engine.sequential) is deprecated and will be removed after 2021-01-01.\n",
            "Instructions for updating:\n",
            "Please use instead:* `np.argmax(model.predict(x), axis=-1)`,   if your model does multi-class classification   (e.g. if it uses a `softmax` last-layer activation).* `(model.predict(x) > 0.5).astype(\"int32\")`,   if your model does binary classification   (e.g. if it uses a `sigmoid` last-layer activation).\n"
          ],
          "name": "stdout"
        },
        {
          "output_type": "execute_result",
          "data": {
            "text/plain": [
              "array([9, 2, 1])"
            ]
          },
          "metadata": {
            "tags": []
          },
          "execution_count": 44
        }
      ]
    },
    {
      "cell_type": "code",
      "metadata": {
        "colab": {
          "base_uri": "https://localhost:8080/",
          "height": 165
        },
        "id": "H9Pt6zocCrFp",
        "outputId": "da9d4fdb-783c-4c68-d69e-8ea48dadaaa8"
      },
      "source": [
        "plt.figure(figsize=(7.2, 2.4))\n",
        "for index, image in enumerate(X_new):\n",
        "    plt.subplot(1, 3, index + 1)\n",
        "    plt.imshow(image, cmap=\"binary\", interpolation=\"nearest\")\n",
        "    plt.axis('off')\n",
        "    plt.title(class_names[y_test[index]], fontsize=12)\n",
        "plt.subplots_adjust(wspace=0.2, hspace=0.5)\n",
        "plt.show()"
      ],
      "execution_count": 45,
      "outputs": [
        {
          "output_type": "display_data",
          "data": {
            "image/png": "[encoded data removed]",
            "text/plain": [
              "<Figure size 518.4x172.8 with 3 Axes>"
            ]
          },
          "metadata": {
            "tags": [],
            "needs_background": "light"
          }
        }
      ]
    },
    {
      "cell_type": "markdown",
      "metadata": {
        "id": "gDaIRk4UEhvp"
      },
      "source": [
        "**EXERCICE**\n",
        "\n",
        "**1) Plot Learning curves when using different optimizers**\n",
        "\n",
        "\n"
      ]
    },
    {
      "cell_type": "markdown",
      "metadata": {
        "id": "mJPYqHftF6tF"
      },
      "source": [
        "optimizers: Adam"
      ]
    },
    {
      "cell_type": "code",
      "metadata": {
        "id": "8JHyk6HMCrKI"
      },
      "source": [
        "model.compile(loss=\"sparse_categorical_crossentropy\",\n",
        "              optimizer=\"Adam\",\n",
        "              metrics=[\"accuracy\"])"
      ],
      "execution_count": 46,
      "outputs": []
    },
    {
      "cell_type": "code",
      "metadata": {
        "colab": {
          "base_uri": "https://localhost:8080/"
        },
        "id": "HyJPxYI3CrTa",
        "outputId": "74703051-0320-4150-a769-ba4f205d7444"
      },
      "source": [
        "history1 = model.fit(X_train, y_train, batch_size=32, epochs=30,\n",
        "                    validation_data=(X_valid, y_valid))"
      ],
      "execution_count": 47,
      "outputs": [
        {
          "output_type": "stream",
          "text": [
            "Epoch 1/30\n",
            "1719/1719 [==============================] - 6s 3ms/step - loss: 0.3729 - accuracy: 0.8644 - val_loss: 0.3389 - val_accuracy: 0.8750\n",
            "Epoch 2/30\n",
            "1719/1719 [==============================] - 6s 3ms/step - loss: 0.3296 - accuracy: 0.8776 - val_loss: 0.3459 - val_accuracy: 0.8740\n",
            "Epoch 3/30\n",
            "1719/1719 [==============================] - 6s 3ms/step - loss: 0.3071 - accuracy: 0.8863 - val_loss: 0.3297 - val_accuracy: 0.8784\n",
            "Epoch 4/30\n",
            "1719/1719 [==============================] - 6s 3ms/step - loss: 0.2889 - accuracy: 0.8927 - val_loss: 0.3435 - val_accuracy: 0.8786\n",
            "Epoch 5/30\n",
            "1719/1719 [==============================] - 6s 3ms/step - loss: 0.2765 - accuracy: 0.8963 - val_loss: 0.3134 - val_accuracy: 0.8862\n",
            "Epoch 6/30\n",
            "1719/1719 [==============================] - 6s 3ms/step - loss: 0.2601 - accuracy: 0.9020 - val_loss: 0.3216 - val_accuracy: 0.8896\n",
            "Epoch 7/30\n",
            "1719/1719 [==============================] - 6s 3ms/step - loss: 0.2482 - accuracy: 0.9069 - val_loss: 0.3041 - val_accuracy: 0.8946\n",
            "Epoch 8/30\n",
            "1719/1719 [==============================] - 6s 3ms/step - loss: 0.2400 - accuracy: 0.9097 - val_loss: 0.3022 - val_accuracy: 0.8902\n",
            "Epoch 9/30\n",
            "1719/1719 [==============================] - 6s 3ms/step - loss: 0.2283 - accuracy: 0.9140 - val_loss: 0.3014 - val_accuracy: 0.8956\n",
            "Epoch 10/30\n",
            "1719/1719 [==============================] - 6s 3ms/step - loss: 0.2205 - accuracy: 0.9171 - val_loss: 0.3106 - val_accuracy: 0.8904\n",
            "Epoch 11/30\n",
            "1719/1719 [==============================] - 6s 3ms/step - loss: 0.2120 - accuracy: 0.9209 - val_loss: 0.3152 - val_accuracy: 0.8924\n",
            "Epoch 12/30\n",
            "1719/1719 [==============================] - 6s 3ms/step - loss: 0.2074 - accuracy: 0.9215 - val_loss: 0.3100 - val_accuracy: 0.8946\n",
            "Epoch 13/30\n",
            "1719/1719 [==============================] - 6s 3ms/step - loss: 0.2001 - accuracy: 0.9238 - val_loss: 0.3003 - val_accuracy: 0.9012\n",
            "Epoch 14/30\n",
            "1719/1719 [==============================] - 6s 3ms/step - loss: 0.1910 - accuracy: 0.9268 - val_loss: 0.3266 - val_accuracy: 0.8926\n",
            "Epoch 15/30\n",
            "1719/1719 [==============================] - 6s 3ms/step - loss: 0.1877 - accuracy: 0.9292 - val_loss: 0.3338 - val_accuracy: 0.8940\n",
            "Epoch 16/30\n",
            "1719/1719 [==============================] - 6s 4ms/step - loss: 0.1811 - accuracy: 0.9309 - val_loss: 0.3211 - val_accuracy: 0.8974\n",
            "Epoch 17/30\n",
            "1719/1719 [==============================] - 6s 4ms/step - loss: 0.1764 - accuracy: 0.9331 - val_loss: 0.3486 - val_accuracy: 0.8966\n",
            "Epoch 18/30\n",
            "1719/1719 [==============================] - 6s 3ms/step - loss: 0.1748 - accuracy: 0.9339 - val_loss: 0.3179 - val_accuracy: 0.9032\n",
            "Epoch 19/30\n",
            "1719/1719 [==============================] - 6s 3ms/step - loss: 0.1673 - accuracy: 0.9372 - val_loss: 0.3612 - val_accuracy: 0.8960\n",
            "Epoch 20/30\n",
            "1719/1719 [==============================] - 6s 3ms/step - loss: 0.1617 - accuracy: 0.9392 - val_loss: 0.3367 - val_accuracy: 0.8978\n",
            "Epoch 21/30\n",
            "1719/1719 [==============================] - 6s 3ms/step - loss: 0.1569 - accuracy: 0.9400 - val_loss: 0.3486 - val_accuracy: 0.9002\n",
            "Epoch 22/30\n",
            "1719/1719 [==============================] - 8s 5ms/step - loss: 0.1499 - accuracy: 0.9420 - val_loss: 0.3577 - val_accuracy: 0.9050\n",
            "Epoch 23/30\n",
            "1719/1719 [==============================] - 9s 5ms/step - loss: 0.1521 - accuracy: 0.9419 - val_loss: 0.4119 - val_accuracy: 0.8974\n",
            "Epoch 24/30\n",
            "1719/1719 [==============================] - 6s 3ms/step - loss: 0.1461 - accuracy: 0.9451 - val_loss: 0.3664 - val_accuracy: 0.9050\n",
            "Epoch 25/30\n",
            "1719/1719 [==============================] - 6s 3ms/step - loss: 0.1462 - accuracy: 0.9435 - val_loss: 0.3643 - val_accuracy: 0.9006\n",
            "Epoch 26/30\n",
            "1719/1719 [==============================] - 6s 3ms/step - loss: 0.1388 - accuracy: 0.9475 - val_loss: 0.4091 - val_accuracy: 0.8922\n",
            "Epoch 27/30\n",
            "1719/1719 [==============================] - 6s 3ms/step - loss: 0.1368 - accuracy: 0.9479 - val_loss: 0.3853 - val_accuracy: 0.8994\n",
            "Epoch 28/30\n",
            "1719/1719 [==============================] - 6s 3ms/step - loss: 0.1321 - accuracy: 0.9503 - val_loss: 0.4184 - val_accuracy: 0.9004\n",
            "Epoch 29/30\n",
            "1719/1719 [==============================] - 6s 3ms/step - loss: 0.1297 - accuracy: 0.9506 - val_loss: 0.4212 - val_accuracy: 0.9008\n",
            "Epoch 30/30\n",
            "1719/1719 [==============================] - 6s 3ms/step - loss: 0.1275 - accuracy: 0.9511 - val_loss: 0.4097 - val_accuracy: 0.8962\n"
          ],
          "name": "stdout"
        }
      ]
    },
    {
      "cell_type": "code",
      "metadata": {
        "colab": {
          "base_uri": "https://localhost:8080/",
          "height": 328
        },
        "id": "HhL_ehaICq6_",
        "outputId": "2ec2b84a-dd43-4fb1-fc2d-7bd712b982d3"
      },
      "source": [
        "pd.DataFrame(history1.history).plot(figsize=(8, 5))\n",
        "plt.grid(True)\n",
        "plt.gca().set_ylim(0, 1)\n",
        "plt.show()"
      ],
      "execution_count": 48,
      "outputs": [
        {
          "output_type": "display_data",
          "data": {
            "image/png": "[encoded data removed]",
            "text/plain": [
              "<Figure size 576x360 with 1 Axes>"
            ]
          },
          "metadata": {
            "tags": [],
            "needs_background": "light"
          }
        }
      ]
    },
    {
      "cell_type": "code",
      "metadata": {
        "colab": {
          "base_uri": "https://localhost:8080/"
        },
        "id": "SKpzNvscCq9M",
        "outputId": "8fb0736e-bd9d-4c1a-eb4a-394638ca716a"
      },
      "source": [
        "model.evaluate(X_test, y_test)"
      ],
      "execution_count": 49,
      "outputs": [
        {
          "output_type": "stream",
          "text": [
            "313/313 [==============================] - 0s 1ms/step - loss: 0.4494 - accuracy: 0.8933\n"
          ],
          "name": "stdout"
        },
        {
          "output_type": "execute_result",
          "data": {
            "text/plain": [
              "[0.4493940472602844, 0.8932999968528748]"
            ]
          },
          "metadata": {
            "tags": []
          },
          "execution_count": 49
        }
      ]
    },
    {
      "cell_type": "markdown",
      "metadata": {
        "id": "IcCS2fAyGjfR"
      },
      "source": [
        "optimizers:RMSprop"
      ]
    },
    {
      "cell_type": "code",
      "metadata": {
        "id": "ovBQcNZHCq4t"
      },
      "source": [
        "model.compile(loss=\"sparse_categorical_crossentropy\",\n",
        "              optimizer=\"RMSprop\",\n",
        "              metrics=[\"accuracy\"])"
      ],
      "execution_count": 50,
      "outputs": []
    },
    {
      "cell_type": "code",
      "metadata": {
        "colab": {
          "base_uri": "https://localhost:8080/"
        },
        "id": "7WULGR7pCq1d",
        "outputId": "29fcec15-880e-4bca-e0ec-ab48101ab45a"
      },
      "source": [
        "history2 = model.fit(X_train, y_train, batch_size=32, epochs=30,\n",
        "                    validation_data=(X_valid, y_valid))"
      ],
      "execution_count": 51,
      "outputs": [
        {
          "output_type": "stream",
          "text": [
            "Epoch 1/30\n",
            "1719/1719 [==============================] - 8s 5ms/step - loss: 0.1265 - accuracy: 0.9531 - val_loss: 0.5144 - val_accuracy: 0.8978\n",
            "Epoch 2/30\n",
            "1719/1719 [==============================] - 8s 5ms/step - loss: 0.1335 - accuracy: 0.9515 - val_loss: 0.5787 - val_accuracy: 0.9000\n",
            "Epoch 3/30\n",
            "1719/1719 [==============================] - 8s 4ms/step - loss: 0.1411 - accuracy: 0.9496 - val_loss: 0.6483 - val_accuracy: 0.8930\n",
            "Epoch 4/30\n",
            "1719/1719 [==============================] - 8s 4ms/step - loss: 0.1506 - accuracy: 0.9481 - val_loss: 0.6721 - val_accuracy: 0.8880\n",
            "Epoch 5/30\n",
            "1719/1719 [==============================] - 8s 5ms/step - loss: 0.1545 - accuracy: 0.9473 - val_loss: 0.6528 - val_accuracy: 0.8890\n",
            "Epoch 6/30\n",
            "1719/1719 [==============================] - 8s 5ms/step - loss: 0.1570 - accuracy: 0.9466 - val_loss: 0.6504 - val_accuracy: 0.8978\n",
            "Epoch 7/30\n",
            "1719/1719 [==============================] - 8s 5ms/step - loss: 0.1617 - accuracy: 0.9459 - val_loss: 0.7738 - val_accuracy: 0.8830\n",
            "Epoch 8/30\n",
            "1719/1719 [==============================] - 8s 5ms/step - loss: 0.1637 - accuracy: 0.9470 - val_loss: 0.7277 - val_accuracy: 0.8948\n",
            "Epoch 9/30\n",
            "1719/1719 [==============================] - 8s 5ms/step - loss: 0.1639 - accuracy: 0.9462 - val_loss: 0.8503 - val_accuracy: 0.8936\n",
            "Epoch 10/30\n",
            "1719/1719 [==============================] - 8s 5ms/step - loss: 0.1691 - accuracy: 0.9461 - val_loss: 0.8565 - val_accuracy: 0.8946\n",
            "Epoch 11/30\n",
            "1719/1719 [==============================] - 8s 5ms/step - loss: 0.1729 - accuracy: 0.9443 - val_loss: 0.8572 - val_accuracy: 0.8918\n",
            "Epoch 12/30\n",
            "1719/1719 [==============================] - 8s 5ms/step - loss: 0.1736 - accuracy: 0.9451 - val_loss: 0.9901 - val_accuracy: 0.8826\n",
            "Epoch 13/30\n",
            "1719/1719 [==============================] - 8s 5ms/step - loss: 0.1745 - accuracy: 0.9447 - val_loss: 0.9019 - val_accuracy: 0.8924\n",
            "Epoch 14/30\n",
            "1719/1719 [==============================] - 8s 4ms/step - loss: 0.1783 - accuracy: 0.9449 - val_loss: 0.9213 - val_accuracy: 0.8952\n",
            "Epoch 15/30\n",
            "1719/1719 [==============================] - 8s 5ms/step - loss: 0.1782 - accuracy: 0.9448 - val_loss: 0.8738 - val_accuracy: 0.8948\n",
            "Epoch 16/30\n",
            "1719/1719 [==============================] - 8s 5ms/step - loss: 0.1772 - accuracy: 0.9439 - val_loss: 1.0253 - val_accuracy: 0.8876\n",
            "Epoch 17/30\n",
            "1719/1719 [==============================] - 8s 5ms/step - loss: 0.1802 - accuracy: 0.9438 - val_loss: 1.0444 - val_accuracy: 0.8942\n",
            "Epoch 18/30\n",
            "1719/1719 [==============================] - 8s 5ms/step - loss: 0.1801 - accuracy: 0.9457 - val_loss: 1.0255 - val_accuracy: 0.8940\n",
            "Epoch 19/30\n",
            "1719/1719 [==============================] - 8s 5ms/step - loss: 0.1778 - accuracy: 0.9451 - val_loss: 0.9756 - val_accuracy: 0.8916\n",
            "Epoch 20/30\n",
            "1719/1719 [==============================] - 8s 5ms/step - loss: 0.1829 - accuracy: 0.9448 - val_loss: 1.0849 - val_accuracy: 0.8912\n",
            "Epoch 21/30\n",
            "1719/1719 [==============================] - 8s 5ms/step - loss: 0.1841 - accuracy: 0.9446 - val_loss: 1.0668 - val_accuracy: 0.8888\n",
            "Epoch 22/30\n",
            "1719/1719 [==============================] - 8s 5ms/step - loss: 0.1869 - accuracy: 0.9448 - val_loss: 1.1944 - val_accuracy: 0.8902\n",
            "Epoch 23/30\n",
            "1719/1719 [==============================] - 8s 5ms/step - loss: 0.1837 - accuracy: 0.9451 - val_loss: 1.0850 - val_accuracy: 0.8868\n",
            "Epoch 24/30\n",
            "1719/1719 [==============================] - 8s 5ms/step - loss: 0.1826 - accuracy: 0.9459 - val_loss: 1.1037 - val_accuracy: 0.8880\n",
            "Epoch 25/30\n",
            "1719/1719 [==============================] - 8s 5ms/step - loss: 0.1886 - accuracy: 0.9461 - val_loss: 1.1576 - val_accuracy: 0.8868\n",
            "Epoch 26/30\n",
            "1719/1719 [==============================] - 8s 5ms/step - loss: 0.1855 - accuracy: 0.9448 - val_loss: 1.2720 - val_accuracy: 0.8960\n",
            "Epoch 27/30\n",
            "1719/1719 [==============================] - 8s 5ms/step - loss: 0.1834 - accuracy: 0.9463 - val_loss: 1.1770 - val_accuracy: 0.8886\n",
            "Epoch 28/30\n",
            "1719/1719 [==============================] - 8s 5ms/step - loss: 0.1863 - accuracy: 0.9465 - val_loss: 1.2615 - val_accuracy: 0.8896\n",
            "Epoch 29/30\n",
            "1719/1719 [==============================] - 8s 5ms/step - loss: 0.1962 - accuracy: 0.9460 - val_loss: 1.3383 - val_accuracy: 0.8946\n",
            "Epoch 30/30\n",
            "1719/1719 [==============================] - 8s 4ms/step - loss: 0.1808 - accuracy: 0.9484 - val_loss: 1.2873 - val_accuracy: 0.8768\n"
          ],
          "name": "stdout"
        }
      ]
    },
    {
      "cell_type": "code",
      "metadata": {
        "colab": {
          "base_uri": "https://localhost:8080/",
          "height": 328
        },
        "id": "KnMtS7l-Iky3",
        "outputId": "b4b2a8de-55fb-4048-ee65-cd67bd4b056f"
      },
      "source": [
        "pd.DataFrame(history2.history).plot(figsize=(8, 5))\n",
        "plt.grid(True)\n",
        "plt.gca().set_ylim(0, 1)\n",
        "plt.show()"
      ],
      "execution_count": 52,
      "outputs": [
        {
          "output_type": "display_data",
          "data": {
            "image/png": "[encoded data removed]",
            "text/plain": [
              "<Figure size 576x360 with 1 Axes>"
            ]
          },
          "metadata": {
            "tags": [],
            "needs_background": "light"
          }
        }
      ]
    },
    {
      "cell_type": "code",
      "metadata": {
        "colab": {
          "base_uri": "https://localhost:8080/"
        },
        "id": "K3YegchICqsG",
        "outputId": "5e15f6ac-ced7-4fb8-a0a7-19c0a91d1e73"
      },
      "source": [
        "model.evaluate(X_test, y_test)"
      ],
      "execution_count": 53,
      "outputs": [
        {
          "output_type": "stream",
          "text": [
            "313/313 [==============================] - 0s 1ms/step - loss: 1.2042 - accuracy: 0.8771\n"
          ],
          "name": "stdout"
        },
        {
          "output_type": "execute_result",
          "data": {
            "text/plain": [
              "[1.2041831016540527, 0.8770999908447266]"
            ]
          },
          "metadata": {
            "tags": []
          },
          "execution_count": 53
        }
      ]
    },
    {
      "cell_type": "markdown",
      "metadata": {
        "id": "EwYQ4z_QH7RF"
      },
      "source": [
        "optimizers:SGD"
      ]
    },
    {
      "cell_type": "code",
      "metadata": {
        "id": "F3dBbCnGCqin"
      },
      "source": [
        "model.compile(loss=\"sparse_categorical_crossentropy\",\n",
        "              optimizer=\"SGD\",\n",
        "              metrics=[\"accuracy\"])"
      ],
      "execution_count": 54,
      "outputs": []
    },
    {
      "cell_type": "code",
      "metadata": {
        "colab": {
          "base_uri": "https://localhost:8080/"
        },
        "id": "FQBftSzFCqgH",
        "outputId": "0a11a6d7-e110-4bab-e13f-f106422bafba"
      },
      "source": [
        "history3 = model.fit(X_train, y_train, batch_size=32, epochs=30,\n",
        "                    validation_data=(X_valid, y_valid))"
      ],
      "execution_count": 55,
      "outputs": [
        {
          "output_type": "stream",
          "text": [
            "Epoch 1/30\n",
            "1719/1719 [==============================] - 5s 3ms/step - loss: 5.3817 - accuracy: 0.2874 - val_loss: 1.7478 - val_accuracy: 0.3078\n",
            "Epoch 2/30\n",
            "1719/1719 [==============================] - 5s 3ms/step - loss: 1.5516 - accuracy: 0.4211 - val_loss: 1.1867 - val_accuracy: 0.5774\n",
            "Epoch 3/30\n",
            "1719/1719 [==============================] - 5s 3ms/step - loss: 1.1918 - accuracy: 0.5639 - val_loss: 1.1506 - val_accuracy: 0.5834\n",
            "Epoch 4/30\n",
            "1719/1719 [==============================] - 4s 3ms/step - loss: 0.8917 - accuracy: 0.6426 - val_loss: 0.8743 - val_accuracy: 0.6716\n",
            "Epoch 5/30\n",
            "1719/1719 [==============================] - 5s 3ms/step - loss: 0.7316 - accuracy: 0.7213 - val_loss: 1.3704 - val_accuracy: 0.4572\n",
            "Epoch 6/30\n",
            "1719/1719 [==============================] - 5s 3ms/step - loss: 0.7281 - accuracy: 0.7369 - val_loss: 0.7677 - val_accuracy: 0.7224\n",
            "Epoch 7/30\n",
            "1719/1719 [==============================] - 5s 3ms/step - loss: 0.6291 - accuracy: 0.7767 - val_loss: 0.5886 - val_accuracy: 0.8062\n",
            "Epoch 8/30\n",
            "1719/1719 [==============================] - 5s 3ms/step - loss: 0.5999 - accuracy: 0.7866 - val_loss: 0.6786 - val_accuracy: 0.7480\n",
            "Epoch 9/30\n",
            "1719/1719 [==============================] - 5s 3ms/step - loss: 0.5779 - accuracy: 0.7958 - val_loss: 0.5775 - val_accuracy: 0.8068\n",
            "Epoch 10/30\n",
            "1719/1719 [==============================] - 5s 3ms/step - loss: 0.5599 - accuracy: 0.8024 - val_loss: 0.5825 - val_accuracy: 0.8118\n",
            "Epoch 11/30\n",
            "1719/1719 [==============================] - 5s 3ms/step - loss: 0.5365 - accuracy: 0.8086 - val_loss: 0.5662 - val_accuracy: 0.8192\n",
            "Epoch 12/30\n",
            "1719/1719 [==============================] - 5s 3ms/step - loss: 0.5201 - accuracy: 0.8150 - val_loss: 0.5200 - val_accuracy: 0.8294\n",
            "Epoch 13/30\n",
            "1719/1719 [==============================] - 5s 3ms/step - loss: 0.5131 - accuracy: 0.8191 - val_loss: 0.6632 - val_accuracy: 0.7890\n",
            "Epoch 14/30\n",
            "1719/1719 [==============================] - 5s 3ms/step - loss: 0.5037 - accuracy: 0.8247 - val_loss: 0.7413 - val_accuracy: 0.7632\n",
            "Epoch 15/30\n",
            "1719/1719 [==============================] - 5s 3ms/step - loss: 0.4845 - accuracy: 0.8291 - val_loss: 0.4795 - val_accuracy: 0.8442\n",
            "Epoch 16/30\n",
            "1719/1719 [==============================] - 5s 3ms/step - loss: 0.4832 - accuracy: 0.8295 - val_loss: 0.5126 - val_accuracy: 0.8338\n",
            "Epoch 17/30\n",
            "1719/1719 [==============================] - 5s 3ms/step - loss: 0.4576 - accuracy: 0.8367 - val_loss: 0.4597 - val_accuracy: 0.8450\n",
            "Epoch 18/30\n",
            "1719/1719 [==============================] - 5s 3ms/step - loss: 0.4394 - accuracy: 0.8437 - val_loss: 0.4339 - val_accuracy: 0.8574\n",
            "Epoch 19/30\n",
            "1719/1719 [==============================] - 5s 3ms/step - loss: 0.4413 - accuracy: 0.8424 - val_loss: 0.6237 - val_accuracy: 0.8174\n",
            "Epoch 20/30\n",
            "1719/1719 [==============================] - 5s 3ms/step - loss: 0.4234 - accuracy: 0.8505 - val_loss: 0.5137 - val_accuracy: 0.8362\n",
            "Epoch 21/30\n",
            "1719/1719 [==============================] - 5s 3ms/step - loss: 0.4130 - accuracy: 0.8527 - val_loss: 0.4966 - val_accuracy: 0.8384\n",
            "Epoch 22/30\n",
            "1719/1719 [==============================] - 5s 3ms/step - loss: 0.4138 - accuracy: 0.8543 - val_loss: 0.4738 - val_accuracy: 0.8470\n",
            "Epoch 23/30\n",
            "1719/1719 [==============================] - 5s 3ms/step - loss: 0.3946 - accuracy: 0.8606 - val_loss: 0.4537 - val_accuracy: 0.8564\n",
            "Epoch 24/30\n",
            "1719/1719 [==============================] - 5s 3ms/step - loss: 0.3889 - accuracy: 0.8621 - val_loss: 0.4371 - val_accuracy: 0.8662\n",
            "Epoch 25/30\n",
            "1719/1719 [==============================] - 5s 3ms/step - loss: 0.3766 - accuracy: 0.8672 - val_loss: 0.4816 - val_accuracy: 0.8480\n",
            "Epoch 26/30\n",
            "1719/1719 [==============================] - 5s 3ms/step - loss: 0.3689 - accuracy: 0.8705 - val_loss: 0.6121 - val_accuracy: 0.8036\n",
            "Epoch 27/30\n",
            "1719/1719 [==============================] - 5s 3ms/step - loss: 0.3606 - accuracy: 0.8733 - val_loss: 0.4532 - val_accuracy: 0.8618\n",
            "Epoch 28/30\n",
            "1719/1719 [==============================] - 5s 3ms/step - loss: 0.3607 - accuracy: 0.8731 - val_loss: 0.4712 - val_accuracy: 0.8530\n",
            "Epoch 29/30\n",
            "1719/1719 [==============================] - 5s 3ms/step - loss: 0.3545 - accuracy: 0.8748 - val_loss: 0.4224 - val_accuracy: 0.8728\n",
            "Epoch 30/30\n",
            "1719/1719 [==============================] - 5s 3ms/step - loss: 0.3445 - accuracy: 0.8787 - val_loss: 0.4398 - val_accuracy: 0.8672\n"
          ],
          "name": "stdout"
        }
      ]
    },
    {
      "cell_type": "code",
      "metadata": {
        "colab": {
          "base_uri": "https://localhost:8080/",
          "height": 328
        },
        "id": "Z39EydSqCqeL",
        "outputId": "f892fba0-9f2b-4f76-fa6f-b7be33eefd58"
      },
      "source": [
        "pd.DataFrame(history3.history).plot(figsize=(8, 5))\n",
        "plt.grid(True)\n",
        "plt.gca().set_ylim(0, 1)\n",
        "plt.show()"
      ],
      "execution_count": 56,
      "outputs": [
        {
          "output_type": "display_data",
          "data": {
            "image/png": "[encoded data removed]",
            "text/plain": [
              "<Figure size 576x360 with 1 Axes>"
            ]
          },
          "metadata": {
            "tags": [],
            "needs_background": "light"
          }
        }
      ]
    },
    {
      "cell_type": "code",
      "metadata": {
        "colab": {
          "base_uri": "https://localhost:8080/"
        },
        "id": "Siv36N1tCqWk",
        "outputId": "4e1fa562-6769-41be-a2a5-78dd6a50789c"
      },
      "source": [
        "model.evaluate(X_test, y_test)"
      ],
      "execution_count": 57,
      "outputs": [
        {
          "output_type": "stream",
          "text": [
            "313/313 [==============================] - 0s 1ms/step - loss: 0.4786 - accuracy: 0.8559\n"
          ],
          "name": "stdout"
        },
        {
          "output_type": "execute_result",
          "data": {
            "text/plain": [
              "[0.478648841381073, 0.85589998960495]"
            ]
          },
          "metadata": {
            "tags": []
          },
          "execution_count": 57
        }
      ]
    },
    {
      "cell_type": "markdown",
      "metadata": {
        "id": "puF97hvxLMNF"
      },
      "source": [
        "**2) Plot Learning curves when using different batch size**\n",
        "\n",
        "batch-size=10\n"
      ]
    },
    {
      "cell_type": "code",
      "metadata": {
        "id": "Wcub4X9yCqQq"
      },
      "source": [
        "model.compile(loss=\"sparse_categorical_crossentropy\",\n",
        "              optimizer=\"Adam\",\n",
        "              metrics=[\"accuracy\"])"
      ],
      "execution_count": 58,
      "outputs": []
    },
    {
      "cell_type": "code",
      "metadata": {
        "colab": {
          "base_uri": "https://localhost:8080/"
        },
        "id": "52UTwZp9CqJU",
        "outputId": "e2793ee2-6502-4b95-f97a-25677744dfe9"
      },
      "source": [
        "history4 = model.fit(X_train, y_train, batch_size=10, epochs=30,\n",
        "                    validation_data=(X_valid, y_valid))"
      ],
      "execution_count": 59,
      "outputs": [
        {
          "output_type": "stream",
          "text": [
            "Epoch 1/30\n",
            "5500/5500 [==============================] - 13s 2ms/step - loss: 0.3105 - accuracy: 0.8893 - val_loss: 0.3805 - val_accuracy: 0.8818\n",
            "Epoch 2/30\n",
            "5500/5500 [==============================] - 13s 2ms/step - loss: 0.2654 - accuracy: 0.9058 - val_loss: 0.3699 - val_accuracy: 0.8836\n",
            "Epoch 3/30\n",
            "5500/5500 [==============================] - 13s 2ms/step - loss: 0.2442 - accuracy: 0.9119 - val_loss: 0.3569 - val_accuracy: 0.8872\n",
            "Epoch 4/30\n",
            "5500/5500 [==============================] - 13s 2ms/step - loss: 0.2300 - accuracy: 0.9169 - val_loss: 0.3655 - val_accuracy: 0.8920\n",
            "Epoch 5/30\n",
            "5500/5500 [==============================] - 13s 2ms/step - loss: 0.2196 - accuracy: 0.9213 - val_loss: 0.3959 - val_accuracy: 0.8892\n",
            "Epoch 6/30\n",
            "5500/5500 [==============================] - 13s 2ms/step - loss: 0.2091 - accuracy: 0.9243 - val_loss: 0.4281 - val_accuracy: 0.8742\n",
            "Epoch 7/30\n",
            "5500/5500 [==============================] - 13s 2ms/step - loss: 0.2031 - accuracy: 0.9251 - val_loss: 0.3676 - val_accuracy: 0.8908\n",
            "Epoch 8/30\n",
            "5500/5500 [==============================] - 13s 2ms/step - loss: 0.1932 - accuracy: 0.9303 - val_loss: 0.4205 - val_accuracy: 0.8852\n",
            "Epoch 9/30\n",
            "5500/5500 [==============================] - 13s 2ms/step - loss: 0.1887 - accuracy: 0.9326 - val_loss: 0.3932 - val_accuracy: 0.8912\n",
            "Epoch 10/30\n",
            "5500/5500 [==============================] - 13s 2ms/step - loss: 0.1864 - accuracy: 0.9320 - val_loss: 0.4070 - val_accuracy: 0.8860\n",
            "Epoch 11/30\n",
            "5500/5500 [==============================] - 13s 2ms/step - loss: 0.1779 - accuracy: 0.9360 - val_loss: 0.4234 - val_accuracy: 0.8814\n",
            "Epoch 12/30\n",
            "5500/5500 [==============================] - 14s 3ms/step - loss: 0.1766 - accuracy: 0.9364 - val_loss: 0.3837 - val_accuracy: 0.8958\n",
            "Epoch 13/30\n",
            "5500/5500 [==============================] - 13s 2ms/step - loss: 0.1694 - accuracy: 0.9375 - val_loss: 0.4441 - val_accuracy: 0.8938\n",
            "Epoch 14/30\n",
            "5500/5500 [==============================] - 18s 3ms/step - loss: 0.1659 - accuracy: 0.9392 - val_loss: 0.4219 - val_accuracy: 0.8866\n",
            "Epoch 15/30\n",
            "5500/5500 [==============================] - 14s 3ms/step - loss: 0.1614 - accuracy: 0.9413 - val_loss: 0.4309 - val_accuracy: 0.8932\n",
            "Epoch 16/30\n",
            "5500/5500 [==============================] - 13s 2ms/step - loss: 0.1579 - accuracy: 0.9420 - val_loss: 0.4371 - val_accuracy: 0.8812\n",
            "Epoch 17/30\n",
            "5500/5500 [==============================] - 13s 2ms/step - loss: 0.1554 - accuracy: 0.9428 - val_loss: 0.4477 - val_accuracy: 0.8900\n",
            "Epoch 18/30\n",
            "5500/5500 [==============================] - 12s 2ms/step - loss: 0.1507 - accuracy: 0.9461 - val_loss: 0.4738 - val_accuracy: 0.8910\n",
            "Epoch 19/30\n",
            "5500/5500 [==============================] - 12s 2ms/step - loss: 0.1493 - accuracy: 0.9462 - val_loss: 0.4554 - val_accuracy: 0.8944\n",
            "Epoch 20/30\n",
            "5500/5500 [==============================] - 13s 2ms/step - loss: 0.1457 - accuracy: 0.9464 - val_loss: 0.4901 - val_accuracy: 0.8914\n",
            "Epoch 21/30\n",
            "5500/5500 [==============================] - 13s 2ms/step - loss: 0.1418 - accuracy: 0.9489 - val_loss: 0.5037 - val_accuracy: 0.8908\n",
            "Epoch 22/30\n",
            "5500/5500 [==============================] - 13s 2ms/step - loss: 0.1439 - accuracy: 0.9493 - val_loss: 0.4988 - val_accuracy: 0.8964\n",
            "Epoch 23/30\n",
            "5500/5500 [==============================] - 13s 2ms/step - loss: 0.1400 - accuracy: 0.9495 - val_loss: 0.5217 - val_accuracy: 0.8798\n",
            "Epoch 24/30\n",
            "5500/5500 [==============================] - 13s 2ms/step - loss: 0.1368 - accuracy: 0.9508 - val_loss: 0.5398 - val_accuracy: 0.8966\n",
            "Epoch 25/30\n",
            "5500/5500 [==============================] - 12s 2ms/step - loss: 0.1347 - accuracy: 0.9511 - val_loss: 0.4507 - val_accuracy: 0.8934\n",
            "Epoch 26/30\n",
            "5500/5500 [==============================] - 13s 2ms/step - loss: 0.1328 - accuracy: 0.9519 - val_loss: 0.5474 - val_accuracy: 0.8876\n",
            "Epoch 27/30\n",
            "5500/5500 [==============================] - 13s 2ms/step - loss: 0.1301 - accuracy: 0.9532 - val_loss: 0.5681 - val_accuracy: 0.8912\n",
            "Epoch 28/30\n",
            "5500/5500 [==============================] - 13s 2ms/step - loss: 0.1284 - accuracy: 0.9533 - val_loss: 0.5130 - val_accuracy: 0.8960\n",
            "Epoch 29/30\n",
            "5500/5500 [==============================] - 13s 2ms/step - loss: 0.1280 - accuracy: 0.9539 - val_loss: 0.5090 - val_accuracy: 0.8940\n",
            "Epoch 30/30\n",
            "5500/5500 [==============================] - 13s 2ms/step - loss: 0.1231 - accuracy: 0.9555 - val_loss: 0.5374 - val_accuracy: 0.8932\n"
          ],
          "name": "stdout"
        }
      ]
    },
    {
      "cell_type": "code",
      "metadata": {
        "colab": {
          "base_uri": "https://localhost:8080/"
        },
        "id": "UEj1BB_IODN5",
        "outputId": "fbd5fceb-0937-49af-a7c8-719f3388b1c5"
      },
      "source": [
        "model.evaluate(X_test, y_test)"
      ],
      "execution_count": 60,
      "outputs": [
        {
          "output_type": "stream",
          "text": [
            "313/313 [==============================] - 1s 2ms/step - loss: 0.5816 - accuracy: 0.8879\n"
          ],
          "name": "stdout"
        },
        {
          "output_type": "execute_result",
          "data": {
            "text/plain": [
              "[0.5816402435302734, 0.8878999948501587]"
            ]
          },
          "metadata": {
            "tags": []
          },
          "execution_count": 60
        }
      ]
    },
    {
      "cell_type": "markdown",
      "metadata": {
        "id": "LhWYtozVOOBZ"
      },
      "source": [
        "batch-size=20"
      ]
    },
    {
      "cell_type": "code",
      "metadata": {
        "colab": {
          "base_uri": "https://localhost:8080/"
        },
        "id": "Sb62Y83xODgA",
        "outputId": "b5d26c49-ed42-4e21-f58d-12c89167040c"
      },
      "source": [
        "history5 = model.fit(X_train, y_train, batch_size=20, epochs=30,\n",
        "                    validation_data=(X_valid, y_valid))"
      ],
      "execution_count": 61,
      "outputs": [
        {
          "output_type": "stream",
          "text": [
            "Epoch 1/30\n",
            "2750/2750 [==============================] - 9s 3ms/step - loss: 0.0958 - accuracy: 0.9658 - val_loss: 0.5577 - val_accuracy: 0.8970\n",
            "Epoch 2/30\n",
            "2750/2750 [==============================] - 9s 3ms/step - loss: 0.0985 - accuracy: 0.9646 - val_loss: 0.5899 - val_accuracy: 0.8906\n",
            "Epoch 3/30\n",
            "2750/2750 [==============================] - 9s 3ms/step - loss: 0.0958 - accuracy: 0.9655 - val_loss: 0.6593 - val_accuracy: 0.8958\n",
            "Epoch 4/30\n",
            "2750/2750 [==============================] - 9s 3ms/step - loss: 0.0922 - accuracy: 0.9666 - val_loss: 0.6222 - val_accuracy: 0.8970\n",
            "Epoch 5/30\n",
            "2750/2750 [==============================] - 9s 3ms/step - loss: 0.0945 - accuracy: 0.9667 - val_loss: 0.6435 - val_accuracy: 0.8982\n",
            "Epoch 6/30\n",
            "2750/2750 [==============================] - 9s 3ms/step - loss: 0.0898 - accuracy: 0.9673 - val_loss: 0.6182 - val_accuracy: 0.8948\n",
            "Epoch 7/30\n",
            "2750/2750 [==============================] - 9s 3ms/step - loss: 0.0895 - accuracy: 0.9680 - val_loss: 0.7004 - val_accuracy: 0.8956\n",
            "Epoch 8/30\n",
            "2750/2750 [==============================] - 10s 4ms/step - loss: 0.0899 - accuracy: 0.9689 - val_loss: 0.7146 - val_accuracy: 0.8902\n",
            "Epoch 9/30\n",
            "2750/2750 [==============================] - 9s 3ms/step - loss: 0.0873 - accuracy: 0.9688 - val_loss: 0.6528 - val_accuracy: 0.8924\n",
            "Epoch 10/30\n",
            "2750/2750 [==============================] - 9s 3ms/step - loss: 0.0843 - accuracy: 0.9702 - val_loss: 0.6734 - val_accuracy: 0.8914\n",
            "Epoch 11/30\n",
            "2750/2750 [==============================] - 9s 3ms/step - loss: 0.0816 - accuracy: 0.9706 - val_loss: 0.7125 - val_accuracy: 0.8950\n",
            "Epoch 12/30\n",
            "2750/2750 [==============================] - 9s 3ms/step - loss: 0.0831 - accuracy: 0.9696 - val_loss: 0.7421 - val_accuracy: 0.8892\n",
            "Epoch 13/30\n",
            "2750/2750 [==============================] - 9s 3ms/step - loss: 0.0791 - accuracy: 0.9721 - val_loss: 0.7147 - val_accuracy: 0.8958\n",
            "Epoch 14/30\n",
            "2750/2750 [==============================] - 9s 3ms/step - loss: 0.0810 - accuracy: 0.9710 - val_loss: 0.7023 - val_accuracy: 0.8936\n",
            "Epoch 15/30\n",
            "2750/2750 [==============================] - 9s 3ms/step - loss: 0.0766 - accuracy: 0.9728 - val_loss: 0.7469 - val_accuracy: 0.8966\n",
            "Epoch 16/30\n",
            "2750/2750 [==============================] - 9s 3ms/step - loss: 0.0773 - accuracy: 0.9722 - val_loss: 0.7500 - val_accuracy: 0.8990\n",
            "Epoch 17/30\n",
            "2750/2750 [==============================] - 9s 3ms/step - loss: 0.0783 - accuracy: 0.9718 - val_loss: 0.7839 - val_accuracy: 0.8992\n",
            "Epoch 18/30\n",
            "2750/2750 [==============================] - 9s 3ms/step - loss: 0.0738 - accuracy: 0.9739 - val_loss: 0.7452 - val_accuracy: 0.8938\n",
            "Epoch 19/30\n",
            "2750/2750 [==============================] - 9s 3ms/step - loss: 0.0757 - accuracy: 0.9734 - val_loss: 0.7702 - val_accuracy: 0.8976\n",
            "Epoch 20/30\n",
            "2750/2750 [==============================] - 9s 3ms/step - loss: 0.0736 - accuracy: 0.9737 - val_loss: 0.7986 - val_accuracy: 0.8928\n",
            "Epoch 21/30\n",
            "2750/2750 [==============================] - 9s 3ms/step - loss: 0.0726 - accuracy: 0.9742 - val_loss: 0.7855 - val_accuracy: 0.8938\n",
            "Epoch 22/30\n",
            "2750/2750 [==============================] - 9s 3ms/step - loss: 0.0738 - accuracy: 0.9743 - val_loss: 0.7589 - val_accuracy: 0.8960\n",
            "Epoch 23/30\n",
            "2750/2750 [==============================] - 9s 3ms/step - loss: 0.0695 - accuracy: 0.9751 - val_loss: 0.7860 - val_accuracy: 0.8998\n",
            "Epoch 24/30\n",
            "2750/2750 [==============================] - 9s 3ms/step - loss: 0.0704 - accuracy: 0.9757 - val_loss: 0.7393 - val_accuracy: 0.8958\n",
            "Epoch 25/30\n",
            "2750/2750 [==============================] - 9s 3ms/step - loss: 0.0682 - accuracy: 0.9753 - val_loss: 0.7848 - val_accuracy: 0.8970\n",
            "Epoch 26/30\n",
            "2750/2750 [==============================] - 9s 3ms/step - loss: 0.0672 - accuracy: 0.9755 - val_loss: 0.8168 - val_accuracy: 0.8982\n",
            "Epoch 27/30\n",
            "2750/2750 [==============================] - 9s 3ms/step - loss: 0.0689 - accuracy: 0.9750 - val_loss: 0.7808 - val_accuracy: 0.8972\n",
            "Epoch 28/30\n",
            "2750/2750 [==============================] - 9s 3ms/step - loss: 0.0673 - accuracy: 0.9769 - val_loss: 0.8300 - val_accuracy: 0.8922\n",
            "Epoch 29/30\n",
            "2750/2750 [==============================] - 9s 3ms/step - loss: 0.0653 - accuracy: 0.9771 - val_loss: 0.8063 - val_accuracy: 0.8980\n",
            "Epoch 30/30\n",
            "2750/2750 [==============================] - 9s 3ms/step - loss: 0.0672 - accuracy: 0.9762 - val_loss: 0.8734 - val_accuracy: 0.8924\n"
          ],
          "name": "stdout"
        }
      ]
    },
    {
      "cell_type": "code",
      "metadata": {
        "colab": {
          "base_uri": "https://localhost:8080/"
        },
        "id": "TXWhgZjQODMH",
        "outputId": "81c76e48-2725-48d4-8184-25d2e541d84f"
      },
      "source": [
        "model.evaluate(X_test, y_test)"
      ],
      "execution_count": 62,
      "outputs": [
        {
          "output_type": "stream",
          "text": [
            "313/313 [==============================] - 1s 2ms/step - loss: 0.8813 - accuracy: 0.8862\n"
          ],
          "name": "stdout"
        },
        {
          "output_type": "execute_result",
          "data": {
            "text/plain": [
              "[0.8813232183456421, 0.8862000107765198]"
            ]
          },
          "metadata": {
            "tags": []
          },
          "execution_count": 62
        }
      ]
    },
    {
      "cell_type": "code",
      "metadata": {
        "colab": {
          "base_uri": "https://localhost:8080/"
        },
        "id": "aio0N0YnODKd",
        "outputId": "e1730666-b953-4201-9a06-85f050906d8c"
      },
      "source": [
        "history6 = model.fit(X_train, y_train, batch_size=30, epochs=30,\n",
        "                    validation_data=(X_valid, y_valid))"
      ],
      "execution_count": 63,
      "outputs": [
        {
          "output_type": "stream",
          "text": [
            "Epoch 1/30\n",
            "1834/1834 [==============================] - 7s 4ms/step - loss: 0.0492 - accuracy: 0.9821 - val_loss: 0.8627 - val_accuracy: 0.8992\n",
            "Epoch 2/30\n",
            "1834/1834 [==============================] - 7s 4ms/step - loss: 0.0524 - accuracy: 0.9808 - val_loss: 0.8744 - val_accuracy: 0.8968\n",
            "Epoch 3/30\n",
            "1834/1834 [==============================] - 7s 4ms/step - loss: 0.0558 - accuracy: 0.9797 - val_loss: 0.9463 - val_accuracy: 0.8998\n",
            "Epoch 4/30\n",
            "1834/1834 [==============================] - 7s 4ms/step - loss: 0.0562 - accuracy: 0.9799 - val_loss: 0.8925 - val_accuracy: 0.8932\n",
            "Epoch 5/30\n",
            "1834/1834 [==============================] - 7s 4ms/step - loss: 0.0534 - accuracy: 0.9811 - val_loss: 0.9071 - val_accuracy: 0.8962\n",
            "Epoch 6/30\n",
            "1834/1834 [==============================] - 7s 4ms/step - loss: 0.0512 - accuracy: 0.9815 - val_loss: 0.8991 - val_accuracy: 0.8968\n",
            "Epoch 7/30\n",
            "1834/1834 [==============================] - 7s 4ms/step - loss: 0.0520 - accuracy: 0.9813 - val_loss: 0.8830 - val_accuracy: 0.8978\n",
            "Epoch 8/30\n",
            "1834/1834 [==============================] - 7s 4ms/step - loss: 0.0523 - accuracy: 0.9823 - val_loss: 0.9663 - val_accuracy: 0.8944\n",
            "Epoch 9/30\n",
            "1834/1834 [==============================] - 7s 4ms/step - loss: 0.0475 - accuracy: 0.9830 - val_loss: 0.9796 - val_accuracy: 0.8940\n",
            "Epoch 10/30\n",
            "1834/1834 [==============================] - 7s 4ms/step - loss: 0.0485 - accuracy: 0.9829 - val_loss: 0.9516 - val_accuracy: 0.9004\n",
            "Epoch 11/30\n",
            "1834/1834 [==============================] - 7s 4ms/step - loss: 0.0499 - accuracy: 0.9818 - val_loss: 1.0295 - val_accuracy: 0.8920\n",
            "Epoch 12/30\n",
            "1834/1834 [==============================] - 7s 4ms/step - loss: 0.0511 - accuracy: 0.9822 - val_loss: 0.9990 - val_accuracy: 0.8960\n",
            "Epoch 13/30\n",
            "1834/1834 [==============================] - 7s 4ms/step - loss: 0.0477 - accuracy: 0.9828 - val_loss: 0.9790 - val_accuracy: 0.8968\n",
            "Epoch 14/30\n",
            "1834/1834 [==============================] - 7s 4ms/step - loss: 0.0467 - accuracy: 0.9832 - val_loss: 0.9960 - val_accuracy: 0.8946\n",
            "Epoch 15/30\n",
            "1834/1834 [==============================] - 7s 4ms/step - loss: 0.0448 - accuracy: 0.9845 - val_loss: 1.0081 - val_accuracy: 0.8916\n",
            "Epoch 16/30\n",
            "1834/1834 [==============================] - 8s 4ms/step - loss: 0.0492 - accuracy: 0.9828 - val_loss: 0.9719 - val_accuracy: 0.8938\n",
            "Epoch 17/30\n",
            "1834/1834 [==============================] - 8s 4ms/step - loss: 0.0479 - accuracy: 0.9830 - val_loss: 0.9497 - val_accuracy: 0.8940\n",
            "Epoch 18/30\n",
            "1834/1834 [==============================] - 11s 6ms/step - loss: 0.0418 - accuracy: 0.9850 - val_loss: 1.0519 - val_accuracy: 0.8968\n",
            "Epoch 19/30\n",
            "1834/1834 [==============================] - 7s 4ms/step - loss: 0.0438 - accuracy: 0.9844 - val_loss: 1.0036 - val_accuracy: 0.8936\n",
            "Epoch 20/30\n",
            "1834/1834 [==============================] - 7s 4ms/step - loss: 0.0409 - accuracy: 0.9852 - val_loss: 1.0257 - val_accuracy: 0.8916\n",
            "Epoch 21/30\n",
            "1834/1834 [==============================] - 7s 4ms/step - loss: 0.0468 - accuracy: 0.9835 - val_loss: 0.9968 - val_accuracy: 0.8964\n",
            "Epoch 22/30\n",
            "1834/1834 [==============================] - 7s 4ms/step - loss: 0.0454 - accuracy: 0.9839 - val_loss: 1.0646 - val_accuracy: 0.8926\n",
            "Epoch 23/30\n",
            "1834/1834 [==============================] - 7s 4ms/step - loss: 0.0410 - accuracy: 0.9853 - val_loss: 1.0692 - val_accuracy: 0.8956\n",
            "Epoch 24/30\n",
            "1834/1834 [==============================] - 7s 4ms/step - loss: 0.0433 - accuracy: 0.9844 - val_loss: 1.0608 - val_accuracy: 0.8930\n",
            "Epoch 25/30\n",
            "1834/1834 [==============================] - 7s 4ms/step - loss: 0.0407 - accuracy: 0.9858 - val_loss: 1.1022 - val_accuracy: 0.8958\n",
            "Epoch 26/30\n",
            "1834/1834 [==============================] - 7s 4ms/step - loss: 0.0421 - accuracy: 0.9844 - val_loss: 1.1805 - val_accuracy: 0.8918\n",
            "Epoch 27/30\n",
            "1834/1834 [==============================] - 7s 4ms/step - loss: 0.0416 - accuracy: 0.9853 - val_loss: 1.0976 - val_accuracy: 0.8912\n",
            "Epoch 28/30\n",
            "1834/1834 [==============================] - 7s 4ms/step - loss: 0.0425 - accuracy: 0.9848 - val_loss: 1.1439 - val_accuracy: 0.8952\n",
            "Epoch 29/30\n",
            "1834/1834 [==============================] - 7s 4ms/step - loss: 0.0452 - accuracy: 0.9845 - val_loss: 1.1571 - val_accuracy: 0.8964\n",
            "Epoch 30/30\n",
            "1834/1834 [==============================] - 7s 4ms/step - loss: 0.0393 - accuracy: 0.9864 - val_loss: 1.1982 - val_accuracy: 0.8936\n"
          ],
          "name": "stdout"
        }
      ]
    },
    {
      "cell_type": "code",
      "metadata": {
        "colab": {
          "base_uri": "https://localhost:8080/"
        },
        "id": "RugjMQcEODIL",
        "outputId": "84cf6fa0-3fe9-41d4-f2a5-7609f1865c1d"
      },
      "source": [
        "model.evaluate(X_test, y_test)"
      ],
      "execution_count": 64,
      "outputs": [
        {
          "output_type": "stream",
          "text": [
            "313/313 [==============================] - 1s 2ms/step - loss: 1.1296 - accuracy: 0.8881\n"
          ],
          "name": "stdout"
        },
        {
          "output_type": "execute_result",
          "data": {
            "text/plain": [
              "[1.129576325416565, 0.8881000280380249]"
            ]
          },
          "metadata": {
            "tags": []
          },
          "execution_count": 64
        }
      ]
    },
    {
      "cell_type": "code",
      "metadata": {
        "colab": {
          "base_uri": "https://localhost:8080/",
          "height": 940
        },
        "id": "--gir5UjODFe",
        "outputId": "e66ce350-0e56-43b2-a0f5-bf4cef0632b4"
      },
      "source": [
        "pd.DataFrame(history4.history).plot(figsize=(8, 5))\n",
        "pd.DataFrame(history5.history).plot(figsize=(8, 5))\n",
        "pd.DataFrame(history6.history).plot(figsize=(8, 5))\n",
        "plt.grid(True)\n",
        "plt.gca().set_ylim(0, 1)\n",
        "plt.show()"
      ],
      "execution_count": 65,
      "outputs": [
        {
          "output_type": "display_data",
          "data": {
            "image/png": "[encoded data removed]",
            "text/plain": [
              "<Figure size 576x360 with 1 Axes>"
            ]
          },
          "metadata": {
            "tags": [],
            "needs_background": "light"
          }
        },
        {
          "output_type": "display_data",
          "data": {
            "image/png": "[encoded data removed]",
            "text/plain": [
              "<Figure size 576x360 with 1 Axes>"
            ]
          },
          "metadata": {
            "tags": [],
            "needs_background": "light"
          }
        },
        {
          "output_type": "display_data",
          "data": {
            "image/png": "[encoded data removed]",
            "text/plain": [
              "<Figure size 576x360 with 1 Axes>"
            ]
          },
          "metadata": {
            "tags": [],
            "needs_background": "light"
          }
        }
      ]
    },
    {
      "cell_type": "markdown",
      "metadata": {
        "id": "r7bl4BpvRC-6"
      },
      "source": [
        "\n",
        "**3) Plot Learning curves when using different number of epochs**\n",
        "\n",
        "epochs=10\n"
      ]
    },
    {
      "cell_type": "code",
      "metadata": {
        "colab": {
          "base_uri": "https://localhost:8080/"
        },
        "id": "MiQ-J977ODDl",
        "outputId": "792bbcee-c0b8-4aae-a187-6faf1441ea5d"
      },
      "source": [
        "history7 = model.fit(X_train, y_train, batch_size=32, epochs=10,\n",
        "                    validation_data=(X_valid, y_valid))"
      ],
      "execution_count": 66,
      "outputs": [
        {
          "output_type": "stream",
          "text": [
            "Epoch 1/10\n",
            "1719/1719 [==============================] - 7s 4ms/step - loss: 0.0354 - accuracy: 0.9869 - val_loss: 1.1877 - val_accuracy: 0.8936\n",
            "Epoch 2/10\n",
            "1719/1719 [==============================] - 7s 4ms/step - loss: 0.0390 - accuracy: 0.9866 - val_loss: 1.2247 - val_accuracy: 0.8920\n",
            "Epoch 3/10\n",
            "1719/1719 [==============================] - 7s 4ms/step - loss: 0.0369 - accuracy: 0.9870 - val_loss: 1.1929 - val_accuracy: 0.8942\n",
            "Epoch 4/10\n",
            "1719/1719 [==============================] - 7s 4ms/step - loss: 0.0356 - accuracy: 0.9869 - val_loss: 1.2191 - val_accuracy: 0.8894\n",
            "Epoch 5/10\n",
            "1719/1719 [==============================] - 7s 4ms/step - loss: 0.0387 - accuracy: 0.9859 - val_loss: 1.1253 - val_accuracy: 0.8890\n",
            "Epoch 6/10\n",
            "1719/1719 [==============================] - 7s 4ms/step - loss: 0.0409 - accuracy: 0.9864 - val_loss: 1.2518 - val_accuracy: 0.8892\n",
            "Epoch 7/10\n",
            "1719/1719 [==============================] - 7s 4ms/step - loss: 0.0355 - accuracy: 0.9876 - val_loss: 1.2109 - val_accuracy: 0.8878\n",
            "Epoch 8/10\n",
            "1719/1719 [==============================] - 7s 4ms/step - loss: 0.0337 - accuracy: 0.9876 - val_loss: 1.2621 - val_accuracy: 0.8892\n",
            "Epoch 9/10\n",
            "1719/1719 [==============================] - 7s 4ms/step - loss: 0.0365 - accuracy: 0.9865 - val_loss: 1.2218 - val_accuracy: 0.8932\n",
            "Epoch 10/10\n",
            "1719/1719 [==============================] - 7s 4ms/step - loss: 0.0359 - accuracy: 0.9877 - val_loss: 1.2018 - val_accuracy: 0.8918\n"
          ],
          "name": "stdout"
        }
      ]
    },
    {
      "cell_type": "code",
      "metadata": {
        "colab": {
          "base_uri": "https://localhost:8080/"
        },
        "id": "0ELf6HpCODAq",
        "outputId": "c0e07de3-b2e3-4a31-ee37-9cc04e70b514"
      },
      "source": [
        "model.evaluate(X_test, y_test)"
      ],
      "execution_count": 67,
      "outputs": [
        {
          "output_type": "stream",
          "text": [
            "313/313 [==============================] - 1s 2ms/step - loss: 1.2213 - accuracy: 0.8848\n"
          ],
          "name": "stdout"
        },
        {
          "output_type": "execute_result",
          "data": {
            "text/plain": [
              "[1.2213256359100342, 0.8848000168800354]"
            ]
          },
          "metadata": {
            "tags": []
          },
          "execution_count": 67
        }
      ]
    },
    {
      "cell_type": "code",
      "metadata": {
        "colab": {
          "base_uri": "https://localhost:8080/"
        },
        "id": "YhHvj6HDOC9u",
        "outputId": "eff012fa-60fb-46f3-a0d2-d1f443c19257"
      },
      "source": [
        "history8 = model.fit(X_train, y_train, batch_size=32, epochs=40,\n",
        "                    validation_data=(X_valid, y_valid))"
      ],
      "execution_count": 68,
      "outputs": [
        {
          "output_type": "stream",
          "text": [
            "Epoch 1/40\n",
            "1719/1719 [==============================] - 7s 4ms/step - loss: 0.0406 - accuracy: 0.9871 - val_loss: 1.2231 - val_accuracy: 0.8970\n",
            "Epoch 2/40\n",
            "1719/1719 [==============================] - 7s 4ms/step - loss: 0.0363 - accuracy: 0.9870 - val_loss: 1.2236 - val_accuracy: 0.8914\n",
            "Epoch 3/40\n",
            "1719/1719 [==============================] - 6s 4ms/step - loss: 0.0336 - accuracy: 0.9882 - val_loss: 1.2771 - val_accuracy: 0.8868\n",
            "Epoch 4/40\n",
            "1719/1719 [==============================] - 7s 4ms/step - loss: 0.0335 - accuracy: 0.9885 - val_loss: 1.3081 - val_accuracy: 0.8858\n",
            "Epoch 5/40\n",
            "1719/1719 [==============================] - 7s 4ms/step - loss: 0.0368 - accuracy: 0.9868 - val_loss: 1.2784 - val_accuracy: 0.8902\n",
            "Epoch 6/40\n",
            "1719/1719 [==============================] - 7s 4ms/step - loss: 0.0318 - accuracy: 0.9886 - val_loss: 1.3194 - val_accuracy: 0.8860\n",
            "Epoch 7/40\n",
            "1719/1719 [==============================] - 7s 4ms/step - loss: 0.0324 - accuracy: 0.9892 - val_loss: 1.3127 - val_accuracy: 0.8908\n",
            "Epoch 8/40\n",
            "1719/1719 [==============================] - 7s 4ms/step - loss: 0.0343 - accuracy: 0.9874 - val_loss: 1.3168 - val_accuracy: 0.8922\n",
            "Epoch 9/40\n",
            "1719/1719 [==============================] - 7s 4ms/step - loss: 0.0340 - accuracy: 0.9878 - val_loss: 1.3275 - val_accuracy: 0.8906\n",
            "Epoch 10/40\n",
            "1719/1719 [==============================] - 7s 4ms/step - loss: 0.0336 - accuracy: 0.9884 - val_loss: 1.2349 - val_accuracy: 0.8942\n",
            "Epoch 11/40\n",
            "1719/1719 [==============================] - 7s 4ms/step - loss: 0.0321 - accuracy: 0.9888 - val_loss: 1.3405 - val_accuracy: 0.8928\n",
            "Epoch 12/40\n",
            "1719/1719 [==============================] - 6s 4ms/step - loss: 0.0337 - accuracy: 0.9880 - val_loss: 1.3387 - val_accuracy: 0.8912\n",
            "Epoch 13/40\n",
            "1719/1719 [==============================] - 7s 4ms/step - loss: 0.0346 - accuracy: 0.9887 - val_loss: 1.2985 - val_accuracy: 0.8928\n",
            "Epoch 14/40\n",
            "1719/1719 [==============================] - 7s 4ms/step - loss: 0.0285 - accuracy: 0.9896 - val_loss: 1.3526 - val_accuracy: 0.8942\n",
            "Epoch 15/40\n",
            "1719/1719 [==============================] - 7s 4ms/step - loss: 0.0350 - accuracy: 0.9884 - val_loss: 1.3331 - val_accuracy: 0.8896\n",
            "Epoch 16/40\n",
            "1719/1719 [==============================] - 6s 4ms/step - loss: 0.0294 - accuracy: 0.9896 - val_loss: 1.3637 - val_accuracy: 0.8918\n",
            "Epoch 17/40\n",
            "1719/1719 [==============================] - 6s 4ms/step - loss: 0.0350 - accuracy: 0.9880 - val_loss: 1.3723 - val_accuracy: 0.8936\n",
            "Epoch 18/40\n",
            "1719/1719 [==============================] - 6s 4ms/step - loss: 0.0322 - accuracy: 0.9889 - val_loss: 1.4492 - val_accuracy: 0.8884\n",
            "Epoch 19/40\n",
            "1719/1719 [==============================] - 6s 4ms/step - loss: 0.0322 - accuracy: 0.9893 - val_loss: 1.3814 - val_accuracy: 0.8920\n",
            "Epoch 20/40\n",
            "1719/1719 [==============================] - 6s 4ms/step - loss: 0.0306 - accuracy: 0.9900 - val_loss: 1.4954 - val_accuracy: 0.8840\n",
            "Epoch 21/40\n",
            "1719/1719 [==============================] - 7s 4ms/step - loss: 0.0298 - accuracy: 0.9890 - val_loss: 1.4198 - val_accuracy: 0.8932\n",
            "Epoch 22/40\n",
            "1719/1719 [==============================] - 7s 4ms/step - loss: 0.0321 - accuracy: 0.9892 - val_loss: 1.4279 - val_accuracy: 0.8908\n",
            "Epoch 23/40\n",
            "1719/1719 [==============================] - 7s 4ms/step - loss: 0.0298 - accuracy: 0.9893 - val_loss: 1.4065 - val_accuracy: 0.8966\n",
            "Epoch 24/40\n",
            "1719/1719 [==============================] - 7s 4ms/step - loss: 0.0297 - accuracy: 0.9897 - val_loss: 1.4791 - val_accuracy: 0.8920\n",
            "Epoch 25/40\n",
            "1719/1719 [==============================] - 7s 4ms/step - loss: 0.0304 - accuracy: 0.9898 - val_loss: 1.4071 - val_accuracy: 0.8874\n",
            "Epoch 26/40\n",
            "1719/1719 [==============================] - 7s 4ms/step - loss: 0.0285 - accuracy: 0.9901 - val_loss: 1.4528 - val_accuracy: 0.8914\n",
            "Epoch 27/40\n",
            "1719/1719 [==============================] - 7s 4ms/step - loss: 0.0279 - accuracy: 0.9901 - val_loss: 1.4403 - val_accuracy: 0.8934\n",
            "Epoch 28/40\n",
            "1719/1719 [==============================] - 7s 4ms/step - loss: 0.0265 - accuracy: 0.9907 - val_loss: 1.4932 - val_accuracy: 0.8956\n",
            "Epoch 29/40\n",
            "1719/1719 [==============================] - 7s 4ms/step - loss: 0.0309 - accuracy: 0.9893 - val_loss: 1.4582 - val_accuracy: 0.8956\n",
            "Epoch 30/40\n",
            "1719/1719 [==============================] - 7s 4ms/step - loss: 0.0325 - accuracy: 0.9887 - val_loss: 1.4570 - val_accuracy: 0.8956\n",
            "Epoch 31/40\n",
            "1719/1719 [==============================] - 7s 4ms/step - loss: 0.0255 - accuracy: 0.9916 - val_loss: 1.4743 - val_accuracy: 0.8920\n",
            "Epoch 32/40\n",
            "1719/1719 [==============================] - 7s 4ms/step - loss: 0.0292 - accuracy: 0.9897 - val_loss: 1.4272 - val_accuracy: 0.8954\n",
            "Epoch 33/40\n",
            "1719/1719 [==============================] - 7s 4ms/step - loss: 0.0297 - accuracy: 0.9903 - val_loss: 1.3518 - val_accuracy: 0.8948\n",
            "Epoch 34/40\n",
            "1719/1719 [==============================] - 7s 4ms/step - loss: 0.0242 - accuracy: 0.9917 - val_loss: 1.4847 - val_accuracy: 0.8928\n",
            "Epoch 35/40\n",
            "1719/1719 [==============================] - 7s 4ms/step - loss: 0.0292 - accuracy: 0.9903 - val_loss: 1.5016 - val_accuracy: 0.8930\n",
            "Epoch 36/40\n",
            "1719/1719 [==============================] - 7s 4ms/step - loss: 0.0274 - accuracy: 0.9903 - val_loss: 1.4721 - val_accuracy: 0.8900\n",
            "Epoch 37/40\n",
            "1719/1719 [==============================] - 6s 4ms/step - loss: 0.0315 - accuracy: 0.9895 - val_loss: 1.5109 - val_accuracy: 0.8958\n",
            "Epoch 38/40\n",
            "1719/1719 [==============================] - 6s 4ms/step - loss: 0.0300 - accuracy: 0.9898 - val_loss: 1.4841 - val_accuracy: 0.8896\n",
            "Epoch 39/40\n",
            "1719/1719 [==============================] - 6s 4ms/step - loss: 0.0237 - accuracy: 0.9917 - val_loss: 1.5818 - val_accuracy: 0.8926\n",
            "Epoch 40/40\n",
            "1719/1719 [==============================] - 6s 4ms/step - loss: 0.0303 - accuracy: 0.9898 - val_loss: 1.6215 - val_accuracy: 0.8902\n"
          ],
          "name": "stdout"
        }
      ]
    },
    {
      "cell_type": "code",
      "metadata": {
        "colab": {
          "base_uri": "https://localhost:8080/"
        },
        "id": "6AUDEfoHTVp2",
        "outputId": "42e1dd2b-4fba-43af-8388-9baaca4274b0"
      },
      "source": [
        "model.evaluate(X_test, y_test)"
      ],
      "execution_count": 69,
      "outputs": [
        {
          "output_type": "stream",
          "text": [
            "313/313 [==============================] - 1s 2ms/step - loss: 1.6211 - accuracy: 0.8849\n"
          ],
          "name": "stdout"
        },
        {
          "output_type": "execute_result",
          "data": {
            "text/plain": [
              "[1.6210861206054688, 0.8848999738693237]"
            ]
          },
          "metadata": {
            "tags": []
          },
          "execution_count": 69
        }
      ]
    },
    {
      "cell_type": "code",
      "metadata": {
        "colab": {
          "base_uri": "https://localhost:8080/",
          "height": 634
        },
        "id": "ADIlPlShTVz5",
        "outputId": "d16efd65-8f1d-4f4d-fa7e-89bee1327e6f"
      },
      "source": [
        "pd.DataFrame(history7.history).plot(figsize=(8, 5))\n",
        "pd.DataFrame(history8.history).plot(figsize=(8, 5))\n",
        "plt.grid(True)\n",
        "plt.gca().set_ylim(0, 1)\n",
        "plt.show()"
      ],
      "execution_count": 70,
      "outputs": [
        {
          "output_type": "display_data",
          "data": {
            "image/png": "[encoded data removed]",
            "text/plain": [
              "<Figure size 576x360 with 1 Axes>"
            ]
          },
          "metadata": {
            "tags": [],
            "needs_background": "light"
          }
        },
        {
          "output_type": "display_data",
          "data": {
            "image/png": "[encoded data removed]",
            "text/plain": [
              "<Figure size 576x360 with 1 Axes>"
            ]
          },
          "metadata": {
            "tags": [],
            "needs_background": "light"
          }
        }
      ]
    },
    {
      "cell_type": "markdown",
      "metadata": {
        "id": "zWr4mtkwUaZg"
      },
      "source": [
        "**4) repeat with more layers**"
      ]
    },
    {
      "cell_type": "code",
      "metadata": {
        "id": "y-0v3v1gTV_G"
      },
      "source": [
        "model = keras.models.Sequential()\n",
        "model.add(keras.layers.Flatten(input_shape=[28, 28]))\n",
        "model.add(keras.layers.Dense(200, activation=\"relu\"))\n",
        "model.add((keras.layers.Dropout(0.5)))\n",
        "model.add(keras.layers.Dense(150, activation=\"relu\"))\n",
        "model.add((keras.layers.Dropout(0.5)))\n",
        "model.add(keras.layers.Dense(80, activation=\"relu\"))\n",
        "model.add(keras.layers.Dense(50, activation=\"relu\"))\n",
        "model.add(keras.layers.BatchNormalization())\n",
        "model.add(keras.layers.Dense(10, activation=\"softmax\"))"
      ],
      "execution_count": 71,
      "outputs": []
    },
    {
      "cell_type": "code",
      "metadata": {
        "colab": {
          "base_uri": "https://localhost:8080/"
        },
        "id": "zl7U7NwrTWRK",
        "outputId": "7e6ec57a-a0ad-4002-eeac-80bc89e84e6f"
      },
      "source": [
        "model.layers"
      ],
      "execution_count": 72,
      "outputs": [
        {
          "output_type": "execute_result",
          "data": {
            "text/plain": [
              "[<tensorflow.python.keras.layers.core.Flatten at 0x7fe788745390>,\n",
              " <tensorflow.python.keras.layers.core.Dense at 0x7fe78788aba8>,\n",
              " <tensorflow.python.keras.layers.core.Dropout at 0x7fe78788abe0>,\n",
              " <tensorflow.python.keras.layers.core.Dense at 0x7fe788745ac8>,\n",
              " <tensorflow.python.keras.layers.core.Dropout at 0x7fe78787f6a0>,\n",
              " <tensorflow.python.keras.layers.core.Dense at 0x7fe7878e9908>,\n",
              " <tensorflow.python.keras.layers.core.Dense at 0x7fe7877a4160>,\n",
              " <tensorflow.python.keras.layers.normalization_v2.BatchNormalization at 0x7fe7877aa9e8>,\n",
              " <tensorflow.python.keras.layers.core.Dense at 0x7fe7877aa1d0>]"
            ]
          },
          "metadata": {
            "tags": []
          },
          "execution_count": 72
        }
      ]
    },
    {
      "cell_type": "code",
      "metadata": {
        "id": "Gwmz-k9gTWeh"
      },
      "source": [
        "model.compile(loss=\"sparse_categorical_crossentropy\",\n",
        "              optimizer=\"sgd\",\n",
        "              metrics=[\"accuracy\"])"
      ],
      "execution_count": 73,
      "outputs": []
    },
    {
      "cell_type": "code",
      "metadata": {
        "colab": {
          "base_uri": "https://localhost:8080/"
        },
        "id": "RL2G4Ll3TWOm",
        "outputId": "dbed9001-a652-4130-a861-c2bd38cad9cd"
      },
      "source": [
        "history9 = model.fit(X_train, y_train, batch_size=32, epochs=30,\n",
        "                    validation_data=(X_valid, y_valid))"
      ],
      "execution_count": 74,
      "outputs": [
        {
          "output_type": "stream",
          "text": [
            "Epoch 1/30\n",
            "1719/1719 [==============================] - 5s 3ms/step - loss: 1.0780 - accuracy: 0.6053 - val_loss: 0.5936 - val_accuracy: 0.7858\n",
            "Epoch 2/30\n",
            "1719/1719 [==============================] - 5s 3ms/step - loss: 0.7113 - accuracy: 0.7409 - val_loss: 0.4983 - val_accuracy: 0.8266\n",
            "Epoch 3/30\n",
            "1719/1719 [==============================] - 5s 3ms/step - loss: 0.6278 - accuracy: 0.7766 - val_loss: 0.4447 - val_accuracy: 0.8432\n",
            "Epoch 4/30\n",
            "1719/1719 [==============================] - 5s 3ms/step - loss: 0.5736 - accuracy: 0.7957 - val_loss: 0.4210 - val_accuracy: 0.8492\n",
            "Epoch 5/30\n",
            "1719/1719 [==============================] - 5s 3ms/step - loss: 0.5502 - accuracy: 0.8059 - val_loss: 0.4099 - val_accuracy: 0.8510\n",
            "Epoch 6/30\n",
            "1719/1719 [==============================] - 5s 3ms/step - loss: 0.5248 - accuracy: 0.8123 - val_loss: 0.3983 - val_accuracy: 0.8514\n",
            "Epoch 7/30\n",
            "1719/1719 [==============================] - 5s 3ms/step - loss: 0.5036 - accuracy: 0.8200 - val_loss: 0.3804 - val_accuracy: 0.8598\n",
            "Epoch 8/30\n",
            "1719/1719 [==============================] - 5s 3ms/step - loss: 0.4885 - accuracy: 0.8271 - val_loss: 0.3735 - val_accuracy: 0.8638\n",
            "Epoch 9/30\n",
            "1719/1719 [==============================] - 5s 3ms/step - loss: 0.4781 - accuracy: 0.8305 - val_loss: 0.3717 - val_accuracy: 0.8660\n",
            "Epoch 10/30\n",
            "1719/1719 [==============================] - 5s 3ms/step - loss: 0.4655 - accuracy: 0.8356 - val_loss: 0.3624 - val_accuracy: 0.8696\n",
            "Epoch 11/30\n",
            "1719/1719 [==============================] - 5s 3ms/step - loss: 0.4616 - accuracy: 0.8368 - val_loss: 0.3589 - val_accuracy: 0.8668\n",
            "Epoch 12/30\n",
            "1719/1719 [==============================] - 5s 3ms/step - loss: 0.4457 - accuracy: 0.8411 - val_loss: 0.3570 - val_accuracy: 0.8688\n",
            "Epoch 13/30\n",
            "1719/1719 [==============================] - 5s 3ms/step - loss: 0.4404 - accuracy: 0.8433 - val_loss: 0.3512 - val_accuracy: 0.8762\n",
            "Epoch 14/30\n",
            "1719/1719 [==============================] - 5s 3ms/step - loss: 0.4331 - accuracy: 0.8462 - val_loss: 0.3597 - val_accuracy: 0.8668\n",
            "Epoch 15/30\n",
            "1719/1719 [==============================] - 5s 3ms/step - loss: 0.4271 - accuracy: 0.8482 - val_loss: 0.3435 - val_accuracy: 0.8772\n",
            "Epoch 16/30\n",
            "1719/1719 [==============================] - 5s 3ms/step - loss: 0.4213 - accuracy: 0.8501 - val_loss: 0.3372 - val_accuracy: 0.8796\n",
            "Epoch 17/30\n",
            "1719/1719 [==============================] - 5s 3ms/step - loss: 0.4182 - accuracy: 0.8519 - val_loss: 0.3392 - val_accuracy: 0.8772\n",
            "Epoch 18/30\n",
            "1719/1719 [==============================] - 5s 3ms/step - loss: 0.4143 - accuracy: 0.8521 - val_loss: 0.3417 - val_accuracy: 0.8732\n",
            "Epoch 19/30\n",
            "1719/1719 [==============================] - 5s 3ms/step - loss: 0.4133 - accuracy: 0.8522 - val_loss: 0.3305 - val_accuracy: 0.8810\n",
            "Epoch 20/30\n",
            "1719/1719 [==============================] - 5s 3ms/step - loss: 0.4056 - accuracy: 0.8558 - val_loss: 0.3333 - val_accuracy: 0.8788\n",
            "Epoch 21/30\n",
            "1719/1719 [==============================] - 5s 3ms/step - loss: 0.4021 - accuracy: 0.8584 - val_loss: 0.3323 - val_accuracy: 0.8840\n",
            "Epoch 22/30\n",
            "1719/1719 [==============================] - 5s 3ms/step - loss: 0.3964 - accuracy: 0.8601 - val_loss: 0.3353 - val_accuracy: 0.8810\n",
            "Epoch 23/30\n",
            "1719/1719 [==============================] - 5s 3ms/step - loss: 0.3948 - accuracy: 0.8595 - val_loss: 0.3248 - val_accuracy: 0.8830\n",
            "Epoch 24/30\n",
            "1719/1719 [==============================] - 5s 3ms/step - loss: 0.3914 - accuracy: 0.8592 - val_loss: 0.3265 - val_accuracy: 0.8822\n",
            "Epoch 25/30\n",
            "1719/1719 [==============================] - 5s 3ms/step - loss: 0.3896 - accuracy: 0.8607 - val_loss: 0.3325 - val_accuracy: 0.8806\n",
            "Epoch 26/30\n",
            "1719/1719 [==============================] - 5s 3ms/step - loss: 0.3859 - accuracy: 0.8621 - val_loss: 0.3302 - val_accuracy: 0.8766\n",
            "Epoch 27/30\n",
            "1719/1719 [==============================] - 5s 3ms/step - loss: 0.3800 - accuracy: 0.8645 - val_loss: 0.3389 - val_accuracy: 0.8746\n",
            "Epoch 28/30\n",
            "1719/1719 [==============================] - 5s 3ms/step - loss: 0.3757 - accuracy: 0.8653 - val_loss: 0.3191 - val_accuracy: 0.8858\n",
            "Epoch 29/30\n",
            "1719/1719 [==============================] - 5s 3ms/step - loss: 0.3750 - accuracy: 0.8648 - val_loss: 0.3127 - val_accuracy: 0.8864\n",
            "Epoch 30/30\n",
            "1719/1719 [==============================] - 5s 3ms/step - loss: 0.3711 - accuracy: 0.8692 - val_loss: 0.3135 - val_accuracy: 0.8876\n"
          ],
          "name": "stdout"
        }
      ]
    },
    {
      "cell_type": "code",
      "metadata": {
        "colab": {
          "base_uri": "https://localhost:8080/"
        },
        "id": "NpCjzrcrTWMZ",
        "outputId": "c8bed5a9-f129-4204-acfc-379d3ad0410e"
      },
      "source": [
        "model.evaluate(X_test, y_test)"
      ],
      "execution_count": 75,
      "outputs": [
        {
          "output_type": "stream",
          "text": [
            "313/313 [==============================] - 0s 1ms/step - loss: 0.3569 - accuracy: 0.8724\n"
          ],
          "name": "stdout"
        },
        {
          "output_type": "execute_result",
          "data": {
            "text/plain": [
              "[0.35688623785972595, 0.8723999857902527]"
            ]
          },
          "metadata": {
            "tags": []
          },
          "execution_count": 75
        }
      ]
    },
    {
      "cell_type": "code",
      "metadata": {
        "colab": {
          "base_uri": "https://localhost:8080/",
          "height": 328
        },
        "id": "nkFFiGKDTWI_",
        "outputId": "03b6311f-9835-460c-d100-f430918f1607"
      },
      "source": [
        "pd.DataFrame(history9.history).plot(figsize=(8, 5))\n",
        "plt.grid(True)\n",
        "plt.gca().set_ylim(0, 1)\n",
        "plt.show()"
      ],
      "execution_count": 76,
      "outputs": [
        {
          "output_type": "display_data",
          "data": {
            "image/png": "[encoded data removed]",
            "text/plain": [
              "<Figure size 576x360 with 1 Axes>"
            ]
          },
          "metadata": {
            "tags": [],
            "needs_background": "light"
          }
        }
      ]
    },
    {
      "cell_type": "markdown",
      "metadata": {
        "id": "BdnAEZWAYlC-"
      },
      "source": [
        "**5) apply on different datasets**"
      ]
    },
    {
      "cell_type": "code",
      "metadata": {
        "id": "R6MlAFmuTWG-",
        "colab": {
          "base_uri": "https://localhost:8080/"
        },
        "outputId": "c69f2aeb-2a8d-4148-861c-6996cafa4a8e"
      },
      "source": [
        "data = keras.datasets.mnist\n",
        "(X_train_full, y_train_full), (X_test, y_test) = data.load_data()"
      ],
      "execution_count": 77,
      "outputs": [
        {
          "output_type": "stream",
          "text": [
            "Downloading data from https://storage.googleapis.com/tensorflow/tf-keras-datasets/mnist.npz\n",
            "11493376/11490434 [==============================] - 0s 0us/step\n"
          ],
          "name": "stdout"
        }
      ]
    },
    {
      "cell_type": "code",
      "metadata": {
        "colab": {
          "base_uri": "https://localhost:8080/"
        },
        "id": "3mMMDEBFdwfu",
        "outputId": "e14a53ea-3ffa-4254-9d8c-c63139a0bf25"
      },
      "source": [
        "X_train_full.shape"
      ],
      "execution_count": 78,
      "outputs": [
        {
          "output_type": "execute_result",
          "data": {
            "text/plain": [
              "(60000, 28, 28)"
            ]
          },
          "metadata": {
            "tags": []
          },
          "execution_count": 78
        }
      ]
    },
    {
      "cell_type": "code",
      "metadata": {
        "id": "I5NF8QHqdwcj",
        "colab": {
          "base_uri": "https://localhost:8080/"
        },
        "outputId": "a57d89b5-7788-416b-c958-f8cc9fce672e"
      },
      "source": [
        "y_train_full"
      ],
      "execution_count": 79,
      "outputs": [
        {
          "output_type": "execute_result",
          "data": {
            "text/plain": [
              "array([5, 0, 4, ..., 5, 6, 8], dtype=uint8)"
            ]
          },
          "metadata": {
            "tags": []
          },
          "execution_count": 79
        }
      ]
    },
    {
      "cell_type": "code",
      "metadata": {
        "id": "46r8vpBGdwZx"
      },
      "source": [
        "X_valid, X_train = X_train_full[:10000] / 255., X_train_full[10000:] / 255.\n",
        "y_valid, y_train = y_train_full[:10000], y_train_full[10000:]\n",
        "X_test = X_test / 255."
      ],
      "execution_count": 80,
      "outputs": []
    },
    {
      "cell_type": "code",
      "metadata": {
        "id": "GONxQyBpdwW7"
      },
      "source": [
        "class_names = [\"0\", \"1\", \"2\", \"3\", \"4\",\"5\", \"6\", \"7\", \"8\", \"9\"]"
      ],
      "execution_count": 81,
      "outputs": []
    },
    {
      "cell_type": "code",
      "metadata": {
        "colab": {
          "base_uri": "https://localhost:8080/",
          "height": 35
        },
        "id": "fRuyFeQgYKuL",
        "outputId": "aae830f9-62f6-446b-e0bc-1dc066b56347"
      },
      "source": [
        "class_names[y_train[0]]"
      ],
      "execution_count": 82,
      "outputs": [
        {
          "output_type": "execute_result",
          "data": {
            "application/vnd.google.colaboratory.intrinsic+json": {
              "type": "string"
            },
            "text/plain": [
              "'3'"
            ]
          },
          "metadata": {
            "tags": []
          },
          "execution_count": 82
        }
      ]
    },
    {
      "cell_type": "code",
      "metadata": {
        "colab": {
          "base_uri": "https://localhost:8080/",
          "height": 308
        },
        "id": "Yf6yEZ9jYLAt",
        "outputId": "96674fa8-86dc-44fc-b2ce-46e579ec6e28"
      },
      "source": [
        "n_rows = 4\n",
        "n_cols = 10\n",
        "plt.figure(figsize=(n_cols * 1.2, n_rows * 1.2))\n",
        "for row in range(n_rows):\n",
        "    for col in range(n_cols):\n",
        "        index = n_cols * row + col\n",
        "        plt.subplot(n_rows, n_cols, index + 1)\n",
        "        plt.imshow(X_train[index], cmap=\"binary\", interpolation=\"nearest\")\n",
        "        plt.axis('off')\n",
        "        plt.title(class_names[y_train[index]], fontsize=12)\n",
        "plt.subplots_adjust(wspace=0.1, hspace=0.5)\n",
        "plt.show()"
      ],
      "execution_count": 83,
      "outputs": [
        {
          "output_type": "display_data",
          "data": {
            "image/png": "[encoded data removed]",
            "text/plain": [
              "<Figure size 864x345.6 with 40 Axes>"
            ]
          },
          "metadata": {
            "tags": [],
            "needs_background": "light"
          }
        }
      ]
    },
    {
      "cell_type": "code",
      "metadata": {
        "id": "cI-CIq6kYK-6"
      },
      "source": [
        "model = keras.models.Sequential()\n",
        "model.add(keras.layers.Flatten(input_shape=[28, 28]))\n",
        "model.add(keras.layers.Dense(300, activation=\"relu\"))\n",
        "model.add((keras.layers.Dropout(0.5)))\n",
        "model.add(keras.layers.Dense(200, activation=\"relu\"))\n",
        "model.add(keras.layers.Dense(100, activation=\"softmax\"))\n",
        "model.add(keras.layers.BatchNormalization())\n",
        "model.add(keras.layers.Dense(10, activation=\"softmax\"))"
      ],
      "execution_count": 84,
      "outputs": []
    },
    {
      "cell_type": "code",
      "metadata": {
        "id": "I7LVYK5TYK9P"
      },
      "source": [
        "keras.backend.clear_session()\n",
        "np.random.seed(42)"
      ],
      "execution_count": 85,
      "outputs": []
    },
    {
      "cell_type": "code",
      "metadata": {
        "colab": {
          "base_uri": "https://localhost:8080/"
        },
        "id": "vOycRkK4YKrc",
        "outputId": "9f65f92c-d381-4492-e5fa-ed4dbef59baf"
      },
      "source": [
        "model.layers"
      ],
      "execution_count": 86,
      "outputs": [
        {
          "output_type": "execute_result",
          "data": {
            "text/plain": [
              "[<tensorflow.python.keras.layers.core.Flatten at 0x7fe7879b2470>,\n",
              " <tensorflow.python.keras.layers.core.Dense at 0x7fe7877ef6d8>,\n",
              " <tensorflow.python.keras.layers.core.Dropout at 0x7fe787369320>,\n",
              " <tensorflow.python.keras.layers.core.Dense at 0x7fe787369a20>,\n",
              " <tensorflow.python.keras.layers.core.Dense at 0x7fe7764bff98>,\n",
              " <tensorflow.python.keras.layers.normalization_v2.BatchNormalization at 0x7fe7764d4588>,\n",
              " <tensorflow.python.keras.layers.core.Dense at 0x7fe7764d48d0>]"
            ]
          },
          "metadata": {
            "tags": []
          },
          "execution_count": 86
        }
      ]
    },
    {
      "cell_type": "code",
      "metadata": {
        "colab": {
          "base_uri": "https://localhost:8080/"
        },
        "id": "w2rr4t4eYKpw",
        "outputId": "59ee23b7-d76a-452d-9bf6-a58585844d45"
      },
      "source": [
        "model.summary()"
      ],
      "execution_count": 87,
      "outputs": [
        {
          "output_type": "stream",
          "text": [
            "Model: \"sequential_1\"\n",
            "_________________________________________________________________\n",
            "Layer (type)                 Output Shape              Param #   \n",
            "=================================================================\n",
            "flatten_1 (Flatten)          (None, 784)               0         \n",
            "_________________________________________________________________\n",
            "dense_5 (Dense)              (None, 300)               235500    \n",
            "_________________________________________________________________\n",
            "dropout_2 (Dropout)          (None, 300)               0         \n",
            "_________________________________________________________________\n",
            "dense_6 (Dense)              (None, 200)               60200     \n",
            "_________________________________________________________________\n",
            "dense_7 (Dense)              (None, 100)               20100     \n",
            "_________________________________________________________________\n",
            "batch_normalization_1 (Batch (None, 100)               400       \n",
            "_________________________________________________________________\n",
            "dense_8 (Dense)              (None, 10)                1010      \n",
            "=================================================================\n",
            "Total params: 317,210\n",
            "Trainable params: 317,010\n",
            "Non-trainable params: 200\n",
            "_________________________________________________________________\n"
          ],
          "name": "stdout"
        }
      ]
    },
    {
      "cell_type": "code",
      "metadata": {
        "colab": {
          "base_uri": "https://localhost:8080/",
          "height": 35
        },
        "id": "5JzC6DwoYKoA",
        "outputId": "1e95b1e3-6370-4c9b-afed-c2f3d7428105"
      },
      "source": [
        "hidden1 = model.layers[3]\n",
        "hidden1.name"
      ],
      "execution_count": 88,
      "outputs": [
        {
          "output_type": "execute_result",
          "data": {
            "application/vnd.google.colaboratory.intrinsic+json": {
              "type": "string"
            },
            "text/plain": [
              "'dense_6'"
            ]
          },
          "metadata": {
            "tags": []
          },
          "execution_count": 88
        }
      ]
    },
    {
      "cell_type": "code",
      "metadata": {
        "colab": {
          "base_uri": "https://localhost:8080/"
        },
        "id": "ZADyjQjUYKla",
        "outputId": "642ec0af-219a-4b75-a746-b76e5446e58e"
      },
      "source": [
        "model.get_layer(hidden1.name) is hidden1"
      ],
      "execution_count": 89,
      "outputs": [
        {
          "output_type": "execute_result",
          "data": {
            "text/plain": [
              "True"
            ]
          },
          "metadata": {
            "tags": []
          },
          "execution_count": 89
        }
      ]
    },
    {
      "cell_type": "code",
      "metadata": {
        "id": "KhjtY2HVYKdw"
      },
      "source": [
        "weights, biases = hidden1.get_weights()"
      ],
      "execution_count": 90,
      "outputs": []
    },
    {
      "cell_type": "code",
      "metadata": {
        "colab": {
          "base_uri": "https://localhost:8080/"
        },
        "id": "KnXafubhZch4",
        "outputId": "168cbce0-c0ca-4929-fe39-5e0d9d9e82a2"
      },
      "source": [
        "weights"
      ],
      "execution_count": 91,
      "outputs": [
        {
          "output_type": "execute_result",
          "data": {
            "text/plain": [
              "array([[ 0.08508184, -0.03005674, -0.07281831, ..., -0.00209665,\n",
              "         0.09302671,  0.08041842],\n",
              "       [-0.03035205, -0.02964479,  0.04843751, ...,  0.0417384 ,\n",
              "         0.09733037, -0.05916403],\n",
              "       [ 0.03443622, -0.0273703 ,  0.10771843, ...,  0.04809173,\n",
              "         0.03133286,  0.03076813],\n",
              "       ...,\n",
              "       [-0.08751504, -0.08207779, -0.01394136, ...,  0.10872794,\n",
              "        -0.0403028 ,  0.08670718],\n",
              "       [ 0.05000167,  0.06715459, -0.09248263, ..., -0.0482133 ,\n",
              "        -0.04743427, -0.06005158],\n",
              "       [ 0.02827857, -0.00587998, -0.03881721, ..., -0.07681224,\n",
              "        -0.02141247, -0.06599581]], dtype=float32)"
            ]
          },
          "metadata": {
            "tags": []
          },
          "execution_count": 91
        }
      ]
    },
    {
      "cell_type": "code",
      "metadata": {
        "colab": {
          "base_uri": "https://localhost:8080/"
        },
        "id": "OA1rV5_8Zcoa",
        "outputId": "904793a1-1fcf-43dc-f18d-47871155b8ff"
      },
      "source": [
        "weights.shape"
      ],
      "execution_count": 92,
      "outputs": [
        {
          "output_type": "execute_result",
          "data": {
            "text/plain": [
              "(300, 200)"
            ]
          },
          "metadata": {
            "tags": []
          },
          "execution_count": 92
        }
      ]
    },
    {
      "cell_type": "code",
      "metadata": {
        "colab": {
          "base_uri": "https://localhost:8080/"
        },
        "id": "fwGj8IlHZcfk",
        "outputId": "175cc0d8-993d-4dc5-f5dc-a0089354ec49"
      },
      "source": [
        "biases"
      ],
      "execution_count": 93,
      "outputs": [
        {
          "output_type": "execute_result",
          "data": {
            "text/plain": [
              "array([0., 0., 0., 0., 0., 0., 0., 0., 0., 0., 0., 0., 0., 0., 0., 0., 0.,\n",
              "       0., 0., 0., 0., 0., 0., 0., 0., 0., 0., 0., 0., 0., 0., 0., 0., 0.,\n",
              "       0., 0., 0., 0., 0., 0., 0., 0., 0., 0., 0., 0., 0., 0., 0., 0., 0.,\n",
              "       0., 0., 0., 0., 0., 0., 0., 0., 0., 0., 0., 0., 0., 0., 0., 0., 0.,\n",
              "       0., 0., 0., 0., 0., 0., 0., 0., 0., 0., 0., 0., 0., 0., 0., 0., 0.,\n",
              "       0., 0., 0., 0., 0., 0., 0., 0., 0., 0., 0., 0., 0., 0., 0., 0., 0.,\n",
              "       0., 0., 0., 0., 0., 0., 0., 0., 0., 0., 0., 0., 0., 0., 0., 0., 0.,\n",
              "       0., 0., 0., 0., 0., 0., 0., 0., 0., 0., 0., 0., 0., 0., 0., 0., 0.,\n",
              "       0., 0., 0., 0., 0., 0., 0., 0., 0., 0., 0., 0., 0., 0., 0., 0., 0.,\n",
              "       0., 0., 0., 0., 0., 0., 0., 0., 0., 0., 0., 0., 0., 0., 0., 0., 0.,\n",
              "       0., 0., 0., 0., 0., 0., 0., 0., 0., 0., 0., 0., 0., 0., 0., 0., 0.,\n",
              "       0., 0., 0., 0., 0., 0., 0., 0., 0., 0., 0., 0., 0.], dtype=float32)"
            ]
          },
          "metadata": {
            "tags": []
          },
          "execution_count": 93
        }
      ]
    },
    {
      "cell_type": "code",
      "metadata": {
        "colab": {
          "base_uri": "https://localhost:8080/"
        },
        "id": "_PJ5f3Y_Zcc7",
        "outputId": "f01df823-6e71-445a-d70f-0be4b0e7e8dc"
      },
      "source": [
        "biases.shape"
      ],
      "execution_count": 94,
      "outputs": [
        {
          "output_type": "execute_result",
          "data": {
            "text/plain": [
              "(200,)"
            ]
          },
          "metadata": {
            "tags": []
          },
          "execution_count": 94
        }
      ]
    },
    {
      "cell_type": "code",
      "metadata": {
        "id": "0hwF7nX4Zkbu"
      },
      "source": [
        "model.compile(loss=\"sparse_categorical_crossentropy\",\n",
        "              optimizer=\"RMSprop\",\n",
        "              metrics=[\"accuracy\"])"
      ],
      "execution_count": 95,
      "outputs": []
    },
    {
      "cell_type": "code",
      "metadata": {
        "colab": {
          "base_uri": "https://localhost:8080/"
        },
        "id": "m1RkAwN4ZkaB",
        "outputId": "f3e24166-fb3b-4fd5-8999-d780b068fa49"
      },
      "source": [
        "history10 = model.fit(X_train, y_train, batch_size=32, epochs=30,\n",
        "                    validation_data=(X_valid, y_valid))"
      ],
      "execution_count": 96,
      "outputs": [
        {
          "output_type": "stream",
          "text": [
            "Epoch 1/30\n",
            "1563/1563 [==============================] - 9s 6ms/step - loss: 0.3439 - accuracy: 0.9001 - val_loss: 0.1473 - val_accuracy: 0.9577\n",
            "Epoch 2/30\n",
            "1563/1563 [==============================] - 9s 6ms/step - loss: 0.1999 - accuracy: 0.9417 - val_loss: 0.1273 - val_accuracy: 0.9624\n",
            "Epoch 3/30\n",
            "1563/1563 [==============================] - 9s 6ms/step - loss: 0.1687 - accuracy: 0.9533 - val_loss: 0.1291 - val_accuracy: 0.9637\n",
            "Epoch 4/30\n",
            "1563/1563 [==============================] - 9s 6ms/step - loss: 0.1515 - accuracy: 0.9586 - val_loss: 0.1055 - val_accuracy: 0.9722\n",
            "Epoch 5/30\n",
            "1563/1563 [==============================] - 9s 6ms/step - loss: 0.1401 - accuracy: 0.9620 - val_loss: 0.1112 - val_accuracy: 0.9707\n",
            "Epoch 6/30\n",
            "1563/1563 [==============================] - 9s 6ms/step - loss: 0.1325 - accuracy: 0.9644 - val_loss: 0.0916 - val_accuracy: 0.9751\n",
            "Epoch 7/30\n",
            "1563/1563 [==============================] - 9s 6ms/step - loss: 0.1250 - accuracy: 0.9667 - val_loss: 0.0904 - val_accuracy: 0.9766\n",
            "Epoch 8/30\n",
            "1563/1563 [==============================] - 9s 6ms/step - loss: 0.1227 - accuracy: 0.9674 - val_loss: 0.0970 - val_accuracy: 0.9756\n",
            "Epoch 9/30\n",
            "1563/1563 [==============================] - 9s 6ms/step - loss: 0.1197 - accuracy: 0.9684 - val_loss: 0.0895 - val_accuracy: 0.9767\n",
            "Epoch 10/30\n",
            "1563/1563 [==============================] - 9s 6ms/step - loss: 0.1189 - accuracy: 0.9692 - val_loss: 0.0859 - val_accuracy: 0.9770\n",
            "Epoch 11/30\n",
            "1563/1563 [==============================] - 9s 6ms/step - loss: 0.1099 - accuracy: 0.9715 - val_loss: 0.0885 - val_accuracy: 0.9784\n",
            "Epoch 12/30\n",
            "1563/1563 [==============================] - 9s 6ms/step - loss: 0.1112 - accuracy: 0.9710 - val_loss: 0.0991 - val_accuracy: 0.9768\n",
            "Epoch 13/30\n",
            "1563/1563 [==============================] - 10s 6ms/step - loss: 0.1082 - accuracy: 0.9715 - val_loss: 0.0907 - val_accuracy: 0.9796\n",
            "Epoch 14/30\n",
            "1563/1563 [==============================] - 12s 7ms/step - loss: 0.1135 - accuracy: 0.9712 - val_loss: 0.0859 - val_accuracy: 0.9788\n",
            "Epoch 15/30\n",
            "1563/1563 [==============================] - 9s 6ms/step - loss: 0.1104 - accuracy: 0.9718 - val_loss: 0.0893 - val_accuracy: 0.9810\n",
            "Epoch 16/30\n",
            "1563/1563 [==============================] - 9s 6ms/step - loss: 0.1051 - accuracy: 0.9738 - val_loss: 0.0937 - val_accuracy: 0.9801\n",
            "Epoch 17/30\n",
            "1563/1563 [==============================] - 9s 6ms/step - loss: 0.1087 - accuracy: 0.9726 - val_loss: 0.0897 - val_accuracy: 0.9797\n",
            "Epoch 18/30\n",
            "1563/1563 [==============================] - 9s 6ms/step - loss: 0.1086 - accuracy: 0.9740 - val_loss: 0.1062 - val_accuracy: 0.9773\n",
            "Epoch 19/30\n",
            "1563/1563 [==============================] - 9s 6ms/step - loss: 0.1068 - accuracy: 0.9741 - val_loss: 0.1049 - val_accuracy: 0.9764\n",
            "Epoch 20/30\n",
            "1563/1563 [==============================] - 9s 6ms/step - loss: 0.1074 - accuracy: 0.9736 - val_loss: 0.0987 - val_accuracy: 0.9789\n",
            "Epoch 21/30\n",
            "1563/1563 [==============================] - 9s 6ms/step - loss: 0.1046 - accuracy: 0.9748 - val_loss: 0.1056 - val_accuracy: 0.9799\n",
            "Epoch 22/30\n",
            "1563/1563 [==============================] - 9s 6ms/step - loss: 0.1083 - accuracy: 0.9749 - val_loss: 0.1030 - val_accuracy: 0.9781\n",
            "Epoch 23/30\n",
            "1563/1563 [==============================] - 9s 6ms/step - loss: 0.1083 - accuracy: 0.9744 - val_loss: 0.0957 - val_accuracy: 0.9791\n",
            "Epoch 24/30\n",
            "1563/1563 [==============================] - 9s 6ms/step - loss: 0.1058 - accuracy: 0.9741 - val_loss: 0.0943 - val_accuracy: 0.9788\n",
            "Epoch 25/30\n",
            "1563/1563 [==============================] - 9s 6ms/step - loss: 0.1076 - accuracy: 0.9750 - val_loss: 0.1125 - val_accuracy: 0.9787\n",
            "Epoch 26/30\n",
            "1563/1563 [==============================] - 9s 6ms/step - loss: 0.1108 - accuracy: 0.9750 - val_loss: 0.1098 - val_accuracy: 0.9785\n",
            "Epoch 27/30\n",
            "1563/1563 [==============================] - 9s 6ms/step - loss: 0.1082 - accuracy: 0.9754 - val_loss: 0.1028 - val_accuracy: 0.9803\n",
            "Epoch 28/30\n",
            "1563/1563 [==============================] - 9s 6ms/step - loss: 0.1143 - accuracy: 0.9742 - val_loss: 0.1156 - val_accuracy: 0.9777\n",
            "Epoch 29/30\n",
            "1563/1563 [==============================] - 9s 6ms/step - loss: 0.1148 - accuracy: 0.9745 - val_loss: 0.0987 - val_accuracy: 0.9795\n",
            "Epoch 30/30\n",
            "1563/1563 [==============================] - 9s 6ms/step - loss: 0.1133 - accuracy: 0.9750 - val_loss: 0.1263 - val_accuracy: 0.9778\n"
          ],
          "name": "stdout"
        }
      ]
    },
    {
      "cell_type": "code",
      "metadata": {
        "colab": {
          "base_uri": "https://localhost:8080/"
        },
        "id": "yad9q5_4ZkYk",
        "outputId": "d6d267a8-8b29-4623-f12e-9c9a7b456713"
      },
      "source": [
        "model.evaluate(X_test, y_test)"
      ],
      "execution_count": 97,
      "outputs": [
        {
          "output_type": "stream",
          "text": [
            "313/313 [==============================] - 0s 2ms/step - loss: 0.1109 - accuracy: 0.9793\n"
          ],
          "name": "stdout"
        },
        {
          "output_type": "execute_result",
          "data": {
            "text/plain": [
              "[0.11086271703243256, 0.9793000221252441]"
            ]
          },
          "metadata": {
            "tags": []
          },
          "execution_count": 97
        }
      ]
    },
    {
      "cell_type": "code",
      "metadata": {
        "colab": {
          "base_uri": "https://localhost:8080/",
          "height": 328
        },
        "id": "on8Jnj-gZkOj",
        "outputId": "67de1090-e222-4442-b124-290f4883fc43"
      },
      "source": [
        "pd.DataFrame(history10.history).plot(figsize=(8, 5))\n",
        "plt.grid(True)\n",
        "plt.gca().set_ylim(0, 1)\n",
        "plt.show()\n"
      ],
      "execution_count": 98,
      "outputs": [
        {
          "output_type": "display_data",
          "data": {
            "image/png": "[encoded data removed]",
            "text/plain": [
              "<Figure size 576x360 with 1 Axes>"
            ]
          },
          "metadata": {
            "tags": [],
            "needs_background": "light"
          }
        }
      ]
    }
  ]
}